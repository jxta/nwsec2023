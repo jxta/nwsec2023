{
 "cells": [
  {
   "cell_type": "markdown",
   "id": "849219f8",
   "metadata": {
    "lc_cell_meme": {
     "current": "15932ca9-0756-11ed-bc49-02420a010222-1-da2e",
     "history": [
      {
       "current": "15932ca9-0756-11ed-bc49-02420a010222-1-da2e",
       "next": "1593306f-0756-11ed-aea1-02420a010222",
       "previous": null
      }
     ],
     "next": "1593306f-0756-11ed-aea1-02420a010222-1-0c11",
     "previous": null
    }
   },
   "source": [
    "# RSA暗号のデモ\n",
    "\n",
    "opensslコマンドを利用して，公開鍵や秘密鍵を利用してRSA暗号化を行ってみる。使われている素数も確認する。"
   ]
  },
  {
   "cell_type": "markdown",
   "id": "ba10601f",
   "metadata": {
    "lc_cell_meme": {
     "current": "1593306f-0756-11ed-aea1-02420a010222-1-0c11",
     "history": [
      {
       "current": "1593306f-0756-11ed-aea1-02420a010222-1-0c11",
       "next": "15b0734a-0745-11ed-a4e2-02420a010222",
       "previous": "15932ca9-0756-11ed-bc49-02420a010222"
      }
     ],
     "next": "15b0734a-0745-11ed-a4e2-02420a010222-1-c9f9",
     "previous": "15932ca9-0756-11ed-bc49-02420a010222-1-da2e"
    }
   },
   "source": [
    "## 秘密鍵生成\n",
    "\n",
    "512の部分が鍵長(bit)。最近だと2048bit以上が推奨されている"
   ]
  },
  {
   "cell_type": "code",
   "execution_count": null,
   "id": "b66ff4b2",
   "metadata": {
    "lc_cell_meme": {
     "current": "15b0734a-0745-11ed-a4e2-02420a010222-1-c9f9",
     "history": [
      {
       "current": "15b0734a-0745-11ed-a4e2-02420a010222",
       "next": "15b0746a-0745-11ed-a4f0-02420a010222",
       "previous": null
      },
      {
       "current": "15b0734a-0745-11ed-a4e2-02420a010222-1-c9f9",
       "next": "15b0746a-0745-11ed-a4f0-02420a010222",
       "previous": "1593306f-0756-11ed-aea1-02420a010222"
      }
     ],
     "next": "15b0746a-0745-11ed-a4f0-02420a010222-1-44f9",
     "previous": "1593306f-0756-11ed-aea1-02420a010222-1-0c11"
    },
    "lc_wrapper": {
     "log_history": [
      "/home/cwhadminxe1bf95/textbook/.log/20220719/20220719-182624-0560.log",
      "/home/cwhadminxe1bf95/textbook/.log/20220719/20220719-182653-0120.log",
      "/home/cwhadminxe1bf95/textbook/.log/20220719/20220719-182708-0820.log",
      "/home/cwhadminxe1bf95/textbook/.log/20220719/20220719-182819-0904.log",
      "/home/cwhadminxe1bf95/textbook/.log/20220719/20220719-182859-0954.log",
      "/home/cwhadminxe1bf95/textbook/.log/20220719/20220719-182905-0905.log",
      "/home/cwhadminxe1bf95/textbook/.log/20220719/20220719-182914-0553.log",
      "/home/cwhadminxe1bf95/textbook/.log/20220719/20220719-182918-0434.log",
      "/home/cwhadminxe1bf95/textbook/.log/20220719/20220719-182923-0282.log",
      "/home/cwhadminxe1bf95/textbook/.log/20220719/20220719-182938-0123.log",
      "/home/cwhadminxe1bf95/textbook/.log/20220719/20220719-183115-0040.log",
      "/home/cwhadminxe1bf95/textbook/.log/20220719/20220719-183120-0268.log",
      "/home/cwhadminxe1bf95/dev_textbook_2022/.log/20230718/20230718-121646-0188.log"
     ]
    }
   },
   "outputs": [],
   "source": [
    "#! openssl genrsa 2048 > private.key\n",
    "! openssl genrsa 512 > private.key"
   ]
  },
  {
   "cell_type": "code",
   "execution_count": null,
   "id": "24da6e3a",
   "metadata": {
    "lc_cell_meme": {
     "current": "15b0746a-0745-11ed-a4f0-02420a010222-1-44f9",
     "history": [
      {
       "current": "15b0746a-0745-11ed-a4f0-02420a010222-1-44f9",
       "next": "15b0752b-0745-11ed-8076-02420a010222",
       "previous": "15b0734a-0745-11ed-a4e2-02420a010222"
      }
     ],
     "next": "15b0752b-0745-11ed-8076-02420a010222-1-3fe3",
     "previous": "15b0734a-0745-11ed-a4e2-02420a010222-1-c9f9"
    },
    "lc_wrapper": {
     "log_history": [
      "/home/cwhadminxe1bf95/textbook/.log/20220719/20220719-182723-0302.log",
      "/home/cwhadminxe1bf95/textbook/.log/20220719/20220719-182821-0830.log",
      "/home/cwhadminxe1bf95/textbook/.log/20220719/20220719-182940-0827.log",
      "/home/cwhadminxe1bf95/textbook/.log/20220719/20220719-183122-0148.log",
      "/home/cwhadminxe1bf95/dev_textbook_2022/.log/20230718/20230718-121648-0912.log"
     ]
    }
   },
   "outputs": [],
   "source": [
    "# 秘密鍵の確認\n",
    "! cat private.key"
   ]
  },
  {
   "cell_type": "code",
   "execution_count": null,
   "id": "f23b198f",
   "metadata": {
    "lc_cell_meme": {
     "current": "15b0752b-0745-11ed-8076-02420a010222-1-3fe3",
     "history": [
      {
       "current": "15b0752b-0745-11ed-8076-02420a010222",
       "next": "15b07600-0745-11ed-9418-02420a010222",
       "previous": "15b0746a-0745-11ed-a4f0-02420a010222"
      },
      {
       "current": "15b0752b-0745-11ed-8076-02420a010222-1-3fe3",
       "next": "15b07600-0745-11ed-9418-02420a010222-1-4d8f",
       "previous": "15b0746a-0745-11ed-a4f0-02420a010222"
      }
     ],
     "next": "15b07600-0745-11ed-9418-02420a010222-2-4d8f-713e",
     "previous": "15b0746a-0745-11ed-a4f0-02420a010222-1-44f9"
    },
    "lc_wrapper": {
     "log_history": [
      "/home/cwhadminxe1bf95/textbook/.log/20220719/20220719-182755-0534.log",
      "/home/cwhadminxe1bf95/textbook/.log/20220719/20220719-182823-0813.log",
      "/home/cwhadminxe1bf95/textbook/.log/20220719/20220719-182942-0695.log",
      "/home/cwhadminxe1bf95/textbook/.log/20220719/20220719-183123-0903.log",
      "/home/cwhadminxe1bf95/dev_textbook_2022/.log/20230718/20230718-121656-0081.log"
     ]
    },
    "scrolled": false
   },
   "outputs": [],
   "source": [
    "# 見やすく表示する\n",
    "!openssl rsa -text < private.key"
   ]
  },
  {
   "cell_type": "markdown",
   "id": "09b094e3",
   "metadata": {
    "lc_cell_meme": {
     "current": "15b07600-0745-11ed-9418-02420a010222-2-4d8f-713e",
     "history": [
      {
       "current": "15b07600-0745-11ed-9418-02420a010222-1-4d8f",
       "next": null,
       "previous": "15b0752b-0745-11ed-8076-02420a010222"
      },
      {
       "current": "15b07600-0745-11ed-9418-02420a010222-1-4d8f",
       "next": "ec456dbc-0745-11ed-a6b3-02420a010222",
       "previous": "15b0752b-0745-11ed-8076-02420a010222"
      },
      {
       "current": "15b07600-0745-11ed-9418-02420a010222-1-4d8f",
       "next": "a488aac2-0756-11ed-a595-02420a010222",
       "previous": "15b0752b-0745-11ed-8076-02420a010222"
      },
      {
       "current": "15b07600-0745-11ed-9418-02420a010222-1-4d8f",
       "next": "ec161ef4-0756-11ed-a922-02420a010222",
       "previous": "15b0752b-0745-11ed-8076-02420a010222"
      },
      {
       "current": "15b07600-0745-11ed-9418-02420a010222-2-4d8f-713e",
       "next": "ec161ef4-0756-11ed-a922-02420a010222-1-7dad",
       "previous": "15b0752b-0745-11ed-8076-02420a010222"
      }
     ],
     "next": "ec161ef4-0756-11ed-a922-02420a010222-2-7dad-0cea",
     "previous": "15b0752b-0745-11ed-8076-02420a010222-1-3fe3"
    }
   },
   "source": [
    "- modulus: 二つの素数の積($n=pq$)。公開しても良い値。\n",
    "\n",
    "- publicExponent: $(p-1)(q-1)$と互いな素な正整数$e$。公開しても良い値\n",
    "\n",
    "- privateExponent: $ed \\equiv 1 \\pmod{(p-1)(q-1)}$となる正整数$d$\n",
    "\n",
    "- prime1: 素数1 $p$\n",
    "\n",
    "- prime2: 素数2 $q$\n",
    "---\n",
    "- exponent1: $d$ mod $(p-1)$\n",
    "- exponent2: $d$ mod $(q-1)$\n",
    "- coefficient: $cq\\equiv 1$ mod $p$なる正整数$c$ "
   ]
  },
  {
   "cell_type": "markdown",
   "id": "9c9ad5e8",
   "metadata": {
    "lc_cell_meme": {
     "current": "ec161ef4-0756-11ed-a922-02420a010222-2-7dad-0cea",
     "history": [
      {
       "current": "ec161ef4-0756-11ed-a922-02420a010222-2-7dad-0cea",
       "next": "a488aac2-0756-11ed-a595-02420a010222",
       "previous": "15b07600-0745-11ed-9418-02420a010222-1-4d8f"
      }
     ],
     "next": "a488aac2-0756-11ed-a595-02420a010222-1-0066",
     "previous": "15b07600-0745-11ed-9418-02420a010222-2-4d8f-713e"
    }
   },
   "source": [
    "### p"
   ]
  },
  {
   "cell_type": "code",
   "execution_count": null,
   "id": "d2f02fba",
   "metadata": {
    "lc_cell_meme": {
     "current": "a488aac2-0756-11ed-a595-02420a010222-1-0066",
     "history": [
      {
       "current": "a488aac2-0756-11ed-a595-02420a010222",
       "next": "ec456dbc-0745-11ed-a6b3-02420a010222",
       "previous": "15b07600-0745-11ed-9418-02420a010222-1-4d8f"
      },
      {
       "current": "a488aac2-0756-11ed-a595-02420a010222",
       "next": "ec456dbc-0745-11ed-a6b3-02420a010222",
       "previous": "ec161ef4-0756-11ed-a922-02420a010222"
      },
      {
       "current": "a488aac2-0756-11ed-a595-02420a010222-1-0066",
       "next": "ec456dbc-0745-11ed-a6b3-02420a010222",
       "previous": "ec161ef4-0756-11ed-a922-02420a010222-1-7dad"
      }
     ],
     "next": "ec456dbc-0745-11ed-a6b3-02420a010222-1-e139",
     "previous": "ec161ef4-0756-11ed-a922-02420a010222-2-7dad-0cea"
    },
    "lc_wrapper": {
     "log_history": [
      "/home/cwhadminxe1bf95/dev_textbook_2022/.log/20230718/20230718-121836-0620.log"
     ]
    }
   },
   "outputs": [],
   "source": [
    "# 証明書野内の16進数をコピー。改行は詰めること。(a='00:da:fd:...')\n",
    "a=''\n",
    "print(a.replace(':', ''))"
   ]
  },
  {
   "cell_type": "code",
   "execution_count": null,
   "id": "624be1ad",
   "metadata": {
    "lc_cell_meme": {
     "current": "ec456dbc-0745-11ed-a6b3-02420a010222-1-e139",
     "history": [
      {
       "current": "ec456dbc-0745-11ed-a6b3-02420a010222",
       "next": "33ca2e90-0746-11ed-b1b7-02420a010222",
       "previous": "15b07600-0745-11ed-9418-02420a010222-1-4d8f"
      },
      {
       "current": "ec456dbc-0745-11ed-a6b3-02420a010222-1-e139",
       "next": "33ca2e90-0746-11ed-b1b7-02420a010222",
       "previous": "a488aac2-0756-11ed-a595-02420a010222"
      },
      {
       "current": "ec456dbc-0745-11ed-a6b3-02420a010222-1-e139",
       "next": "33ca2e90-0746-11ed-b1b7-02420a010222-1-137d",
       "previous": "a488aac2-0756-11ed-a595-02420a010222-1-0066"
      }
     ],
     "next": "33988b0e-0757-11ed-9ee9-02420a010222-1-3587",
     "previous": "a488aac2-0756-11ed-a595-02420a010222-1-0066"
    },
    "lc_wrapper": {
     "log_history": [
      "/home/cwhadminxe1bf95/textbook/.log/20220719/20220719-183544-0546.log",
      "/home/cwhadminxe1bf95/dev_textbook_2022/.log/20230718/20230718-121846-0069.log"
     ]
    }
   },
   "outputs": [],
   "source": [
    "# 16進数の入力は0xの後に続けて書く（0xab01とか）\n",
    "p = 0x\n",
    "\n",
    "print(p)"
   ]
  },
  {
   "cell_type": "markdown",
   "id": "a5f9deba",
   "metadata": {
    "lc_cell_meme": {
     "current": "33988b0e-0757-11ed-9ee9-02420a010222-1-3587",
     "history": [
      {
       "current": "33988b0e-0757-11ed-9ee9-02420a010222-1-3587",
       "next": "33ca3150-0746-11ed-93d3-02420a010222",
       "previous": "33ca2e90-0746-11ed-b1b7-02420a010222"
      },
      {
       "current": "33988b0e-0757-11ed-9ee9-02420a010222-1-3587",
       "next": "33ca3150-0746-11ed-93d3-02420a010222-1-ff56",
       "previous": "33ca2e90-0746-11ed-b1b7-02420a010222-1-137d"
      }
     ],
     "next": "33ca3150-0746-11ed-93d3-02420a010222-1-ff56",
     "previous": "ec456dbc-0745-11ed-a6b3-02420a010222-1-e139"
    }
   },
   "source": [
    "### q"
   ]
  },
  {
   "cell_type": "code",
   "execution_count": null,
   "id": "6b054013",
   "metadata": {
    "lc_cell_meme": {
     "current": "33ca3150-0746-11ed-93d3-02420a010222-1-ff56",
     "history": [
      {
       "current": "33ca3150-0746-11ed-93d3-02420a010222",
       "next": "7b585c81-0746-11ed-9ea8-02420a010222",
       "previous": "33ca2e90-0746-11ed-b1b7-02420a010222"
      },
      {
       "current": "33ca3150-0746-11ed-93d3-02420a010222",
       "next": "7b585f66-0746-11ed-8344-02420a010222",
       "previous": "33ca2e90-0746-11ed-b1b7-02420a010222"
      },
      {
       "current": "33ca3150-0746-11ed-93d3-02420a010222-1-ff56",
       "next": "7b585f66-0746-11ed-8344-02420a010222",
       "previous": "33988b0e-0757-11ed-9ee9-02420a010222"
      }
     ],
     "next": "7b585f66-0746-11ed-8344-02420a010222-1-5aaf",
     "previous": "33988b0e-0757-11ed-9ee9-02420a010222-1-3587"
    },
    "lc_wrapper": {
     "log_history": [
      "/home/cwhadminxe1bf95/textbook/.log/20220719/20220719-183638-0341.log",
      "/home/cwhadminxe1bf95/dev_textbook_2022/.log/20230718/20230718-121909-0299.log"
     ]
    },
    "scrolled": true
   },
   "outputs": [],
   "source": [
    "# 証明書野内の16進数をコピー。改行は詰めること。\n",
    "a=''\n",
    "print(a.replace(':', ''))"
   ]
  },
  {
   "cell_type": "code",
   "execution_count": null,
   "id": "ed260a37",
   "metadata": {
    "lc_cell_meme": {
     "current": "7b585f66-0746-11ed-8344-02420a010222-1-5aaf",
     "history": [
      {
       "current": "7b585f66-0746-11ed-8344-02420a010222",
       "next": "c2da87a0-0746-11ed-a50e-02420a010222",
       "previous": "7b585c81-0746-11ed-9ea8-02420a010222"
      },
      {
       "current": "7b585f66-0746-11ed-8344-02420a010222-1-5aaf",
       "next": "c2da87a0-0746-11ed-a50e-02420a010222",
       "previous": "33ca3150-0746-11ed-93d3-02420a010222"
      }
     ],
     "next": "c2da87a0-0746-11ed-a50e-02420a010222-1-82f1",
     "previous": "33ca3150-0746-11ed-93d3-02420a010222-1-ff56"
    },
    "lc_wrapper": {
     "log_history": [
      "/home/cwhadminxe1bf95/textbook/.log/20220719/20220719-183951-0121.log",
      "/home/cwhadminxe1bf95/dev_textbook_2022/.log/20230718/20230718-121916-0700.log"
     ]
    }
   },
   "outputs": [],
   "source": [
    "# 16進数の入力は0xの後に続けて書く（0xab01とか）\n",
    "q=0x\n",
    "\n",
    "print(q)"
   ]
  },
  {
   "cell_type": "code",
   "execution_count": null,
   "id": "f60f00d4",
   "metadata": {
    "lc_cell_meme": {
     "current": "c2da87a0-0746-11ed-a50e-02420a010222-1-82f1",
     "history": [
      {
       "current": "c2da87a0-0746-11ed-a50e-02420a010222",
       "next": "c2da8e2d-0746-11ed-aa1c-02420a010222",
       "previous": "7b585f66-0746-11ed-8344-02420a010222"
      },
      {
       "current": "c2da87a0-0746-11ed-a50e-02420a010222-1-82f1",
       "next": "33988c33-0757-11ed-af0d-02420a010222",
       "previous": "7b585f66-0746-11ed-8344-02420a010222"
      }
     ],
     "next": "33988c33-0757-11ed-af0d-02420a010222-1-7a17",
     "previous": "7b585f66-0746-11ed-8344-02420a010222-1-5aaf"
    },
    "lc_wrapper": {
     "log_history": [
      "/home/cwhadminxe1bf95/textbook/.log/20220719/20220719-183955-0206.log",
      "/home/cwhadminxe1bf95/dev_textbook_2022/.log/20230718/20230718-121918-0231.log"
     ]
    },
    "scrolled": true
   },
   "outputs": [],
   "source": []
  },
  {
   "cell_type": "markdown",
   "id": "a27ad8d3",
   "metadata": {
    "lc_cell_meme": {
     "current": "33988c33-0757-11ed-af0d-02420a010222-1-7a17",
     "history": [
      {
       "current": "33988c33-0757-11ed-af0d-02420a010222-1-7a17",
       "next": "c2da8e2d-0746-11ed-aa1c-02420a010222",
       "previous": "c2da87a0-0746-11ed-a50e-02420a010222"
      }
     ],
     "next": "c2da8e2d-0746-11ed-aa1c-02420a010222-1-8c37",
     "previous": "c2da87a0-0746-11ed-a50e-02420a010222-1-82f1"
    }
   },
   "source": [
    "### n=pqを確認"
   ]
  },
  {
   "cell_type": "code",
   "execution_count": null,
   "id": "a6f71096",
   "metadata": {
    "lc_cell_meme": {
     "current": "c2da8e2d-0746-11ed-aa1c-02420a010222-1-8c37",
     "history": [
      {
       "current": "c2da8e2d-0746-11ed-aa1c-02420a010222",
       "next": "0a599f93-0747-11ed-b9d0-02420a010222",
       "previous": "c2da87a0-0746-11ed-a50e-02420a010222"
      },
      {
       "current": "c2da8e2d-0746-11ed-aa1c-02420a010222-1-8c37",
       "next": "0a599f93-0747-11ed-b9d0-02420a010222",
       "previous": "33988c33-0757-11ed-af0d-02420a010222"
      }
     ],
     "next": "0a599f93-0747-11ed-b9d0-02420a010222-1-03a7",
     "previous": "33988c33-0757-11ed-af0d-02420a010222-1-7a17"
    },
    "lc_wrapper": {
     "log_history": [
      "/home/cwhadminxe1bf95/textbook/.log/20220719/20220719-184049-0808.log",
      "/home/cwhadminxe1bf95/dev_textbook_2022/.log/20230718/20230718-121950-0216.log"
     ]
    },
    "scrolled": true
   },
   "outputs": [],
   "source": [
    "# 証明書野内の16進数をコピー。改行は詰めること。\n",
    "a=''\n",
    "print(a.replace(':', ''))"
   ]
  },
  {
   "cell_type": "code",
   "execution_count": null,
   "id": "5ed96f39",
   "metadata": {
    "lc_cell_meme": {
     "current": "0a599f93-0747-11ed-b9d0-02420a010222-1-03a7",
     "history": [
      {
       "current": "0a599f93-0747-11ed-b9d0-02420a010222-1-03a7",
       "next": "0a59a26e-0747-11ed-9203-02420a010222",
       "previous": "c2da8e2d-0746-11ed-aa1c-02420a010222"
      },
      {
       "current": "0a599f93-0747-11ed-b9d0-02420a010222-1-03a7",
       "next": "0a59a26e-0747-11ed-9203-02420a010222-1-c3fb",
       "previous": "c2da8e2d-0746-11ed-aa1c-02420a010222-1-8c37"
      }
     ],
     "next": "0a59a372-0747-11ed-ad4d-02420a010222-1-3d3f",
     "previous": "c2da8e2d-0746-11ed-aa1c-02420a010222-1-8c37"
    },
    "lc_wrapper": {
     "log_history": [
      "/home/cwhadminxe1bf95/textbook/.log/20220719/20220719-184104-0665.log",
      "/home/cwhadminxe1bf95/textbook/.log/20220719/20220719-190738-0484.log",
      "/home/cwhadminxe1bf95/dev_textbook_2022/.log/20230718/20230718-121955-0158.log"
     ]
    }
   },
   "outputs": [],
   "source": [
    "n = 0x\n",
    "\n",
    "print(n)"
   ]
  },
  {
   "cell_type": "code",
   "execution_count": null,
   "id": "9963fced",
   "metadata": {
    "lc_cell_meme": {
     "current": "0a59a372-0747-11ed-ad4d-02420a010222-1-3d3f",
     "history": [
      {
       "current": "0a59a372-0747-11ed-ad4d-02420a010222",
       "next": "0a59a438-0747-11ed-a80b-02420a010222",
       "previous": "0a59a26e-0747-11ed-9203-02420a010222"
      },
      {
       "current": "0a59a372-0747-11ed-ad4d-02420a010222",
       "next": "ac516956-074a-11ed-9846-02420a010222",
       "previous": "0a59a26e-0747-11ed-9203-02420a010222"
      },
      {
       "current": "0a59a372-0747-11ed-ad4d-02420a010222-1-3d3f",
       "next": "33988c92-0757-11ed-9685-02420a010222",
       "previous": "0a59a26e-0747-11ed-9203-02420a010222"
      },
      {
       "current": "0a59a372-0747-11ed-ad4d-02420a010222-1-3d3f",
       "next": "33988c92-0757-11ed-9685-02420a010222-1-a7b8",
       "previous": "0a59a26e-0747-11ed-9203-02420a010222-1-c3fb"
      }
     ],
     "next": "33988c92-0757-11ed-9685-02420a010222-1-a7b8",
     "previous": "0a599f93-0747-11ed-b9d0-02420a010222-1-03a7"
    },
    "lc_wrapper": {
     "log_history": [
      "/home/cwhadminxe1bf95/textbook/.log/20220719/20220719-184116-0768.log",
      "/home/cwhadminxe1bf95/dev_textbook_2022/.log/20230718/20230718-121958-0359.log",
      "/home/cwhadminxe1bf95/dev_textbook_2022/.log/20230718/20230718-122003-0706.log"
     ]
    },
    "scrolled": false
   },
   "outputs": [],
   "source": [
    "print(p*q)"
   ]
  },
  {
   "cell_type": "markdown",
   "id": "d4af7085",
   "metadata": {
    "lc_cell_meme": {
     "current": "33988c92-0757-11ed-9685-02420a010222-1-a7b8",
     "history": [
      {
       "current": "33988c92-0757-11ed-9685-02420a010222-1-a7b8",
       "next": "ac516956-074a-11ed-9846-02420a010222",
       "previous": "0a59a372-0747-11ed-ad4d-02420a010222"
      }
     ],
     "next": "ac516956-074a-11ed-9846-02420a010222-1-6e74",
     "previous": "0a59a372-0747-11ed-ad4d-02420a010222-1-3d3f"
    }
   },
   "source": [
    "### e"
   ]
  },
  {
   "cell_type": "code",
   "execution_count": null,
   "id": "2156352b",
   "metadata": {
    "lc_cell_meme": {
     "current": "ac516956-074a-11ed-9846-02420a010222-1-6e74",
     "history": [
      {
       "current": "ac516956-074a-11ed-9846-02420a010222",
       "next": "0a59a438-0747-11ed-a80b-02420a010222",
       "previous": "0a59a372-0747-11ed-ad4d-02420a010222"
      },
      {
       "current": "ac516956-074a-11ed-9846-02420a010222",
       "next": "f3d1f080-074a-11ed-9ee2-02420a010222",
       "previous": "0a59a372-0747-11ed-ad4d-02420a010222"
      },
      {
       "current": "ac516956-074a-11ed-9846-02420a010222-1-6e74",
       "next": "33988cdd-0757-11ed-baa5-02420a010222",
       "previous": "33988c92-0757-11ed-9685-02420a010222"
      }
     ],
     "next": "33988cdd-0757-11ed-baa5-02420a010222-1-f7c3",
     "previous": "33988c92-0757-11ed-9685-02420a010222-1-a7b8"
    },
    "lc_wrapper": {
     "log_history": [
      "/home/cwhadminxe1bf95/textbook/.log/20220719/20220719-190706-0386.log",
      "/home/cwhadminxe1bf95/dev_textbook_2022/.log/20230718/20230718-122019-0964.log"
     ]
    }
   },
   "outputs": [],
   "source": [
    "e=65537"
   ]
  },
  {
   "cell_type": "markdown",
   "id": "8a5008a3",
   "metadata": {
    "lc_cell_meme": {
     "current": "33988cdd-0757-11ed-baa5-02420a010222-1-f7c3",
     "history": [
      {
       "current": "33988cdd-0757-11ed-baa5-02420a010222-1-f7c3",
       "next": "f3d1f080-074a-11ed-9ee2-02420a010222",
       "previous": "ac516956-074a-11ed-9846-02420a010222"
      }
     ],
     "next": "f3d1f080-074a-11ed-9ee2-02420a010222-1-abc5",
     "previous": "ac516956-074a-11ed-9846-02420a010222-1-6e74"
    }
   },
   "source": [
    "### d"
   ]
  },
  {
   "cell_type": "code",
   "execution_count": null,
   "id": "68633fef",
   "metadata": {
    "lc_cell_meme": {
     "current": "f3d1f080-074a-11ed-9ee2-02420a010222-1-abc5",
     "history": [
      {
       "current": "f3d1f080-074a-11ed-9ee2-02420a010222",
       "next": "0a59a438-0747-11ed-a80b-02420a010222",
       "previous": "ac516956-074a-11ed-9846-02420a010222"
      },
      {
       "current": "f3d1f080-074a-11ed-9ee2-02420a010222",
       "next": "3b5a435f-074b-11ed-b3c1-02420a010222",
       "previous": "ac516956-074a-11ed-9846-02420a010222"
      },
      {
       "current": "f3d1f080-074a-11ed-9ee2-02420a010222-1-abc5",
       "next": "3b5a435f-074b-11ed-b3c1-02420a010222",
       "previous": "33988cdd-0757-11ed-baa5-02420a010222"
      }
     ],
     "next": "3b5a435f-074b-11ed-b3c1-02420a010222-1-64d3",
     "previous": "33988cdd-0757-11ed-baa5-02420a010222-1-f7c3"
    },
    "lc_wrapper": {
     "log_history": [
      "/home/cwhadminxe1bf95/textbook/.log/20220719/20220719-191021-0947.log",
      "/home/cwhadminxe1bf95/textbook/.log/20220719/20220719-191029-0414.log",
      "/home/cwhadminxe1bf95/dev_textbook_2022/.log/20230718/20230718-122053-0042.log"
     ]
    }
   },
   "outputs": [],
   "source": [
    "# 証明書野内の16進数をコピー。改行は詰めること。\n",
    "a=''\n",
    "print(a.replace(':', ''))"
   ]
  },
  {
   "cell_type": "code",
   "execution_count": null,
   "id": "833e3636",
   "metadata": {
    "lc_cell_meme": {
     "current": "3b5a435f-074b-11ed-b3c1-02420a010222-1-64d3",
     "history": [
      {
       "current": "3b5a435f-074b-11ed-b3c1-02420a010222",
       "next": "0a59a438-0747-11ed-a80b-02420a010222",
       "previous": "f3d1f080-074a-11ed-9ee2-02420a010222"
      },
      {
       "current": "3b5a435f-074b-11ed-b3c1-02420a010222-1-64d3",
       "next": "33988d1d-0757-11ed-af17-02420a010222",
       "previous": "f3d1f080-074a-11ed-9ee2-02420a010222"
      },
      {
       "current": "3b5a435f-074b-11ed-b3c1-02420a010222-1-64d3",
       "next": "33988d1d-0757-11ed-af17-02420a010222-1-133e",
       "previous": "f3d1f080-074a-11ed-9ee2-02420a010222-1-abc5"
      },
      {
       "current": "3b5a435f-074b-11ed-b3c1-02420a010222-1-64d3",
       "next": "48f272a1-251a-11ee-8e4d-02420a010807",
       "previous": "f3d1f080-074a-11ed-9ee2-02420a010222-1-abc5"
      }
     ],
     "next": "a032f9f9-251b-11ee-9e2e-02420a010807",
     "previous": "f3d1f080-074a-11ed-9ee2-02420a010222-1-abc5"
    },
    "lc_wrapper": {
     "log_history": [
      "/home/cwhadminxe1bf95/textbook/.log/20220719/20220719-191047-0706.log",
      "/home/cwhadminxe1bf95/dev_textbook_2022/.log/20230718/20230718-122059-0010.log"
     ]
    }
   },
   "outputs": [],
   "source": [
    "d=0x\n",
    "\n",
    "print(d)"
   ]
  },
  {
   "cell_type": "markdown",
   "id": "d0675e03",
   "metadata": {
    "lc_cell_meme": {
     "current": "a032f9f9-251b-11ee-9e2e-02420a010807",
     "history": [
      {
       "current": "a032f9f9-251b-11ee-9e2e-02420a010807",
       "next": "48f27410-251a-11ee-8e02-02420a010807",
       "previous": "48f272a1-251a-11ee-8e4d-02420a010807"
      }
     ],
     "next": "48f27410-251a-11ee-8e02-02420a010807",
     "previous": "3b5a435f-074b-11ed-b3c1-02420a010222-1-64d3"
    }
   },
   "source": [
    "$ed \\equiv 1 \\mod(p-1)(q-1)$を確認"
   ]
  },
  {
   "cell_type": "code",
   "execution_count": null,
   "id": "97b43fdd",
   "metadata": {
    "lc_cell_meme": {
     "current": "48f27410-251a-11ee-8e02-02420a010807",
     "history": [
      {
       "current": "48f27410-251a-11ee-8e02-02420a010807",
       "next": "33988d1d-0757-11ed-af17-02420a010222-1-133e",
       "previous": "48f272a1-251a-11ee-8e4d-02420a010807"
      },
      {
       "current": "48f27410-251a-11ee-8e02-02420a010807",
       "next": "d7fe1c41-251a-11ee-bcde-02420a010807",
       "previous": "48f272a1-251a-11ee-8e4d-02420a010807"
      },
      {
       "current": "48f27410-251a-11ee-8e02-02420a010807",
       "next": "d7fe1c41-251a-11ee-bcde-02420a010807",
       "previous": "a032f9f9-251b-11ee-9e2e-02420a010807"
      }
     ],
     "next": "17f627bf-2534-11ee-9113-02420a010807",
     "previous": "a032f9f9-251b-11ee-9e2e-02420a010807"
    },
    "lc_wrapper": {
     "log_history": [
      "/home/cwhadminxe1bf95/dev_textbook_2022/.log/20230718/20230718-122223-0410.log",
      "/home/cwhadminxe1bf95/dev_textbook_2022/.log/20230718/20230718-122228-0381.log",
      "/home/cwhadminxe1bf95/dev_textbook_2022/.log/20230718/20230718-122242-0598.log",
      "/home/cwhadminxe1bf95/dev_textbook_2022/.log/20230718/20230718-122302-0214.log",
      "/home/cwhadminxe1bf95/dev_textbook_2022/.log/20230718/20230718-122408-0813.log",
      "/home/cwhadminxe1bf95/dev_textbook_2022/.log/20230718/20230718-122414-0797.log",
      "/home/cwhadminxe1bf95/dev_textbook_2022/.log/20230718/20230718-122422-0948.log",
      "/home/cwhadminxe1bf95/dev_textbook_2022/.log/20230718/20230718-122428-0876.log",
      "/home/cwhadminxe1bf95/dev_textbook_2022/.log/20230718/20230718-122501-0357.log",
      "/home/cwhadminxe1bf95/dev_textbook_2022/.log/20230718/20230718-123143-0123.log"
     ]
    }
   },
   "outputs": [],
   "source": [
    "(e*d)%((p-1)*(q-1))"
   ]
  },
  {
   "cell_type": "markdown",
   "id": "2549e6f9",
   "metadata": {
    "lc_cell_meme": {
     "current": "17f627bf-2534-11ee-9113-02420a010807",
     "next": "94347a75-2531-11ee-bf28-02420a010807",
     "previous": "48f27410-251a-11ee-8e02-02420a010807"
    }
   },
   "source": [
    "### その他"
   ]
  },
  {
   "cell_type": "code",
   "execution_count": null,
   "id": "d0080615",
   "metadata": {
    "lc_cell_meme": {
     "current": "94347a75-2531-11ee-bf28-02420a010807",
     "history": [
      {
       "current": "94347a75-2531-11ee-bf28-02420a010807",
       "next": "94347bbf-2531-11ee-9d68-02420a010807",
       "previous": "d7fe1c41-251a-11ee-bcde-02420a010807"
      }
     ],
     "next": "94347bbf-2531-11ee-9d68-02420a010807",
     "previous": "17f627bf-2534-11ee-9113-02420a010807"
    },
    "lc_wrapper": {
     "log_history": [
      "/home/cwhadminxe1bf95/dev_textbook_2022/.log/20230718/20230718-150835-0972.log"
     ]
    }
   },
   "outputs": [],
   "source": [
    "#exponent1\n",
    "a=''\n",
    "print(a.replace(':', ''))"
   ]
  },
  {
   "cell_type": "code",
   "execution_count": null,
   "id": "0ee21dee",
   "metadata": {
    "lc_cell_meme": {
     "current": "94347bbf-2531-11ee-9d68-02420a010807",
     "history": [
      {
       "current": "94347bbf-2531-11ee-9d68-02420a010807",
       "next": "33988d1d-0757-11ed-af17-02420a010222-1-133e",
       "previous": "94347a75-2531-11ee-bf28-02420a010807"
      },
      {
       "current": "94347bbf-2531-11ee-9d68-02420a010807",
       "next": "dbbcdbab-2531-11ee-8f7d-02420a010807",
       "previous": "94347a75-2531-11ee-bf28-02420a010807"
      }
     ],
     "next": "d7fe1c41-251a-11ee-bcde-02420a010807",
     "previous": "94347a75-2531-11ee-bf28-02420a010807"
    },
    "lc_wrapper": {
     "log_history": [
      "/home/cwhadminxe1bf95/dev_textbook_2022/.log/20230718/20230718-150857-0555.log"
     ]
    }
   },
   "outputs": [],
   "source": [
    "print(0x)"
   ]
  },
  {
   "cell_type": "code",
   "execution_count": null,
   "id": "8cd904cc",
   "metadata": {
    "lc_cell_meme": {
     "current": "d7fe1c41-251a-11ee-bcde-02420a010807",
     "history": [
      {
       "current": "d7fe1c41-251a-11ee-bcde-02420a010807",
       "next": "33988d1d-0757-11ed-af17-02420a010222-1-133e",
       "previous": "48f27410-251a-11ee-8e02-02420a010807"
      },
      {
       "current": "d7fe1c41-251a-11ee-bcde-02420a010807",
       "next": "94347a75-2531-11ee-bf28-02420a010807",
       "previous": "48f27410-251a-11ee-8e02-02420a010807"
      },
      {
       "current": "d7fe1c41-251a-11ee-bcde-02420a010807",
       "next": "dbbcdbab-2531-11ee-8f7d-02420a010807",
       "previous": "94347bbf-2531-11ee-9d68-02420a010807"
      }
     ],
     "next": "5d5714c8-2534-11ee-add7-02420a010807",
     "previous": "94347bbf-2531-11ee-9d68-02420a010807"
    },
    "lc_wrapper": {
     "log_history": [
      "/home/cwhadminxe1bf95/dev_textbook_2022/.log/20230718/20230718-150719-0576.log"
     ]
    }
   },
   "outputs": [],
   "source": [
    "d%(p-1)"
   ]
  },
  {
   "cell_type": "code",
   "execution_count": null,
   "id": "aeccd533",
   "metadata": {
    "lc_cell_meme": {
     "current": "5d5714c8-2534-11ee-add7-02420a010807",
     "next": "5d57175c-2534-11ee-9138-02420a010807",
     "previous": "d7fe1c41-251a-11ee-bcde-02420a010807"
    }
   },
   "outputs": [],
   "source": [
    "#exponent2\n",
    "a=''\n",
    "print(a.replace(':', ''))"
   ]
  },
  {
   "cell_type": "code",
   "execution_count": null,
   "id": "3585dcde",
   "metadata": {
    "lc_cell_meme": {
     "current": "5d57175c-2534-11ee-9138-02420a010807",
     "next": "5d571865-2534-11ee-b527-02420a010807",
     "previous": "5d5714c8-2534-11ee-add7-02420a010807"
    }
   },
   "outputs": [],
   "source": [
    "print(0x)"
   ]
  },
  {
   "cell_type": "code",
   "execution_count": null,
   "id": "29f1c8d4",
   "metadata": {
    "lc_cell_meme": {
     "current": "5d571865-2534-11ee-b527-02420a010807",
     "next": "dbbcdbab-2531-11ee-8f7d-02420a010807",
     "previous": "5d57175c-2534-11ee-9138-02420a010807"
    }
   },
   "outputs": [],
   "source": [
    "d%(q-1)"
   ]
  },
  {
   "cell_type": "code",
   "execution_count": null,
   "id": "60707ddc",
   "metadata": {
    "lc_cell_meme": {
     "current": "dbbcdbab-2531-11ee-8f7d-02420a010807",
     "history": [
      {
       "current": "dbbcdbab-2531-11ee-8f7d-02420a010807",
       "next": "33988d1d-0757-11ed-af17-02420a010222-1-133e",
       "previous": "94347bbf-2531-11ee-9d68-02420a010807"
      },
      {
       "current": "dbbcdbab-2531-11ee-8f7d-02420a010807",
       "next": "b2523d5d-2532-11ee-b072-02420a010807",
       "previous": "94347bbf-2531-11ee-9d68-02420a010807"
      },
      {
       "current": "dbbcdbab-2531-11ee-8f7d-02420a010807",
       "next": "b2523d5d-2532-11ee-b072-02420a010807",
       "previous": "d7fe1c41-251a-11ee-bcde-02420a010807"
      }
     ],
     "next": "b2523d5d-2532-11ee-b072-02420a010807",
     "previous": "5d571865-2534-11ee-b527-02420a010807"
    },
    "lc_wrapper": {
     "log_history": [
      "/home/cwhadminxe1bf95/dev_textbook_2022/.log/20230718/20230718-150946-0322.log",
      "/home/cwhadminxe1bf95/dev_textbook_2022/.log/20230718/20230718-151636-0420.log"
     ]
    }
   },
   "outputs": [],
   "source": [
    "#coefficient\n",
    "a=''\n",
    "print(a.replace(':', ''))"
   ]
  },
  {
   "cell_type": "code",
   "execution_count": null,
   "id": "9c40819a",
   "metadata": {
    "lc_cell_meme": {
     "current": "b2523d5d-2532-11ee-b072-02420a010807",
     "next": "b2524084-2532-11ee-86e0-02420a010807",
     "previous": "dbbcdbab-2531-11ee-8f7d-02420a010807"
    },
    "lc_wrapper": {
     "log_history": [
      "/home/cwhadminxe1bf95/dev_textbook_2022/.log/20230718/20230718-151704-0168.log",
      "/home/cwhadminxe1bf95/dev_textbook_2022/.log/20230718/20230718-151710-0314.log"
     ]
    }
   },
   "outputs": [],
   "source": [
    "c=0x\n",
    "print(c)"
   ]
  },
  {
   "cell_type": "code",
   "execution_count": null,
   "id": "c008a26c",
   "metadata": {
    "lc_cell_meme": {
     "current": "b2524084-2532-11ee-86e0-02420a010807",
     "next": "b252418e-2532-11ee-a7a5-02420a010807",
     "previous": "b2523d5d-2532-11ee-b072-02420a010807"
    },
    "lc_wrapper": {
     "log_history": [
      "/home/cwhadminxe1bf95/dev_textbook_2022/.log/20230718/20230718-151725-0030.log"
     ]
    }
   },
   "outputs": [],
   "source": [
    "c*q%p"
   ]
  },
  {
   "cell_type": "code",
   "execution_count": null,
   "id": "fe9c0147",
   "metadata": {
    "lc_cell_meme": {
     "current": "b252418e-2532-11ee-a7a5-02420a010807",
     "next": "33988d1d-0757-11ed-af17-02420a010222-1-133e",
     "previous": "b2524084-2532-11ee-86e0-02420a010807"
    }
   },
   "outputs": [],
   "source": []
  },
  {
   "cell_type": "markdown",
   "id": "dc52e0f9",
   "metadata": {
    "lc_cell_meme": {
     "current": "33988d1d-0757-11ed-af17-02420a010222-1-133e",
     "history": [
      {
       "current": "33988d1d-0757-11ed-af17-02420a010222-1-133e",
       "next": "0a59a438-0747-11ed-a80b-02420a010222",
       "previous": "3b5a435f-074b-11ed-b3c1-02420a010222"
      },
      {
       "current": "33988d1d-0757-11ed-af17-02420a010222-1-133e",
       "next": "0a59a438-0747-11ed-a80b-02420a010222-1-30c7",
       "previous": "3b5a435f-074b-11ed-b3c1-02420a010222-1-64d3"
      },
      {
       "current": "33988d1d-0757-11ed-af17-02420a010222-1-133e",
       "next": "0a59a438-0747-11ed-a80b-02420a010222-1-30c7",
       "previous": "48f27410-251a-11ee-8e02-02420a010807"
      },
      {
       "current": "33988d1d-0757-11ed-af17-02420a010222-1-133e",
       "next": "0a59a438-0747-11ed-a80b-02420a010222-1-30c7",
       "previous": "d7fe1c41-251a-11ee-bcde-02420a010807"
      },
      {
       "current": "33988d1d-0757-11ed-af17-02420a010222-1-133e",
       "next": "0a59a438-0747-11ed-a80b-02420a010222-1-30c7",
       "previous": "94347bbf-2531-11ee-9d68-02420a010807"
      },
      {
       "current": "33988d1d-0757-11ed-af17-02420a010222-1-133e",
       "next": "0a59a438-0747-11ed-a80b-02420a010222-1-30c7",
       "previous": "dbbcdbab-2531-11ee-8f7d-02420a010807"
      }
     ],
     "next": "0a59a438-0747-11ed-a80b-02420a010222-1-30c7",
     "previous": "b252418e-2532-11ee-a7a5-02420a010807"
    }
   },
   "source": [
    "## 公開鍵の作成"
   ]
  },
  {
   "cell_type": "code",
   "execution_count": null,
   "id": "35a1c96e",
   "metadata": {
    "lc_cell_meme": {
     "current": "0a59a438-0747-11ed-a80b-02420a010222-1-30c7",
     "history": [
      {
       "current": "0a59a438-0747-11ed-a80b-02420a010222",
       "next": "51ed5981-0747-11ed-872b-02420a010222",
       "previous": "0a59a372-0747-11ed-ad4d-02420a010222"
      },
      {
       "current": "0a59a438-0747-11ed-a80b-02420a010222",
       "next": "51ed5981-0747-11ed-872b-02420a010222",
       "previous": "ac516956-074a-11ed-9846-02420a010222"
      },
      {
       "current": "0a59a438-0747-11ed-a80b-02420a010222",
       "next": "51ed5981-0747-11ed-872b-02420a010222",
       "previous": "f3d1f080-074a-11ed-9ee2-02420a010222"
      },
      {
       "current": "0a59a438-0747-11ed-a80b-02420a010222",
       "next": "51ed5981-0747-11ed-872b-02420a010222",
       "previous": "3b5a435f-074b-11ed-b3c1-02420a010222"
      },
      {
       "current": "0a59a438-0747-11ed-a80b-02420a010222-1-30c7",
       "next": "51ed5981-0747-11ed-872b-02420a010222",
       "previous": "33988d1d-0757-11ed-af17-02420a010222"
      }
     ],
     "next": "51ed5981-0747-11ed-872b-02420a010222-1-b515",
     "previous": "33988d1d-0757-11ed-af17-02420a010222-1-133e"
    },
    "lc_wrapper": {
     "log_history": [
      "/home/cwhadminxe1bf95/textbook/.log/20220719/20220719-184201-0933.log",
      "/home/cwhadminxe1bf95/dev_textbook_2022/.log/20230718/20230718-122109-0114.log"
     ]
    }
   },
   "outputs": [],
   "source": [
    "#公開鍵作成\n",
    "! openssl rsa -pubout < private.key > public.key"
   ]
  },
  {
   "cell_type": "code",
   "execution_count": null,
   "id": "d707b1ed",
   "metadata": {
    "lc_cell_meme": {
     "current": "51ed5981-0747-11ed-872b-02420a010222-1-b515",
     "history": [
      {
       "current": "51ed5981-0747-11ed-872b-02420a010222",
       "next": "51ed5cd3-0747-11ed-b066-02420a010222",
       "previous": "0a59a438-0747-11ed-a80b-02420a010222"
      },
      {
       "current": "51ed5981-0747-11ed-872b-02420a010222-1-b515",
       "next": "33988d5e-0757-11ed-abcb-02420a010222",
       "previous": "0a59a438-0747-11ed-a80b-02420a010222"
      },
      {
       "current": "51ed5981-0747-11ed-872b-02420a010222-1-b515",
       "next": "33988d5e-0757-11ed-abcb-02420a010222-1-f2b4",
       "previous": "0a59a438-0747-11ed-a80b-02420a010222-1-30c7"
      }
     ],
     "next": "8531ce5e-251c-11ee-8be9-02420a010807",
     "previous": "0a59a438-0747-11ed-a80b-02420a010222-1-30c7"
    },
    "lc_wrapper": {
     "log_history": [
      "/home/cwhadminxe1bf95/textbook/.log/20220719/20220719-184215-0175.log",
      "/home/cwhadminxe1bf95/textbook/.log/20220719/20220719-184249-0006.log",
      "/home/cwhadminxe1bf95/textbook/.log/20220719/20220719-184256-0962.log",
      "/home/cwhadminxe1bf95/dev_textbook_2022/.log/20230718/20230718-123153-0118.log"
     ]
    },
    "scrolled": false
   },
   "outputs": [],
   "source": [
    "! openssl rsa -text -pubin < public.key"
   ]
  },
  {
   "cell_type": "markdown",
   "id": "89b48e28",
   "metadata": {
    "lc_cell_meme": {
     "current": "8531ce5e-251c-11ee-8be9-02420a010807",
     "next": "33988d5e-0757-11ed-abcb-02420a010222-1-f2b4",
     "previous": "51ed5981-0747-11ed-872b-02420a010222-1-b515"
    }
   },
   "source": [
    "秘密鍵にも出てきましたが：\n",
    "\n",
    "- modulus: 二つの素数の積(𝑛=𝑝𝑞)。公開しても良い値。\n",
    "\n",
    "- Exponent: 𝑒。公開しても良い値"
   ]
  },
  {
   "cell_type": "markdown",
   "id": "90e74f29",
   "metadata": {
    "lc_cell_meme": {
     "current": "33988d5e-0757-11ed-abcb-02420a010222-1-f2b4",
     "history": [
      {
       "current": "33988d5e-0757-11ed-abcb-02420a010222",
       "next": "51ed5cd3-0747-11ed-b066-02420a010222",
       "previous": "51ed5981-0747-11ed-872b-02420a010222"
      },
      {
       "current": "33988d5e-0757-11ed-abcb-02420a010222-1-f2b4",
       "next": "7b1eedc3-0757-11ed-a63f-02420a010222",
       "previous": "51ed5981-0747-11ed-872b-02420a010222"
      },
      {
       "current": "33988d5e-0757-11ed-abcb-02420a010222-1-f2b4",
       "next": "7b1eedc3-0757-11ed-a63f-02420a010222-1-82a3",
       "previous": "51ed5981-0747-11ed-872b-02420a010222-1-b515"
      }
     ],
     "next": "7b1eedc3-0757-11ed-a63f-02420a010222-1-82a3",
     "previous": "8531ce5e-251c-11ee-8be9-02420a010807"
    }
   },
   "source": [
    "## 公開鍵で暗号と復号"
   ]
  },
  {
   "cell_type": "markdown",
   "id": "5e9cd6fd",
   "metadata": {
    "lc_cell_meme": {
     "current": "7b1eedc3-0757-11ed-a63f-02420a010222-1-82a3",
     "history": [
      {
       "current": "7b1eedc3-0757-11ed-a63f-02420a010222-1-82a3",
       "next": "51ed5cd3-0747-11ed-b066-02420a010222",
       "previous": "33988d5e-0757-11ed-abcb-02420a010222"
      }
     ],
     "next": "51ed5cd3-0747-11ed-b066-02420a010222-1-03db",
     "previous": "33988d5e-0757-11ed-abcb-02420a010222-1-f2b4"
    }
   },
   "source": [
    "### 公開鍵で暗号化"
   ]
  },
  {
   "cell_type": "code",
   "execution_count": null,
   "id": "992b4da3",
   "metadata": {
    "lc_cell_meme": {
     "current": "51ed5cd3-0747-11ed-b066-02420a010222-1-03db",
     "history": [
      {
       "current": "51ed5cd3-0747-11ed-b066-02420a010222",
       "next": null,
       "previous": "51ed5981-0747-11ed-872b-02420a010222"
      },
      {
       "current": "51ed5cd3-0747-11ed-b066-02420a010222",
       "next": "ff22f032-0748-11ed-b78d-02420a010222",
       "previous": "51ed5981-0747-11ed-872b-02420a010222"
      },
      {
       "current": "51ed5cd3-0747-11ed-b066-02420a010222",
       "next": "ff22f032-0748-11ed-b78d-02420a010222",
       "previous": "33988d5e-0757-11ed-abcb-02420a010222"
      },
      {
       "current": "51ed5cd3-0747-11ed-b066-02420a010222-1-03db",
       "next": "7b1ef2ba-0757-11ed-9997-02420a010222",
       "previous": "7b1eedc3-0757-11ed-a63f-02420a010222"
      },
      {
       "current": "51ed5cd3-0747-11ed-b066-02420a010222-1-03db",
       "next": "7b1ef2ba-0757-11ed-9997-02420a010222-1-7006",
       "previous": "7b1eedc3-0757-11ed-a63f-02420a010222-1-82a3"
      }
     ],
     "next": "8531cf74-251c-11ee-a8f1-02420a010807",
     "previous": "7b1eedc3-0757-11ed-a63f-02420a010222-1-82a3"
    },
    "lc_wrapper": {
     "log_history": [
      "/home/cwhadminxe1bf95/textbook/.log/20220719/20220719-185453-0827.log",
      "/home/cwhadminxe1bf95/textbook/.log/20220719/20220719-185528-0490.log",
      "/home/cwhadminxe1bf95/textbook/.log/20220719/20220719-185554-0304.log",
      "/home/cwhadminxe1bf95/dev_textbook_2022/.log/20230718/20230718-123756-0997.log"
     ]
    }
   },
   "outputs": [],
   "source": [
    "#暗号化\n",
    "! echo \"HELLO\" | openssl rsautl -encrypt -pubin -inkey public.key > message"
   ]
  },
  {
   "cell_type": "code",
   "execution_count": null,
   "id": "efdf7080",
   "metadata": {
    "lc_cell_meme": {
     "current": "8531cf74-251c-11ee-a8f1-02420a010807",
     "next": "7b1ef2ba-0757-11ed-9997-02420a010222-1-7006",
     "previous": "51ed5cd3-0747-11ed-b066-02420a010222-1-03db"
    },
    "lc_wrapper": {
     "log_history": [
      "/home/cwhadminxe1bf95/dev_textbook_2022/.log/20230718/20230718-123808-0482.log",
      "/home/cwhadminxe1bf95/dev_textbook_2022/.log/20230718/20230718-123818-0363.log",
      "/home/cwhadminxe1bf95/dev_textbook_2022/.log/20230718/20230718-123824-0564.log",
      "/home/cwhadminxe1bf95/dev_textbook_2022/.log/20230718/20230718-123903-0868.log"
     ]
    }
   },
   "outputs": [],
   "source": [
    "# 暗号化されたファイル（message）を16進数で表示\n",
    "! od -x message"
   ]
  },
  {
   "cell_type": "markdown",
   "id": "805f7d9e",
   "metadata": {
    "lc_cell_meme": {
     "current": "7b1ef2ba-0757-11ed-9997-02420a010222-1-7006",
     "history": [
      {
       "current": "7b1ef2ba-0757-11ed-9997-02420a010222-1-7006",
       "next": "ff22f032-0748-11ed-b78d-02420a010222",
       "previous": "51ed5cd3-0747-11ed-b066-02420a010222"
      },
      {
       "current": "7b1ef2ba-0757-11ed-9997-02420a010222-1-7006",
       "next": "ff22f032-0748-11ed-b78d-02420a010222-1-a8ce",
       "previous": "51ed5cd3-0747-11ed-b066-02420a010222-1-03db"
      }
     ],
     "next": "ff22f032-0748-11ed-b78d-02420a010222-1-a8ce",
     "previous": "8531cf74-251c-11ee-a8f1-02420a010807"
    }
   },
   "source": [
    "### 対応する秘密鍵で復号"
   ]
  },
  {
   "cell_type": "code",
   "execution_count": null,
   "id": "85c0b588",
   "metadata": {
    "lc_cell_meme": {
     "current": "ff22f032-0748-11ed-b78d-02420a010222-1-a8ce",
     "history": [
      {
       "current": "ff22f032-0748-11ed-b78d-02420a010222",
       "next": null,
       "previous": "51ed5cd3-0747-11ed-b066-02420a010222"
      },
      {
       "current": "ff22f032-0748-11ed-b78d-02420a010222",
       "next": "46a3df64-0749-11ed-a61d-02420a010222",
       "previous": "51ed5cd3-0747-11ed-b066-02420a010222"
      },
      {
       "current": "ff22f032-0748-11ed-b78d-02420a010222-1-a8ce",
       "next": "f3d1f497-074a-11ed-ad65-02420a010222",
       "previous": "7b1ef2ba-0757-11ed-9997-02420a010222"
      }
     ],
     "next": "f3d1f497-074a-11ed-ad65-02420a010222-1-fb0f",
     "previous": "7b1ef2ba-0757-11ed-9997-02420a010222-1-7006"
    },
    "lc_wrapper": {
     "log_history": [
      "/home/cwhadminxe1bf95/textbook/.log/20220719/20220719-185619-0723.log",
      "/home/cwhadminxe1bf95/textbook/.log/20220719/20220719-185624-0415.log",
      "/home/cwhadminxe1bf95/textbook/.log/20220719/20220719-185650-0123.log",
      "/home/cwhadminxe1bf95/dev_textbook_2022/.log/20230718/20230718-123830-0880.log"
     ]
    }
   },
   "outputs": [],
   "source": [
    "#復号\n",
    "! cat message | openssl rsautl -decrypt -inkey private.key"
   ]
  },
  {
   "cell_type": "code",
   "execution_count": null,
   "id": "a9f75a3a",
   "metadata": {
    "lc_cell_meme": {
     "current": "f3d1f497-074a-11ed-ad65-02420a010222-1-fb0f",
     "history": [
      {
       "current": "f3d1f497-074a-11ed-ad65-02420a010222",
       "next": null,
       "previous": "f3d1f36b-074a-11ed-8674-02420a010222"
      },
      {
       "current": "f3d1f497-074a-11ed-ad65-02420a010222-1-fb0f",
       "next": null,
       "previous": "ff22f032-0748-11ed-b78d-02420a010222"
      }
     ],
     "next": null,
     "previous": "ff22f032-0748-11ed-b78d-02420a010222-1-a8ce"
    }
   },
   "outputs": [],
   "source": []
  }
 ],
 "metadata": {
  "kernelspec": {
   "display_name": "Python 3",
   "language": "python",
   "name": "python3"
  },
  "language_info": {
   "file_extension": ".py",
   "mimetype": "text/x-python",
   "name": "python",
   "nbconvert_exporter": "python",
   "pygments_lexer": "ipython3",
   "version": "3.9.2"
  },
  "lc_notebook_meme": {
   "current": "15b06caa-0745-11ed-b36c-02420a010222",
   "lc_server_signature": {
    "current": {
     "notebook_dir": "/home/cwhadminxe1bf95",
     "notebook_path": "/dev_textbook_2022",
     "server_url": "https://cwh.media.gunma-u.ac.jp/user/cwhadminxe1bf95/",
     "signature_id": "d287dc56-b8b1-11ec-b3eb-23e3164b790f"
    },
    "history": [
     {
      "notebook_dir": "/home/cwhadminxe1bf95",
      "notebook_path": "/textbook",
      "server_url": "https://cwh.media.gunma-u.ac.jp/user/cwhadminxe1bf95/",
      "signature_id": "d287dc56-b8b1-11ec-b3eb-23e3164b790f"
     }
    ]
   }
  },
  "toc": {
   "base_numbering": 1,
   "nav_menu": {},
   "number_sections": true,
   "sideBar": true,
   "skip_h1_title": false,
   "title_cell": "Table of Contents",
   "title_sidebar": "Contents",
   "toc_cell": false,
   "toc_position": {},
   "toc_section_display": true,
   "toc_window_display": false
  }
 },
 "nbformat": 4,
 "nbformat_minor": 5
}
