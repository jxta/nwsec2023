{
 "cells": [
  {
   "cell_type": "markdown",
   "id": "5f3a4266",
   "metadata": {
    "lc_cell_meme": {
     "current": "36f63200-db6b-11ec-befe-02420a01013b",
     "next": "36f6349d-db6b-11ec-9187-02420a01013b",
     "previous": null
    }
   },
   "source": [
    "# ハミング符号"
   ]
  },
  {
   "cell_type": "markdown",
   "id": "f7dc88a2",
   "metadata": {
    "lc_cell_meme": {
     "current": "36f6349d-db6b-11ec-9187-02420a01013b",
     "next": "36f63590-db6b-11ec-b3ea-02420a01013b",
     "previous": "36f63200-db6b-11ec-befe-02420a01013b"
    }
   },
   "source": [
    "- Data: abcd \n",
    "- Parity: XYZ \n",
    "$$\n",
    "X = a + b     + d \\\\\n",
    "Y = a     + c + d \\\\\n",
    "Z =     b + c + d\n",
    "$$\n",
    "書き換え\n",
    "\n",
    "$$\n",
    "\\begin{pmatrix}\n",
    "X & Y & Z\n",
    "\\end{pmatrix}\n",
    "=\n",
    "\\begin{pmatrix}\n",
    "a & b & c & d\n",
    "\\end{pmatrix}\n",
    "\\begin{pmatrix}\n",
    "1 & 1 & 0 \\\\\n",
    "1 & 0 & 1 \\\\\n",
    "0 & 1 & 1 \\\\\n",
    "1 & 1 & 1 \\\\\n",
    "\\end{pmatrix}\n",
    "=\n",
    "\\begin{pmatrix}\n",
    "a & b & c & d\n",
    "\\end{pmatrix}\n",
    "A^T\n",
    "$$\n",
    "\n",
    "\n"
   ]
  },
  {
   "cell_type": "markdown",
   "id": "b0adf0cf",
   "metadata": {
    "lc_cell_meme": {
     "current": "36f63590-db6b-11ec-b3ea-02420a01013b",
     "next": "36f6364e-db6b-11ec-88f8-02420a01013b",
     "previous": "36f6349d-db6b-11ec-9187-02420a01013b"
    }
   },
   "source": [
    "$abcdXYZ$で送るとする\n",
    "$$\n",
    "\\begin{pmatrix}\n",
    "a & b & c & d & X & Y & Z\n",
    "\\end{pmatrix}\n",
    "=\n",
    "\\begin{pmatrix}\n",
    "a & b & c & d\n",
    "\\end{pmatrix}\n",
    "\\begin{pmatrix}\n",
    "1 & 0 & 0 & 0 &1 & 1 & 0 \\\\\n",
    "0 & 1 & 0 & 0 &1 & 0 & 1 \\\\\n",
    "0 & 0 & 1 & 0 &0 & 1 & 1 \\\\\n",
    "0 & 0 & 0 & 1 &1 & 1 & 1 \\\\\n",
    "\\end{pmatrix}\n",
    "=\n",
    "\\begin{pmatrix}\n",
    "a & b & c & d\n",
    "\\end{pmatrix}\n",
    "G,\n",
    "$$\n",
    " ただし、$G = ( I | A^T )$"
   ]
  },
  {
   "cell_type": "markdown",
   "id": "d0580ac0",
   "metadata": {
    "lc_cell_meme": {
     "current": "36f6364e-db6b-11ec-88f8-02420a01013b",
     "next": "36f63704-db6b-11ec-8bc1-02420a01013b",
     "previous": "36f63590-db6b-11ec-b3ea-02420a01013b"
    }
   },
   "source": [
    "送信データにエラーがなければ、以下の式を満たす\n",
    "$$\n",
    "X + a + b     + d =0\\\\\n",
    "Y + a     + c + d =0\\\\\n",
    "Z +     b + c + d =0\n",
    "$$\n",
    "書き換え\n",
    "$$\n",
    "\\begin{pmatrix}\n",
    "X & Y & Z\n",
    "\\end{pmatrix}\n",
    "+\n",
    "\\begin{pmatrix}\n",
    "a & b & c & d\n",
    "\\end{pmatrix}\n",
    "A^T =0\n",
    "$$"
   ]
  },
  {
   "cell_type": "markdown",
   "id": "cdf3f9ea",
   "metadata": {
    "lc_cell_meme": {
     "current": "36f63704-db6b-11ec-8bc1-02420a01013b",
     "next": "36f637b9-db6b-11ec-9a31-02420a01013b",
     "previous": "36f6364e-db6b-11ec-88f8-02420a01013b"
    }
   },
   "source": [
    "$$\n",
    "\\begin{pmatrix}\n",
    "a & b & c & d &X & Y & Z \n",
    "\\end{pmatrix}\n",
    "\\begin{pmatrix}\n",
    "1 & 1 & 0 \\\\\n",
    "1 & 0 & 1 \\\\\n",
    "0 & 1 & 1 \\\\\n",
    "1 & 1 & 1 \\\\\n",
    "1 & 0 & 0 \\\\\n",
    "0 & 1 & 0 \\\\\n",
    "0 & 0 & 1 \\\\\n",
    "\\end{pmatrix}\n",
    "=0\n",
    "$$\n",
    "$$\n",
    "\\begin{pmatrix}\n",
    "a & b & c & d & X & Y & Z \n",
    "\\end{pmatrix}\n",
    "H^T = 0\n",
    "$$"
   ]
  },
  {
   "cell_type": "markdown",
   "id": "b6ce841f",
   "metadata": {
    "lc_cell_meme": {
     "current": "36f637b9-db6b-11ec-9a31-02420a01013b",
     "history": [
      {
       "current": "36f637b9-db6b-11ec-9a31-02420a01013b",
       "next": "36f63868-db6b-11ec-835a-02420a01013b",
       "previous": "36f63704-db6b-11ec-8bc1-02420a01013b"
      }
     ],
     "next": "7e8a525f-db6b-11ec-8a2e-02420a01013b",
     "previous": "36f63704-db6b-11ec-8bc1-02420a01013b"
    }
   },
   "source": [
    "間違いのパターン（シンドロームといいます）\n",
    "$$\n",
    "a, \\begin{pmatrix}\n",
    "1 & 0 & 0 & 0 & 0 & 0 & 0\n",
    "\\end{pmatrix} H^T\n",
    "= \\begin{pmatrix}1 & 1 & 0 \\end{pmatrix}\n",
    "$$\n",
    "$$\n",
    "b, \\begin{pmatrix}\n",
    "0 & 1 & 0 & 0 & 0 & 0 & 0\n",
    "\\end{pmatrix} H^T \n",
    "= \\begin{pmatrix}1 & 0 & 1 \\end{pmatrix}\n",
    "$$\n",
    "$$\n",
    "c, \\begin{pmatrix}\n",
    "0 & 0 & 1 & 0 & 0 & 0 & 0\n",
    "\\end{pmatrix} H^T \n",
    "= \\begin{pmatrix}0 & 1 & 1 \\end{pmatrix}\n",
    "$$\n",
    "$$\n",
    "d, \\begin{pmatrix}\n",
    "0 & 0 & 0 & 1 & 0 & 0 & 0\n",
    "\\end{pmatrix} H^T \n",
    "= \\begin{pmatrix}1 & 1 & 1 \\end{pmatrix}\n",
    "$$\n",
    "$$\n",
    "X, \\begin{pmatrix}\n",
    "0 & 0 & 0 & 0 & 1 & 0 & 0\n",
    "\\end{pmatrix} H^T \n",
    "= \\begin{pmatrix}1 & 0 & 0 \\end{pmatrix}\n",
    "$$\n",
    "$$\n",
    "Y, \\begin{pmatrix}\n",
    "0 & 0 & 0 & 0 & 0 & 1 & 0\n",
    "\\end{pmatrix} H^T \n",
    "= \\begin{pmatrix}0 & 1 & 0 \\end{pmatrix}\n",
    "$$\n",
    "$$\n",
    "Z, \\begin{pmatrix}\n",
    "0 & 0 & 0 & 0 & 0 & 0 & 1\n",
    "\\end{pmatrix} H^T \n",
    "= \\begin{pmatrix}0 & 0 & 1 \\end{pmatrix}\n",
    "$$\n"
   ]
  },
  {
   "cell_type": "code",
   "execution_count": null,
   "id": "984ac2a3",
   "metadata": {
    "lc_cell_meme": {
     "current": "7e8a525f-db6b-11ec-8a2e-02420a01013b",
     "next": "36f63868-db6b-11ec-835a-02420a01013b",
     "previous": "36f637b9-db6b-11ec-9a31-02420a01013b"
    },
    "lc_wrapper": {
     "log_history": [
      "/home/cwhadminxe1bf95/textbook/.log/20220524/20220524-231208-0936.log"
     ]
    }
   },
   "outputs": [],
   "source": [
    "# 行列定義\n",
    "import numpy as np\n",
    "\n",
    "G = np.array([\n",
    "    [1, 0, 0, 0, 1, 1, 0],\n",
    "    [0, 1, 0, 0, 1, 0, 1],\n",
    "    [0, 0, 1, 0, 0, 1, 1],\n",
    "    [0, 0, 0, 1, 1, 1, 1]\n",
    "])\n",
    "\n",
    "\n",
    "R = np.array([\n",
    "    [1, 0, 0, 0],\n",
    "    [0, 1, 0, 0],\n",
    "    [0, 0, 1, 0],\n",
    "    [0, 0, 0, 1],\n",
    "    [0, 0, 0, 0],\n",
    "    [0, 0, 0, 0],\n",
    "    [0, 0, 0, 0]\n",
    "])\n",
    "\n",
    "H = np.array([\n",
    "        [1, 1, 0, 1, 1, 0, 0],\n",
    "        [1, 0, 1, 1, 0, 1, 0],\n",
    "        [0, 1, 1, 1, 0, 0, 1]\n",
    "    ])\n"
   ]
  },
  {
   "cell_type": "code",
   "execution_count": null,
   "id": "2b44060c",
   "metadata": {
    "lc_cell_meme": {
     "current": "36f63868-db6b-11ec-835a-02420a01013b",
     "history": [
      {
       "current": "36f63868-db6b-11ec-835a-02420a01013b",
       "next": null,
       "previous": "36f637b9-db6b-11ec-9a31-02420a01013b"
      },
      {
       "current": "36f63868-db6b-11ec-835a-02420a01013b",
       "next": "7e8a55fe-db6b-11ec-8535-02420a01013b",
       "previous": "7e8a525f-db6b-11ec-8a2e-02420a01013b"
      }
     ],
     "next": "7e8a566d-db6b-11ec-98cd-02420a01013b",
     "previous": "7e8a525f-db6b-11ec-8a2e-02420a01013b"
    },
    "lc_wrapper": {
     "log_history": [
      "/home/cwhadminxe1bf95/textbook/.log/20220524/20220524-231011-0486.log",
      "/home/cwhadminxe1bf95/textbook/.log/20220524/20220524-231041-0312.log",
      "/home/cwhadminxe1bf95/textbook/.log/20220524/20220524-231213-0356.log"
     ]
    }
   },
   "outputs": [],
   "source": [
    "# input data (abcd)\n",
    "mat = np.array([\n",
    "    [1,0,0,1]\n",
    "])\n",
    "\n",
    "\n",
    "# data\n",
    "print(\"Input Data (abcd)\")\n",
    "print(mat)\n",
    "\n",
    "# encodeed\n",
    "encoded =np.dot(mat, G) % 2\n",
    "print(\"Encoded Data (abcdXYZ)\")\n",
    "print(encoded)\n",
    "\n",
    "# decoded\n",
    "decoded = np.dot(encoded , R) %2\n",
    "print(\"Decoded Data (abcd)\")\n",
    "print(decoded)\n",
    "\n",
    "# syndrome\n",
    "syndrome = np.dot(encoded, H.T) % 2\n",
    "print(\"Parity Check (Should be zero)\")\n",
    "print(syndrome)"
   ]
  },
  {
   "cell_type": "code",
   "execution_count": null,
   "id": "a24b1899",
   "metadata": {
    "lc_cell_meme": {
     "current": "7e8a566d-db6b-11ec-98cd-02420a01013b",
     "history": [
      {
       "current": "7e8a566d-db6b-11ec-98cd-02420a01013b",
       "next": "7e8a56bd-db6b-11ec-98cc-02420a01013b",
       "previous": "7e8a55fe-db6b-11ec-8535-02420a01013b"
      }
     ],
     "next": "7e8a55fe-db6b-11ec-8535-02420a01013b",
     "previous": "36f63868-db6b-11ec-835a-02420a01013b"
    },
    "lc_wrapper": {
     "log_history": [
      "/home/cwhadminxe1bf95/textbook/.log/20220524/20220524-231103-0845.log",
      "/home/cwhadminxe1bf95/textbook/.log/20220524/20220524-231317-0873.log",
      "/home/cwhadminxe1bf95/textbook/.log/20220524/20220524-231325-0456.log"
     ]
    }
   },
   "outputs": [],
   "source": [
    "# エラー付きの入力\n",
    "encoededWithErr = mat = np.array([\n",
    "    [1,1,0,1,0,1,0]\n",
    "])\n",
    "\n",
    "# syndrome\n",
    "syndrome = np.dot(encoededWithErr, H.T) % 2\n",
    "print(syndrome)"
   ]
  },
  {
   "cell_type": "code",
   "execution_count": null,
   "id": "7cb56c25",
   "metadata": {
    "lc_cell_meme": {
     "current": "7e8a55fe-db6b-11ec-8535-02420a01013b",
     "history": [
      {
       "current": "7e8a55fe-db6b-11ec-8535-02420a01013b",
       "next": "7e8a566d-db6b-11ec-98cd-02420a01013b",
       "previous": "36f63868-db6b-11ec-835a-02420a01013b"
      }
     ],
     "next": "7e8a56bd-db6b-11ec-98cc-02420a01013b",
     "previous": "7e8a566d-db6b-11ec-98cd-02420a01013b"
    },
    "lc_wrapper": {
     "log_history": [
      "/home/cwhadminxe1bf95/textbook/.log/20220524/20220524-231053-0119.log",
      "/home/cwhadminxe1bf95/textbook/.log/20220524/20220524-231341-0410.log"
     ]
    }
   },
   "outputs": [],
   "source": [
    "# エラーのパタンの出力\n",
    "\n",
    "err = np.array([1,0,0,0,0,0,0])\n",
    "# syndrome\n",
    "syndrome = np.dot(err, H.T) % 2\n",
    "print(\"a\")\n",
    "print(syndrome)\n",
    "\n",
    "err =  np.array([0,1,0,0,0,0,0])\n",
    "# syndrome\n",
    "syndrome = np.dot(err, H.T) % 2\n",
    "print(\"b\")\n",
    "print(syndrome)\n",
    "\n",
    "err =  np.array([0,0,1,0,0,0,0])\n",
    "# syndrome\n",
    "syndrome = np.dot(err, H.T) % 2\n",
    "print(\"c\")\n",
    "print(syndrome)\n",
    "\n",
    "err =  np.array([0,0,0,1,0,0,0])\n",
    "# syndrome\n",
    "syndrome = np.dot(err, H.T) % 2\n",
    "print(\"d\")\n",
    "print(syndrome)\n",
    "\n",
    "err =  np.array([0,0,0,0,1,0,0])\n",
    "# syndrome\n",
    "syndrome = np.dot(err, H.T) % 2\n",
    "print(\"X\")\n",
    "print(syndrome)\n",
    "\n",
    "err =  np.array([0,0,0,0,0,1,0])\n",
    "# syndrome\n",
    "syndrome = np.dot(err, H.T) % 2\n",
    "print(\"Y\")\n",
    "print(syndrome)\n",
    "\n",
    "err =  np.array([0,0,0,0,0,0,1])\n",
    "# syndrome\n",
    "syndrome = np.dot(err, H.T) % 2\n",
    "print(\"Z\")\n",
    "print(syndrome)"
   ]
  },
  {
   "cell_type": "code",
   "execution_count": null,
   "id": "2b4b763e",
   "metadata": {
    "lc_cell_meme": {
     "current": "7e8a56bd-db6b-11ec-98cc-02420a01013b",
     "history": [
      {
       "current": "7e8a56bd-db6b-11ec-98cc-02420a01013b",
       "next": null,
       "previous": "7e8a566d-db6b-11ec-98cd-02420a01013b"
      }
     ],
     "next": null,
     "previous": "7e8a55fe-db6b-11ec-8535-02420a01013b"
    }
   },
   "outputs": [],
   "source": []
  }
 ],
 "metadata": {
  "kernelspec": {
   "display_name": "Python 3",
   "language": "python",
   "name": "python3"
  },
  "language_info": {
   "file_extension": ".py",
   "mimetype": "text/x-python",
   "name": "python",
   "nbconvert_exporter": "python",
   "pygments_lexer": "ipython3",
   "version": "3.9.2"
  },
  "lc_notebook_meme": {
   "current": "36f62e42-db6b-11ec-8940-02420a01013b",
   "lc_server_signature": {
    "current": {
     "notebook_dir": "/home/cwhadminxe1bf95",
     "notebook_path": "/textbook",
     "server_url": "https://cwh.media.gunma-u.ac.jp/user/cwhadminxe1bf95/",
     "signature_id": "d287dc56-b8b1-11ec-b3eb-23e3164b790f"
    },
    "history": []
   }
  },
  "toc": {
   "base_numbering": 1,
   "nav_menu": {},
   "number_sections": true,
   "sideBar": true,
   "skip_h1_title": false,
   "title_cell": "Table of Contents",
   "title_sidebar": "Contents",
   "toc_cell": false,
   "toc_position": {},
   "toc_section_display": true,
   "toc_window_display": false
  }
 },
 "nbformat": 4,
 "nbformat_minor": 5
}
