{
 "cells": [
  {
   "cell_type": "markdown",
   "id": "0facb258",
   "metadata": {
    "lc_cell_meme": {
     "current": "d0df3570-bf82-11ec-bdad-02420a0100d1",
     "next": "d0e19036-bf82-11ec-bc64-02420a0100d1",
     "previous": null
    }
   },
   "source": [
    "# はじめてのNotebook"
   ]
  },
  {
   "cell_type": "markdown",
   "id": "9564757b",
   "metadata": {
    "lc_cell_meme": {
     "current": "d0e19036-bf82-11ec-bc64-02420a0100d1",
     "history": [
      {
       "current": "d0e19036-bf82-11ec-bc64-02420a0100d1",
       "next": "740478bb-b8b7-11ec-89e6-23e3164b790f",
       "previous": "d0df3570-bf82-11ec-bdad-02420a0100d1"
      },
      {
       "current": "d0e19036-bf82-11ec-bc64-02420a0100d1",
       "next": "18aab3f1-bf83-11ec-b9a0-02420a0100d1",
       "previous": "d0df3570-bf82-11ec-bdad-02420a0100d1"
      },
      {
       "current": "d0e19036-bf82-11ec-bc64-02420a0100d1",
       "next": "1cb242a6-bf84-11ec-a493-02420a0100d1",
       "previous": "d0df3570-bf82-11ec-bdad-02420a0100d1"
      }
     ],
     "next": "77db4e62-bf87-11ec-bfb3-02420a0100d1",
     "previous": "d0df3570-bf82-11ec-bdad-02420a0100d1"
    }
   },
   "source": [
    "Notebookは，Webブラウザでpythonなどのプログラムを実行したり，サーバ（linux）自身のコマンドを実行したりできるWebインタフェースです。"
   ]
  },
  {
   "cell_type": "markdown",
   "id": "8386d517",
   "metadata": {
    "lc_cell_meme": {
     "current": "77db4e62-bf87-11ec-bfb3-02420a0100d1",
     "next": "1cb242a6-bf84-11ec-a493-02420a0100d1",
     "previous": "d0e19036-bf82-11ec-bc64-02420a0100d1"
    }
   },
   "source": [
    "## linuxコマンド実行"
   ]
  },
  {
   "cell_type": "markdown",
   "id": "1c7b8b76",
   "metadata": {
    "lc_cell_meme": {
     "current": "1cb242a6-bf84-11ec-a493-02420a0100d1",
     "history": [
      {
       "current": "1cb242a6-bf84-11ec-a493-02420a0100d1",
       "next": "18aab3f1-bf83-11ec-b9a0-02420a0100d1",
       "previous": "d0e19036-bf82-11ec-bc64-02420a0100d1"
      }
     ],
     "next": "18aab3f1-bf83-11ec-b9a0-02420a0100d1",
     "previous": "77db4e62-bf87-11ec-bfb3-02420a0100d1"
    }
   },
   "source": [
    "linuxのコマンドを実行するには!の後にコマンドを書きます"
   ]
  },
  {
   "cell_type": "code",
   "execution_count": null,
   "id": "68b6a5fa",
   "metadata": {
    "lc_cell_meme": {
     "current": "18aab3f1-bf83-11ec-b9a0-02420a0100d1",
     "history": [
      {
       "current": "18aab3f1-bf83-11ec-b9a0-02420a0100d1",
       "next": "18aab67f-bf83-11ec-a932-02420a0100d1",
       "previous": "d0e19036-bf82-11ec-bc64-02420a0100d1"
      }
     ],
     "next": "18aab67f-bf83-11ec-a932-02420a0100d1",
     "previous": "1cb242a6-bf84-11ec-a493-02420a0100d1"
    },
    "lc_wrapper": {
     "log_history": [
      "/home/cwhadminxe1bf95/textbook/.log/20220419/20220419-104842-0892.log",
      "/home/cwhadminxe1bf95/textbook/.log/20220419/20220419-104847-0907.log",
      "/home/cwhadminxe1bf95/textbook/.log/20220419/20220419-105745-0690.log"
     ]
    }
   },
   "outputs": [],
   "source": [
    "! date"
   ]
  },
  {
   "cell_type": "code",
   "execution_count": null,
   "id": "9e1395b6",
   "metadata": {
    "lc_cell_meme": {
     "current": "18aab67f-bf83-11ec-a932-02420a0100d1",
     "history": [
      {
       "current": "18aab67f-bf83-11ec-a932-02420a0100d1",
       "next": "18aab796-bf83-11ec-a89b-02420a0100d1",
       "previous": "18aab3f1-bf83-11ec-b9a0-02420a0100d1"
      },
      {
       "current": "18aab67f-bf83-11ec-a932-02420a0100d1",
       "next": "644f9b7b-bf84-11ec-bb97-02420a0100d1",
       "previous": "18aab3f1-bf83-11ec-b9a0-02420a0100d1"
      }
     ],
     "next": "77db5159-bf87-11ec-838b-02420a0100d1",
     "previous": "18aab3f1-bf83-11ec-b9a0-02420a0100d1"
    },
    "lc_wrapper": {
     "log_history": [
      "/home/cwhadminxe1bf95/textbook/.log/20220419/20220419-104925-0495.log",
      "/home/cwhadminxe1bf95/textbook/.log/20220419/20220419-105751-0743.log"
     ]
    }
   },
   "outputs": [],
   "source": [
    "! hostname"
   ]
  },
  {
   "cell_type": "markdown",
   "id": "bd264e1c",
   "metadata": {
    "lc_cell_meme": {
     "current": "77db5159-bf87-11ec-838b-02420a0100d1",
     "next": "644f9b7b-bf84-11ec-bb97-02420a0100d1",
     "previous": "18aab67f-bf83-11ec-a932-02420a0100d1"
    }
   },
   "source": [
    "## pythonを使った簡単な計算"
   ]
  },
  {
   "cell_type": "markdown",
   "id": "26d9ea58",
   "metadata": {
    "lc_cell_meme": {
     "current": "644f9b7b-bf84-11ec-bb97-02420a0100d1",
     "history": [
      {
       "current": "644f9b7b-bf84-11ec-bb97-02420a0100d1",
       "next": "18aab796-bf83-11ec-a89b-02420a0100d1",
       "previous": "18aab67f-bf83-11ec-a932-02420a0100d1"
      }
     ],
     "next": "18aab796-bf83-11ec-a89b-02420a0100d1",
     "previous": "77db5159-bf87-11ec-838b-02420a0100d1"
    }
   },
   "source": [
    "このnotebookではpythonを実行することができます。pythonを実行するときは!は不要です。\n",
    "\n",
    "例えば，単純な四則演算はこんな感じです。"
   ]
  },
  {
   "cell_type": "code",
   "execution_count": null,
   "id": "32322983",
   "metadata": {
    "lc_cell_meme": {
     "current": "18aab796-bf83-11ec-a89b-02420a0100d1",
     "history": [
      {
       "current": "18aab796-bf83-11ec-a89b-02420a0100d1",
       "next": "740478bb-b8b7-11ec-89e6-23e3164b790f",
       "previous": "18aab67f-bf83-11ec-a932-02420a0100d1"
      },
      {
       "current": "18aab796-bf83-11ec-a89b-02420a0100d1",
       "next": "644f9d0e-bf84-11ec-ad0e-02420a0100d1",
       "previous": "644f9b7b-bf84-11ec-bb97-02420a0100d1"
      }
     ],
     "next": "acad9715-bf84-11ec-beec-02420a0100d1",
     "previous": "644f9b7b-bf84-11ec-bb97-02420a0100d1"
    },
    "lc_wrapper": {
     "log_history": [
      "/home/cwhadminxe1bf95/textbook/.log/20220419/20220419-104937-0233.log",
      "/home/cwhadminxe1bf95/textbook/.log/20220419/20220419-105124-0231.log",
      "/home/cwhadminxe1bf95/textbook/.log/20220419/20220419-105915-0995.log"
     ]
    },
    "scrolled": true
   },
   "outputs": [],
   "source": [
    "1 + 1"
   ]
  },
  {
   "cell_type": "code",
   "execution_count": null,
   "id": "dbaf679d",
   "metadata": {
    "lc_cell_meme": {
     "current": "acad9715-bf84-11ec-beec-02420a0100d1",
     "next": "644f9d0e-bf84-11ec-ad0e-02420a0100d1",
     "previous": "18aab796-bf83-11ec-a89b-02420a0100d1"
    },
    "lc_wrapper": {
     "log_history": [
      "/home/cwhadminxe1bf95/textbook/.log/20220419/20220419-110030-0783.log",
      "/home/cwhadminxe1bf95/textbook/.log/20220419/20220419-110040-0208.log"
     ]
    }
   },
   "outputs": [],
   "source": [
    "10 - 8"
   ]
  },
  {
   "cell_type": "code",
   "execution_count": null,
   "id": "aee245af",
   "metadata": {
    "lc_cell_meme": {
     "current": "644f9d0e-bf84-11ec-ad0e-02420a0100d1",
     "history": [
      {
       "current": "644f9d0e-bf84-11ec-ad0e-02420a0100d1",
       "next": "740478bb-b8b7-11ec-89e6-23e3164b790f",
       "previous": "18aab796-bf83-11ec-a89b-02420a0100d1"
      }
     ],
     "next": "acad984d-bf84-11ec-805e-02420a0100d1",
     "previous": "acad9715-bf84-11ec-beec-02420a0100d1"
    },
    "lc_wrapper": {
     "log_history": [
      "/home/cwhadminxe1bf95/textbook/.log/20220419/20220419-105951-0344.log",
      "/home/cwhadminxe1bf95/textbook/.log/20220419/20220419-110049-0427.log",
      "/home/cwhadminxe1bf95/textbook/.log/20220419/20220419-110106-0901.log",
      "/home/cwhadminxe1bf95/textbook/.log/20220419/20220419-110109-0076.log"
     ]
    }
   },
   "outputs": [],
   "source": [
    "50 / 4"
   ]
  },
  {
   "cell_type": "code",
   "execution_count": null,
   "id": "d1206fba",
   "metadata": {
    "lc_cell_meme": {
     "current": "acad984d-bf84-11ec-805e-02420a0100d1",
     "next": "acad98a5-bf84-11ec-b884-02420a0100d1",
     "previous": "644f9d0e-bf84-11ec-ad0e-02420a0100d1"
    },
    "lc_wrapper": {
     "log_history": [
      "/home/cwhadminxe1bf95/textbook/.log/20220419/20220419-110013-0178.log",
      "/home/cwhadminxe1bf95/textbook/.log/20220419/20220419-110055-0981.log"
     ]
    }
   },
   "outputs": [],
   "source": [
    "2 * 3"
   ]
  },
  {
   "cell_type": "code",
   "execution_count": null,
   "id": "078ad53b",
   "metadata": {
    "lc_cell_meme": {
     "current": "acad98a5-bf84-11ec-b884-02420a0100d1",
     "history": [
      {
       "current": "acad98a5-bf84-11ec-b884-02420a0100d1",
       "next": "740478bb-b8b7-11ec-89e6-23e3164b790f",
       "previous": "acad984d-bf84-11ec-805e-02420a0100d1"
      },
      {
       "current": "acad98a5-bf84-11ec-b884-02420a0100d1",
       "next": "f3bf1c5a-bf84-11ec-85a1-02420a0100d1",
       "previous": "acad984d-bf84-11ec-805e-02420a0100d1"
      },
      {
       "current": "acad98a5-bf84-11ec-b884-02420a0100d1",
       "next": "82a10fc7-bf85-11ec-9475-02420a0100d1",
       "previous": "acad984d-bf84-11ec-805e-02420a0100d1"
      }
     ],
     "next": "f3bf1c5a-bf84-11ec-85a1-02420a0100d1",
     "previous": "acad984d-bf84-11ec-805e-02420a0100d1"
    },
    "lc_wrapper": {
     "log_history": [
      "/home/cwhadminxe1bf95/textbook/.log/20220419/20220419-110128-0449.log",
      "/home/cwhadminxe1bf95/textbook/.log/20220419/20220419-110821-0478.log",
      "/home/cwhadminxe1bf95/textbook/.log/20220419/20220419-110854-0297.log"
     ]
    }
   },
   "outputs": [],
   "source": [
    "100 * ( 4.1 + 3.4 ) - 100"
   ]
  },
  {
   "cell_type": "markdown",
   "id": "2a98064c",
   "metadata": {
    "lc_cell_meme": {
     "current": "f3bf1c5a-bf84-11ec-85a1-02420a0100d1",
     "history": [
      {
       "current": "f3bf1c5a-bf84-11ec-85a1-02420a0100d1",
       "next": "f3bf1ecf-bf84-11ec-ab7b-02420a0100d1",
       "previous": "acad98a5-bf84-11ec-b884-02420a0100d1"
      },
      {
       "current": "f3bf1c5a-bf84-11ec-85a1-02420a0100d1",
       "next": "f3bf1ecf-bf84-11ec-ab7b-02420a0100d1",
       "previous": "82a10fc7-bf85-11ec-9475-02420a0100d1"
      }
     ],
     "next": "f3bf1ecf-bf84-11ec-ab7b-02420a0100d1",
     "previous": "acad98a5-bf84-11ec-b884-02420a0100d1"
    }
   },
   "source": [
    "### 累乗"
   ]
  },
  {
   "cell_type": "code",
   "execution_count": null,
   "id": "feb41d28",
   "metadata": {
    "lc_cell_meme": {
     "current": "f3bf1ecf-bf84-11ec-ab7b-02420a0100d1",
     "next": "f3bf1fca-bf84-11ec-b67d-02420a0100d1",
     "previous": "f3bf1c5a-bf84-11ec-85a1-02420a0100d1"
    },
    "lc_wrapper": {
     "log_history": [
      "/home/cwhadminxe1bf95/textbook/.log/20220419/20220419-110242-0353.log",
      "/home/cwhadminxe1bf95/textbook/.log/20220419/20220419-110246-0895.log",
      "/home/cwhadminxe1bf95/textbook/.log/20220419/20220419-110251-0545.log",
      "/home/cwhadminxe1bf95/textbook/.log/20220419/20220419-110259-0251.log",
      "/home/cwhadminxe1bf95/textbook/.log/20220419/20220419-110303-0636.log",
      "/home/cwhadminxe1bf95/textbook/.log/20220419/20220419-110307-0375.log",
      "/home/cwhadminxe1bf95/textbook/.log/20220419/20220419-110320-0333.log",
      "/home/cwhadminxe1bf95/textbook/.log/20220419/20220419-110325-0936.log"
     ]
    }
   },
   "outputs": [],
   "source": [
    "5**2"
   ]
  },
  {
   "cell_type": "markdown",
   "id": "13066eda",
   "metadata": {
    "lc_cell_meme": {
     "current": "f3bf1fca-bf84-11ec-b67d-02420a0100d1",
     "next": "f3bf208d-bf84-11ec-a2dd-02420a0100d1",
     "previous": "f3bf1ecf-bf84-11ec-ab7b-02420a0100d1"
    }
   },
   "source": [
    "### 剰余"
   ]
  },
  {
   "cell_type": "code",
   "execution_count": null,
   "id": "b72486cf",
   "metadata": {
    "lc_cell_meme": {
     "current": "f3bf208d-bf84-11ec-a2dd-02420a0100d1",
     "history": [
      {
       "current": "f3bf208d-bf84-11ec-a2dd-02420a0100d1",
       "next": "f3bf213d-bf84-11ec-abdf-02420a0100d1",
       "previous": "f3bf1fca-bf84-11ec-b67d-02420a0100d1"
      }
     ],
     "next": "f3bf213d-bf84-11ec-abdf-02420a0100d1-1-1b7c",
     "previous": "f3bf1fca-bf84-11ec-b67d-02420a0100d1"
    },
    "lc_wrapper": {
     "log_history": [
      "/home/cwhadminxe1bf95/textbook/.log/20220419/20220419-110339-0139.log",
      "/home/cwhadminxe1bf95/textbook/.log/20220419/20220419-110346-0851.log",
      "/home/cwhadminxe1bf95/textbook/.log/20220419/20220419-110926-0132.log",
      "/home/cwhadminxe1bf95/textbook/.log/20220419/20220419-110945-0153.log"
     ]
    }
   },
   "outputs": [],
   "source": [
    "# 10を3で割った余り\n",
    "10 % 3"
   ]
  },
  {
   "cell_type": "markdown",
   "id": "f53aa696",
   "metadata": {
    "lc_cell_meme": {
     "current": "f3bf213d-bf84-11ec-abdf-02420a0100d1-1-1b7c",
     "next": "f3bf21ed-bf84-11ec-9cdb-02420a0100d1",
     "previous": "f3bf208d-bf84-11ec-a2dd-02420a0100d1"
    }
   },
   "source": [
    "### 関数"
   ]
  },
  {
   "cell_type": "code",
   "execution_count": null,
   "id": "b07a09c1",
   "metadata": {
    "lc_cell_meme": {
     "current": "f3bf21ed-bf84-11ec-9cdb-02420a0100d1",
     "history": [
      {
       "current": "f3bf21ed-bf84-11ec-9cdb-02420a0100d1",
       "next": "f3bf22a0-bf84-11ec-80b7-02420a0100d1",
       "previous": "f3bf213d-bf84-11ec-abdf-02420a0100d1"
      }
     ],
     "next": "f3bf22a0-bf84-11ec-80b7-02420a0100d1",
     "previous": "f3bf213d-bf84-11ec-abdf-02420a0100d1-1-1b7c"
    },
    "lc_wrapper": {
     "log_history": [
      "/home/cwhadminxe1bf95/textbook/.log/20220419/20220419-111103-0392.log",
      "/home/cwhadminxe1bf95/textbook/.log/20220419/20220419-111205-0118.log"
     ]
    }
   },
   "outputs": [],
   "source": [
    "# 関数を使うためのおまじない（mathというモジュールを読み込んでいます）\n",
    "import math"
   ]
  },
  {
   "cell_type": "code",
   "execution_count": null,
   "id": "1acf16c4",
   "metadata": {
    "lc_cell_meme": {
     "current": "f3bf22a0-bf84-11ec-80b7-02420a0100d1",
     "history": [
      {
       "current": "f3bf22a0-bf84-11ec-80b7-02420a0100d1",
       "next": "f3bf2500-bf84-11ec-92ec-02420a0100d1",
       "previous": "f3bf21ed-bf84-11ec-9cdb-02420a0100d1"
      }
     ],
     "next": "595fbfde-bf86-11ec-9830-02420a0100d1",
     "previous": "f3bf21ed-bf84-11ec-9cdb-02420a0100d1"
    },
    "lc_wrapper": {
     "log_history": [
      "/home/cwhadminxe1bf95/textbook/.log/20220419/20220419-111108-0432.log",
      "/home/cwhadminxe1bf95/textbook/.log/20220419/20220419-111356-0181.log",
      "/home/cwhadminxe1bf95/textbook/.log/20220419/20220419-111400-0807.log"
     ]
    }
   },
   "outputs": [],
   "source": [
    "# 自然対数\n",
    "math.log(10)"
   ]
  },
  {
   "cell_type": "code",
   "execution_count": null,
   "id": "fa5b5376",
   "metadata": {
    "lc_cell_meme": {
     "current": "595fbfde-bf86-11ec-9830-02420a0100d1",
     "history": [
      {
       "current": "595fbfde-bf86-11ec-9830-02420a0100d1",
       "next": "f3bf2500-bf84-11ec-92ec-02420a0100d1",
       "previous": "f3bf22a0-bf84-11ec-80b7-02420a0100d1"
      }
     ],
     "next": "a0d127f3-bf86-11ec-8b3c-02420a0100d1",
     "previous": "f3bf22a0-bf84-11ec-80b7-02420a0100d1"
    },
    "lc_wrapper": {
     "log_history": [
      "/home/cwhadminxe1bf95/textbook/.log/20220419/20220419-111227-0756.log",
      "/home/cwhadminxe1bf95/textbook/.log/20220419/20220419-111241-0942.log",
      "/home/cwhadminxe1bf95/textbook/.log/20220419/20220419-111247-0701.log",
      "/home/cwhadminxe1bf95/textbook/.log/20220419/20220419-111252-0748.log",
      "/home/cwhadminxe1bf95/textbook/.log/20220419/20220419-111258-0792.log",
      "/home/cwhadminxe1bf95/textbook/.log/20220419/20220419-111304-0506.log",
      "/home/cwhadminxe1bf95/textbook/.log/20220419/20220419-111333-0101.log",
      "/home/cwhadminxe1bf95/textbook/.log/20220419/20220419-111341-0499.log"
     ]
    }
   },
   "outputs": [],
   "source": [
    "# コサインの逆関数\n",
    "math.acos(-1)"
   ]
  },
  {
   "cell_type": "code",
   "execution_count": null,
   "id": "61021b96",
   "metadata": {
    "lc_cell_meme": {
     "current": "a0d127f3-bf86-11ec-8b3c-02420a0100d1",
     "history": [
      {
       "current": "a0d127f3-bf86-11ec-8b3c-02420a0100d1",
       "next": "f3bf2500-bf84-11ec-92ec-02420a0100d1",
       "previous": "595fbfde-bf86-11ec-9830-02420a0100d1"
      },
      {
       "current": "a0d127f3-bf86-11ec-8b3c-02420a0100d1",
       "next": "68ba10c9-b8b9-11ec-9f7f-23e3164b790f",
       "previous": "595fbfde-bf86-11ec-9830-02420a0100d1"
      }
     ],
     "next": "68ba10c9-b8b9-11ec-9f7f-23e3164b790f-1-cff7",
     "previous": "595fbfde-bf86-11ec-9830-02420a0100d1"
    },
    "lc_wrapper": {
     "log_history": [
      "/home/cwhadminxe1bf95/textbook/.log/20220419/20220419-111419-0009.log"
     ]
    }
   },
   "outputs": [],
   "source": [
    "# 指数関数(eのべき乗)\n",
    "math.exp(1)"
   ]
  },
  {
   "cell_type": "markdown",
   "id": "da1e1a12",
   "metadata": {
    "lc_cell_meme": {
     "current": "68ba10c9-b8b9-11ec-9f7f-23e3164b790f-1-cff7",
     "history": [
      {
       "current": "68ba10c9-b8b9-11ec-9f7f-23e3164b790f",
       "next": null,
       "previous": "74047a08-b8b7-11ec-ac92-23e3164b790f"
      },
      {
       "current": "68ba10c9-b8b9-11ec-9f7f-23e3164b790f-1-cff7",
       "next": null,
       "previous": "a0d127f3-bf86-11ec-8b3c-02420a0100d1"
      }
     ],
     "next": "30a9932e-bf87-11ec-8e07-02420a0100d1",
     "previous": "a0d127f3-bf86-11ec-8b3c-02420a0100d1"
    }
   },
   "source": [
    "### 変数を使った計算"
   ]
  },
  {
   "cell_type": "code",
   "execution_count": null,
   "id": "372f78a2",
   "metadata": {
    "lc_cell_meme": {
     "current": "30a9932e-bf87-11ec-8e07-02420a0100d1",
     "next": "77db5268-bf87-11ec-8a2b-02420a0100d1",
     "previous": "68ba10c9-b8b9-11ec-9f7f-23e3164b790f-1-cff7"
    },
    "lc_wrapper": {
     "log_history": [
      "/home/cwhadminxe1bf95/textbook/.log/20220419/20220419-111953-0937.log"
     ]
    }
   },
   "outputs": [],
   "source": [
    "a = 1\n",
    "b = 2\n",
    "a + b"
   ]
  },
  {
   "cell_type": "code",
   "execution_count": null,
   "id": "2839773a",
   "metadata": {
    "lc_cell_meme": {
     "current": "77db5268-bf87-11ec-8a2b-02420a0100d1",
     "history": [
      {
       "current": "77db5268-bf87-11ec-8a2b-02420a0100d1",
       "next": "77db532d-bf87-11ec-961a-02420a0100d1",
       "previous": "30a9932e-bf87-11ec-8e07-02420a0100d1"
      }
     ],
     "next": "77db532d-bf87-11ec-961a-02420a0100d1-1-11d7",
     "previous": "30a9932e-bf87-11ec-8e07-02420a0100d1"
    },
    "lc_wrapper": {
     "log_history": [
      "/home/cwhadminxe1bf95/textbook/.log/20220419/20220419-112043-0731.log",
      "/home/cwhadminxe1bf95/textbook/.log/20220419/20220419-112048-0333.log"
     ]
    }
   },
   "outputs": [],
   "source": [
    "pi = math.acos(-1)\n",
    "\n",
    "math.tan(pi/4)"
   ]
  },
  {
   "cell_type": "markdown",
   "id": "58626fef",
   "metadata": {
    "lc_cell_meme": {
     "current": "77db532d-bf87-11ec-961a-02420a0100d1-1-11d7",
     "history": [
      {
       "current": "77db532d-bf87-11ec-961a-02420a0100d1-1-11d7",
       "next": null,
       "previous": "77db5268-bf87-11ec-8a2b-02420a0100d1"
      }
     ],
     "next": "bfcf73b4-bf87-11ec-a2a6-02420a0100d1",
     "previous": "77db5268-bf87-11ec-8a2b-02420a0100d1"
    }
   },
   "source": [
    "# 適当に何か計算してみましょう\n",
    "セルを追加するには+ボタンを押します"
   ]
  },
  {
   "cell_type": "code",
   "execution_count": null,
   "id": "43d75762",
   "metadata": {
    "lc_cell_meme": {
     "current": "bfcf73b4-bf87-11ec-a2a6-02420a0100d1",
     "next": null,
     "previous": "77db532d-bf87-11ec-961a-02420a0100d1-1-11d7"
    }
   },
   "outputs": [],
   "source": []
  }
 ],
 "metadata": {
  "kernelspec": {
   "display_name": "Python 3",
   "language": "python",
   "name": "python3"
  },
  "language_info": {
   "file_extension": ".py",
   "mimetype": "text/x-python",
   "name": "python",
   "nbconvert_exporter": "python",
   "pygments_lexer": "ipython3",
   "version": "3.9.2"
  },
  "lc_notebook_meme": {
   "current": "7404703c-b8b7-11ec-a4cb-23e3164b790f",
   "lc_server_signature": {
    "current": {
     "notebook_dir": "/home/cwhadminxe1bf95",
     "notebook_path": "/textbook",
     "server_url": "https://cwh.media.gunma-u.ac.jp/user/cwhadminxe1bf95/",
     "signature_id": "d287dc56-b8b1-11ec-b3eb-23e3164b790f"
    },
    "history": []
   }
  },
  "toc": {
   "base_numbering": 1,
   "nav_menu": {},
   "number_sections": true,
   "sideBar": true,
   "skip_h1_title": false,
   "title_cell": "Table of Contents",
   "title_sidebar": "Contents",
   "toc_cell": false,
   "toc_position": {},
   "toc_section_display": true,
   "toc_window_display": false
  }
 },
 "nbformat": 4,
 "nbformat_minor": 5
}
