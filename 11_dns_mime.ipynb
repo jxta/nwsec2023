{
 "cells": [
  {
   "cell_type": "markdown",
   "id": "eef7b11a",
   "metadata": {
    "lc_cell_meme": {
     "current": "06b43e17-f6d0-11ec-804c-02420a010222-2-64ae-04b8",
     "history": [
      {
       "current": "06b43e17-f6d0-11ec-804c-02420a010222",
       "next": "06b442c4-f6d0-11ec-8607-02420a010222",
       "previous": null
      },
      {
       "current": "06b43e17-f6d0-11ec-804c-02420a010222-1-64ae",
       "next": "b39ca474-f6d1-11ec-b565-02420a010222",
       "previous": null
      },
      {
       "current": "06b43e17-f6d0-11ec-804c-02420a010222-2-64ae-04b8",
       "next": "b39ca474-f6d1-11ec-b565-02420a010222-1-b079",
       "previous": null
      }
     ],
     "next": "b39ca474-f6d1-11ec-b565-02420a010222-2-b079-780f",
     "previous": null
    }
   },
   "source": [
    "# DNS"
   ]
  },
  {
   "cell_type": "markdown",
   "id": "790f5aa7",
   "metadata": {
    "lc_cell_meme": {
     "current": "b39ca474-f6d1-11ec-b565-02420a010222-2-b079-780f",
     "history": [
      {
       "current": "b39ca474-f6d1-11ec-b565-02420a010222-1-b079",
       "next": "06b442c4-f6d0-11ec-8607-02420a010222",
       "previous": "06b43e17-f6d0-11ec-804c-02420a010222"
      },
      {
       "current": "b39ca474-f6d1-11ec-b565-02420a010222-2-b079-780f",
       "next": "06b442c4-f6d0-11ec-8607-02420a010222-1-be0d",
       "previous": "06b43e17-f6d0-11ec-804c-02420a010222-1-64ae"
      }
     ],
     "next": "06b442c4-f6d0-11ec-8607-02420a010222-2-be0d-47d3",
     "previous": "06b43e17-f6d0-11ec-804c-02420a010222-2-64ae-04b8"
    }
   },
   "source": [
    "## 基本"
   ]
  },
  {
   "cell_type": "code",
   "execution_count": null,
   "id": "8567a1dc",
   "metadata": {
    "lc_cell_meme": {
     "current": "06b442c4-f6d0-11ec-8607-02420a010222-2-be0d-47d3",
     "history": [
      {
       "current": "06b442c4-f6d0-11ec-8607-02420a010222",
       "next": "06b443e3-f6d0-11ec-9944-02420a010222",
       "previous": "06b43e17-f6d0-11ec-804c-02420a010222"
      },
      {
       "current": "06b442c4-f6d0-11ec-8607-02420a010222-1-be0d",
       "next": "06b443e3-f6d0-11ec-9944-02420a010222",
       "previous": "b39ca474-f6d1-11ec-b565-02420a010222"
      },
      {
       "current": "06b442c4-f6d0-11ec-8607-02420a010222-2-be0d-47d3",
       "next": "06b443e3-f6d0-11ec-9944-02420a010222-1-f7d9",
       "previous": "b39ca474-f6d1-11ec-b565-02420a010222-1-b079"
      }
     ],
     "next": "06b443e3-f6d0-11ec-9944-02420a010222-2-f7d9-f708",
     "previous": "b39ca474-f6d1-11ec-b565-02420a010222-2-b079-780f"
    },
    "lc_wrapper": {
     "log_history": [
      "/home/cwhadminxe1bf95/textbook/.log/20220628/20220628-195957-0086.log",
      "/home/cwhadminxe1bf95/dev_textbook_2022/.log/20230627/20230627-164612-0475.log"
     ]
    },
    "scrolled": true
   },
   "outputs": [],
   "source": [
    "! dig twitter.com"
   ]
  },
  {
   "cell_type": "code",
   "execution_count": null,
   "id": "d1a66bce",
   "metadata": {
    "lc_cell_meme": {
     "current": "06b443e3-f6d0-11ec-9944-02420a010222-2-f7d9-f708",
     "history": [
      {
       "current": "06b443e3-f6d0-11ec-9944-02420a010222",
       "next": "06b444ba-f6d0-11ec-9c3c-02420a010222",
       "previous": "06b442c4-f6d0-11ec-8607-02420a010222"
      },
      {
       "current": "06b443e3-f6d0-11ec-9944-02420a010222-1-f7d9",
       "next": "b39ca785-f6d1-11ec-b63f-02420a010222",
       "previous": "06b442c4-f6d0-11ec-8607-02420a010222"
      },
      {
       "current": "06b443e3-f6d0-11ec-9944-02420a010222-2-f7d9-f708",
       "next": "b39ca785-f6d1-11ec-b63f-02420a010222-1-a29a",
       "previous": "06b442c4-f6d0-11ec-8607-02420a010222-1-be0d"
      }
     ],
     "next": "b39ca785-f6d1-11ec-b63f-02420a010222-2-a29a-404d",
     "previous": "06b442c4-f6d0-11ec-8607-02420a010222-2-be0d-47d3"
    },
    "lc_wrapper": {
     "log_history": [
      "/home/cwhadminxe1bf95/textbook/.log/20220628/20220628-200021-0257.log",
      "/home/cwhadminxe1bf95/dev_textbook_2022/.log/20230627/20230627-164622-0688.log"
     ]
    },
    "scrolled": true
   },
   "outputs": [],
   "source": [
    "#wikipedia.orgも調べてみましょう\n",
    "! dig wikipedia.org"
   ]
  },
  {
   "cell_type": "markdown",
   "id": "0c7c4339",
   "metadata": {
    "lc_cell_meme": {
     "current": "b39ca785-f6d1-11ec-b63f-02420a010222-2-a29a-404d",
     "history": [
      {
       "current": "b39ca785-f6d1-11ec-b63f-02420a010222-1-a29a",
       "next": "06b444ba-f6d0-11ec-9c3c-02420a010222",
       "previous": "06b443e3-f6d0-11ec-9944-02420a010222"
      },
      {
       "current": "b39ca785-f6d1-11ec-b63f-02420a010222-2-a29a-404d",
       "next": "06b444ba-f6d0-11ec-9c3c-02420a010222-1-18bc",
       "previous": "06b443e3-f6d0-11ec-9944-02420a010222-1-f7d9"
      }
     ],
     "next": "06b444ba-f6d0-11ec-9c3c-02420a010222-2-18bc-2260",
     "previous": "06b443e3-f6d0-11ec-9944-02420a010222-2-f7d9-f708"
    }
   },
   "source": [
    "## RRの指定\n",
    "RR（リソースレコード）を指定して検索できます。"
   ]
  },
  {
   "cell_type": "code",
   "execution_count": null,
   "id": "b621dbe2",
   "metadata": {
    "lc_cell_meme": {
     "current": "06b444ba-f6d0-11ec-9c3c-02420a010222-2-18bc-2260",
     "history": [
      {
       "current": "06b444ba-f6d0-11ec-9c3c-02420a010222",
       "next": "d1b1c1f2-f6ce-11ec-bddc-02420a010222",
       "previous": "06b443e3-f6d0-11ec-9944-02420a010222"
      },
      {
       "current": "06b444ba-f6d0-11ec-9c3c-02420a010222",
       "next": "d1b1c1f2-f6ce-11ec-bddc-02420a010222",
       "previous": "b39ca785-f6d1-11ec-b63f-02420a010222"
      },
      {
       "current": "06b444ba-f6d0-11ec-9c3c-02420a010222-1-18bc",
       "next": "fab8a424-f6d1-11ec-b794-02420a010222",
       "previous": "b39ca785-f6d1-11ec-b63f-02420a010222"
      },
      {
       "current": "06b444ba-f6d0-11ec-9c3c-02420a010222-2-18bc-2260",
       "next": "fab8a424-f6d1-11ec-b794-02420a010222-1-1fff",
       "previous": "b39ca785-f6d1-11ec-b63f-02420a010222-1-a29a"
      }
     ],
     "next": "fab8a424-f6d1-11ec-b794-02420a010222-2-1fff-8850",
     "previous": "b39ca785-f6d1-11ec-b63f-02420a010222-2-a29a-404d"
    },
    "lc_wrapper": {
     "log_history": [
      "/home/cwhadminxe1bf95/textbook/.log/20220628/20220628-200243-0435.log",
      "/home/cwhadminxe1bf95/textbook/.log/20220628/20220628-200336-0292.log",
      "/home/cwhadminxe1bf95/textbook/.log/20220628/20220628-200351-0875.log",
      "/home/cwhadminxe1bf95/textbook/.log/20220628/20220628-200411-0743.log",
      "/home/cwhadminxe1bf95/dev_textbook_2022/.log/20230627/20230627-164629-0504.log"
     ]
    },
    "scrolled": true
   },
   "outputs": [],
   "source": [
    "! dig MX kakaku.com"
   ]
  },
  {
   "cell_type": "code",
   "execution_count": null,
   "id": "9dd25ec6",
   "metadata": {
    "lc_cell_meme": {
     "current": "fab8a424-f6d1-11ec-b794-02420a010222-2-1fff-8850",
     "history": [
      {
       "current": "fab8a424-f6d1-11ec-b794-02420a010222",
       "next": "d1b1c1f2-f6ce-11ec-bddc-02420a010222",
       "previous": "06b444ba-f6d0-11ec-9c3c-02420a010222"
      },
      {
       "current": "fab8a424-f6d1-11ec-b794-02420a010222-1-1fff",
       "next": "3a022f63-f6d2-11ec-8a53-02420a010222",
       "previous": "06b444ba-f6d0-11ec-9c3c-02420a010222"
      },
      {
       "current": "fab8a424-f6d1-11ec-b794-02420a010222-2-1fff-8850",
       "next": "3a022f63-f6d2-11ec-8a53-02420a010222-1-0aff",
       "previous": "06b444ba-f6d0-11ec-9c3c-02420a010222-1-18bc"
      }
     ],
     "next": "3a022f63-f6d2-11ec-8a53-02420a010222-2-0aff-db13",
     "previous": "06b444ba-f6d0-11ec-9c3c-02420a010222-2-18bc-2260"
    },
    "lc_wrapper": {
     "log_history": [
      "/home/cwhadminxe1bf95/textbook/.log/20220628/20220628-200437-0168.log",
      "/home/cwhadminxe1bf95/dev_textbook_2022/.log/20230627/20230627-164634-0338.log"
     ]
    },
    "scrolled": true
   },
   "outputs": [],
   "source": [
    "! dig ANY kakaku.com"
   ]
  },
  {
   "cell_type": "markdown",
   "id": "a83aadea",
   "metadata": {
    "lc_cell_meme": {
     "current": "3a022f63-f6d2-11ec-8a53-02420a010222-2-0aff-db13",
     "history": [
      {
       "current": "3a022f63-f6d2-11ec-8a53-02420a010222-1-0aff",
       "next": "3a0231d6-f6d2-11ec-a799-02420a010222",
       "previous": "fab8a424-f6d1-11ec-b794-02420a010222"
      },
      {
       "current": "3a022f63-f6d2-11ec-8a53-02420a010222-2-0aff-db13",
       "next": "3a0231d6-f6d2-11ec-a799-02420a010222-1-3604",
       "previous": "fab8a424-f6d1-11ec-b794-02420a010222-1-1fff"
      }
     ],
     "next": "3a0231d6-f6d2-11ec-a799-02420a010222-2-3604-0ee8",
     "previous": "fab8a424-f6d1-11ec-b794-02420a010222-2-1fff-8850"
    }
   },
   "source": [
    "以下のウエブサイトのMX,NS,SOAを調べてみてください。\n",
    "- gmail.com"
   ]
  },
  {
   "cell_type": "code",
   "execution_count": null,
   "id": "623ea7f2",
   "metadata": {
    "lc_cell_meme": {
     "current": "3a0231d6-f6d2-11ec-a799-02420a010222-2-3604-0ee8",
     "history": [
      {
       "current": "3a0231d6-f6d2-11ec-a799-02420a010222-1-3604",
       "next": "3a0232c4-f6d2-11ec-a361-02420a010222",
       "previous": "3a022f63-f6d2-11ec-8a53-02420a010222"
      },
      {
       "current": "3a0231d6-f6d2-11ec-a799-02420a010222-2-3604-0ee8",
       "next": "3a0232c4-f6d2-11ec-a361-02420a010222-1-c8ca",
       "previous": "3a022f63-f6d2-11ec-8a53-02420a010222-1-0aff"
      }
     ],
     "next": "3a0232c4-f6d2-11ec-a361-02420a010222-2-c8ca-e89c",
     "previous": "3a022f63-f6d2-11ec-8a53-02420a010222-2-0aff-db13"
    },
    "lc_wrapper": {
     "log_history": [
      "/home/cwhadminxe1bf95/dev_textbook_2022/.log/20230627/20230627-185645-0614.log",
      "/home/cwhadminxe1bf95/dev_textbook_2022/.log/20230627/20230627-185706-0063.log",
      "/home/cwhadminxe1bf95/dev_textbook_2022/.log/20230627/20230627-185723-0544.log",
      "/home/cwhadminxe1bf95/dev_textbook_2022/.log/20230627/20230627-190712-0862.log",
      "/home/cwhadminxe1bf95/dev_textbook_2022/.log/20230627/20230627-190753-0528.log",
      "/home/cwhadminxe1bf95/dev_textbook_2022/.log/20230627/20230627-191122-0456.log",
      "/home/cwhadminxe1bf95/dev_textbook_2022/.log/20230627/20230627-191148-0492.log",
      "/home/cwhadminxe1bf95/dev_textbook_2022/.log/20230627/20230627-191255-0220.log",
      "/home/cwhadminxe1bf95/dev_textbook_2022/.log/20230627/20230627-191300-0783.log",
      "/home/cwhadminxe1bf95/dev_textbook_2022/.log/20230627/20230627-191346-0656.log",
      "/home/cwhadminxe1bf95/dev_textbook_2022/.log/20230627/20230627-193303-0884.log",
      "/home/cwhadminxe1bf95/dev_textbook_2022/.log/20230627/20230627-193419-0239.log",
      "/home/cwhadminxe1bf95/dev_textbook_2022/.log/20230627/20230627-193504-0447.log",
      "/home/cwhadminxe1bf95/dev_textbook_2022/.log/20230627/20230627-193536-0233.log",
      "/home/cwhadminxe1bf95/dev_textbook_2022/.log/20230627/20230627-194029-0972.log"
     ]
    }
   },
   "outputs": [],
   "source": [
    "! dig MX gmail.com"
   ]
  },
  {
   "cell_type": "code",
   "execution_count": null,
   "id": "36875e50",
   "metadata": {
    "lc_cell_meme": {
     "current": "3a0232c4-f6d2-11ec-a361-02420a010222-2-c8ca-e89c",
     "history": [
      {
       "current": "3a0232c4-f6d2-11ec-a361-02420a010222-1-c8ca",
       "next": "3a02337e-f6d2-11ec-a659-02420a010222",
       "previous": "3a0231d6-f6d2-11ec-a799-02420a010222"
      },
      {
       "current": "3a0232c4-f6d2-11ec-a361-02420a010222-2-c8ca-e89c",
       "next": "3a02337e-f6d2-11ec-a659-02420a010222-1-8826",
       "previous": "3a0231d6-f6d2-11ec-a799-02420a010222-1-3604"
      }
     ],
     "next": "3a02337e-f6d2-11ec-a659-02420a010222-2-8826-eb69",
     "previous": "3a0231d6-f6d2-11ec-a799-02420a010222-2-3604-0ee8"
    }
   },
   "outputs": [],
   "source": []
  },
  {
   "cell_type": "code",
   "execution_count": null,
   "id": "56449185",
   "metadata": {
    "lc_cell_meme": {
     "current": "3a02337e-f6d2-11ec-a659-02420a010222-2-8826-eb69",
     "history": [
      {
       "current": "3a02337e-f6d2-11ec-a659-02420a010222-1-8826",
       "next": "3a0234cf-f6d2-11ec-abcf-02420a010222",
       "previous": "3a0232c4-f6d2-11ec-a361-02420a010222"
      },
      {
       "current": "3a02337e-f6d2-11ec-a659-02420a010222-2-8826-eb69",
       "next": "3a0234cf-f6d2-11ec-abcf-02420a010222-1-0c6f",
       "previous": "3a0232c4-f6d2-11ec-a361-02420a010222-1-c8ca"
      }
     ],
     "next": "3a0234cf-f6d2-11ec-abcf-02420a010222-2-0c6f-a67b",
     "previous": "3a0232c4-f6d2-11ec-a361-02420a010222-2-c8ca-e89c"
    }
   },
   "outputs": [],
   "source": []
  },
  {
   "cell_type": "code",
   "execution_count": null,
   "id": "0cca85fc",
   "metadata": {
    "lc_cell_meme": {
     "current": "3a0234cf-f6d2-11ec-abcf-02420a010222-2-0c6f-a67b",
     "history": [
      {
       "current": "3a0234cf-f6d2-11ec-abcf-02420a010222-1-0c6f",
       "next": "3a02367c-f6d2-11ec-8dd7-02420a010222",
       "previous": "3a02337e-f6d2-11ec-a659-02420a010222"
      },
      {
       "current": "3a0234cf-f6d2-11ec-abcf-02420a010222-2-0c6f-a67b",
       "next": "3a02367c-f6d2-11ec-8dd7-02420a010222-1-44e3",
       "previous": "3a02337e-f6d2-11ec-a659-02420a010222-1-8826"
      }
     ],
     "next": "3a02367c-f6d2-11ec-8dd7-02420a010222-2-44e3-c6dd",
     "previous": "3a02337e-f6d2-11ec-a659-02420a010222-2-8826-eb69"
    }
   },
   "outputs": [],
   "source": []
  },
  {
   "cell_type": "code",
   "execution_count": null,
   "id": "438adc54",
   "metadata": {
    "lc_cell_meme": {
     "current": "3a02367c-f6d2-11ec-8dd7-02420a010222-2-44e3-c6dd",
     "history": [
      {
       "current": "3a02367c-f6d2-11ec-8dd7-02420a010222-1-44e3",
       "next": "3a023732-f6d2-11ec-b30d-02420a010222",
       "previous": "3a0234cf-f6d2-11ec-abcf-02420a010222"
      },
      {
       "current": "3a02367c-f6d2-11ec-8dd7-02420a010222-2-44e3-c6dd",
       "next": "3a023732-f6d2-11ec-b30d-02420a010222-1-9b6e",
       "previous": "3a0234cf-f6d2-11ec-abcf-02420a010222-1-0c6f"
      }
     ],
     "next": "3a023732-f6d2-11ec-b30d-02420a010222-2-9b6e-ef9d",
     "previous": "3a0234cf-f6d2-11ec-abcf-02420a010222-2-0c6f-a67b"
    }
   },
   "outputs": [],
   "source": []
  },
  {
   "cell_type": "code",
   "execution_count": null,
   "id": "46ffab21",
   "metadata": {
    "lc_cell_meme": {
     "current": "3a023732-f6d2-11ec-b30d-02420a010222-2-9b6e-ef9d",
     "history": [
      {
       "current": "3a023732-f6d2-11ec-b30d-02420a010222-1-9b6e",
       "next": "d1b1c1f2-f6ce-11ec-bddc-02420a010222",
       "previous": "3a02367c-f6d2-11ec-8dd7-02420a010222"
      },
      {
       "current": "3a023732-f6d2-11ec-b30d-02420a010222-2-9b6e-ef9d",
       "next": "d1b1c1f2-f6ce-11ec-bddc-02420a010222-1-2702",
       "previous": "3a02367c-f6d2-11ec-8dd7-02420a010222-1-44e3"
      }
     ],
     "next": "d1b1c1f2-f6ce-11ec-bddc-02420a010222-2-2702-5993",
     "previous": "3a02367c-f6d2-11ec-8dd7-02420a010222-2-44e3-c6dd"
    }
   },
   "outputs": [],
   "source": []
  },
  {
   "cell_type": "markdown",
   "id": "9c3749df",
   "metadata": {
    "lc_cell_meme": {
     "current": "d1b1c1f2-f6ce-11ec-bddc-02420a010222-2-2702-5993",
     "history": [
      {
       "current": "d1b1c1f2-f6ce-11ec-bddc-02420a010222",
       "next": "d1b1c501-f6ce-11ec-b7e1-02420a010222",
       "previous": null
      },
      {
       "current": "d1b1c1f2-f6ce-11ec-bddc-02420a010222",
       "next": "d1b1c501-f6ce-11ec-b7e1-02420a010222",
       "previous": "06b444ba-f6d0-11ec-9c3c-02420a010222"
      },
      {
       "current": "d1b1c1f2-f6ce-11ec-bddc-02420a010222",
       "next": "d1b1c501-f6ce-11ec-b7e1-02420a010222",
       "previous": "fab8a424-f6d1-11ec-b794-02420a010222"
      },
      {
       "current": "d1b1c1f2-f6ce-11ec-bddc-02420a010222-1-2702",
       "next": "d1b1c501-f6ce-11ec-b7e1-02420a010222",
       "previous": "3a023732-f6d2-11ec-b30d-02420a010222"
      },
      {
       "current": "d1b1c1f2-f6ce-11ec-bddc-02420a010222-2-2702-5993",
       "next": "d1b1c501-f6ce-11ec-b7e1-02420a010222-1-9b19",
       "previous": "3a023732-f6d2-11ec-b30d-02420a010222-1-9b6e"
      }
     ],
     "next": "d1b1c501-f6ce-11ec-b7e1-02420a010222-2-9b19-6218",
     "previous": "3a023732-f6d2-11ec-b30d-02420a010222-2-9b6e-ef9d"
    }
   },
   "source": [
    "# MIME Encoding"
   ]
  },
  {
   "cell_type": "markdown",
   "id": "9e097923",
   "metadata": {
    "lc_cell_meme": {
     "current": "d1b1c501-f6ce-11ec-b7e1-02420a010222-2-9b19-6218",
     "history": [
      {
       "current": "d1b1c501-f6ce-11ec-b7e1-02420a010222-1-9b19",
       "next": "d1b1c609-f6ce-11ec-a301-02420a010222",
       "previous": "d1b1c1f2-f6ce-11ec-bddc-02420a010222"
      },
      {
       "current": "d1b1c501-f6ce-11ec-b7e1-02420a010222-2-9b19-6218",
       "next": "d1b1c609-f6ce-11ec-a301-02420a010222-1-0a72",
       "previous": "d1b1c1f2-f6ce-11ec-bddc-02420a010222-1-2702"
      }
     ],
     "next": "d1b1c609-f6ce-11ec-a301-02420a010222-2-0a72-8cbc",
     "previous": "d1b1c1f2-f6ce-11ec-bddc-02420a010222-2-2702-5993"
    }
   },
   "source": [
    "## サンプル\n",
    "\n",
    "`こんにちは`をMIME Encodingすると，`44GT44KT44Gr44Gh44Gv`となる例"
   ]
  },
  {
   "cell_type": "code",
   "execution_count": null,
   "id": "87c95279",
   "metadata": {
    "lc_cell_meme": {
     "current": "d1b1c609-f6ce-11ec-a301-02420a010222-2-0a72-8cbc",
     "history": [
      {
       "current": "d1b1c609-f6ce-11ec-a301-02420a010222",
       "next": "8af44845-f6ce-11ec-8249-02420a010222",
       "previous": "d1b1c501-f6ce-11ec-b7e1-02420a010222"
      },
      {
       "current": "d1b1c609-f6ce-11ec-a301-02420a010222-1-0a72",
       "next": "19913adf-f6cf-11ec-a2b7-02420a010222",
       "previous": "d1b1c501-f6ce-11ec-b7e1-02420a010222"
      },
      {
       "current": "d1b1c609-f6ce-11ec-a301-02420a010222-1-0a72",
       "next": "ea394edc-14be-11ee-bf90-02420a01064d",
       "previous": "d1b1c501-f6ce-11ec-b7e1-02420a010222-1-9b19"
      },
      {
       "current": "d1b1c609-f6ce-11ec-a301-02420a010222-2-0a72-8cbc",
       "next": "ea394edc-14be-11ee-bf90-02420a01064d-1-0000",
       "previous": "d1b1c501-f6ce-11ec-b7e1-02420a010222-1-9b19"
      }
     ],
     "next": "ea394edc-14be-11ee-bf90-02420a01064d-2-0000-e1ad",
     "previous": "d1b1c501-f6ce-11ec-b7e1-02420a010222-2-9b19-6218"
    },
    "lc_wrapper": {
     "log_history": [
      "/home/cwhadminxe1bf95/textbook/.log/20220705/20220705-132911-0742.log",
      "/home/cwhadminxe1bf95/dev_textbook_2022/.log/20230627/20230627-164649-0351.log",
      "/home/cwhadminxe1bf95/dev_textbook_2022/.log/20230627/20230627-164730-0661.log"
     ]
    }
   },
   "outputs": [],
   "source": [
    "import base64\n",
    "\n",
    "print(base64.b64encode('こんにちは'.encode()))"
   ]
  },
  {
   "cell_type": "markdown",
   "id": "9b1f9eac",
   "metadata": {
    "lc_cell_meme": {
     "current": "ea394edc-14be-11ee-bf90-02420a01064d-2-0000-e1ad",
     "history": [
      {
       "current": "ea394edc-14be-11ee-bf90-02420a01064d-2-0000-e1ad",
       "next": "ea3ad863-14be-11ee-a180-02420a01064d",
       "previous": "d1b1c609-f6ce-11ec-a301-02420a010222-1-0a72"
      }
     ],
     "next": "ea3ad863-14be-11ee-a180-02420a01064d-1-ef5a",
     "previous": "d1b1c609-f6ce-11ec-a301-02420a010222-2-0a72-8cbc"
    }
   },
   "source": [
    "`44GT44KT44Gr44Gh44Gv`をdecodeすると`こんにちは`となる例"
   ]
  },
  {
   "cell_type": "code",
   "execution_count": null,
   "id": "78b7a26d",
   "metadata": {
    "lc_cell_meme": {
     "current": "ea3ad863-14be-11ee-a180-02420a01064d-1-ef5a",
     "history": [
      {
       "current": "ea3ad863-14be-11ee-a180-02420a01064d",
       "next": "19913adf-f6cf-11ec-a2b7-02420a010222-1-0276",
       "previous": "ea394edc-14be-11ee-bf90-02420a01064d"
      },
      {
       "current": "ea3ad863-14be-11ee-a180-02420a01064d-1-ef5a",
       "next": "19913adf-f6cf-11ec-a2b7-02420a010222-1-0276",
       "previous": "ea394edc-14be-11ee-bf90-02420a01064d-1-0000"
      }
     ],
     "next": "19913adf-f6cf-11ec-a2b7-02420a010222-2-0276-64c2",
     "previous": "ea394edc-14be-11ee-bf90-02420a01064d-2-0000-e1ad"
    },
    "lc_wrapper": {
     "log_history": [
      "/home/cwhadminxe1bf95/dev_textbook_2022/.log/20230627/20230627-164737-0232.log"
     ]
    }
   },
   "outputs": [],
   "source": [
    "print(base64.b64decode(b'44GT44KT44Gr44Gh44Gv').decode())"
   ]
  },
  {
   "cell_type": "markdown",
   "id": "93591675",
   "metadata": {
    "lc_cell_meme": {
     "current": "19913adf-f6cf-11ec-a2b7-02420a010222-2-0276-64c2",
     "history": [
      {
       "current": "19913adf-f6cf-11ec-a2b7-02420a010222-1-0276",
       "next": "8af44a3e-f6ce-11ec-9d7d-02420a010222",
       "previous": "d1b1c609-f6ce-11ec-a301-02420a010222"
      },
      {
       "current": "19913adf-f6cf-11ec-a2b7-02420a010222-2-0276-64c2",
       "next": "8af44a3e-f6ce-11ec-9d7d-02420a010222-1-d87a",
       "previous": "ea3ad863-14be-11ee-a180-02420a01064d"
      }
     ],
     "next": "8af44a3e-f6ce-11ec-9d7d-02420a010222-2-d87a-e38a",
     "previous": "ea3ad863-14be-11ee-a180-02420a01064d-1-ef5a"
    }
   },
   "source": [
    "### もう少し詳しい説明\n",
    "\n",
    "- `あ`をutf-8の文字コードで16進数に直すと，`e38182`\n",
    "- これを2進数にして，表と照らし合わせてMIME Encondingを確認してみる"
   ]
  },
  {
   "cell_type": "code",
   "execution_count": null,
   "id": "2c5dc4ba",
   "metadata": {
    "lc_cell_meme": {
     "current": "8af44a3e-f6ce-11ec-9d7d-02420a010222-2-d87a-e38a",
     "history": [
      {
       "current": "8af44a3e-f6ce-11ec-9d7d-02420a010222",
       "next": "8af44aff-f6ce-11ec-a501-02420a010222",
       "previous": "8af44966-f6ce-11ec-9228-02420a010222"
      },
      {
       "current": "8af44a3e-f6ce-11ec-9d7d-02420a010222",
       "next": "8af44845-f6ce-11ec-8249-02420a010222",
       "previous": "19913adf-f6cf-11ec-a2b7-02420a010222"
      },
      {
       "current": "8af44a3e-f6ce-11ec-9d7d-02420a010222-1-d87a",
       "next": "6122a7ca-f6cf-11ec-8fa9-02420a010222",
       "previous": "19913adf-f6cf-11ec-a2b7-02420a010222"
      },
      {
       "current": "8af44a3e-f6ce-11ec-9d7d-02420a010222-2-d87a-e38a",
       "next": "6122a7ca-f6cf-11ec-8fa9-02420a010222-1-7426",
       "previous": "19913adf-f6cf-11ec-a2b7-02420a010222-1-0276"
      }
     ],
     "next": "6122a7ca-f6cf-11ec-8fa9-02420a010222-2-7426-2265",
     "previous": "19913adf-f6cf-11ec-a2b7-02420a010222-2-0276-64c2"
    },
    "lc_wrapper": {
     "log_history": [
      "/home/cwhadminxe1bf95/textbook/.log/20220628/20220628-194240-0018.log",
      "/home/cwhadminxe1bf95/textbook/.log/20220628/20220628-194255-0770.log",
      "/home/cwhadminxe1bf95/textbook/.log/20220705/20220705-132849-0809.log",
      "/home/cwhadminxe1bf95/textbook/.log/20220705/20220705-132922-0435.log",
      "/home/cwhadminxe1bf95/dev_textbook_2022/.log/20230627/20230627-165023-0783.log"
     ]
    }
   },
   "outputs": [],
   "source": [
    "#16進数表記\n",
    "str = 'あ'.encode('utf-8').hex()\n",
    "print(str)"
   ]
  },
  {
   "cell_type": "code",
   "execution_count": null,
   "id": "d071c036",
   "metadata": {
    "lc_cell_meme": {
     "current": "6122a7ca-f6cf-11ec-8fa9-02420a010222-2-7426-2265",
     "history": [
      {
       "current": "6122a7ca-f6cf-11ec-8fa9-02420a010222",
       "next": "8af44aff-f6ce-11ec-a501-02420a010222",
       "previous": "8af44a3e-f6ce-11ec-9d7d-02420a010222"
      },
      {
       "current": "6122a7ca-f6cf-11ec-8fa9-02420a010222",
       "next": "8ffeab4e-f6cf-11ec-8f5c-02420a010222",
       "previous": "8af44a3e-f6ce-11ec-9d7d-02420a010222"
      },
      {
       "current": "6122a7ca-f6cf-11ec-8fa9-02420a010222",
       "next": "b47060a3-f6cf-11ec-8e35-02420a010222",
       "previous": "8af44a3e-f6ce-11ec-9d7d-02420a010222"
      },
      {
       "current": "6122a7ca-f6cf-11ec-8fa9-02420a010222-1-7426",
       "next": "b47060a3-f6cf-11ec-8e35-02420a010222-1-9626",
       "previous": "8af44a3e-f6ce-11ec-9d7d-02420a010222"
      },
      {
       "current": "6122a7ca-f6cf-11ec-8fa9-02420a010222-1-7426",
       "next": "b47060a3-f6cf-11ec-8e35-02420a010222-2-9626-7f9f",
       "previous": "8af44a3e-f6ce-11ec-9d7d-02420a010222-1-d87a"
      },
      {
       "current": "6122a7ca-f6cf-11ec-8fa9-02420a010222-2-7426-2265",
       "next": "c169895b-14bf-11ee-9f1c-02420a01064d",
       "previous": "8af44a3e-f6ce-11ec-9d7d-02420a010222-1-d87a"
      }
     ],
     "next": "c169895b-14bf-11ee-9f1c-02420a01064d-1-893d",
     "previous": "8af44a3e-f6ce-11ec-9d7d-02420a010222-2-d87a-e38a"
    },
    "lc_wrapper": {
     "log_history": [
      "/home/cwhadminxe1bf95/textbook/.log/20220628/20220628-194359-0443.log",
      "/home/cwhadminxe1bf95/textbook/.log/20220705/20220705-132852-0221.log",
      "/home/cwhadminxe1bf95/textbook/.log/20220705/20220705-132855-0876.log",
      "/home/cwhadminxe1bf95/textbook/.log/20220705/20220705-132913-0941.log",
      "/home/cwhadminxe1bf95/textbook/.log/20220705/20220705-132924-0329.log",
      "/home/cwhadminxe1bf95/textbook/.log/20220705/20220705-132950-0206.log",
      "/home/cwhadminxe1bf95/dev_textbook_2022/.log/20230627/20230627-165137-0236.log"
     ]
    },
    "scrolled": true
   },
   "outputs": [],
   "source": [
    "#2進数表記\n",
    "str = 'あ'.encode('utf-8').hex()\n",
    "bin(int(str,16))"
   ]
  },
  {
   "cell_type": "markdown",
   "id": "7db46d64",
   "metadata": {
    "lc_cell_meme": {
     "current": "c169895b-14bf-11ee-9f1c-02420a01064d-1-893d",
     "history": [
      {
       "current": "c169895b-14bf-11ee-9f1c-02420a01064d-1-893d",
       "next": "b47060a3-f6cf-11ec-8e35-02420a010222-2-9626-7f9f",
       "previous": "6122a7ca-f6cf-11ec-8fa9-02420a010222-1-7426"
      }
     ],
     "next": "b47060a3-f6cf-11ec-8e35-02420a010222-3-9626-7f9f-a905",
     "previous": "6122a7ca-f6cf-11ec-8fa9-02420a010222-2-7426-2265"
    }
   },
   "source": [
    "`0b`で始まっているのは，2進数の意味，`0b`より後ろが2進数に直した結果を示している"
   ]
  },
  {
   "cell_type": "raw",
   "id": "e4876016",
   "metadata": {
    "lc_cell_meme": {
     "current": "b47060a3-f6cf-11ec-8e35-02420a010222-3-9626-7f9f-a905",
     "history": [
      {
       "current": "b47060a3-f6cf-11ec-8e35-02420a010222-2-9626-7f9f",
       "next": "8ffeab4e-f6cf-11ec-8f5c-02420a010222",
       "previous": "6122a7ca-f6cf-11ec-8fa9-02420a010222"
      },
      {
       "current": "b47060a3-f6cf-11ec-8e35-02420a010222-2-9626-7f9f",
       "next": "8ffeab4e-f6cf-11ec-8f5c-02420a010222-1-cf7a",
       "previous": "6122a7ca-f6cf-11ec-8fa9-02420a010222-1-7426"
      },
      {
       "current": "b47060a3-f6cf-11ec-8e35-02420a010222-3-9626-7f9f-a905",
       "next": "8ffeab4e-f6cf-11ec-8f5c-02420a010222-1-cf7a",
       "previous": "c169895b-14bf-11ee-9f1c-02420a01064d"
      }
     ],
     "next": "8ffeab4e-f6cf-11ec-8f5c-02420a010222-2-cf7a-80a3",
     "previous": "c169895b-14bf-11ee-9f1c-02420a01064d-1-893d"
    }
   },
   "source": [
    "# 出力をメモして，下の表に合わせて手動で変換してみよう\n"
   ]
  },
  {
   "attachments": {
    "image.png": {
     "image/png": "[encoded data removed]"
    }
   },
   "cell_type": "markdown",
   "id": "9487741a",
   "metadata": {
    "lc_cell_meme": {
     "current": "8ffeab4e-f6cf-11ec-8f5c-02420a010222-2-cf7a-80a3",
     "history": [
      {
       "current": "8ffeab4e-f6cf-11ec-8f5c-02420a010222",
       "next": "8af44aff-f6ce-11ec-a501-02420a010222",
       "previous": "6122a7ca-f6cf-11ec-8fa9-02420a010222"
      },
      {
       "current": "8ffeab4e-f6cf-11ec-8f5c-02420a010222",
       "next": "8af44aff-f6ce-11ec-a501-02420a010222",
       "previous": "b47060a3-f6cf-11ec-8e35-02420a010222"
      },
      {
       "current": "8ffeab4e-f6cf-11ec-8f5c-02420a010222-1-cf7a",
       "next": "8af44aff-f6ce-11ec-a501-02420a010222",
       "previous": "b47060a3-f6cf-11ec-8e35-02420a010222-1-9626"
      },
      {
       "current": "8ffeab4e-f6cf-11ec-8f5c-02420a010222-2-cf7a-80a3",
       "next": "8af44aff-f6ce-11ec-a501-02420a010222-1-35fc",
       "previous": "b47060a3-f6cf-11ec-8e35-02420a010222-2-9626-7f9f"
      }
     ],
     "next": "8af44aff-f6ce-11ec-a501-02420a010222-2-35fc-9b5e",
     "previous": "b47060a3-f6cf-11ec-8e35-02420a010222-3-9626-7f9f-a905"
    }
   },
   "source": [
    "![image.png](attachment:image.png)"
   ]
  },
  {
   "cell_type": "code",
   "execution_count": null,
   "id": "befa55f1",
   "metadata": {
    "lc_cell_meme": {
     "current": "8af44aff-f6ce-11ec-a501-02420a010222-2-35fc-9b5e",
     "history": [
      {
       "current": "8af44aff-f6ce-11ec-a501-02420a010222",
       "next": null,
       "previous": "8af44a3e-f6ce-11ec-9d7d-02420a010222"
      },
      {
       "current": "8af44aff-f6ce-11ec-a501-02420a010222",
       "next": null,
       "previous": "8af44966-f6ce-11ec-9228-02420a010222"
      },
      {
       "current": "8af44aff-f6ce-11ec-a501-02420a010222",
       "next": "6122b012-f6cf-11ec-b951-02420a010222",
       "previous": "6122a7ca-f6cf-11ec-8fa9-02420a010222"
      },
      {
       "current": "8af44aff-f6ce-11ec-a501-02420a010222",
       "next": "6122b012-f6cf-11ec-b951-02420a010222",
       "previous": "8ffeab4e-f6cf-11ec-8f5c-02420a010222"
      },
      {
       "current": "8af44aff-f6ce-11ec-a501-02420a010222-1-35fc",
       "next": "6122b012-f6cf-11ec-b951-02420a010222-1-89ce",
       "previous": "8ffeab4e-f6cf-11ec-8f5c-02420a010222"
      },
      {
       "current": "8af44aff-f6ce-11ec-a501-02420a010222-2-35fc-9b5e",
       "next": "6122b012-f6cf-11ec-b951-02420a010222-2-89ce-283e",
       "previous": "8ffeab4e-f6cf-11ec-8f5c-02420a010222-1-cf7a"
      }
     ],
     "next": "6122b012-f6cf-11ec-b951-02420a010222-3-89ce-283e-8657",
     "previous": "8ffeab4e-f6cf-11ec-8f5c-02420a010222-2-cf7a-80a3"
    },
    "lc_wrapper": {
     "log_history": [
      "/home/cwhadminxe1bf95/textbook/.log/20220628/20220628-194507-0929.log",
      "/home/cwhadminxe1bf95/textbook/.log/20220705/20220705-133014-0895.log",
      "/home/cwhadminxe1bf95/dev_textbook_2022/.log/20230627/20230627-165323-0269.log"
     ]
    }
   },
   "outputs": [],
   "source": [
    "# Base64 Encoding\n",
    "import base64\n",
    "print(base64.b64encode('あ'.encode()))"
   ]
  },
  {
   "cell_type": "markdown",
   "id": "bec0a069",
   "metadata": {
    "lc_cell_meme": {
     "current": "6122b012-f6cf-11ec-b951-02420a010222-3-89ce-283e-8657",
     "history": [
      {
       "current": "6122b012-f6cf-11ec-b951-02420a010222-2-89ce-283e",
       "next": "8af44845-f6ce-11ec-8249-02420a010222",
       "previous": "8af44aff-f6ce-11ec-a501-02420a010222"
      },
      {
       "current": "6122b012-f6cf-11ec-b951-02420a010222-2-89ce-283e",
       "next": "8af44845-f6ce-11ec-8249-02420a010222-1-2519",
       "previous": "8af44aff-f6ce-11ec-a501-02420a010222-1-35fc"
      },
      {
       "current": "6122b012-f6cf-11ec-b951-02420a010222-3-89ce-283e-8657",
       "next": "978a44f4-14c0-11ee-bee3-02420a01064d",
       "previous": "8af44aff-f6ce-11ec-a501-02420a010222-1-35fc"
      }
     ],
     "next": "978a44f4-14c0-11ee-bee3-02420a01064d-1-477a",
     "previous": "8af44aff-f6ce-11ec-a501-02420a010222-2-35fc-9b5e"
    }
   },
   "source": [
    "## 画像ファイルのMINE Encodingの例"
   ]
  },
  {
   "cell_type": "markdown",
   "id": "8279c82b",
   "metadata": {
    "lc_cell_meme": {
     "current": "978a44f4-14c0-11ee-bee3-02420a01064d-1-477a",
     "history": [
      {
       "current": "978a44f4-14c0-11ee-bee3-02420a01064d",
       "next": "8af44966-f6ce-11ec-9228-02420a010222-1-85ca",
       "previous": "8af44845-f6ce-11ec-8249-02420a010222-1-2519"
      },
      {
       "current": "978a44f4-14c0-11ee-bee3-02420a01064d-1-477a",
       "next": "8af44845-f6ce-11ec-8249-02420a010222-1-2519",
       "previous": "6122b012-f6cf-11ec-b951-02420a010222-2-89ce-283e"
      }
     ],
     "next": "8af44845-f6ce-11ec-8249-02420a010222-2-2519-92ee",
     "previous": "6122b012-f6cf-11ec-b951-02420a010222-3-89ce-283e-8657"
    }
   },
   "source": [
    "![cd](./CD.png)"
   ]
  },
  {
   "cell_type": "code",
   "execution_count": null,
   "id": "bff117d9",
   "metadata": {
    "lc_cell_meme": {
     "current": "8af44845-f6ce-11ec-8249-02420a010222-2-2519-92ee",
     "history": [
      {
       "current": "8af44845-f6ce-11ec-8249-02420a010222",
       "next": "8af44966-f6ce-11ec-9228-02420a010222",
       "previous": null
      },
      {
       "current": "8af44845-f6ce-11ec-8249-02420a010222",
       "next": "8af44966-f6ce-11ec-9228-02420a010222",
       "previous": "d1b1c609-f6ce-11ec-a301-02420a010222"
      },
      {
       "current": "8af44845-f6ce-11ec-8249-02420a010222",
       "next": "8af44966-f6ce-11ec-9228-02420a010222",
       "previous": "8af44a3e-f6ce-11ec-9d7d-02420a010222"
      },
      {
       "current": "8af44845-f6ce-11ec-8249-02420a010222",
       "next": "8af44966-f6ce-11ec-9228-02420a010222",
       "previous": "6122b012-f6cf-11ec-b951-02420a010222"
      },
      {
       "current": "8af44845-f6ce-11ec-8249-02420a010222-1-2519",
       "next": "8af44966-f6ce-11ec-9228-02420a010222",
       "previous": "6122b012-f6cf-11ec-b951-02420a010222-1-89ce"
      },
      {
       "current": "8af44845-f6ce-11ec-8249-02420a010222-1-2519",
       "next": "8af44966-f6ce-11ec-9228-02420a010222-1-85ca",
       "previous": "6122b012-f6cf-11ec-b951-02420a010222-2-89ce-283e"
      },
      {
       "current": "8af44845-f6ce-11ec-8249-02420a010222-1-2519",
       "next": "978a44f4-14c0-11ee-bee3-02420a01064d",
       "previous": "6122b012-f6cf-11ec-b951-02420a010222-2-89ce-283e"
      },
      {
       "current": "8af44845-f6ce-11ec-8249-02420a010222-2-2519-92ee",
       "next": "8af44966-f6ce-11ec-9228-02420a010222-1-85ca",
       "previous": "978a44f4-14c0-11ee-bee3-02420a01064d"
      }
     ],
     "next": "8af44966-f6ce-11ec-9228-02420a010222-2-85ca-3911",
     "previous": "978a44f4-14c0-11ee-bee3-02420a01064d-1-477a"
    },
    "lc_wrapper": {
     "log_history": [
      "/home/cwhadminxe1bf95/dev_textbook_2022/.log/20230627/20230627-165512-0475.log"
     ]
    },
    "scrolled": true
   },
   "outputs": [],
   "source": [
    "! od -Ad -tx CD.png"
   ]
  },
  {
   "cell_type": "code",
   "execution_count": null,
   "id": "1525ccb1",
   "metadata": {
    "lc_cell_meme": {
     "current": "8af44966-f6ce-11ec-9228-02420a010222-2-85ca-3911",
     "history": [
      {
       "current": "8af44966-f6ce-11ec-9228-02420a010222",
       "next": "8af44a3e-f6ce-11ec-9d7d-02420a010222",
       "previous": "8af44845-f6ce-11ec-8249-02420a010222"
      },
      {
       "current": "8af44966-f6ce-11ec-9228-02420a010222",
       "next": null,
       "previous": "8af44845-f6ce-11ec-8249-02420a010222"
      },
      {
       "current": "8af44966-f6ce-11ec-9228-02420a010222-1-85ca",
       "next": "4e4269ee-f6d0-11ec-876e-02420a010222",
       "previous": "8af44845-f6ce-11ec-8249-02420a010222"
      },
      {
       "current": "8af44966-f6ce-11ec-9228-02420a010222-1-85ca",
       "next": "4e4269ee-f6d0-11ec-876e-02420a010222-1-2f89",
       "previous": "8af44845-f6ce-11ec-8249-02420a010222-1-2519"
      },
      {
       "current": "8af44966-f6ce-11ec-9228-02420a010222-1-85ca",
       "next": "4e4269ee-f6d0-11ec-876e-02420a010222-1-2f89",
       "previous": "978a44f4-14c0-11ee-bee3-02420a01064d"
      },
      {
       "current": "8af44966-f6ce-11ec-9228-02420a010222-2-85ca-3911",
       "next": "4e4269ee-f6d0-11ec-876e-02420a010222-1-2f89",
       "previous": "8af44845-f6ce-11ec-8249-02420a010222-1-2519"
      }
     ],
     "next": "4e4269ee-f6d0-11ec-876e-02420a010222-2-2f89-1738",
     "previous": "8af44845-f6ce-11ec-8249-02420a010222-2-2519-92ee"
    },
    "lc_wrapper": {
     "log_history": [
      "/home/cwhadminxe1bf95/dev_textbook_2022/.log/20230627/20230627-165522-0292.log"
     ]
    }
   },
   "outputs": [],
   "source": [
    "import base64\n",
    "image_file = \"CD.png\"\n",
    "saved_file = \"CD.txt\"\n",
    "with open(image_file, \"rb\") as f:\n",
    "    data = f.read()\n",
    "encoded_txt = base64.b64encode(data)\n",
    "print(encoded_txt)"
   ]
  },
  {
   "cell_type": "markdown",
   "id": "77ec4ed0",
   "metadata": {
    "lc_cell_meme": {
     "current": "4e4269ee-f6d0-11ec-876e-02420a010222-2-2f89-1738",
     "history": [
      {
       "current": "4e4269ee-f6d0-11ec-876e-02420a010222-1-2f89",
       "next": "4e426baa-f6d0-11ec-b696-02420a010222",
       "previous": "8af44966-f6ce-11ec-9228-02420a010222"
      },
      {
       "current": "4e4269ee-f6d0-11ec-876e-02420a010222-2-2f89-1738",
       "next": "4e426baa-f6d0-11ec-b696-02420a010222-1-b350",
       "previous": "8af44966-f6ce-11ec-9228-02420a010222-1-85ca"
      }
     ],
     "next": "4e426baa-f6d0-11ec-b696-02420a010222-2-b350-fa3c",
     "previous": "8af44966-f6ce-11ec-9228-02420a010222-2-85ca-3911"
    }
   },
   "source": [
    "## 問題"
   ]
  },
  {
   "cell_type": "markdown",
   "id": "c2b542dc",
   "metadata": {
    "lc_cell_meme": {
     "current": "4e426baa-f6d0-11ec-b696-02420a010222-2-b350-fa3c",
     "history": [
      {
       "current": "4e426baa-f6d0-11ec-b696-02420a010222-1-b350",
       "next": "4e426c0c-f6d0-11ec-89a3-02420a010222",
       "previous": "4e4269ee-f6d0-11ec-876e-02420a010222"
      },
      {
       "current": "4e426baa-f6d0-11ec-b696-02420a010222-2-b350-fa3c",
       "next": "4e426c0c-f6d0-11ec-89a3-02420a010222-1-4c06",
       "previous": "4e4269ee-f6d0-11ec-876e-02420a010222-1-2f89"
      }
     ],
     "next": "4e426c0c-f6d0-11ec-89a3-02420a010222-2-4c06-2ae5",
     "previous": "4e4269ee-f6d0-11ec-876e-02420a010222-2-2f89-1738"
    }
   },
   "source": [
    "以下セルを実行して表示された2進数をMIME Encodingしてみてください。"
   ]
  },
  {
   "cell_type": "code",
   "execution_count": null,
   "id": "f4358d88",
   "metadata": {
    "lc_cell_meme": {
     "current": "4e426c0c-f6d0-11ec-89a3-02420a010222-2-4c06-2ae5",
     "history": [
      {
       "current": "4e426c0c-f6d0-11ec-89a3-02420a010222",
       "next": null,
       "previous": "4e426baa-f6d0-11ec-b696-02420a010222"
      },
      {
       "current": "4e426c0c-f6d0-11ec-89a3-02420a010222-1-4c06",
       "next": "24a72622-f6d1-11ec-a753-02420a010222",
       "previous": "4e426baa-f6d0-11ec-b696-02420a010222"
      },
      {
       "current": "4e426c0c-f6d0-11ec-89a3-02420a010222-1-4c06",
       "next": "24a72622-f6d1-11ec-a753-02420a010222-1-d792",
       "previous": "4e426baa-f6d0-11ec-b696-02420a010222-1-b350"
      },
      {
       "current": "4e426c0c-f6d0-11ec-89a3-02420a010222-2-4c06-2ae5",
       "next": "24a72622-f6d1-11ec-a753-02420a010222-2-d792-691c",
       "previous": "4e426baa-f6d0-11ec-b696-02420a010222-1-b350"
      }
     ],
     "next": "24a72622-f6d1-11ec-a753-02420a010222-3-d792-691c-b4f8",
     "previous": "4e426baa-f6d0-11ec-b696-02420a010222-2-b350-fa3c"
    },
    "lc_wrapper": {
     "log_history": [
      "/home/cwhadminxe1bf95/textbook/.log/20220628/20220628-195654-0326.log",
      "/home/cwhadminxe1bf95/textbook/.log/20220628/20220628-195715-0989.log",
      "/home/cwhadminxe1bf95/textbook/.log/20220628/20220628-195804-0514.log",
      "/home/cwhadminxe1bf95/textbook/.log/20220628/20220628-195809-0109.log",
      "/home/cwhadminxe1bf95/textbook/.log/20220628/20220628-195819-0795.log",
      "/home/cwhadminxe1bf95/textbook/.log/20220628/20220628-195826-0509.log",
      "/home/cwhadminxe1bf95/textbook/.log/20220628/20220628-195830-0603.log",
      "/home/cwhadminxe1bf95/textbook/.log/20220705/20220705-132934-0558.log",
      "/home/cwhadminxe1bf95/textbook/.log/20220706/20220706-152309-0989.log",
      "/home/cwhadminxe1bf95/dev_textbook_2022/.log/20230627/20230627-165531-0932.log",
      "/home/cwhadminxe1bf95/dev_textbook_2022/.log/20230627/20230627-165539-0395.log",
      "/home/cwhadminxe1bf95/dev_textbook_2022/.log/20230627/20230627-194434-0696.log",
      "/home/cwhadminxe1bf95/dev_textbook_2022/.log/20230627/20230627-194514-0086.log",
      "/home/cwhadminxe1bf95/dev_textbook_2022/.log/20230627/20230627-194521-0181.log",
      "/home/cwhadminxe1bf95/dev_textbook_2022/.log/20230627/20230627-194525-0552.log",
      "/home/cwhadminxe1bf95/dev_textbook_2022/.log/20230627/20230627-194528-0195.log",
      "/home/cwhadminxe1bf95/dev_textbook_2022/.log/20230627/20230627-194536-0388.log",
      "/home/cwhadminxe1bf95/dev_textbook_2022/.log/20230627/20230627-194733-0380.log",
      "/home/cwhadminxe1bf95/dev_textbook_2022/.log/20230627/20230627-194807-0895.log",
      "/home/cwhadminxe1bf95/dev_textbook_2022/.log/20230627/20230627-194908-0492.log",
      "/home/cwhadminxe1bf95/dev_textbook_2022/.log/20230627/20230627-194933-0210.log",
      "/home/cwhadminxe1bf95/dev_textbook_2022/.log/20230627/20230627-195105-0119.log",
      "/home/cwhadminxe1bf95/dev_textbook_2022/.log/20230627/20230627-195118-0499.log",
      "/home/cwhadminxe1bf95/dev_textbook_2022/.log/20230627/20230627-195123-0151.log",
      "/home/cwhadminxe1bf95/dev_textbook_2022/.log/20230627/20230627-195212-0007.log",
      "/home/cwhadminxe1bf95/dev_textbook_2022/.log/20230627/20230627-195216-0982.log",
      "/home/cwhadminxe1bf95/dev_textbook_2022/.log/20230627/20230627-195220-0507.log",
      "/home/cwhadminxe1bf95/dev_textbook_2022/.log/20230627/20230627-195222-0615.log",
      "/home/cwhadminxe1bf95/dev_textbook_2022/.log/20230627/20230627-195224-0448.log",
      "/home/cwhadminxe1bf95/dev_textbook_2022/.log/20230627/20230627-195226-0878.log",
      "/home/cwhadminxe1bf95/dev_textbook_2022/.log/20230627/20230627-195248-0649.log",
      "/home/cwhadminxe1bf95/dev_textbook_2022/.log/20230627/20230627-195255-0534.log",
      "/home/cwhadminxe1bf95/dev_textbook_2022/.log/20230627/20230627-195258-0404.log",
      "/home/cwhadminxe1bf95/dev_textbook_2022/.log/20230627/20230627-195304-0275.log",
      "/home/cwhadminxe1bf95/dev_textbook_2022/.log/20230627/20230627-195305-0633.log",
      "/home/cwhadminxe1bf95/dev_textbook_2022/.log/20230627/20230627-195307-0268.log",
      "/home/cwhadminxe1bf95/dev_textbook_2022/.log/20230627/20230627-195308-0867.log",
      "/home/cwhadminxe1bf95/dev_textbook_2022/.log/20230627/20230627-195310-0238.log",
      "/home/cwhadminxe1bf95/dev_textbook_2022/.log/20230627/20230627-195311-0599.log",
      "/home/cwhadminxe1bf95/dev_textbook_2022/.log/20230627/20230627-195312-0831.log",
      "/home/cwhadminxe1bf95/dev_textbook_2022/.log/20230627/20230627-195314-0968.log",
      "/home/cwhadminxe1bf95/dev_textbook_2022/.log/20230627/20230627-195322-0265.log",
      "/home/cwhadminxe1bf95/dev_textbook_2022/.log/20230627/20230627-195324-0128.log",
      "/home/cwhadminxe1bf95/dev_textbook_2022/.log/20230627/20230627-195327-0767.log",
      "/home/cwhadminxe1bf95/dev_textbook_2022/.log/20230627/20230627-195335-0290.log",
      "/home/cwhadminxe1bf95/dev_textbook_2022/.log/20230627/20230627-195535-0604.log",
      "/home/cwhadminxe1bf95/dev_textbook_2022/.log/20230627/20230627-195546-0209.log",
      "/home/cwhadminxe1bf95/dev_textbook_2022/.log/20230627/20230627-195603-0254.log",
      "/home/cwhadminxe1bf95/dev_textbook_2022/.log/20230627/20230627-195626-0562.log",
      "/home/cwhadminxe1bf95/dev_textbook_2022/.log/20230627/20230627-195642-0574.log",
      "/home/cwhadminxe1bf95/dev_textbook_2022/.log/20230627/20230627-195644-0714.log",
      "/home/cwhadminxe1bf95/dev_textbook_2022/.log/20230627/20230627-195646-0217.log",
      "/home/cwhadminxe1bf95/dev_textbook_2022/.log/20230627/20230627-195654-0038.log",
      "/home/cwhadminxe1bf95/dev_textbook_2022/.log/20230627/20230627-195730-0964.log",
      "/home/cwhadminxe1bf95/dev_textbook_2022/.log/20230627/20230627-195749-0879.log",
      "/home/cwhadminxe1bf95/dev_textbook_2022/.log/20230627/20230627-195820-0461.log",
      "/home/cwhadminxe1bf95/dev_textbook_2022/.log/20230627/20230627-195833-0180.log"
     ]
    }
   },
   "outputs": [],
   "source": [
    "import random, string\n",
    "\n",
    "def randomname(n):\n",
    "#   randlst = [random.choice(string.ascii_letters + string.digits) for i in range(n)]\n",
    "   randlst = [random.choice(string.digits) for i in range(n)]\n",
    "   return ''.join(randlst)\n",
    "\n",
    "stra = randomname(4)\n",
    "print(stra)\n",
    "str=stra.encode('utf-8').hex()\n",
    "bin(int(str,16))"
   ]
  },
  {
   "cell_type": "markdown",
   "id": "e5f3abdf",
   "metadata": {
    "lc_cell_meme": {
     "current": "24a72622-f6d1-11ec-a753-02420a010222-3-d792-691c-b4f8",
     "history": [
      {
       "current": "24a72622-f6d1-11ec-a753-02420a010222-1-d792",
       "next": null,
       "previous": "4e426c0c-f6d0-11ec-89a3-02420a010222"
      },
      {
       "current": "24a72622-f6d1-11ec-a753-02420a010222-2-d792-691c",
       "next": null,
       "previous": "4e426c0c-f6d0-11ec-89a3-02420a010222-1-4c06"
      },
      {
       "current": "24a72622-f6d1-11ec-a753-02420a010222-3-d792-691c-b4f8",
       "next": "ed28e530-14d8-11ee-b651-02420a01064d",
       "previous": "4e426c0c-f6d0-11ec-89a3-02420a010222-1-4c06"
      }
     ],
     "next": "ed28e530-14d8-11ee-b651-02420a01064d-1-57e5",
     "previous": "4e426c0c-f6d0-11ec-89a3-02420a010222-2-4c06-2ae5"
    }
   },
   "source": []
  },
  {
   "cell_type": "code",
   "execution_count": null,
   "id": "343a21db",
   "metadata": {
    "lc_cell_meme": {
     "current": "ed28e530-14d8-11ee-b651-02420a01064d-1-57e5",
     "history": [
      {
       "current": "ed28e530-14d8-11ee-b651-02420a01064d-1-57e5",
       "next": null,
       "previous": "24a72622-f6d1-11ec-a753-02420a010222-2-d792-691c"
      }
     ],
     "next": null,
     "previous": "24a72622-f6d1-11ec-a753-02420a010222-3-d792-691c-b4f8"
    }
   },
   "outputs": [],
   "source": []
  }
 ],
 "metadata": {
  "kernelspec": {
   "display_name": "Python 3",
   "language": "python",
   "name": "python3"
  },
  "language_info": {
   "file_extension": ".py",
   "mimetype": "text/x-python",
   "name": "python",
   "nbconvert_exporter": "python",
   "pygments_lexer": "ipython3",
   "version": "3.10.4"
  },
  "lc_notebook_meme": {
   "current": "8af44380-f6ce-11ec-852c-02420a010222",
   "lc_server_signature": {
    "current": {
     "notebook_dir": "/home/jovyan",
     "notebook_path": "/notebooks/CWH2021_2022/cwhadminxe1bf95/textbook",
     "server_url": "http://192.168.11.68:8888/",
     "signature_id": "e78c9058-85b5-11ed-b78d-0242ac120002"
    },
    "history": [
     {
      "notebook_dir": "/home/cwhadminxe1bf95",
      "notebook_path": "/textbook",
      "server_url": "https://cwh.media.gunma-u.ac.jp/user/cwhadminxe1bf95/",
      "signature_id": "d287dc56-b8b1-11ec-b3eb-23e3164b790f"
     },
     {
      "notebook_dir": "/home/cwhadminxe1bf95",
      "notebook_path": "/dev_textbook_2022",
      "server_url": "https://cwh.media.gunma-u.ac.jp/user/cwhadminxe1bf95/",
      "signature_id": "d287dc56-b8b1-11ec-b3eb-23e3164b790f"
     }
    ]
   }
  },
  "toc": {
   "base_numbering": 1,
   "nav_menu": {},
   "number_sections": true,
   "sideBar": true,
   "skip_h1_title": false,
   "title_cell": "Table of Contents",
   "title_sidebar": "Contents",
   "toc_cell": false,
   "toc_position": {},
   "toc_section_display": true,
   "toc_window_display": false
  }
 },
 "nbformat": 4,
 "nbformat_minor": 5
}
