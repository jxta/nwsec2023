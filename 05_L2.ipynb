{
 "cells": [
  {
   "cell_type": "markdown",
   "id": "197e9a1b",
   "metadata": {
    "lc_cell_meme": {
     "current": "8a5fa44c-d5bb-11ec-b485-02420a01013b-2-31c8-0526",
     "history": [
      {
       "current": "8a5fa44c-d5bb-11ec-b485-02420a01013b-1-31c8",
       "next": "8a5fa4b3-d5bb-11ec-ad74-02420a01013b",
       "previous": null
      },
      {
       "current": "8a5fa44c-d5bb-11ec-b485-02420a01013b-2-31c8-0526",
       "next": "8a5fa4b3-d5bb-11ec-ad74-02420a01013b-1-5143",
       "previous": null
      }
     ],
     "next": "8a5fa4b3-d5bb-11ec-ad74-02420a01013b-2-5143-8ef4",
     "previous": null
    }
   },
   "source": [
    "# MACアドレスの例\n",
    "\n",
    "ベンダーコード\n",
    " - https://regauth.standards.ieee.org/standards-ra-web/pub/view.html#registries\n",
    " - https://standards.ieee.org/develop/regauth/oui/public.html\n",
    " \n",
    "\n",
    "一般的な機器での調べ方\n",
    " \n",
    " - https://www.media.gunma-u.ac.jp/network/ipmac.html"
   ]
  },
  {
   "cell_type": "code",
   "execution_count": null,
   "id": "6076579b",
   "metadata": {
    "lc_cell_meme": {
     "current": "8a5fa4b3-d5bb-11ec-ad74-02420a01013b-2-5143-8ef4",
     "history": [
      {
       "current": "8a5fa4b3-d5bb-11ec-ad74-02420a01013b",
       "next": null,
       "previous": "8a5fa44c-d5bb-11ec-b485-02420a01013b"
      },
      {
       "current": "8a5fa4b3-d5bb-11ec-ad74-02420a01013b",
       "next": "d1c0d07c-d5bb-11ec-9663-02420a01013b",
       "previous": "8a5fa44c-d5bb-11ec-b485-02420a01013b"
      },
      {
       "current": "8a5fa4b3-d5bb-11ec-ad74-02420a01013b-1-5143",
       "next": "d1c0d07c-d5bb-11ec-9663-02420a01013b-1-27b9",
       "previous": "8a5fa44c-d5bb-11ec-b485-02420a01013b"
      },
      {
       "current": "8a5fa4b3-d5bb-11ec-ad74-02420a01013b-2-5143-8ef4",
       "next": "f96f986a-f3cf-11ed-a2f9-02420a010370",
       "previous": "8a5fa44c-d5bb-11ec-b485-02420a01013b-1-31c8"
      }
     ],
     "next": "f96f986a-f3cf-11ed-a2f9-02420a010370-1-14e1",
     "previous": "8a5fa44c-d5bb-11ec-b485-02420a01013b-2-31c8-0526"
    },
    "lc_wrapper": {
     "log_history": [
      "/home/cwhadminxe1bf95/textbook/.log/20220517/20220517-173157-0034.log",
      "/home/cwhadminxe1bf95/dev_textbook_2022/.log/20230516/20230516-185509-0649.log"
     ]
    }
   },
   "outputs": [],
   "source": [
    "! ip a"
   ]
  },
  {
   "cell_type": "markdown",
   "id": "2605472e",
   "metadata": {
    "lc_cell_meme": {
     "current": "f96f986a-f3cf-11ed-a2f9-02420a010370-1-14e1",
     "history": [
      {
       "current": "f96f986a-f3cf-11ed-a2f9-02420a010370",
       "next": "d1c0d07c-d5bb-11ec-9663-02420a01013b-2-27b9-77c4",
       "previous": "8a5fa4b3-d5bb-11ec-ad74-02420a01013b-1-5143"
      },
      {
       "current": "f96f986a-f3cf-11ed-a2f9-02420a010370-1-14e1",
       "next": "a1b5449e-f3d7-11ed-b6c7-02420a010370",
       "previous": "8a5fa4b3-d5bb-11ec-ad74-02420a01013b-1-5143"
      }
     ],
     "next": "a1b5449e-f3d7-11ed-b6c7-02420a010370-1-19d9",
     "previous": "8a5fa4b3-d5bb-11ec-ad74-02420a01013b-2-5143-8ef4"
    }
   },
   "source": [
    "`link/ether xx:xx:xx:xx:xx:xx`の部分がMACアドレスです。\n",
    "２つあると思います。\n",
    "\n",
    "- MACアドレスは，グローバル/ローカルのどちらでしょうか？\n",
    "- MACアドレスは，ユニキャストでしょうか？"
   ]
  },
  {
   "cell_type": "code",
   "execution_count": null,
   "id": "fb1fca52",
   "metadata": {
    "lc_cell_meme": {
     "current": "a1b5449e-f3d7-11ed-b6c7-02420a010370-1-19d9",
     "history": [
      {
       "current": "a1b5449e-f3d7-11ed-b6c7-02420a010370",
       "next": "d1c0d07c-d5bb-11ec-9663-02420a01013b-2-27b9-77c4",
       "previous": "f96f986a-f3cf-11ed-a2f9-02420a010370"
      },
      {
       "current": "a1b5449e-f3d7-11ed-b6c7-02420a010370-1-19d9",
       "next": "e94fbeda-f3d7-11ed-8a36-02420a010370",
       "previous": "f96f986a-f3cf-11ed-a2f9-02420a010370"
      }
     ],
     "next": "e94fbeda-f3d7-11ed-8a36-02420a010370-1-5e65",
     "previous": "f96f986a-f3cf-11ed-a2f9-02420a010370-1-14e1"
    },
    "lc_wrapper": {
     "log_history": [
      "/home/cwhadminxe1bf95/dev_textbook_2022/.log/20230516/20230516-195214-0795.log",
      "/home/cwhadminxe1bf95/dev_textbook_2022/.log/20230516/20230516-195259-0132.log",
      "/home/cwhadminxe1bf95/dev_textbook_2022/.log/20230516/20230516-195403-0258.log",
      "/home/cwhadminxe1bf95/dev_textbook_2022/.log/20230516/20230516-195409-0028.log",
      "/home/cwhadminxe1bf95/dev_textbook_2022/.log/20230516/20230516-195412-0336.log",
      "/home/cwhadminxe1bf95/dev_textbook_2022/.log/20230516/20230516-195418-0209.log",
      "/home/cwhadminxe1bf95/dev_textbook_2022/.log/20230516/20230516-195744-0401.log",
      "/home/cwhadminxe1bf95/dev_textbook_2022/.log/20230516/20230516-195747-0114.log",
      "/home/cwhadminxe1bf95/dev_textbook_2022/.log/20230516/20230516-195750-0015.log",
      "/home/cwhadminxe1bf95/dev_textbook_2022/.log/20230516/20230516-195802-0330.log"
     ]
    }
   },
   "outputs": [],
   "source": [
    "# 16進数を2進数に変換する例（16進数の1dを２進数する）\n",
    "bin(0x1d)"
   ]
  },
  {
   "cell_type": "markdown",
   "id": "37f8efa8",
   "metadata": {
    "lc_cell_meme": {
     "current": "e94fbeda-f3d7-11ed-8a36-02420a010370-1-5e65",
     "history": [
      {
       "current": "e94fbeda-f3d7-11ed-8a36-02420a010370-1-5e65",
       "next": "d1c0d07c-d5bb-11ec-9663-02420a01013b-2-27b9-77c4",
       "previous": "a1b5449e-f3d7-11ed-b6c7-02420a010370"
      }
     ],
     "next": "d1c0d07c-d5bb-11ec-9663-02420a01013b-3-27b9-77c4-f3c3",
     "previous": "a1b5449e-f3d7-11ed-b6c7-02420a010370-1-19d9"
    }
   },
   "source": [
    "出力結果の頭にある`0b`は2進数の意味。例えば`0b11101`だと，\n",
    "- I/Gビット（一番右）が1（マルチキャスト）\n",
    "- U/Lビット（右から2番目）が0（グローバル）"
   ]
  },
  {
   "cell_type": "markdown",
   "id": "16fc8300",
   "metadata": {
    "lc_cell_meme": {
     "current": "d1c0d07c-d5bb-11ec-9663-02420a01013b-3-27b9-77c4-f3c3",
     "history": [
      {
       "current": "d1c0d07c-d5bb-11ec-9663-02420a01013b-1-27b9",
       "next": null,
       "previous": "8a5fa4b3-d5bb-11ec-ad74-02420a01013b"
      },
      {
       "current": "d1c0d07c-d5bb-11ec-9663-02420a01013b-1-27b9",
       "next": "efbbc5b1-d5bc-11ec-8efe-02420a01013b",
       "previous": "8a5fa4b3-d5bb-11ec-ad74-02420a01013b"
      },
      {
       "current": "d1c0d07c-d5bb-11ec-9663-02420a01013b-2-27b9-77c4",
       "next": "efbbc5b1-d5bc-11ec-8efe-02420a01013b-1-fe20",
       "previous": "8a5fa4b3-d5bb-11ec-ad74-02420a01013b"
      },
      {
       "current": "d1c0d07c-d5bb-11ec-9663-02420a01013b-2-27b9-77c4",
       "next": "efbbc5b1-d5bc-11ec-8efe-02420a01013b-2-fe20-0875",
       "previous": "f96f986a-f3cf-11ed-a2f9-02420a010370"
      },
      {
       "current": "d1c0d07c-d5bb-11ec-9663-02420a01013b-2-27b9-77c4",
       "next": "efbbc5b1-d5bc-11ec-8efe-02420a01013b-2-fe20-0875",
       "previous": "a1b5449e-f3d7-11ed-b6c7-02420a010370"
      },
      {
       "current": "d1c0d07c-d5bb-11ec-9663-02420a01013b-3-27b9-77c4-f3c3",
       "next": "efbbc5b1-d5bc-11ec-8efe-02420a01013b-2-fe20-0875",
       "previous": "e94fbeda-f3d7-11ed-8a36-02420a010370"
      }
     ],
     "next": "efbbc5b1-d5bc-11ec-8efe-02420a01013b-3-fe20-0875-c284",
     "previous": "e94fbeda-f3d7-11ed-8a36-02420a010370-1-5e65"
    }
   },
   "source": [
    "# 10BASE-Tでの端末間距離の話"
   ]
  },
  {
   "cell_type": "markdown",
   "id": "881601f4",
   "metadata": {
    "lc_cell_meme": {
     "current": "efbbc5b1-d5bc-11ec-8efe-02420a01013b-3-fe20-0875-c284",
     "history": [
      {
       "current": "efbbc5b1-d5bc-11ec-8efe-02420a01013b-2-fe20-0875",
       "next": "37e8f9a6-d5bd-11ec-8fca-02420a01013b",
       "previous": "d1c0d07c-d5bb-11ec-9663-02420a01013b-1-27b9"
      },
      {
       "current": "efbbc5b1-d5bc-11ec-8efe-02420a01013b-3-fe20-0875-c284",
       "next": "37e8f9a6-d5bd-11ec-8fca-02420a01013b-1-1fc8",
       "previous": "d1c0d07c-d5bb-11ec-9663-02420a01013b-2-27b9-77c4"
      }
     ],
     "next": "37e8f9a6-d5bd-11ec-8fca-02420a01013b-2-1fc8-9edb",
     "previous": "d1c0d07c-d5bb-11ec-9663-02420a01013b-3-27b9-77c4-f3c3"
    }
   },
   "source": [
    "- イーサネットでは，64byteが最小フレーム\n",
    "\n",
    "- 64byte = 512bit\n",
    "\n",
    "- 512bitを10Mbpsで送信するとかかる時間$\\tau$は $\\tau = 51.2 {\\rm \\mu s}$ "
   ]
  },
  {
   "cell_type": "code",
   "execution_count": null,
   "id": "53d6c8f6",
   "metadata": {
    "lc_cell_meme": {
     "current": "37e8f9a6-d5bd-11ec-8fca-02420a01013b-2-1fc8-9edb",
     "history": [
      {
       "current": "37e8f9a6-d5bd-11ec-8fca-02420a01013b-1-1fc8",
       "next": "37e8feda-d5bd-11ec-91a7-02420a01013b",
       "previous": "efbbc5b1-d5bc-11ec-8efe-02420a01013b-1-fe20"
      },
      {
       "current": "37e8f9a6-d5bd-11ec-8fca-02420a01013b-2-1fc8-9edb",
       "next": "37e8feda-d5bd-11ec-91a7-02420a01013b-1-79aa",
       "previous": "efbbc5b1-d5bc-11ec-8efe-02420a01013b-2-fe20-0875"
      }
     ],
     "next": "37e8feda-d5bd-11ec-91a7-02420a01013b-2-79aa-d22e",
     "previous": "efbbc5b1-d5bc-11ec-8efe-02420a01013b-3-fe20-0875-c284"
    },
    "lc_wrapper": {
     "log_history": [
      "/home/cwhadminxe1bf95/textbook/.log/20220517/20220517-174118-0241.log",
      "/home/cwhadminxe1bf95/dev_textbook_2022/.log/20230516/20230516-192831-0760.log"
     ]
    }
   },
   "outputs": [],
   "source": [
    "512/(10*10**6)"
   ]
  },
  {
   "cell_type": "markdown",
   "id": "db6e95db",
   "metadata": {
    "lc_cell_meme": {
     "current": "37e8feda-d5bd-11ec-91a7-02420a01013b-2-79aa-d22e",
     "history": [
      {
       "current": "37e8feda-d5bd-11ec-91a7-02420a01013b-1-79aa",
       "next": "37e8ffe4-d5bd-11ec-a01d-02420a01013b",
       "previous": "37e8f9a6-d5bd-11ec-8fca-02420a01013b"
      },
      {
       "current": "37e8feda-d5bd-11ec-91a7-02420a01013b-2-79aa-d22e",
       "next": "37e8ffe4-d5bd-11ec-a01d-02420a01013b-1-2ef5",
       "previous": "37e8f9a6-d5bd-11ec-8fca-02420a01013b-1-1fc8"
      }
     ],
     "next": "37e8ffe4-d5bd-11ec-a01d-02420a01013b-2-2ef5-c9c5",
     "previous": "37e8f9a6-d5bd-11ec-8fca-02420a01013b-2-1fc8-9edb"
    }
   },
   "source": [
    "- この時間内に，フレームの広がる範囲は$ 速さ\\times \\tau$\n",
    "\n",
    "- 銅線で電気信号が伝わる速さは，およそ光速の$2/3$（銅線を覆っているポリエステルの誘電率による）"
   ]
  },
  {
   "cell_type": "code",
   "execution_count": null,
   "id": "56017d41",
   "metadata": {
    "lc_cell_meme": {
     "current": "37e8ffe4-d5bd-11ec-a01d-02420a01013b-2-2ef5-c9c5",
     "history": [
      {
       "current": "37e8ffe4-d5bd-11ec-a01d-02420a01013b-1-2ef5",
       "next": "37e900a8-d5bd-11ec-88ed-02420a01013b",
       "previous": "37e8feda-d5bd-11ec-91a7-02420a01013b"
      },
      {
       "current": "37e8ffe4-d5bd-11ec-a01d-02420a01013b-2-2ef5-c9c5",
       "next": "37e900a8-d5bd-11ec-88ed-02420a01013b-1-b5a5",
       "previous": "37e8feda-d5bd-11ec-91a7-02420a01013b-1-79aa"
      }
     ],
     "next": "37e900a8-d5bd-11ec-88ed-02420a01013b-2-b5a5-c7d8",
     "previous": "37e8feda-d5bd-11ec-91a7-02420a01013b-2-79aa-d22e"
    },
    "lc_wrapper": {
     "log_history": [
      "/home/cwhadminxe1bf95/textbook/.log/20220517/20220517-174138-0912.log",
      "/home/cwhadminxe1bf95/dev_textbook_2022/.log/20230516/20230516-192835-0467.log",
      "/home/cwhadminxe1bf95/dev_textbook_2022/.log/20230516/20230516-192911-0104.log"
     ]
    }
   },
   "outputs": [],
   "source": [
    "#光の速さ\n",
    "#c=299792458\n",
    "c=3*10**8\n",
    "\n",
    "#電気信号が伝わる速さ\n",
    "v=c*(2/3)\n",
    "\n",
    "#512bitを送信するのにかかる時間\n",
    "t=512/(10*10**6)\n",
    "\n",
    "#512bitを送信するのにかかる時間の半分で進む距離\n",
    "v*t/2"
   ]
  },
  {
   "attachments": {
    "image.png": {
     "image/png": "[encoded data removed]"
    }
   },
   "cell_type": "markdown",
   "id": "c27abcc7",
   "metadata": {
    "lc_cell_meme": {
     "current": "37e900a8-d5bd-11ec-88ed-02420a01013b-2-b5a5-c7d8",
     "history": [
      {
       "current": "37e900a8-d5bd-11ec-88ed-02420a01013b",
       "next": "37e90156-d5bd-11ec-bb32-02420a01013b",
       "previous": "37e8ffe4-d5bd-11ec-a01d-02420a01013b"
      },
      {
       "current": "37e900a8-d5bd-11ec-88ed-02420a01013b-1-b5a5",
       "next": "37e90156-d5bd-11ec-bb32-02420a01013b-1-ca3a",
       "previous": "37e8ffe4-d5bd-11ec-a01d-02420a01013b"
      },
      {
       "current": "37e900a8-d5bd-11ec-88ed-02420a01013b-2-b5a5-c7d8",
       "next": "37e90156-d5bd-11ec-bb32-02420a01013b-2-ca3a-a521",
       "previous": "37e8ffe4-d5bd-11ec-a01d-02420a01013b-1-2ef5"
      }
     ],
     "next": "37e90156-d5bd-11ec-bb32-02420a01013b-3-ca3a-a521-38f3",
     "previous": "37e8ffe4-d5bd-11ec-a01d-02420a01013b-2-2ef5-c9c5"
    }
   },
   "source": [
    "- 送信端末が64bitを送信している間に，他の全ての端末が送信を検知できて，検知した場合のJAM信号が送信端末まで届かないといけない\n",
    "\n",
    "- 実際の仕様は最大2500メートルまで離してよいことになっている（10BASE-5）\n",
    "\n",
    "![image.png](attachment:image.png)\n"
   ]
  },
  {
   "cell_type": "markdown",
   "id": "e2f70ccb",
   "metadata": {
    "lc_cell_meme": {
     "current": "37e90156-d5bd-11ec-bb32-02420a01013b-3-ca3a-a521-38f3",
     "history": [
      {
       "current": "37e90156-d5bd-11ec-bb32-02420a01013b-2-ca3a-a521",
       "next": null,
       "previous": "37e900a8-d5bd-11ec-88ed-02420a01013b"
      },
      {
       "current": "37e90156-d5bd-11ec-bb32-02420a01013b-2-ca3a-a521",
       "next": null,
       "previous": "37e900a8-d5bd-11ec-88ed-02420a01013b-1-b5a5"
      },
      {
       "current": "37e90156-d5bd-11ec-bb32-02420a01013b-3-ca3a-a521-38f3",
       "next": "b7ddafd3-f3d4-11ed-a5e6-02420a010370",
       "previous": "37e900a8-d5bd-11ec-88ed-02420a01013b-1-b5a5"
      }
     ],
     "next": "b7ddafd3-f3d4-11ed-a5e6-02420a010370-1-3993",
     "previous": "37e900a8-d5bd-11ec-88ed-02420a01013b-2-b5a5-c7d8"
    }
   },
   "source": []
  },
  {
   "cell_type": "code",
   "execution_count": null,
   "id": "0840052f",
   "metadata": {
    "lc_cell_meme": {
     "current": "b7ddafd3-f3d4-11ed-a5e6-02420a010370-1-3993",
     "history": [
      {
       "current": "b7ddafd3-f3d4-11ed-a5e6-02420a010370-1-3993",
       "next": null,
       "previous": "37e90156-d5bd-11ec-bb32-02420a01013b-2-ca3a-a521"
      }
     ],
     "next": null,
     "previous": "37e90156-d5bd-11ec-bb32-02420a01013b-3-ca3a-a521-38f3"
    }
   },
   "outputs": [],
   "source": []
  }
 ],
 "metadata": {
  "kernelspec": {
   "display_name": "Python 3",
   "language": "python",
   "name": "python3"
  },
  "language_info": {
   "file_extension": ".py",
   "mimetype": "text/x-python",
   "name": "python",
   "nbconvert_exporter": "python",
   "pygments_lexer": "ipython3",
   "version": "3.10.4"
  },
  "lc_notebook_meme": {
   "current": "8a5fa191-d5bb-11ec-9a94-02420a01013b",
   "lc_server_signature": {
    "current": {
     "notebook_dir": "/home/jovyan",
     "notebook_path": "/notebooks/CWH2021_2022/cwhadminxe1bf95/textbook",
     "server_url": "http://192.168.11.68:8888/",
     "signature_id": "e78c9058-85b5-11ed-b78d-0242ac120002"
    },
    "history": [
     {
      "notebook_dir": "/home/cwhadminxe1bf95",
      "notebook_path": "/textbook",
      "server_url": "https://cwh.media.gunma-u.ac.jp/user/cwhadminxe1bf95/",
      "signature_id": "d287dc56-b8b1-11ec-b3eb-23e3164b790f"
     },
     {
      "notebook_dir": "/home/cwhadminxe1bf95",
      "notebook_path": "/dev_textbook_2022",
      "server_url": "https://cwh.media.gunma-u.ac.jp/user/cwhadminxe1bf95/",
      "signature_id": "d287dc56-b8b1-11ec-b3eb-23e3164b790f"
     }
    ]
   }
  },
  "toc": {
   "base_numbering": 1,
   "nav_menu": {},
   "number_sections": true,
   "sideBar": true,
   "skip_h1_title": false,
   "title_cell": "Table of Contents",
   "title_sidebar": "Contents",
   "toc_cell": false,
   "toc_position": {},
   "toc_section_display": true,
   "toc_window_display": false
  }
 },
 "nbformat": 4,
 "nbformat_minor": 5
}
