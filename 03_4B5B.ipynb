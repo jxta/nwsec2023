{
 "cells": [
  {
   "cell_type": "markdown",
   "id": "b6d92c1a",
   "metadata": {
    "lc_cell_meme": {
     "current": "8cc7f88b-c53e-11ec-b2af-02420a01013b-1-df87",
     "history": [
      {
       "current": "8cc7f88b-c53e-11ec-b2af-02420a01013b-1-df87",
       "next": "8cc7fb87-c53e-11ec-af5e-02420a01013b",
       "previous": null
      }
     ],
     "next": "8cc7fb87-c53e-11ec-af5e-02420a01013b-1-361e",
     "previous": null
    }
   },
   "source": [
    "# 第3回"
   ]
  },
  {
   "cell_type": "markdown",
   "id": "92eca31b",
   "metadata": {
    "lc_cell_meme": {
     "current": "8cc7fb87-c53e-11ec-af5e-02420a01013b-1-361e",
     "history": [
      {
       "current": "8cc7fb87-c53e-11ec-af5e-02420a01013b-1-361e",
       "next": "4229ec85-c3a9-11ec-a88e-02420a01013b",
       "previous": "8cc7f88b-c53e-11ec-b2af-02420a01013b"
      }
     ],
     "next": "4229ec85-c3a9-11ec-a88e-02420a01013b-1-a0ae",
     "previous": "8cc7f88b-c53e-11ec-b2af-02420a01013b-1-df87"
    }
   },
   "source": [
    "## 基数変換\n",
    "\n",
    "2進数，16進数への変換を行う関数は，それぞれbin, hexになります。"
   ]
  },
  {
   "cell_type": "code",
   "execution_count": null,
   "id": "d92e47ba",
   "metadata": {
    "lc_cell_meme": {
     "current": "4229ec85-c3a9-11ec-a88e-02420a01013b-1-a0ae",
     "history": [
      {
       "current": "4229ec85-c3a9-11ec-a88e-02420a01013b",
       "next": "4229ed52-c3a9-11ec-a3b2-02420a01013b",
       "previous": null
      },
      {
       "current": "4229ec85-c3a9-11ec-a88e-02420a01013b",
       "next": "8cc7fbf0-c53e-11ec-ab51-02420a01013b",
       "previous": "8cc7fb87-c53e-11ec-af5e-02420a01013b"
      },
      {
       "current": "4229ec85-c3a9-11ec-a88e-02420a01013b",
       "next": "6809125c-c54c-11ec-9141-02420a01013b",
       "previous": "8cc7fb87-c53e-11ec-af5e-02420a01013b"
      },
      {
       "current": "4229ec85-c3a9-11ec-a88e-02420a01013b-1-a0ae",
       "next": "6809125c-c54c-11ec-9141-02420a01013b-1-21e3",
       "previous": "8cc7fb87-c53e-11ec-af5e-02420a01013b"
      }
     ],
     "next": "6809125c-c54c-11ec-9141-02420a01013b-2-21e3-e5af",
     "previous": "8cc7fb87-c53e-11ec-af5e-02420a01013b-1-361e"
    },
    "lc_wrapper": {
     "log_history": [
      "/home/cwhadminxe1bf95/textbook/.log/20220424/20220424-173240-0703.log",
      "/home/cwhadminxe1bf95/textbook/.log/20220426/20220426-175409-0548.log",
      "/home/cwhadminxe1bf95/textbook/.log/20220426/20220426-193319-0516.log"
     ]
    }
   },
   "outputs": [],
   "source": [
    "# 2進数（100の2進数表現）\n",
    "print(\"{:b}\".format(100))"
   ]
  },
  {
   "cell_type": "markdown",
   "id": "d15c211b",
   "metadata": {
    "lc_cell_meme": {
     "current": "6809125c-c54c-11ec-9141-02420a01013b-2-21e3-e5af",
     "execution_end_time": "2022-04-26T10:34:10.538187Z",
     "history": [
      {
       "current": "6809125c-c54c-11ec-9141-02420a01013b-2-21e3-e5af",
       "next": "4229ed52-c3a9-11ec-a3b2-02420a01013b",
       "previous": "4229ec85-c3a9-11ec-a88e-02420a01013b"
      }
     ],
     "next": "4229ed52-c3a9-11ec-a3b2-02420a01013b-1-0bad",
     "previous": "4229ec85-c3a9-11ec-a88e-02420a01013b-1-a0ae"
    },
    "lc_wrapper": {
     "log_history": [
      "/home/cwhadminxe1bf95/textbook/.log/20220426/20220426-193410-0530.log"
     ]
    }
   },
   "source": [
    "`b`が2進数であることを表しています。"
   ]
  },
  {
   "cell_type": "code",
   "execution_count": null,
   "id": "3dbcecd0",
   "metadata": {
    "lc_cell_meme": {
     "current": "4229ed52-c3a9-11ec-a3b2-02420a01013b-1-0bad",
     "history": [
      {
       "current": "4229ed52-c3a9-11ec-a3b2-02420a01013b",
       "next": "4229ed9b-c3a9-11ec-be39-02420a01013b",
       "previous": "4229ec85-c3a9-11ec-a88e-02420a01013b"
      },
      {
       "current": "4229ed52-c3a9-11ec-a3b2-02420a01013b",
       "next": "4229ed9b-c3a9-11ec-be39-02420a01013b",
       "previous": "8cc7fbf0-c53e-11ec-ab51-02420a01013b"
      },
      {
       "current": "4229ed52-c3a9-11ec-a3b2-02420a01013b",
       "next": "d450a3ed-c53e-11ec-b758-02420a01013b",
       "previous": "8cc7fbf0-c53e-11ec-ab51-02420a01013b"
      },
      {
       "current": "4229ed52-c3a9-11ec-a3b2-02420a01013b",
       "next": "d450a3ed-c53e-11ec-b758-02420a01013b",
       "previous": "6809125c-c54c-11ec-9141-02420a01013b"
      },
      {
       "current": "4229ed52-c3a9-11ec-a3b2-02420a01013b-1-0bad",
       "next": "d450a3ed-c53e-11ec-b758-02420a01013b",
       "previous": "6809125c-c54c-11ec-9141-02420a01013b-1-21e3"
      }
     ],
     "next": "d450a3ed-c53e-11ec-b758-02420a01013b-1-1cc6",
     "previous": "6809125c-c54c-11ec-9141-02420a01013b-2-21e3-e5af"
    },
    "lc_wrapper": {
     "log_history": [
      "/home/cwhadminxe1bf95/textbook/.log/20220424/20220424-173247-0477.log",
      "/home/cwhadminxe1bf95/textbook/.log/20220426/20220426-175426-0803.log",
      "/home/cwhadminxe1bf95/textbook/.log/20220426/20220426-193341-0390.log"
     ]
    }
   },
   "outputs": [],
   "source": [
    "# 16進数（100の16進数表現）\n",
    "print(\"{:x}\".format(100))"
   ]
  },
  {
   "cell_type": "markdown",
   "id": "8ab332e2",
   "metadata": {
    "lc_cell_meme": {
     "current": "d450a3ed-c53e-11ec-b758-02420a01013b-1-1cc6",
     "execution_end_time": "2022-04-26T08:56:19.196387Z",
     "history": [
      {
       "current": "d450a3ed-c53e-11ec-b758-02420a01013b",
       "next": "d450a6c7-c53e-11ec-b8a0-02420a01013b",
       "previous": "4229ed52-c3a9-11ec-a3b2-02420a01013b"
      },
      {
       "current": "d450a3ed-c53e-11ec-b758-02420a01013b-1-1cc6",
       "next": "45e6eb4c-c53f-11ec-8491-02420a01013b",
       "previous": "4229ed52-c3a9-11ec-a3b2-02420a01013b"
      }
     ],
     "next": "45e6eb4c-c53f-11ec-8491-02420a01013b-1-4153",
     "previous": "4229ed52-c3a9-11ec-a3b2-02420a01013b-1-0bad"
    },
    "lc_wrapper": {
     "log_history": [
      "/home/cwhadminxe1bf95/textbook/.log/20220426/20220426-175619-0179.log"
     ]
    }
   },
   "source": [
    "`x`が16進数であることを表しています。"
   ]
  },
  {
   "cell_type": "code",
   "execution_count": null,
   "id": "a150c9e8",
   "metadata": {
    "lc_cell_meme": {
     "current": "45e6eb4c-c53f-11ec-8491-02420a01013b-1-4153",
     "history": [
      {
       "current": "45e6eb4c-c53f-11ec-8491-02420a01013b",
       "next": "d450a6c7-c53e-11ec-b8a0-02420a01013b",
       "previous": "d450a3ed-c53e-11ec-b758-02420a01013b"
      },
      {
       "current": "45e6eb4c-c53f-11ec-8491-02420a01013b-1-4153",
       "next": "8d71ca7e-c53f-11ec-9c7b-02420a01013b",
       "previous": "d450a3ed-c53e-11ec-b758-02420a01013b"
      }
     ],
     "next": "8d71ca7e-c53f-11ec-9c7b-02420a01013b-1-94bb",
     "previous": "d450a3ed-c53e-11ec-b758-02420a01013b-1-1cc6"
    },
    "lc_wrapper": {
     "log_history": [
      "/home/cwhadminxe1bf95/textbook/.log/20220426/20220426-175951-0460.log",
      "/home/cwhadminxe1bf95/textbook/.log/20220426/20220426-175959-0336.log",
      "/home/cwhadminxe1bf95/textbook/.log/20220426/20220426-180013-0821.log",
      "/home/cwhadminxe1bf95/textbook/.log/20220426/20220426-180123-0994.log",
      "/home/cwhadminxe1bf95/textbook/.log/20220426/20220426-180145-0903.log",
      "/home/cwhadminxe1bf95/textbook/.log/20220426/20220426-180252-0277.log",
      "/home/cwhadminxe1bf95/textbook/.log/20220426/20220426-193555-0012.log"
     ]
    }
   },
   "outputs": [],
   "source": [
    "# 0から9までは，10進数も16進数も同じです\n",
    "list = [0, 1, 2, 3, 4, 5, 6, 7, 8, 9]\n",
    "print([\"{:x}\".format(a) for a in list])"
   ]
  },
  {
   "cell_type": "code",
   "execution_count": null,
   "id": "344c8b2f",
   "metadata": {
    "lc_cell_meme": {
     "current": "8d71ca7e-c53f-11ec-9c7b-02420a01013b-1-94bb",
     "history": [
      {
       "current": "8d71ca7e-c53f-11ec-9c7b-02420a01013b",
       "next": "d450a6c7-c53e-11ec-b8a0-02420a01013b",
       "previous": "45e6eb4c-c53f-11ec-8491-02420a01013b"
      },
      {
       "current": "8d71ca7e-c53f-11ec-9c7b-02420a01013b-1-94bb",
       "next": "d4fa1406-c53f-11ec-9221-02420a01013b",
       "previous": "45e6eb4c-c53f-11ec-8491-02420a01013b"
      }
     ],
     "next": "d4fa1406-c53f-11ec-9221-02420a01013b-1-80b0",
     "previous": "45e6eb4c-c53f-11ec-8491-02420a01013b-1-4153"
    },
    "lc_wrapper": {
     "log_history": [
      "/home/cwhadminxe1bf95/textbook/.log/20220426/20220426-180155-0743.log",
      "/home/cwhadminxe1bf95/textbook/.log/20220426/20220426-180250-0405.log",
      "/home/cwhadminxe1bf95/textbook/.log/20220426/20220426-193619-0141.log"
     ]
    }
   },
   "outputs": [],
   "source": [
    "# 10から15までは，aからfが対応します\n",
    "\n",
    "list = [10, 11, 12, 13, 14, 15]\n",
    "print([\"{:x}\".format(a) for a in list])"
   ]
  },
  {
   "cell_type": "code",
   "execution_count": null,
   "id": "25645fdf",
   "metadata": {
    "lc_cell_meme": {
     "current": "d4fa1406-c53f-11ec-9221-02420a01013b-1-80b0",
     "history": [
      {
       "current": "d4fa1406-c53f-11ec-9221-02420a01013b-1-80b0",
       "next": "d450a6c7-c53e-11ec-b8a0-02420a01013b",
       "previous": "8d71ca7e-c53f-11ec-9c7b-02420a01013b"
      }
     ],
     "next": "d450a6c7-c53e-11ec-b8a0-02420a01013b-1-0bd9",
     "previous": "8d71ca7e-c53f-11ec-9c7b-02420a01013b-1-94bb"
    },
    "lc_wrapper": {
     "log_history": [
      "/home/cwhadminxe1bf95/textbook/.log/20220426/20220426-180330-0410.log",
      "/home/cwhadminxe1bf95/textbook/.log/20220426/20220426-193653-0963.log",
      "/home/cwhadminxe1bf95/textbook/.log/20220426/20220426-193713-0194.log",
      "/home/cwhadminxe1bf95/textbook/.log/20220426/20220426-193729-0030.log",
      "/home/cwhadminxe1bf95/textbook/.log/20220426/20220426-193734-0039.log",
      "/home/cwhadminxe1bf95/textbook/.log/20220426/20220426-193738-0648.log"
     ]
    }
   },
   "outputs": [],
   "source": [
    "# 15を超えると，桁が上がります\n",
    "list = [16, 17, 18, 19, 20, 21, 22, 23, 24, 25, 26, 27 ,28, 29, 30]\n",
    "print([\"{:x}\".format(a) for a in list])"
   ]
  },
  {
   "cell_type": "code",
   "execution_count": null,
   "id": "2d1eb828",
   "metadata": {
    "lc_cell_meme": {
     "current": "d450a6c7-c53e-11ec-b8a0-02420a01013b-1-0bd9",
     "history": [
      {
       "current": "d450a6c7-c53e-11ec-b8a0-02420a01013b",
       "next": "d450a7c3-c53e-11ec-b0cf-02420a01013b",
       "previous": "d450a3ed-c53e-11ec-b758-02420a01013b"
      },
      {
       "current": "d450a6c7-c53e-11ec-b8a0-02420a01013b",
       "next": "d450a7c3-c53e-11ec-b0cf-02420a01013b",
       "previous": "45e6eb4c-c53f-11ec-8491-02420a01013b"
      },
      {
       "current": "d450a6c7-c53e-11ec-b8a0-02420a01013b",
       "next": "d450a7c3-c53e-11ec-b0cf-02420a01013b",
       "previous": "8d71ca7e-c53f-11ec-9c7b-02420a01013b"
      },
      {
       "current": "d450a6c7-c53e-11ec-b8a0-02420a01013b-1-0bd9",
       "next": "d450a7c3-c53e-11ec-b0cf-02420a01013b",
       "previous": "d4fa1406-c53f-11ec-9221-02420a01013b"
      }
     ],
     "next": "d450a7c3-c53e-11ec-b0cf-02420a01013b-1-c565",
     "previous": "d4fa1406-c53f-11ec-9221-02420a01013b-1-80b0"
    },
    "lc_wrapper": {
     "log_history": [
      "/home/cwhadminxe1bf95/textbook/.log/20220426/20220426-175646-0094.log",
      "/home/cwhadminxe1bf95/textbook/.log/20220426/20220426-193808-0617.log"
     ]
    }
   },
   "outputs": [],
   "source": [
    "# 8進数（100の8進数表現）\n",
    "print(\"{:o}\".format(100))"
   ]
  },
  {
   "cell_type": "markdown",
   "id": "38486448",
   "metadata": {
    "lc_cell_meme": {
     "current": "d450a7c3-c53e-11ec-b0cf-02420a01013b-1-c565",
     "history": [
      {
       "current": "d450a7c3-c53e-11ec-b0cf-02420a01013b",
       "next": "4229ed9b-c3a9-11ec-be39-02420a01013b",
       "previous": "d450a6c7-c53e-11ec-b8a0-02420a01013b"
      },
      {
       "current": "d450a7c3-c53e-11ec-b0cf-02420a01013b-1-c565",
       "next": "f360339b-c53e-11ec-89a3-02420a01013b",
       "previous": "d450a6c7-c53e-11ec-b8a0-02420a01013b"
      }
     ],
     "next": "f360339b-c53e-11ec-89a3-02420a01013b-1-d1a8",
     "previous": "d450a6c7-c53e-11ec-b8a0-02420a01013b-1-0bd9"
    }
   },
   "source": [
    "`o` が 8進数であることを表してます。"
   ]
  },
  {
   "cell_type": "markdown",
   "id": "b3d69a35",
   "metadata": {
    "lc_cell_meme": {
     "current": "f360339b-c53e-11ec-89a3-02420a01013b-1-d1a8",
     "history": [
      {
       "current": "f360339b-c53e-11ec-89a3-02420a01013b",
       "next": "4229ed9b-c3a9-11ec-be39-02420a01013b",
       "previous": "d450a7c3-c53e-11ec-b0cf-02420a01013b"
      },
      {
       "current": "f360339b-c53e-11ec-89a3-02420a01013b-1-d1a8",
       "next": "fe6d893a-c3b4-11ec-913a-02420a01013b",
       "previous": "d450a7c3-c53e-11ec-b0cf-02420a01013b"
      }
     ],
     "next": "fe6d893a-c3b4-11ec-913a-02420a01013b-1-c5a3",
     "previous": "d450a7c3-c53e-11ec-b0cf-02420a01013b-1-c565"
    }
   },
   "source": [
    "## 4B5B"
   ]
  },
  {
   "cell_type": "code",
   "execution_count": null,
   "id": "c19c6882",
   "metadata": {
    "lc_cell_meme": {
     "current": "fe6d893a-c3b4-11ec-913a-02420a01013b-1-c5a3",
     "history": [
      {
       "current": "fe6d893a-c3b4-11ec-913a-02420a01013b",
       "next": "af5cbbe9-c3af-11ec-9f8e-02420a01013b",
       "previous": "7307d8bb-c3ad-11ec-9f63-02420a01013b"
      },
      {
       "current": "fe6d893a-c3b4-11ec-913a-02420a01013b",
       "next": "4229ed9b-c3a9-11ec-be39-02420a01013b",
       "previous": "f360339b-c53e-11ec-89a3-02420a01013b"
      },
      {
       "current": "fe6d893a-c3b4-11ec-913a-02420a01013b",
       "next": "ab95b289-c540-11ec-b8a0-02420a01013b",
       "previous": "f360339b-c53e-11ec-89a3-02420a01013b"
      },
      {
       "current": "fe6d893a-c3b4-11ec-913a-02420a01013b-1-c5a3",
       "next": "3eab9dbf-c54d-11ec-8d8e-02420a01013b",
       "previous": "f360339b-c53e-11ec-89a3-02420a01013b"
      }
     ],
     "next": "3eab9dbf-c54d-11ec-8d8e-02420a01013b-1-a7d6",
     "previous": "f360339b-c53e-11ec-89a3-02420a01013b-1-d1a8"
    },
    "lc_wrapper": {
     "log_history": [
      "/home/cwhadminxe1bf95/textbook/.log/20220424/20220424-185742-0532.log",
      "/home/cwhadminxe1bf95/textbook/.log/20220424/20220424-185817-0916.log",
      "/home/cwhadminxe1bf95/textbook/.log/20220424/20220424-185846-0666.log",
      "/home/cwhadminxe1bf95/textbook/.log/20220424/20220424-185855-0480.log",
      "/home/cwhadminxe1bf95/textbook/.log/20220424/20220424-185901-0888.log",
      "/home/cwhadminxe1bf95/textbook/.log/20220424/20220424-185916-0732.log",
      "/home/cwhadminxe1bf95/textbook/.log/20220426/20220426-175931-0425.log",
      "/home/cwhadminxe1bf95/textbook/.log/20220426/20220426-192858-0768.log",
      "/home/cwhadminxe1bf95/textbook/.log/20220426/20220426-193916-0108.log",
      "/home/cwhadminxe1bf95/textbook/.log/20221017/20221017-183809-0418.log",
      "/home/cwhadminxe1bf95/textbook/.log/20230426/20230426-093425-0317.log",
      "/home/cwhadminxe1bf95/textbook/.log/20230426/20230426-093445-0374.log"
     ]
    }
   },
   "outputs": [],
   "source": [
    "# b4b5の変換を配列で定義する\n",
    "b4b5 = ['11110', '01001', '10100', '10101',\n",
    "        '01010', '01011', '01110', '01111',\n",
    "        '10010', '10011', '10110', '10111',\n",
    "        '11010', '11011', '11100', '11101']"
   ]
  },
  {
   "cell_type": "code",
   "execution_count": null,
   "id": "e2ba85a0",
   "metadata": {
    "lc_cell_meme": {
     "current": "3eab9dbf-c54d-11ec-8d8e-02420a01013b-1-a7d6",
     "history": [
      {
       "current": "3eab9dbf-c54d-11ec-8d8e-02420a01013b",
       "next": "ab95b289-c540-11ec-b8a0-02420a01013b",
       "previous": "fe6d893a-c3b4-11ec-913a-02420a01013b"
      },
      {
       "current": "3eab9dbf-c54d-11ec-8d8e-02420a01013b",
       "next": "8636d287-c54d-11ec-b81e-02420a01013b",
       "previous": "fe6d893a-c3b4-11ec-913a-02420a01013b"
      },
      {
       "current": "3eab9dbf-c54d-11ec-8d8e-02420a01013b-1-a7d6",
       "next": "8636d287-c54d-11ec-b81e-02420a01013b-2-f82d-bfb4",
       "previous": "fe6d893a-c3b4-11ec-913a-02420a01013b"
      }
     ],
     "next": "8636d287-c54d-11ec-b81e-02420a01013b-3-f82d-bfb4-3a08",
     "previous": "fe6d893a-c3b4-11ec-913a-02420a01013b-1-c5a3"
    },
    "lc_wrapper": {
     "log_history": [
      "/home/cwhadminxe1bf95/textbook/.log/20220426/20220426-194100-0526.log",
      "/home/cwhadminxe1bf95/textbook/.log/20220426/20220426-194123-0884.log",
      "/home/cwhadminxe1bf95/textbook/.log/20220426/20220426-194141-0627.log",
      "/home/cwhadminxe1bf95/textbook/.log/20221017/20221017-183811-0531.log",
      "/home/cwhadminxe1bf95/textbook/.log/20230426/20230426-093314-0751.log"
     ]
    }
   },
   "outputs": [],
   "source": [
    "list = [0, 1, 2, 3, 4, 5, 6, 7, 8, 9, 10, 11, 12, 13, 14, 15]"
   ]
  },
  {
   "cell_type": "code",
   "execution_count": null,
   "id": "c812874f",
   "metadata": {
    "lc_cell_meme": {
     "current": "8636d287-c54d-11ec-b81e-02420a01013b-3-f82d-bfb4-3a08",
     "history": [
      {
       "current": "8636d287-c54d-11ec-b81e-02420a01013b-2-f82d-bfb4",
       "next": "ab95b289-c540-11ec-b8a0-02420a01013b",
       "previous": "3eab9dbf-c54d-11ec-8d8e-02420a01013b"
      },
      {
       "current": "8636d287-c54d-11ec-b81e-02420a01013b-3-f82d-bfb4-3a08",
       "next": "16b34cec-e3ca-11ed-9531-02420a0101e2",
       "previous": "3eab9dbf-c54d-11ec-8d8e-02420a01013b"
      }
     ],
     "next": "16b34cec-e3ca-11ed-9531-02420a0101e2-1-6210",
     "previous": "3eab9dbf-c54d-11ec-8d8e-02420a01013b-1-a7d6"
    },
    "lc_wrapper": {
     "log_history": [
      "/home/cwhadminxe1bf95/textbook/.log/20230426/20230426-093325-0400.log",
      "/home/cwhadminxe1bf95/textbook/.log/20230426/20230426-093351-0267.log"
     ]
    }
   },
   "outputs": [],
   "source": [
    "# listを4桁の2進数で表示する\n",
    "print([\"{:04b}\".format(a) for a in list])"
   ]
  },
  {
   "cell_type": "code",
   "execution_count": null,
   "id": "461c5dae",
   "metadata": {
    "lc_cell_meme": {
     "current": "16b34cec-e3ca-11ed-9531-02420a0101e2-1-6210",
     "history": [
      {
       "current": "16b34cec-e3ca-11ed-9531-02420a0101e2-1-6210",
       "next": "ab95b289-c540-11ec-b8a0-02420a01013b",
       "previous": "8636d287-c54d-11ec-b81e-02420a01013b-2-f82d-bfb4"
      }
     ],
     "next": "ab95b289-c540-11ec-b8a0-02420a01013b-1-016c",
     "previous": "8636d287-c54d-11ec-b81e-02420a01013b-3-f82d-bfb4-3a08"
    },
    "lc_wrapper": {
     "log_history": [
      "/home/cwhadminxe1bf95/textbook/.log/20230426/20230426-093414-0539.log",
      "/home/cwhadminxe1bf95/textbook/.log/20230426/20230426-093427-0060.log"
     ]
    }
   },
   "outputs": [],
   "source": [
    "# listをb4b5のルールに従って変換した結果を表示する\n",
    "print([b4b5[a] for a in list])"
   ]
  },
  {
   "cell_type": "markdown",
   "id": "b33ccd49",
   "metadata": {
    "lc_cell_meme": {
     "current": "ab95b289-c540-11ec-b8a0-02420a01013b-1-016c",
     "history": [
      {
       "current": "ab95b289-c540-11ec-b8a0-02420a01013b",
       "next": "4229ed9b-c3a9-11ec-be39-02420a01013b",
       "previous": "fe6d893a-c3b4-11ec-913a-02420a01013b"
      },
      {
       "current": "ab95b289-c540-11ec-b8a0-02420a01013b",
       "next": "f31522dd-c540-11ec-96e0-02420a01013b",
       "previous": "fe6d893a-c3b4-11ec-913a-02420a01013b"
      },
      {
       "current": "ab95b289-c540-11ec-b8a0-02420a01013b",
       "next": "f31522dd-c540-11ec-96e0-02420a01013b",
       "previous": "3eab9dbf-c54d-11ec-8d8e-02420a01013b"
      },
      {
       "current": "ab95b289-c540-11ec-b8a0-02420a01013b",
       "next": "f31522dd-c540-11ec-96e0-02420a01013b",
       "previous": "8636d287-c54d-11ec-b81e-02420a01013b"
      },
      {
       "current": "ab95b289-c540-11ec-b8a0-02420a01013b",
       "next": "cda5dea2-c54d-11ec-a122-02420a01013b",
       "previous": "8636d287-c54d-11ec-b81e-02420a01013b"
      },
      {
       "current": "ab95b289-c540-11ec-b8a0-02420a01013b-1-016c",
       "next": "cda5dea2-c54d-11ec-a122-02420a01013b",
       "previous": "16b34cec-e3ca-11ed-9531-02420a0101e2"
      }
     ],
     "next": "cda5dea2-c54d-11ec-a122-02420a01013b-1-760f",
     "previous": "16b34cec-e3ca-11ed-9531-02420a0101e2-1-6210"
    }
   },
   "source": [
    "## ビット列の変換\n",
    "例えば，このようなビット列を送ることを考えてみます。"
   ]
  },
  {
   "cell_type": "code",
   "execution_count": null,
   "id": "4fa204ca",
   "metadata": {
    "lc_cell_meme": {
     "current": "cda5dea2-c54d-11ec-a122-02420a01013b-1-760f",
     "history": [
      {
       "current": "cda5dea2-c54d-11ec-a122-02420a01013b-1-760f",
       "next": "f31522dd-c540-11ec-96e0-02420a01013b",
       "previous": "ab95b289-c540-11ec-b8a0-02420a01013b"
      }
     ],
     "next": "f31522dd-c540-11ec-96e0-02420a01013b-1-ab0c",
     "previous": "ab95b289-c540-11ec-b8a0-02420a01013b-1-016c"
    },
    "lc_wrapper": {
     "log_history": [
      "/home/cwhadminxe1bf95/textbook/.log/20220426/20220426-194252-0015.log",
      "/home/cwhadminxe1bf95/textbook/.log/20220426/20220426-194429-0969.log",
      "/home/cwhadminxe1bf95/textbook/.log/20220426/20220426-194506-0760.log",
      "/home/cwhadminxe1bf95/textbook/.log/20220426/20220426-194556-0231.log",
      "/home/cwhadminxe1bf95/textbook/.log/20220426/20220426-194622-0261.log",
      "/home/cwhadminxe1bf95/textbook/.log/20221017/20221017-183827-0886.log",
      "/home/cwhadminxe1bf95/textbook/.log/20230426/20230426-093452-0792.log",
      "/home/cwhadminxe1bf95/textbook/.log/20230426/20230426-093621-0387.log",
      "/home/cwhadminxe1bf95/textbook/.log/20230426/20230426-093752-0400.log",
      "/home/cwhadminxe1bf95/textbook/.log/20230426/20230426-093758-0648.log"
     ]
    }
   },
   "outputs": [],
   "source": [
    "s_inp = 2878951\n",
    "print(\"{:b}\".format(s_inp))"
   ]
  },
  {
   "cell_type": "code",
   "execution_count": null,
   "id": "bf554530",
   "metadata": {
    "lc_cell_meme": {
     "current": "f31522dd-c540-11ec-96e0-02420a01013b-1-ab0c",
     "history": [
      {
       "current": "f31522dd-c540-11ec-96e0-02420a01013b",
       "next": "f315244f-c540-11ec-9493-02420a01013b",
       "previous": "ab95b289-c540-11ec-b8a0-02420a01013b"
      },
      {
       "current": "f31522dd-c540-11ec-96e0-02420a01013b",
       "next": "190702f2-c547-11ec-8353-02420a01013b",
       "previous": "ab95b289-c540-11ec-b8a0-02420a01013b"
      },
      {
       "current": "f31522dd-c540-11ec-96e0-02420a01013b-1-ab0c",
       "next": "190702f2-c547-11ec-8353-02420a01013b",
       "previous": "cda5dea2-c54d-11ec-a122-02420a01013b"
      }
     ],
     "next": "190702f2-c547-11ec-8353-02420a01013b-1-d722",
     "previous": "cda5dea2-c54d-11ec-a122-02420a01013b-1-760f"
    },
    "lc_wrapper": {
     "log_history": [
      "/home/cwhadminxe1bf95/textbook/.log/20220426/20220426-181021-0108.log",
      "/home/cwhadminxe1bf95/textbook/.log/20220426/20220426-181047-0162.log",
      "/home/cwhadminxe1bf95/textbook/.log/20220426/20220426-182358-0732.log",
      "/home/cwhadminxe1bf95/textbook/.log/20220426/20220426-182407-0458.log",
      "/home/cwhadminxe1bf95/textbook/.log/20220426/20220426-182528-0030.log",
      "/home/cwhadminxe1bf95/textbook/.log/20220426/20220426-182542-0515.log",
      "/home/cwhadminxe1bf95/textbook/.log/20220426/20220426-182546-0669.log",
      "/home/cwhadminxe1bf95/textbook/.log/20220426/20220426-182603-0533.log",
      "/home/cwhadminxe1bf95/textbook/.log/20220426/20220426-182613-0311.log",
      "/home/cwhadminxe1bf95/textbook/.log/20220426/20220426-182833-0863.log",
      "/home/cwhadminxe1bf95/textbook/.log/20220426/20220426-182841-0890.log",
      "/home/cwhadminxe1bf95/textbook/.log/20220426/20220426-182851-0706.log",
      "/home/cwhadminxe1bf95/textbook/.log/20220426/20220426-182921-0803.log",
      "/home/cwhadminxe1bf95/textbook/.log/20220426/20220426-182933-0876.log",
      "/home/cwhadminxe1bf95/textbook/.log/20220426/20220426-183002-0240.log",
      "/home/cwhadminxe1bf95/textbook/.log/20220426/20220426-183010-0787.log",
      "/home/cwhadminxe1bf95/textbook/.log/20220426/20220426-183018-0147.log",
      "/home/cwhadminxe1bf95/textbook/.log/20220426/20220426-183023-0856.log",
      "/home/cwhadminxe1bf95/textbook/.log/20220426/20220426-183026-0789.log",
      "/home/cwhadminxe1bf95/textbook/.log/20220426/20220426-183031-0383.log",
      "/home/cwhadminxe1bf95/textbook/.log/20220426/20220426-183035-0292.log",
      "/home/cwhadminxe1bf95/textbook/.log/20220426/20220426-183037-0959.log",
      "/home/cwhadminxe1bf95/textbook/.log/20220426/20220426-183042-0323.log",
      "/home/cwhadminxe1bf95/textbook/.log/20220426/20220426-183128-0859.log",
      "/home/cwhadminxe1bf95/textbook/.log/20220426/20220426-183135-0246.log",
      "/home/cwhadminxe1bf95/textbook/.log/20220426/20220426-183140-0653.log",
      "/home/cwhadminxe1bf95/textbook/.log/20220426/20220426-183405-0025.log",
      "/home/cwhadminxe1bf95/textbook/.log/20220426/20220426-183418-0944.log",
      "/home/cwhadminxe1bf95/textbook/.log/20220426/20220426-184008-0622.log",
      "/home/cwhadminxe1bf95/textbook/.log/20220426/20220426-184013-0638.log",
      "/home/cwhadminxe1bf95/textbook/.log/20220426/20220426-184020-0374.log",
      "/home/cwhadminxe1bf95/textbook/.log/20220426/20220426-184026-0440.log",
      "/home/cwhadminxe1bf95/textbook/.log/20220426/20220426-184042-0685.log",
      "/home/cwhadminxe1bf95/textbook/.log/20220426/20220426-184048-0340.log",
      "/home/cwhadminxe1bf95/textbook/.log/20220426/20220426-184054-0830.log",
      "/home/cwhadminxe1bf95/textbook/.log/20220426/20220426-184114-0730.log",
      "/home/cwhadminxe1bf95/textbook/.log/20220426/20220426-184249-0923.log",
      "/home/cwhadminxe1bf95/textbook/.log/20220426/20220426-184254-0667.log",
      "/home/cwhadminxe1bf95/textbook/.log/20220426/20220426-184328-0067.log",
      "/home/cwhadminxe1bf95/textbook/.log/20220426/20220426-184332-0091.log",
      "/home/cwhadminxe1bf95/textbook/.log/20220426/20220426-184337-0670.log",
      "/home/cwhadminxe1bf95/textbook/.log/20220426/20220426-184401-0806.log",
      "/home/cwhadminxe1bf95/textbook/.log/20220426/20220426-184634-0218.log",
      "/home/cwhadminxe1bf95/textbook/.log/20220426/20220426-184640-0871.log",
      "/home/cwhadminxe1bf95/textbook/.log/20220426/20220426-184649-0592.log",
      "/home/cwhadminxe1bf95/textbook/.log/20220426/20220426-184655-0532.log",
      "/home/cwhadminxe1bf95/textbook/.log/20220426/20220426-184723-0305.log",
      "/home/cwhadminxe1bf95/textbook/.log/20220426/20220426-184731-0616.log",
      "/home/cwhadminxe1bf95/textbook/.log/20220426/20220426-184735-0858.log",
      "/home/cwhadminxe1bf95/textbook/.log/20220426/20220426-184832-0248.log",
      "/home/cwhadminxe1bf95/textbook/.log/20220426/20220426-185139-0010.log",
      "/home/cwhadminxe1bf95/textbook/.log/20220426/20220426-185151-0945.log",
      "/home/cwhadminxe1bf95/textbook/.log/20220426/20220426-185206-0711.log",
      "/home/cwhadminxe1bf95/textbook/.log/20220426/20220426-185313-0263.log",
      "/home/cwhadminxe1bf95/textbook/.log/20220426/20220426-185418-0682.log",
      "/home/cwhadminxe1bf95/textbook/.log/20220426/20220426-185421-0688.log",
      "/home/cwhadminxe1bf95/textbook/.log/20220426/20220426-185433-0315.log",
      "/home/cwhadminxe1bf95/textbook/.log/20220426/20220426-185457-0505.log",
      "/home/cwhadminxe1bf95/textbook/.log/20220426/20220426-190506-0112.log",
      "/home/cwhadminxe1bf95/textbook/.log/20220426/20220426-193912-0505.log",
      "/home/cwhadminxe1bf95/textbook/.log/20220426/20220426-193917-0796.log",
      "/home/cwhadminxe1bf95/textbook/.log/20220426/20220426-193931-0861.log",
      "/home/cwhadminxe1bf95/textbook/.log/20220426/20220426-194310-0148.log",
      "/home/cwhadminxe1bf95/textbook/.log/20220426/20220426-194347-0759.log",
      "/home/cwhadminxe1bf95/textbook/.log/20220426/20220426-194402-0953.log",
      "/home/cwhadminxe1bf95/textbook/.log/20220426/20220426-194407-0161.log",
      "/home/cwhadminxe1bf95/textbook/.log/20220426/20220426-194431-0262.log",
      "/home/cwhadminxe1bf95/textbook/.log/20220426/20220426-194502-0225.log",
      "/home/cwhadminxe1bf95/textbook/.log/20220426/20220426-194504-0775.log",
      "/home/cwhadminxe1bf95/textbook/.log/20220426/20220426-194507-0759.log",
      "/home/cwhadminxe1bf95/textbook/.log/20220426/20220426-194536-0546.log",
      "/home/cwhadminxe1bf95/textbook/.log/20220426/20220426-194550-0285.log",
      "/home/cwhadminxe1bf95/textbook/.log/20220426/20220426-194557-0453.log",
      "/home/cwhadminxe1bf95/textbook/.log/20220426/20220426-194608-0925.log",
      "/home/cwhadminxe1bf95/textbook/.log/20220426/20220426-194623-0565.log",
      "/home/cwhadminxe1bf95/textbook/.log/20221017/20221017-183830-0559.log",
      "/home/cwhadminxe1bf95/textbook/.log/20230426/20230426-093459-0849.log",
      "/home/cwhadminxe1bf95/textbook/.log/20230426/20230426-093541-0755.log",
      "/home/cwhadminxe1bf95/textbook/.log/20230426/20230426-093557-0127.log",
      "/home/cwhadminxe1bf95/textbook/.log/20230426/20230426-093622-0529.log",
      "/home/cwhadminxe1bf95/textbook/.log/20230426/20230426-093629-0099.log",
      "/home/cwhadminxe1bf95/textbook/.log/20230426/20230426-093637-0805.log",
      "/home/cwhadminxe1bf95/textbook/.log/20230426/20230426-093803-0934.log",
      "/home/cwhadminxe1bf95/textbook/.log/20230426/20230426-093806-0051.log",
      "/home/cwhadminxe1bf95/textbook/.log/20230426/20230426-095735-0934.log",
      "/home/cwhadminxe1bf95/textbook/.log/20230426/20230426-095749-0011.log"
     ]
    }
   },
   "outputs": [],
   "source": [
    "s = s_inp\n",
    "# 4bitで区切る\n",
    "import math\n",
    "\n",
    "#元のデータを表示\n",
    "print(\"{:b}\".format(s))\n",
    "s_list = []\n",
    "\n",
    "digit = math.ceil(math.log(s,2))+1\n",
    "while digit > 0:\n",
    "\n",
    "    t = s >> 4\n",
    "    b = s - (t<<4)\n",
    "    s = t\n",
    "#    print(\"{:04b}\".format(b))\n",
    "\n",
    "    s_list.insert(0,b)\n",
    "    \n",
    "    digit = digit - 4\n",
    "\n",
    "#4桁で区切った結果を表示\n",
    "print([\"{:04b}\".format(a) for a in s_list])"
   ]
  },
  {
   "cell_type": "code",
   "execution_count": null,
   "id": "fefbf6db",
   "metadata": {
    "lc_cell_meme": {
     "current": "190702f2-c547-11ec-8353-02420a01013b-1-d722",
     "history": [
      {
       "current": "190702f2-c547-11ec-8353-02420a01013b",
       "next": "f315244f-c540-11ec-9493-02420a01013b",
       "previous": "f31522dd-c540-11ec-96e0-02420a01013b"
      },
      {
       "current": "190702f2-c547-11ec-8353-02420a01013b-1-d722",
       "next": "a818cc43-c547-11ec-843b-02420a01013b",
       "previous": "f31522dd-c540-11ec-96e0-02420a01013b"
      }
     ],
     "next": "a818cc43-c547-11ec-843b-02420a01013b-1-6a3c",
     "previous": "f31522dd-c540-11ec-96e0-02420a01013b-1-ab0c"
    },
    "lc_wrapper": {
     "log_history": [
      "/home/cwhadminxe1bf95/textbook/.log/20220426/20220426-185614-0693.log",
      "/home/cwhadminxe1bf95/textbook/.log/20220426/20220426-185625-0425.log",
      "/home/cwhadminxe1bf95/textbook/.log/20220426/20220426-185716-0346.log",
      "/home/cwhadminxe1bf95/textbook/.log/20220426/20220426-185743-0397.log",
      "/home/cwhadminxe1bf95/textbook/.log/20220426/20220426-185757-0758.log",
      "/home/cwhadminxe1bf95/textbook/.log/20220426/20220426-185807-0239.log",
      "/home/cwhadminxe1bf95/textbook/.log/20220426/20220426-185857-0264.log",
      "/home/cwhadminxe1bf95/textbook/.log/20220426/20220426-185901-0645.log",
      "/home/cwhadminxe1bf95/textbook/.log/20220426/20220426-185910-0730.log",
      "/home/cwhadminxe1bf95/textbook/.log/20220426/20220426-185926-0908.log",
      "/home/cwhadminxe1bf95/textbook/.log/20220426/20220426-185934-0294.log",
      "/home/cwhadminxe1bf95/textbook/.log/20220426/20220426-193938-0234.log",
      "/home/cwhadminxe1bf95/textbook/.log/20220426/20220426-193950-0001.log",
      "/home/cwhadminxe1bf95/textbook/.log/20220426/20220426-194326-0964.log",
      "/home/cwhadminxe1bf95/textbook/.log/20220426/20220426-194448-0228.log",
      "/home/cwhadminxe1bf95/textbook/.log/20220426/20220426-194457-0654.log",
      "/home/cwhadminxe1bf95/textbook/.log/20220426/20220426-194509-0660.log",
      "/home/cwhadminxe1bf95/textbook/.log/20221017/20221017-183834-0608.log",
      "/home/cwhadminxe1bf95/textbook/.log/20230426/20230426-093815-0287.log"
     ]
    }
   },
   "outputs": [],
   "source": [
    "# b4b5で変換\n",
    "print([b4b5[a] for a in s_list])"
   ]
  },
  {
   "cell_type": "markdown",
   "id": "099e5af6",
   "metadata": {
    "lc_cell_meme": {
     "current": "a818cc43-c547-11ec-843b-02420a01013b-1-6a3c",
     "history": [
      {
       "current": "a818cc43-c547-11ec-843b-02420a01013b",
       "next": "f315244f-c540-11ec-9493-02420a01013b",
       "previous": "190702f2-c547-11ec-8353-02420a01013b"
      },
      {
       "current": "a818cc43-c547-11ec-843b-02420a01013b",
       "next": "ef879118-c547-11ec-af5b-02420a01013b",
       "previous": "190702f2-c547-11ec-8353-02420a01013b"
      },
      {
       "current": "a818cc43-c547-11ec-843b-02420a01013b-1-6a3c",
       "next": "64e3b563-c5d4-11ec-859b-02420a01013b",
       "previous": "190702f2-c547-11ec-8353-02420a01013b"
      }
     ],
     "next": "64e3b563-c5d4-11ec-859b-02420a01013b-1-c85d",
     "previous": "190702f2-c547-11ec-8353-02420a01013b-1-d722"
    }
   },
   "source": [
    "## 文字列の変換（ASCIIコード）\n",
    "\n",
    "https://ja.wikipedia.org/wiki/ASCII"
   ]
  },
  {
   "cell_type": "code",
   "execution_count": null,
   "id": "6e1095a0",
   "metadata": {
    "lc_cell_meme": {
     "current": "64e3b563-c5d4-11ec-859b-02420a01013b-1-c85d",
     "history": [
      {
       "current": "64e3b563-c5d4-11ec-859b-02420a01013b-1-c85d",
       "next": "ef879118-c547-11ec-af5b-02420a01013b",
       "previous": "a818cc43-c547-11ec-843b-02420a01013b"
      }
     ],
     "next": "ef879118-c547-11ec-af5b-02420a01013b-1-1db8",
     "previous": "a818cc43-c547-11ec-843b-02420a01013b-1-6a3c"
    },
    "lc_wrapper": {
     "log_history": [
      "/home/cwhadminxe1bf95/textbook/.log/20221017/20221017-183855-0606.log",
      "/home/cwhadminxe1bf95/textbook/.log/20230426/20230426-093826-0415.log",
      "/home/cwhadminxe1bf95/textbook/.log/20230426/20230426-095218-0466.log"
     ]
    }
   },
   "outputs": [],
   "source": [
    "# to_asciiは文字列をASCIIコードに変える関数\n",
    "def to_ascii(text):\n",
    "    ascii_values = [ord(character) for character in text]\n",
    "    return ascii_values"
   ]
  },
  {
   "cell_type": "code",
   "execution_count": null,
   "id": "8d9ff692",
   "metadata": {
    "lc_cell_meme": {
     "current": "ef879118-c547-11ec-af5b-02420a01013b-1-1db8",
     "history": [
      {
       "current": "ef879118-c547-11ec-af5b-02420a01013b",
       "next": "ef879663-c547-11ec-8f4d-02420a01013b",
       "previous": "a818cc43-c547-11ec-843b-02420a01013b"
      },
      {
       "current": "ef879118-c547-11ec-af5b-02420a01013b",
       "next": "5525298c-c549-11ec-9fb7-02420a01013b",
       "previous": "a818cc43-c547-11ec-843b-02420a01013b"
      },
      {
       "current": "ef879118-c547-11ec-af5b-02420a01013b",
       "next": "20736940-c54c-11ec-826c-02420a01013b",
       "previous": "a818cc43-c547-11ec-843b-02420a01013b"
      },
      {
       "current": "ef879118-c547-11ec-af5b-02420a01013b-1-1db8",
       "next": "20736940-c54c-11ec-826c-02420a01013b",
       "previous": "64e3b563-c5d4-11ec-859b-02420a01013b"
      }
     ],
     "next": "20736940-c54c-11ec-826c-02420a01013b-1-e797",
     "previous": "64e3b563-c5d4-11ec-859b-02420a01013b-1-c85d"
    },
    "lc_wrapper": {
     "log_history": [
      "/home/cwhadminxe1bf95/textbook/.log/20220426/20220426-190059-0990.log",
      "/home/cwhadminxe1bf95/textbook/.log/20220426/20220426-190121-0705.log",
      "/home/cwhadminxe1bf95/textbook/.log/20220426/20220426-190636-0992.log",
      "/home/cwhadminxe1bf95/textbook/.log/20220426/20220426-190906-0589.log",
      "/home/cwhadminxe1bf95/textbook/.log/20220426/20220426-191418-0739.log",
      "/home/cwhadminxe1bf95/textbook/.log/20220426/20220426-192729-0813.log",
      "/home/cwhadminxe1bf95/textbook/.log/20220426/20220426-193156-0391.log",
      "/home/cwhadminxe1bf95/textbook/.log/20220426/20220426-193206-0221.log",
      "/home/cwhadminxe1bf95/textbook/.log/20220426/20220426-193216-0648.log",
      "/home/cwhadminxe1bf95/textbook/.log/20220426/20220426-194631-0538.log",
      "/home/cwhadminxe1bf95/textbook/.log/20221017/20221017-183857-0523.log",
      "/home/cwhadminxe1bf95/textbook/.log/20230426/20230426-093828-0436.log",
      "/home/cwhadminxe1bf95/textbook/.log/20230426/20230426-095219-0750.log",
      "/home/cwhadminxe1bf95/textbook/.log/20230426/20230426-095359-0510.log"
     ]
    }
   },
   "outputs": [],
   "source": [
    "# to_asciiは文字列をASCIIコードに変える関数\n",
    "s = 'gunma'\n",
    "to_ascii(s)"
   ]
  },
  {
   "cell_type": "code",
   "execution_count": null,
   "id": "9057abb2",
   "metadata": {
    "lc_cell_meme": {
     "current": "20736940-c54c-11ec-826c-02420a01013b-1-e797",
     "history": [
      {
       "current": "20736940-c54c-11ec-826c-02420a01013b-1-e797",
       "next": "5525298c-c549-11ec-9fb7-02420a01013b",
       "previous": "ef879118-c547-11ec-af5b-02420a01013b"
      }
     ],
     "next": "5525298c-c549-11ec-9fb7-02420a01013b-1-cab8",
     "previous": "ef879118-c547-11ec-af5b-02420a01013b-1-1db8"
    },
    "lc_wrapper": {
     "log_history": [
      "/home/cwhadminxe1bf95/textbook/.log/20220426/20220426-193145-0192.log",
      "/home/cwhadminxe1bf95/textbook/.log/20220426/20220426-193158-0298.log",
      "/home/cwhadminxe1bf95/textbook/.log/20220426/20220426-193207-0790.log",
      "/home/cwhadminxe1bf95/textbook/.log/20220426/20220426-193218-0244.log",
      "/home/cwhadminxe1bf95/textbook/.log/20220426/20220426-194633-0046.log",
      "/home/cwhadminxe1bf95/textbook/.log/20221017/20221017-183900-0698.log",
      "/home/cwhadminxe1bf95/textbook/.log/20230426/20230426-093831-0559.log",
      "/home/cwhadminxe1bf95/textbook/.log/20230426/20230426-095221-0133.log",
      "/home/cwhadminxe1bf95/textbook/.log/20230426/20230426-095359-0993.log"
     ]
    }
   },
   "outputs": [],
   "source": [
    "# 16進数表現\n",
    "sa = to_ascii(s)\n",
    "print([\"{:x}\".format(a) for a in sa])"
   ]
  },
  {
   "cell_type": "code",
   "execution_count": null,
   "id": "975c8ede",
   "metadata": {
    "lc_cell_meme": {
     "current": "5525298c-c549-11ec-9fb7-02420a01013b-1-cab8",
     "history": [
      {
       "current": "5525298c-c549-11ec-9fb7-02420a01013b",
       "next": "ef879663-c547-11ec-8f4d-02420a01013b",
       "previous": "ef879118-c547-11ec-af5b-02420a01013b"
      },
      {
       "current": "5525298c-c549-11ec-9fb7-02420a01013b",
       "next": "2bce2bf3-c54a-11ec-a71c-02420a01013b",
       "previous": "ef879118-c547-11ec-af5b-02420a01013b"
      },
      {
       "current": "5525298c-c549-11ec-9fb7-02420a01013b",
       "next": "2bce2bf3-c54a-11ec-a71c-02420a01013b",
       "previous": "20736940-c54c-11ec-826c-02420a01013b"
      },
      {
       "current": "5525298c-c549-11ec-9fb7-02420a01013b-1-cab8",
       "next": "2bce2bf3-c54a-11ec-a71c-02420a01013b-2-8bf8-a25e",
       "previous": "20736940-c54c-11ec-826c-02420a01013b"
      }
     ],
     "next": "2bce2bf3-c54a-11ec-a71c-02420a01013b-3-8bf8-a25e-cea3",
     "previous": "20736940-c54c-11ec-826c-02420a01013b-1-e797"
    },
    "lc_wrapper": {
     "log_history": [
      "/home/cwhadminxe1bf95/textbook/.log/20220426/20220426-191216-0576.log",
      "/home/cwhadminxe1bf95/textbook/.log/20220426/20220426-191233-0604.log",
      "/home/cwhadminxe1bf95/textbook/.log/20220426/20220426-191244-0908.log",
      "/home/cwhadminxe1bf95/textbook/.log/20220426/20220426-191248-0450.log",
      "/home/cwhadminxe1bf95/textbook/.log/20220426/20220426-191258-0678.log",
      "/home/cwhadminxe1bf95/textbook/.log/20220426/20220426-191318-0557.log",
      "/home/cwhadminxe1bf95/textbook/.log/20220426/20220426-191420-0491.log",
      "/home/cwhadminxe1bf95/textbook/.log/20220426/20220426-191443-0430.log",
      "/home/cwhadminxe1bf95/textbook/.log/20220426/20220426-191445-0967.log",
      "/home/cwhadminxe1bf95/textbook/.log/20220426/20220426-191450-0375.log",
      "/home/cwhadminxe1bf95/textbook/.log/20220426/20220426-191506-0806.log",
      "/home/cwhadminxe1bf95/textbook/.log/20220426/20220426-191602-0144.log",
      "/home/cwhadminxe1bf95/textbook/.log/20220426/20220426-191610-0450.log",
      "/home/cwhadminxe1bf95/textbook/.log/20220426/20220426-191615-0965.log",
      "/home/cwhadminxe1bf95/textbook/.log/20220426/20220426-191622-0405.log",
      "/home/cwhadminxe1bf95/textbook/.log/20220426/20220426-191632-0673.log",
      "/home/cwhadminxe1bf95/textbook/.log/20220426/20220426-191709-0899.log",
      "/home/cwhadminxe1bf95/textbook/.log/20220426/20220426-191728-0566.log",
      "/home/cwhadminxe1bf95/textbook/.log/20220426/20220426-192731-0703.log",
      "/home/cwhadminxe1bf95/textbook/.log/20220426/20220426-193127-0004.log",
      "/home/cwhadminxe1bf95/textbook/.log/20220426/20220426-193200-0147.log",
      "/home/cwhadminxe1bf95/textbook/.log/20220426/20220426-193209-0160.log",
      "/home/cwhadminxe1bf95/textbook/.log/20220426/20220426-193220-0180.log",
      "/home/cwhadminxe1bf95/textbook/.log/20220426/20220426-194634-0660.log",
      "/home/cwhadminxe1bf95/textbook/.log/20221017/20221017-183901-0894.log",
      "/home/cwhadminxe1bf95/textbook/.log/20230426/20230426-093833-0523.log",
      "/home/cwhadminxe1bf95/textbook/.log/20230426/20230426-095222-0385.log",
      "/home/cwhadminxe1bf95/textbook/.log/20230426/20230426-095400-0504.log"
     ]
    }
   },
   "outputs": [],
   "source": [
    "# 2進数表現\n",
    "sa = to_ascii(s)\n",
    "print([\"{:08b}\".format(a) for a in sa])"
   ]
  },
  {
   "cell_type": "code",
   "execution_count": null,
   "id": "a78348ab",
   "metadata": {
    "lc_cell_meme": {
     "current": "2bce2bf3-c54a-11ec-a71c-02420a01013b-3-8bf8-a25e-cea3",
     "history": [
      {
       "current": "2bce2bf3-c54a-11ec-a71c-02420a01013b",
       "next": "ef879663-c547-11ec-8f4d-02420a01013b",
       "previous": "5525298c-c549-11ec-9fb7-02420a01013b"
      },
      {
       "current": "2bce2bf3-c54a-11ec-a71c-02420a01013b-3-8bf8-a25e-cea3",
       "next": "91739021-c54b-11ec-9a59-02420a01013b",
       "previous": "5525298c-c549-11ec-9fb7-02420a01013b"
      }
     ],
     "next": "91739021-c54b-11ec-9a59-02420a01013b-1-82b4",
     "previous": "5525298c-c549-11ec-9fb7-02420a01013b-1-cab8"
    },
    "lc_wrapper": {
     "log_history": [
      "/home/cwhadminxe1bf95/textbook/.log/20220426/20220426-191906-0043.log",
      "/home/cwhadminxe1bf95/textbook/.log/20220426/20220426-191914-0323.log",
      "/home/cwhadminxe1bf95/textbook/.log/20220426/20220426-191924-0093.log",
      "/home/cwhadminxe1bf95/textbook/.log/20220426/20220426-191935-0847.log",
      "/home/cwhadminxe1bf95/textbook/.log/20220426/20220426-191954-0093.log",
      "/home/cwhadminxe1bf95/textbook/.log/20220426/20220426-192129-0446.log",
      "/home/cwhadminxe1bf95/textbook/.log/20220426/20220426-192135-0608.log",
      "/home/cwhadminxe1bf95/textbook/.log/20220426/20220426-192144-0673.log",
      "/home/cwhadminxe1bf95/textbook/.log/20220426/20220426-192429-0031.log",
      "/home/cwhadminxe1bf95/textbook/.log/20220426/20220426-192441-0587.log",
      "/home/cwhadminxe1bf95/textbook/.log/20220426/20220426-192448-0490.log",
      "/home/cwhadminxe1bf95/textbook/.log/20220426/20220426-192456-0165.log",
      "/home/cwhadminxe1bf95/textbook/.log/20220426/20220426-192514-0225.log",
      "/home/cwhadminxe1bf95/textbook/.log/20220426/20220426-192525-0330.log",
      "/home/cwhadminxe1bf95/textbook/.log/20220426/20220426-192537-0331.log",
      "/home/cwhadminxe1bf95/textbook/.log/20220426/20220426-192613-0659.log",
      "/home/cwhadminxe1bf95/textbook/.log/20220426/20220426-192632-0242.log",
      "/home/cwhadminxe1bf95/textbook/.log/20220426/20220426-192647-0807.log",
      "/home/cwhadminxe1bf95/textbook/.log/20220426/20220426-192714-0758.log",
      "/home/cwhadminxe1bf95/textbook/.log/20220426/20220426-192733-0661.log",
      "/home/cwhadminxe1bf95/textbook/.log/20220426/20220426-192802-0465.log",
      "/home/cwhadminxe1bf95/textbook/.log/20220426/20220426-193225-0102.log",
      "/home/cwhadminxe1bf95/textbook/.log/20220426/20220426-194636-0887.log",
      "/home/cwhadminxe1bf95/textbook/.log/20221017/20221017-183904-0149.log",
      "/home/cwhadminxe1bf95/textbook/.log/20230426/20230426-093842-0077.log",
      "/home/cwhadminxe1bf95/textbook/.log/20230426/20230426-093843-0439.log",
      "/home/cwhadminxe1bf95/textbook/.log/20230426/20230426-095210-0654.log",
      "/home/cwhadminxe1bf95/textbook/.log/20230426/20230426-095223-0560.log",
      "/home/cwhadminxe1bf95/textbook/.log/20230426/20230426-095400-0963.log",
      "/home/cwhadminxe1bf95/textbook/.log/20230426/20230426-095507-0913.log",
      "/home/cwhadminxe1bf95/textbook/.log/20230426/20230426-095536-0456.log"
     ]
    }
   },
   "outputs": [],
   "source": [
    "# 4bitづつに分割します\n",
    "import math\n",
    "\n",
    "s_4 = []\n",
    "for a in to_ascii(s):\n",
    "\n",
    "    #上4桁\n",
    "    t = a >>4\n",
    "    #print(\"{:04b}\".format(t))\n",
    "    \n",
    "    #下4桁\n",
    "    b = a - (t<<4)\n",
    "    #print(\"{:04b}\".format(b))\n",
    "    \n",
    "    s_4.append(t)\n",
    "    s_4.append(b)\n",
    "\n",
    "print([\"{:04b}\".format(a) for a in s_4])"
   ]
  },
  {
   "cell_type": "code",
   "execution_count": null,
   "id": "792b5def",
   "metadata": {
    "lc_cell_meme": {
     "current": "91739021-c54b-11ec-9a59-02420a01013b-1-82b4",
     "history": [
      {
       "current": "91739021-c54b-11ec-9a59-02420a01013b",
       "next": "ef879663-c547-11ec-8f4d-02420a01013b",
       "previous": "2bce2bf3-c54a-11ec-a71c-02420a01013b"
      },
      {
       "current": "91739021-c54b-11ec-9a59-02420a01013b",
       "next": "d8ec2129-c54b-11ec-b8f8-02420a01013b",
       "previous": "2bce2bf3-c54a-11ec-a71c-02420a01013b"
      },
      {
       "current": "91739021-c54b-11ec-9a59-02420a01013b",
       "next": "5d983ce7-c5c7-11ec-b346-02420a01013b",
       "previous": "2bce2bf3-c54a-11ec-a71c-02420a01013b-2-8bf8-a25e"
      },
      {
       "current": "91739021-c54b-11ec-9a59-02420a01013b-1-82b4",
       "next": "5d9840dd-c5c7-11ec-8021-02420a01013b",
       "previous": "2bce2bf3-c54a-11ec-a71c-02420a01013b-2-8bf8-a25e"
      }
     ],
     "next": "5d9840dd-c5c7-11ec-8021-02420a01013b-1-10a0",
     "previous": "2bce2bf3-c54a-11ec-a71c-02420a01013b-3-8bf8-a25e-cea3"
    },
    "lc_wrapper": {
     "log_history": [
      "/home/cwhadminxe1bf95/textbook/.log/20220426/20220426-192704-0314.log",
      "/home/cwhadminxe1bf95/textbook/.log/20220426/20220426-192808-0427.log",
      "/home/cwhadminxe1bf95/textbook/.log/20220426/20220426-193227-0985.log",
      "/home/cwhadminxe1bf95/textbook/.log/20220426/20220426-194638-0942.log",
      "/home/cwhadminxe1bf95/textbook/.log/20221017/20221017-183907-0439.log",
      "/home/cwhadminxe1bf95/textbook/.log/20230426/20230426-093848-0195.log",
      "/home/cwhadminxe1bf95/textbook/.log/20230426/20230426-095226-0524.log",
      "/home/cwhadminxe1bf95/textbook/.log/20230426/20230426-095606-0932.log"
     ]
    }
   },
   "outputs": [],
   "source": [
    "print([b4b5[a] for a in s_4])"
   ]
  },
  {
   "cell_type": "markdown",
   "id": "0d2d3254",
   "metadata": {
    "lc_cell_meme": {
     "current": "5d9840dd-c5c7-11ec-8021-02420a01013b-1-10a0",
     "history": [
      {
       "current": "5d9840dd-c5c7-11ec-8021-02420a01013b",
       "next": "5d9841ca-c5c7-11ec-95b4-02420a01013b",
       "previous": "5d983fca-c5c7-11ec-b847-02420a01013b"
      },
      {
       "current": "5d9840dd-c5c7-11ec-8021-02420a01013b-1-10a0",
       "next": "5d9841ca-c5c7-11ec-95b4-02420a01013b",
       "previous": "91739021-c54b-11ec-9a59-02420a01013b"
      }
     ],
     "next": "5d9841ca-c5c7-11ec-95b4-02420a01013b-1-bfab",
     "previous": "91739021-c54b-11ec-9a59-02420a01013b-1-82b4"
    }
   },
   "source": [
    "### 適当な文字列で試してみる\n",
    "好きな文字例で試してみてください。"
   ]
  },
  {
   "cell_type": "code",
   "execution_count": null,
   "id": "a243693b",
   "metadata": {
    "lc_cell_meme": {
     "current": "5d9841ca-c5c7-11ec-95b4-02420a01013b-1-bfab",
     "history": [
      {
       "current": "5d9841ca-c5c7-11ec-95b4-02420a01013b",
       "next": "5d984289-c5c7-11ec-8a37-02420a01013b",
       "previous": "5d9840dd-c5c7-11ec-8021-02420a01013b"
      },
      {
       "current": "5d9841ca-c5c7-11ec-95b4-02420a01013b",
       "next": "5d983ce7-c5c7-11ec-b346-02420a01013b",
       "previous": "5d9840dd-c5c7-11ec-8021-02420a01013b"
      },
      {
       "current": "5d9841ca-c5c7-11ec-95b4-02420a01013b-1-bfab",
       "next": "9b343530-e3cc-11ed-be9a-02420a0101e2",
       "previous": "5d9840dd-c5c7-11ec-8021-02420a01013b"
      }
     ],
     "next": "9b343530-e3cc-11ed-be9a-02420a0101e2-1-2fe8",
     "previous": "5d9840dd-c5c7-11ec-8021-02420a01013b-1-10a0"
    },
    "lc_wrapper": {
     "log_history": [
      "/home/cwhadminxe1bf95/textbook/.log/20230426/20230426-093858-0700.log",
      "/home/cwhadminxe1bf95/textbook/.log/20230426/20230426-094713-0380.log",
      "/home/cwhadminxe1bf95/textbook/.log/20230426/20230426-094726-0842.log",
      "/home/cwhadminxe1bf95/textbook/.log/20230426/20230426-094900-0537.log",
      "/home/cwhadminxe1bf95/textbook/.log/20230426/20230426-094954-0432.log",
      "/home/cwhadminxe1bf95/textbook/.log/20230426/20230426-095229-0519.log",
      "/home/cwhadminxe1bf95/textbook/.log/20230426/20230426-095301-0494.log",
      "/home/cwhadminxe1bf95/textbook/.log/20230426/20230426-095553-0887.log"
     ]
    }
   },
   "outputs": [],
   "source": [
    "# to_asciiは文字列をASCIIコードに変える関数\n",
    "s = ''\n",
    "to_ascii(s)"
   ]
  },
  {
   "cell_type": "code",
   "execution_count": null,
   "id": "096927e4",
   "metadata": {
    "lc_cell_meme": {
     "current": "9b343530-e3cc-11ed-be9a-02420a0101e2-1-2fe8",
     "history": [
      {
       "current": "9b343530-e3cc-11ed-be9a-02420a0101e2-1-2fe8",
       "next": "5d983ce7-c5c7-11ec-b346-02420a01013b",
       "previous": "5d9841ca-c5c7-11ec-95b4-02420a01013b"
      }
     ],
     "next": "5d983ce7-c5c7-11ec-b346-02420a01013b-1-a927",
     "previous": "5d9841ca-c5c7-11ec-95b4-02420a01013b-1-bfab"
    },
    "lc_wrapper": {
     "log_history": [
      "/home/cwhadminxe1bf95/textbook/.log/20230426/20230426-095042-0657.log",
      "/home/cwhadminxe1bf95/textbook/.log/20230426/20230426-095230-0754.log",
      "/home/cwhadminxe1bf95/textbook/.log/20230426/20230426-095302-0726.log",
      "/home/cwhadminxe1bf95/textbook/.log/20230426/20230426-095554-0387.log"
     ]
    }
   },
   "outputs": [],
   "source": [
    "# 2進数表現\n",
    "sa = to_ascii(s)\n",
    "print([\"{:08b}\".format(a) for a in sa])"
   ]
  },
  {
   "cell_type": "code",
   "execution_count": null,
   "id": "102a9964",
   "metadata": {
    "lc_cell_meme": {
     "current": "5d983ce7-c5c7-11ec-b346-02420a01013b-1-a927",
     "history": [
      {
       "current": "5d983ce7-c5c7-11ec-b346-02420a01013b",
       "next": "5d983fca-c5c7-11ec-b847-02420a01013b",
       "previous": "91739021-c54b-11ec-9a59-02420a01013b"
      },
      {
       "current": "5d983ce7-c5c7-11ec-b346-02420a01013b",
       "next": "5d983fca-c5c7-11ec-b847-02420a01013b",
       "previous": "5d9841ca-c5c7-11ec-95b4-02420a01013b"
      },
      {
       "current": "5d983ce7-c5c7-11ec-b346-02420a01013b-1-a927",
       "next": "5d983fca-c5c7-11ec-b847-02420a01013b",
       "previous": "9b343530-e3cc-11ed-be9a-02420a0101e2"
      }
     ],
     "next": "5d983fca-c5c7-11ec-b847-02420a01013b-1-fd7b",
     "previous": "9b343530-e3cc-11ed-be9a-02420a0101e2-1-2fe8"
    },
    "lc_wrapper": {
     "log_history": [
      "/home/cwhadminxe1bf95/textbook/.log/20230426/20230426-093901-0376.log",
      "/home/cwhadminxe1bf95/textbook/.log/20230426/20230426-094715-0665.log",
      "/home/cwhadminxe1bf95/textbook/.log/20230426/20230426-094728-0264.log",
      "/home/cwhadminxe1bf95/textbook/.log/20230426/20230426-094856-0379.log",
      "/home/cwhadminxe1bf95/textbook/.log/20230426/20230426-094956-0383.log",
      "/home/cwhadminxe1bf95/textbook/.log/20230426/20230426-095018-0616.log",
      "/home/cwhadminxe1bf95/textbook/.log/20230426/20230426-095155-0202.log",
      "/home/cwhadminxe1bf95/textbook/.log/20230426/20230426-095231-0815.log",
      "/home/cwhadminxe1bf95/textbook/.log/20230426/20230426-095253-0347.log",
      "/home/cwhadminxe1bf95/textbook/.log/20230426/20230426-095303-0846.log",
      "/home/cwhadminxe1bf95/textbook/.log/20230426/20230426-095307-0108.log",
      "/home/cwhadminxe1bf95/textbook/.log/20230426/20230426-095554-0879.log"
     ]
    }
   },
   "outputs": [],
   "source": [
    "# 4bitづつに分割します\n",
    "import math\n",
    "\n",
    "s_4 = []\n",
    "for a in to_ascii(s):\n",
    "\n",
    "    #上4桁\n",
    "    t = a >>4\n",
    "    #print(\"{:04b}\".format(t))\n",
    "    \n",
    "    #下4桁\n",
    "    b = a - (t<<4)\n",
    "    #print(\"{:04b}\".format(b))\n",
    "    \n",
    "    s_4.append(t)\n",
    "    s_4.append(b)\n",
    "    \n",
    "print([\"{:04b}\".format(a) for a in s_4])"
   ]
  },
  {
   "cell_type": "code",
   "execution_count": null,
   "id": "4f9d813d",
   "metadata": {
    "lc_cell_meme": {
     "current": "5d983fca-c5c7-11ec-b847-02420a01013b-1-fd7b",
     "history": [
      {
       "current": "5d983fca-c5c7-11ec-b847-02420a01013b",
       "next": "5d9840dd-c5c7-11ec-8021-02420a01013b",
       "previous": "5d983ce7-c5c7-11ec-b346-02420a01013b"
      },
      {
       "current": "5d983fca-c5c7-11ec-b847-02420a01013b-1-fd7b",
       "next": "5d984289-c5c7-11ec-8a37-02420a01013b",
       "previous": "5d983ce7-c5c7-11ec-b346-02420a01013b"
      }
     ],
     "next": "5d984289-c5c7-11ec-8a37-02420a01013b-1-0424",
     "previous": "5d983ce7-c5c7-11ec-b346-02420a01013b-1-a927"
    },
    "lc_wrapper": {
     "log_history": [
      "/home/cwhadminxe1bf95/textbook/.log/20230426/20230426-093904-0231.log",
      "/home/cwhadminxe1bf95/textbook/.log/20230426/20230426-094718-0258.log",
      "/home/cwhadminxe1bf95/textbook/.log/20230426/20230426-094730-0033.log",
      "/home/cwhadminxe1bf95/textbook/.log/20230426/20230426-095201-0207.log",
      "/home/cwhadminxe1bf95/textbook/.log/20230426/20230426-095233-0900.log",
      "/home/cwhadminxe1bf95/textbook/.log/20230426/20230426-095316-0375.log",
      "/home/cwhadminxe1bf95/textbook/.log/20230426/20230426-095555-0824.log"
     ]
    }
   },
   "outputs": [],
   "source": [
    "print([b4b5[a] for a in s_4])"
   ]
  },
  {
   "cell_type": "code",
   "execution_count": null,
   "id": "618b2c3b",
   "metadata": {
    "lc_cell_meme": {
     "current": "5d984289-c5c7-11ec-8a37-02420a01013b-1-0424",
     "history": [
      {
       "current": "5d984289-c5c7-11ec-8a37-02420a01013b",
       "next": "d8ec2129-c54b-11ec-b8f8-02420a01013b-1-cab7",
       "previous": "5d9841ca-c5c7-11ec-95b4-02420a01013b"
      },
      {
       "current": "5d984289-c5c7-11ec-8a37-02420a01013b-1-0424",
       "next": "d8ec2129-c54b-11ec-b8f8-02420a01013b-1-cab7",
       "previous": "5d983fca-c5c7-11ec-b847-02420a01013b"
      }
     ],
     "next": "d8ec2129-c54b-11ec-b8f8-02420a01013b-2-cab7-e74c",
     "previous": "5d983fca-c5c7-11ec-b847-02420a01013b-1-fd7b"
    }
   },
   "outputs": [],
   "source": []
  },
  {
   "cell_type": "markdown",
   "id": "070e181e",
   "metadata": {
    "lc_cell_meme": {
     "current": "d8ec2129-c54b-11ec-b8f8-02420a01013b-2-cab7-e74c",
     "history": [
      {
       "current": "d8ec2129-c54b-11ec-b8f8-02420a01013b",
       "next": "ef879663-c547-11ec-8f4d-02420a01013b",
       "previous": "91739021-c54b-11ec-9a59-02420a01013b"
      },
      {
       "current": "d8ec2129-c54b-11ec-b8f8-02420a01013b-1-cab7",
       "next": "20736bd6-c54c-11ec-834f-02420a01013b",
       "previous": "91739021-c54b-11ec-9a59-02420a01013b"
      },
      {
       "current": "d8ec2129-c54b-11ec-b8f8-02420a01013b-2-cab7-e74c",
       "next": "20736bd6-c54c-11ec-834f-02420a01013b",
       "previous": "5d984289-c5c7-11ec-8a37-02420a01013b"
      }
     ],
     "next": "20736bd6-c54c-11ec-834f-02420a01013b-1-275f",
     "previous": "5d984289-c5c7-11ec-8a37-02420a01013b-1-0424"
    }
   },
   "source": [
    "# 波束の説明"
   ]
  },
  {
   "cell_type": "code",
   "execution_count": null,
   "id": "90f5a1ad",
   "metadata": {
    "lc_cell_meme": {
     "current": "20736bd6-c54c-11ec-834f-02420a01013b-1-275f",
     "history": [
      {
       "current": "20736bd6-c54c-11ec-834f-02420a01013b",
       "next": "6c6dba23-c3b7-11ec-a0ca-02420a01013b",
       "previous": "d8ec2129-c54b-11ec-b8f8-02420a01013b"
      },
      {
       "current": "20736bd6-c54c-11ec-834f-02420a01013b-1-275f",
       "next": "6c6dba23-c3b7-11ec-a0ca-02420a01013b",
       "previous": "d8ec2129-c54b-11ec-b8f8-02420a01013b-1-cab7"
      }
     ],
     "next": "6c6dba23-c3b7-11ec-a0ca-02420a01013b-1-c116",
     "previous": "d8ec2129-c54b-11ec-b8f8-02420a01013b-2-cab7-e74c"
    },
    "lc_wrapper": {
     "log_history": [
      "/home/cwhadminxe1bf95/textbook/.log/20220427/20220427-093153-0696.log",
      "/home/cwhadminxe1bf95/textbook/.log/20220427/20220427-093217-0505.log",
      "/home/cwhadminxe1bf95/textbook/.log/20220427/20220427-093227-0314.log",
      "/home/cwhadminxe1bf95/textbook/.log/20220427/20220427-093243-0259.log",
      "/home/cwhadminxe1bf95/textbook/.log/20220427/20220427-093251-0278.log",
      "/home/cwhadminxe1bf95/textbook/.log/20220427/20220427-093333-0414.log",
      "/home/cwhadminxe1bf95/textbook/.log/20220427/20220427-093409-0641.log",
      "/home/cwhadminxe1bf95/textbook/.log/20220427/20220427-093454-0496.log",
      "/home/cwhadminxe1bf95/textbook/.log/20220427/20220427-093518-0960.log",
      "/home/cwhadminxe1bf95/textbook/.log/20220427/20220427-093525-0218.log",
      "/home/cwhadminxe1bf95/textbook/.log/20220427/20220427-093716-0126.log",
      "/home/cwhadminxe1bf95/textbook/.log/20220427/20220427-093842-0999.log",
      "/home/cwhadminxe1bf95/textbook/.log/20220427/20220427-093859-0068.log",
      "/home/cwhadminxe1bf95/textbook/.log/20220427/20220427-093910-0469.log",
      "/home/cwhadminxe1bf95/textbook/.log/20220427/20220427-093925-0356.log",
      "/home/cwhadminxe1bf95/textbook/.log/20220427/20220427-094142-0353.log",
      "/home/cwhadminxe1bf95/textbook/.log/20220427/20220427-094152-0606.log",
      "/home/cwhadminxe1bf95/textbook/.log/20220427/20220427-094156-0024.log",
      "/home/cwhadminxe1bf95/textbook/.log/20220427/20220427-094210-0931.log",
      "/home/cwhadminxe1bf95/textbook/.log/20220427/20220427-094214-0953.log",
      "/home/cwhadminxe1bf95/textbook/.log/20220427/20220427-094239-0881.log",
      "/home/cwhadminxe1bf95/textbook/.log/20220427/20220427-094817-0485.log",
      "/home/cwhadminxe1bf95/textbook/.log/20220427/20220427-094821-0797.log",
      "/home/cwhadminxe1bf95/textbook/.log/20220427/20220427-094825-0645.log",
      "/home/cwhadminxe1bf95/textbook/.log/20220427/20220427-094849-0076.log",
      "/home/cwhadminxe1bf95/textbook/.log/20220427/20220427-094853-0787.log",
      "/home/cwhadminxe1bf95/textbook/.log/20220427/20220427-094940-0067.log",
      "/home/cwhadminxe1bf95/textbook/.log/20220427/20220427-094950-0877.log",
      "/home/cwhadminxe1bf95/textbook/.log/20220427/20220427-094955-0695.log",
      "/home/cwhadminxe1bf95/textbook/.log/20220427/20220427-095008-0024.log",
      "/home/cwhadminxe1bf95/textbook/.log/20220427/20220427-095034-0627.log",
      "/home/cwhadminxe1bf95/textbook/.log/20220427/20220427-095047-0077.log",
      "/home/cwhadminxe1bf95/textbook/.log/20220427/20220427-095100-0313.log",
      "/home/cwhadminxe1bf95/textbook/.log/20220427/20220427-095107-0514.log",
      "/home/cwhadminxe1bf95/textbook/.log/20220427/20220427-095126-0096.log",
      "/home/cwhadminxe1bf95/textbook/.log/20220427/20220427-095131-0958.log",
      "/home/cwhadminxe1bf95/textbook/.log/20220427/20220427-095148-0912.log",
      "/home/cwhadminxe1bf95/textbook/.log/20220427/20220427-095228-0270.log",
      "/home/cwhadminxe1bf95/textbook/.log/20220427/20220427-095252-0703.log",
      "/home/cwhadminxe1bf95/textbook/.log/20220427/20220427-095303-0246.log",
      "/home/cwhadminxe1bf95/textbook/.log/20220427/20220427-095316-0445.log",
      "/home/cwhadminxe1bf95/textbook/.log/20220427/20220427-095332-0601.log",
      "/home/cwhadminxe1bf95/textbook/.log/20220427/20220427-095338-0166.log",
      "/home/cwhadminxe1bf95/textbook/.log/20220427/20220427-095356-0096.log",
      "/home/cwhadminxe1bf95/textbook/.log/20220427/20220427-095402-0462.log",
      "/home/cwhadminxe1bf95/textbook/.log/20220427/20220427-095535-0195.log",
      "/home/cwhadminxe1bf95/textbook/.log/20220427/20220427-095540-0008.log",
      "/home/cwhadminxe1bf95/textbook/.log/20220427/20220427-095546-0605.log",
      "/home/cwhadminxe1bf95/textbook/.log/20220427/20220427-095604-0137.log",
      "/home/cwhadminxe1bf95/textbook/.log/20220427/20220427-095624-0139.log",
      "/home/cwhadminxe1bf95/textbook/.log/20220427/20220427-095627-0946.log",
      "/home/cwhadminxe1bf95/textbook/.log/20220427/20220427-095632-0506.log",
      "/home/cwhadminxe1bf95/textbook/.log/20220427/20220427-095637-0323.log",
      "/home/cwhadminxe1bf95/textbook/.log/20220427/20220427-095641-0265.log",
      "/home/cwhadminxe1bf95/textbook/.log/20220427/20220427-095645-0546.log",
      "/home/cwhadminxe1bf95/textbook/.log/20220427/20220427-095651-0309.log",
      "/home/cwhadminxe1bf95/textbook/.log/20220427/20220427-095709-0830.log",
      "/home/cwhadminxe1bf95/textbook/.log/20220427/20220427-095718-0440.log",
      "/home/cwhadminxe1bf95/textbook/.log/20220427/20220427-095721-0981.log",
      "/home/cwhadminxe1bf95/textbook/.log/20220427/20220427-095749-0572.log",
      "/home/cwhadminxe1bf95/textbook/.log/20220427/20220427-095755-0404.log",
      "/home/cwhadminxe1bf95/textbook/.log/20220427/20220427-095805-0242.log",
      "/home/cwhadminxe1bf95/textbook/.log/20220427/20220427-095809-0619.log",
      "/home/cwhadminxe1bf95/textbook/.log/20220427/20220427-095815-0273.log",
      "/home/cwhadminxe1bf95/textbook/.log/20220427/20220427-095823-0235.log",
      "/home/cwhadminxe1bf95/textbook/.log/20220427/20220427-095825-0819.log",
      "/home/cwhadminxe1bf95/textbook/.log/20220427/20220427-095830-0291.log",
      "/home/cwhadminxe1bf95/textbook/.log/20220427/20220427-095833-0699.log",
      "/home/cwhadminxe1bf95/textbook/.log/20220427/20220427-095837-0355.log",
      "/home/cwhadminxe1bf95/textbook/.log/20220427/20220427-100606-0232.log",
      "/home/cwhadminxe1bf95/textbook/.log/20221017/20221017-183507-0799.log",
      "/home/cwhadminxe1bf95/textbook/.log/20230425/20230425-194232-0541.log"
     ]
    },
    "scrolled": false
   },
   "outputs": [],
   "source": [
    "import matplotlib.pyplot as plt\n",
    "import math \n",
    "import numpy as np\n",
    "\n",
    "def sin_sum(x,d,a,n):\n",
    "    t = 0\n",
    "    for k in range(n):\n",
    "\n",
    "        kk = k*d\n",
    "#        print(kk)\n",
    "        t = t + np.sin(kk*x)*np.exp(-(kk - a)**2)\n",
    "        \n",
    "    return t\n",
    "\n",
    "x = np.linspace(-5,5,100)\n",
    "y = sin_sum(x,0.5,5,20)\n",
    "plt.plot(x,y) \n",
    "plt.show()"
   ]
  },
  {
   "cell_type": "code",
   "execution_count": null,
   "id": "3018adca",
   "metadata": {
    "lc_cell_meme": {
     "current": "6c6dba23-c3b7-11ec-a0ca-02420a01013b-1-c116",
     "history": [
      {
       "current": "6c6dba23-c3b7-11ec-a0ca-02420a01013b",
       "next": null,
       "previous": "248db157-c3b7-11ec-b981-02420a01013b"
      },
      {
       "current": "6c6dba23-c3b7-11ec-a0ca-02420a01013b",
       "next": null,
       "previous": "20736bd6-c54c-11ec-834f-02420a01013b"
      },
      {
       "current": "6c6dba23-c3b7-11ec-a0ca-02420a01013b-1-c116",
       "next": "b06680fc-c5c5-11ec-8c1f-02420a01013b",
       "previous": "20736bd6-c54c-11ec-834f-02420a01013b"
      }
     ],
     "next": "b06680fc-c5c5-11ec-8c1f-02420a01013b-1-7d85",
     "previous": "20736bd6-c54c-11ec-834f-02420a01013b-1-275f"
    },
    "lc_wrapper": {
     "log_history": [
      "/home/cwhadminxe1bf95/textbook/.log/20220427/20220427-100106-0824.log",
      "/home/cwhadminxe1bf95/textbook/.log/20220427/20220427-100114-0803.log",
      "/home/cwhadminxe1bf95/textbook/.log/20220427/20220427-100121-0511.log",
      "/home/cwhadminxe1bf95/textbook/.log/20220427/20220427-100223-0035.log",
      "/home/cwhadminxe1bf95/textbook/.log/20220427/20220427-100227-0184.log",
      "/home/cwhadminxe1bf95/textbook/.log/20220427/20220427-100323-0827.log",
      "/home/cwhadminxe1bf95/textbook/.log/20220427/20220427-100333-0787.log",
      "/home/cwhadminxe1bf95/textbook/.log/20220427/20220427-100338-0825.log",
      "/home/cwhadminxe1bf95/textbook/.log/20220427/20220427-100347-0684.log",
      "/home/cwhadminxe1bf95/textbook/.log/20220427/20220427-100354-0768.log",
      "/home/cwhadminxe1bf95/textbook/.log/20220427/20220427-100410-0478.log",
      "/home/cwhadminxe1bf95/textbook/.log/20220427/20220427-100430-0043.log",
      "/home/cwhadminxe1bf95/textbook/.log/20220427/20220427-100536-0488.log",
      "/home/cwhadminxe1bf95/textbook/.log/20220427/20220427-100613-0889.log",
      "/home/cwhadminxe1bf95/textbook/.log/20221017/20221017-183510-0005.log",
      "/home/cwhadminxe1bf95/textbook/.log/20230425/20230425-194236-0135.log"
     ]
    }
   },
   "outputs": [],
   "source": [
    "import numpy as np\n",
    "import matplotlib.pyplot as plt\n",
    "plt.ion()\n",
    "x = np.linspace(-5,5,100)\n",
    "#np.arange(100)\n",
    "fig, ax = plt.subplots(1, 1)\n",
    "#ax.set_title('all in one')\n",
    "ax.set_xlabel('x')\n",
    "ax.set_ylabel('y')\n",
    "\n",
    "n=20\n",
    "d=0.5\n",
    "a=5\n",
    "for k in range(n):\n",
    "    kk = k*d\n",
    "    y = np.sin(kk*x)*np.exp(-(kk - a)**2)\n",
    "    ax.plot(x, y)\n",
    "#for order in range(1, 4 + 1):\n",
    "#    y = x ** order\n",
    "#    ax.plot(x, y, 'o-', ms=4, label=f\"y{order}\")\n",
    "\n",
    "ax.legend()\n",
    "#fig.savefig('all_in_one')"
   ]
  },
  {
   "cell_type": "code",
   "execution_count": null,
   "id": "18998ef1",
   "metadata": {
    "lc_cell_meme": {
     "current": "b06680fc-c5c5-11ec-8c1f-02420a01013b-1-7d85",
     "history": [
      {
       "current": "b06680fc-c5c5-11ec-8c1f-02420a01013b-1-7d85",
       "next": null,
       "previous": "6c6dba23-c3b7-11ec-a0ca-02420a01013b"
      }
     ],
     "next": null,
     "previous": "6c6dba23-c3b7-11ec-a0ca-02420a01013b-1-c116"
    }
   },
   "outputs": [],
   "source": []
  }
 ],
 "metadata": {
  "kernelspec": {
   "display_name": "Python 3",
   "language": "python",
   "name": "python3"
  },
  "language_info": {
   "file_extension": ".py",
   "mimetype": "text/x-python",
   "name": "python",
   "nbconvert_exporter": "python",
   "pygments_lexer": "ipython3",
   "version": "3.10.4"
  },
  "lc_notebook_meme": {
   "current": "4227b554-c3a9-11ec-abcd-02420a01013b",
   "lc_server_signature": {
    "current": {
     "notebook_dir": "/home/jovyan",
     "notebook_path": "/notebooks/CWH2021_2022/cwhadminxe1bf95/textbook",
     "server_url": "http://192.168.11.68:8888/",
     "signature_id": "2fbfd3ec-6d93-11ee-a970-0242ac120002"
    },
    "history": [
     {
      "notebook_dir": "/home/cwhadminxe1bf95",
      "notebook_path": "/textbook",
      "server_url": "https://cwh.media.gunma-u.ac.jp/user/cwhadminxe1bf95/",
      "signature_id": "d287dc56-b8b1-11ec-b3eb-23e3164b790f"
     }
    ]
   }
  },
  "toc": {
   "base_numbering": 1,
   "nav_menu": {},
   "number_sections": true,
   "sideBar": true,
   "skip_h1_title": false,
   "title_cell": "Table of Contents",
   "title_sidebar": "Contents",
   "toc_cell": false,
   "toc_position": {},
   "toc_section_display": true,
   "toc_window_display": false
  }
 },
 "nbformat": 4,
 "nbformat_minor": 5
}
