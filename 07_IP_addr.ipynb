{
 "cells": [
  {
   "cell_type": "markdown",
   "id": "9ce29eee",
   "metadata": {
    "lc_cell_meme": {
     "current": "50490cce-e08c-11ec-a99e-02420a01013b-2-fa9b-6e5e",
     "history": [
      {
       "current": "50490cce-e08c-11ec-a99e-02420a01013b",
       "next": "50490f91-e08c-11ec-be73-02420a01013b",
       "previous": null
      },
      {
       "current": "50490cce-e08c-11ec-a99e-02420a01013b",
       "next": "6e50b591-e08c-11ec-8e0d-02420a01013b",
       "previous": null
      },
      {
       "current": "50490cce-e08c-11ec-a99e-02420a01013b-1-fa9b",
       "next": "9ddac464-e091-11ec-8606-02420a01013b",
       "previous": null
      },
      {
       "current": "50490cce-e08c-11ec-a99e-02420a01013b-2-fa9b-6e5e",
       "next": "9ddac464-e091-11ec-8606-02420a01013b-1-644d",
       "previous": null
      }
     ],
     "next": "9ddac464-e091-11ec-8606-02420a01013b-2-644d-f7cb",
     "previous": null
    }
   },
   "source": [
    "# IPアドレス"
   ]
  },
  {
   "cell_type": "markdown",
   "id": "a5fbbfa7",
   "metadata": {
    "lc_cell_meme": {
     "current": "9ddac464-e091-11ec-8606-02420a01013b-2-644d-f7cb",
     "history": [
      {
       "current": "9ddac464-e091-11ec-8606-02420a01013b",
       "next": "6e50b591-e08c-11ec-8e0d-02420a01013b",
       "previous": "50490cce-e08c-11ec-a99e-02420a01013b"
      },
      {
       "current": "9ddac464-e091-11ec-8606-02420a01013b",
       "next": "bd140a6e-e091-11ec-9c93-02420a01013b",
       "previous": "50490cce-e08c-11ec-a99e-02420a01013b"
      },
      {
       "current": "9ddac464-e091-11ec-8606-02420a01013b-1-644d",
       "next": "6e50b591-e08c-11ec-8e0d-02420a01013b",
       "previous": "50490cce-e08c-11ec-a99e-02420a01013b"
      },
      {
       "current": "9ddac464-e091-11ec-8606-02420a01013b-2-644d-f7cb",
       "next": "6e50b591-e08c-11ec-8e0d-02420a01013b-1-7cda",
       "previous": "50490cce-e08c-11ec-a99e-02420a01013b-1-fa9b"
      }
     ],
     "next": "6e50b591-e08c-11ec-8e0d-02420a01013b-2-7cda-05e7",
     "previous": "50490cce-e08c-11ec-a99e-02420a01013b-2-fa9b-6e5e"
    }
   },
   "source": [
    "演習を始める前に，一度サーバを再起動してください。\n",
    "\n",
    "- 右上のControl Panelをクリック\n",
    "\n",
    "- Stop My Serverをクリック\n",
    "\n",
    "- Start My Serverをクリック\n",
    "\n",
    "エラーが出たら，エラー内のリンクをクリックすれば復帰します。"
   ]
  },
  {
   "cell_type": "markdown",
   "id": "c60ebebb",
   "metadata": {
    "lc_cell_meme": {
     "current": "6e50b591-e08c-11ec-8e0d-02420a01013b-2-7cda-05e7",
     "history": [
      {
       "current": "6e50b591-e08c-11ec-8e0d-02420a01013b",
       "next": "50490f91-e08c-11ec-be73-02420a01013b",
       "previous": "50490cce-e08c-11ec-a99e-02420a01013b"
      },
      {
       "current": "6e50b591-e08c-11ec-8e0d-02420a01013b",
       "next": "b63a7fe0-e08c-11ec-8982-02420a01013b",
       "previous": "50490cce-e08c-11ec-a99e-02420a01013b"
      },
      {
       "current": "6e50b591-e08c-11ec-8e0d-02420a01013b",
       "next": "b63a7fe0-e08c-11ec-8982-02420a01013b",
       "previous": "9ddac464-e091-11ec-8606-02420a01013b"
      },
      {
       "current": "6e50b591-e08c-11ec-8e0d-02420a01013b",
       "next": "b63a7fe0-e08c-11ec-8982-02420a01013b",
       "previous": "bd140a6e-e091-11ec-9c93-02420a01013b"
      },
      {
       "current": "6e50b591-e08c-11ec-8e0d-02420a01013b-1-7cda",
       "next": "b63a7fe0-e08c-11ec-8982-02420a01013b",
       "previous": "9ddac464-e091-11ec-8606-02420a01013b"
      },
      {
       "current": "6e50b591-e08c-11ec-8e0d-02420a01013b-2-7cda-05e7",
       "next": "b63a7fe0-e08c-11ec-8982-02420a01013b-1-43fb",
       "previous": "9ddac464-e091-11ec-8606-02420a01013b-1-644d"
      }
     ],
     "next": "b63a7fe0-e08c-11ec-8982-02420a01013b-2-43fb-04de",
     "previous": "9ddac464-e091-11ec-8606-02420a01013b-2-644d-f7cb"
    }
   },
   "source": [
    "## インタフェース/リンク情報"
   ]
  },
  {
   "cell_type": "markdown",
   "id": "9d8620a8",
   "metadata": {
    "lc_cell_meme": {
     "current": "b63a7fe0-e08c-11ec-8982-02420a01013b-2-43fb-04de",
     "history": [
      {
       "current": "b63a7fe0-e08c-11ec-8982-02420a01013b-1-43fb",
       "next": "50490f91-e08c-11ec-be73-02420a01013b",
       "previous": "6e50b591-e08c-11ec-8e0d-02420a01013b"
      },
      {
       "current": "b63a7fe0-e08c-11ec-8982-02420a01013b-2-43fb-04de",
       "next": "50490f91-e08c-11ec-be73-02420a01013b-1-85ff",
       "previous": "6e50b591-e08c-11ec-8e0d-02420a01013b-1-7cda"
      }
     ],
     "next": "50490f91-e08c-11ec-be73-02420a01013b-2-85ff-487e",
     "previous": "6e50b591-e08c-11ec-8e0d-02420a01013b-2-7cda-05e7"
    }
   },
   "source": [
    "以下の情報が表示されます。確認してみましょう。\n",
    "- ネットワークインターフェース\n",
    "- MACアドレス"
   ]
  },
  {
   "cell_type": "code",
   "execution_count": null,
   "id": "157e137e",
   "metadata": {
    "lc_cell_meme": {
     "current": "50490f91-e08c-11ec-be73-02420a01013b-2-85ff-487e",
     "history": [
      {
       "current": "50490f91-e08c-11ec-be73-02420a01013b",
       "next": null,
       "previous": "50490cce-e08c-11ec-a99e-02420a01013b"
      },
      {
       "current": "50490f91-e08c-11ec-be73-02420a01013b",
       "next": "6e50bb5f-e08c-11ec-8dd8-02420a01013b",
       "previous": "6e50b591-e08c-11ec-8e0d-02420a01013b"
      },
      {
       "current": "50490f91-e08c-11ec-be73-02420a01013b",
       "next": "6e50bb5f-e08c-11ec-8dd8-02420a01013b",
       "previous": "b63a7fe0-e08c-11ec-8982-02420a01013b"
      },
      {
       "current": "50490f91-e08c-11ec-be73-02420a01013b",
       "next": "6e50bb5f-e08c-11ec-8dd8-02420a01013b-1-1e9e",
       "previous": "b63a7fe0-e08c-11ec-8982-02420a01013b"
      },
      {
       "current": "50490f91-e08c-11ec-be73-02420a01013b",
       "next": "31c1b6d0-e08f-11ec-a667-02420a01013b",
       "previous": "b63a7fe0-e08c-11ec-8982-02420a01013b"
      },
      {
       "current": "50490f91-e08c-11ec-be73-02420a01013b-1-85ff",
       "next": "10d45d10-e090-11ec-84ac-02420a01013b",
       "previous": "b63a7fe0-e08c-11ec-8982-02420a01013b"
      },
      {
       "current": "50490f91-e08c-11ec-be73-02420a01013b-2-85ff-487e",
       "next": "10d45d10-e090-11ec-84ac-02420a01013b-1-1167",
       "previous": "b63a7fe0-e08c-11ec-8982-02420a01013b-1-43fb"
      }
     ],
     "next": "10d45d10-e090-11ec-84ac-02420a01013b-2-1167-27dc",
     "previous": "b63a7fe0-e08c-11ec-8982-02420a01013b-2-43fb-04de"
    },
    "lc_wrapper": {
     "log_history": [
      "/home/cwhadminxe1bf95/textbook/.log/20220531/20220531-114949-0791.log",
      "/home/cwhadminxe1bf95/textbook/.log/20220531/20220531-121540-0328.log",
      "/home/cwhadminxe1bf95/textbook/.log/20220607/20220607-182553-0472.log"
     ]
    }
   },
   "outputs": [],
   "source": [
    "! ip link"
   ]
  },
  {
   "cell_type": "markdown",
   "id": "86473490",
   "metadata": {
    "lc_cell_meme": {
     "current": "10d45d10-e090-11ec-84ac-02420a01013b-2-1167-27dc",
     "history": [
      {
       "current": "10d45d10-e090-11ec-84ac-02420a01013b-1-1167",
       "next": "10d46054-e090-11ec-8c47-02420a01013b",
       "previous": "50490f91-e08c-11ec-be73-02420a01013b"
      },
      {
       "current": "10d45d10-e090-11ec-84ac-02420a01013b-2-1167-27dc",
       "next": "10d46054-e090-11ec-8c47-02420a01013b-1-f55c",
       "previous": "50490f91-e08c-11ec-be73-02420a01013b-1-85ff"
      }
     ],
     "next": "10d46054-e090-11ec-8c47-02420a01013b-2-f55c-826e",
     "previous": "50490f91-e08c-11ec-be73-02420a01013b-2-85ff-487e"
    }
   },
   "source": [
    "## IP情報"
   ]
  },
  {
   "cell_type": "markdown",
   "id": "c8f86d35",
   "metadata": {
    "lc_cell_meme": {
     "current": "10d46054-e090-11ec-8c47-02420a01013b-2-f55c-826e",
     "history": [
      {
       "current": "10d46054-e090-11ec-8c47-02420a01013b-1-f55c",
       "next": "10d4615d-e090-11ec-9e2b-02420a01013b",
       "previous": "10d45d10-e090-11ec-84ac-02420a01013b"
      },
      {
       "current": "10d46054-e090-11ec-8c47-02420a01013b-2-f55c-826e",
       "next": "10d4615d-e090-11ec-9e2b-02420a01013b-1-0b95",
       "previous": "10d45d10-e090-11ec-84ac-02420a01013b-1-1167"
      }
     ],
     "next": "10d4615d-e090-11ec-9e2b-02420a01013b-2-0b95-82ae",
     "previous": "10d45d10-e090-11ec-84ac-02420a01013b-2-1167-27dc"
    }
   },
   "source": [
    "以下の情報が表示されます。確認してみましょう。\n",
    "- （ネットワークインターフェース）\n",
    "- （MACアドレス）\n",
    "- IPアドレス\n",
    "- サブネット\n",
    "- ブロードキャストアドレス"
   ]
  },
  {
   "cell_type": "code",
   "execution_count": null,
   "id": "614a792c",
   "metadata": {
    "lc_cell_meme": {
     "current": "10d4615d-e090-11ec-9e2b-02420a01013b-2-0b95-82ae",
     "history": [
      {
       "current": "10d4615d-e090-11ec-9e2b-02420a01013b-1-0b95",
       "next": "31c1b6d0-e08f-11ec-a667-02420a01013b",
       "previous": "10d46054-e090-11ec-8c47-02420a01013b"
      },
      {
       "current": "10d4615d-e090-11ec-9e2b-02420a01013b-2-0b95-82ae",
       "next": "31c1b6d0-e08f-11ec-a667-02420a01013b-1-6a5c",
       "previous": "10d46054-e090-11ec-8c47-02420a01013b-1-f55c"
      }
     ],
     "next": "31c1b6d0-e08f-11ec-a667-02420a01013b-2-6a5c-9678",
     "previous": "10d46054-e090-11ec-8c47-02420a01013b-2-f55c-826e"
    },
    "lc_wrapper": {
     "log_history": [
      "/home/cwhadminxe1bf95/textbook/.log/20220531/20220531-121546-0523.log",
      "/home/cwhadminxe1bf95/textbook/.log/20220531/20220531-123436-0797.log",
      "/home/cwhadminxe1bf95/textbook/.log/20220607/20220607-182558-0717.log"
     ]
    }
   },
   "outputs": [],
   "source": [
    "! ip addr"
   ]
  },
  {
   "cell_type": "markdown",
   "id": "c5e17ed6",
   "metadata": {
    "lc_cell_meme": {
     "current": "31c1b6d0-e08f-11ec-a667-02420a01013b-2-6a5c-9678",
     "history": [
      {
       "current": "31c1b6d0-e08f-11ec-a667-02420a01013b",
       "next": "6e50bb5f-e08c-11ec-8dd8-02420a01013b-1-1e9e",
       "previous": "50490f91-e08c-11ec-be73-02420a01013b"
      },
      {
       "current": "31c1b6d0-e08f-11ec-a667-02420a01013b-1-6a5c",
       "next": "6e50bb5f-e08c-11ec-8dd8-02420a01013b-1-1e9e",
       "previous": "10d4615d-e090-11ec-9e2b-02420a01013b"
      },
      {
       "current": "31c1b6d0-e08f-11ec-a667-02420a01013b-2-6a5c-9678",
       "next": "6e50bb5f-e08c-11ec-8dd8-02420a01013b-2-1e9e-f4b5",
       "previous": "10d4615d-e090-11ec-9e2b-02420a01013b-1-0b95"
      }
     ],
     "next": "6e50bb5f-e08c-11ec-8dd8-02420a01013b-3-1e9e-f4b5-ddc2",
     "previous": "10d4615d-e090-11ec-9e2b-02420a01013b-2-0b95-82ae"
    }
   },
   "source": [
    "## ルート情報"
   ]
  },
  {
   "cell_type": "markdown",
   "id": "ff5edd50",
   "metadata": {
    "lc_cell_meme": {
     "current": "6e50bb5f-e08c-11ec-8dd8-02420a01013b-3-1e9e-f4b5-ddc2",
     "history": [
      {
       "current": "6e50bb5f-e08c-11ec-8dd8-02420a01013b-1-1e9e",
       "next": "44dc3f4a-e08d-11ec-956a-02420a01013b",
       "previous": "50490f91-e08c-11ec-be73-02420a01013b"
      },
      {
       "current": "6e50bb5f-e08c-11ec-8dd8-02420a01013b-2-1e9e-f4b5",
       "next": "44dc3f4a-e08d-11ec-956a-02420a01013b",
       "previous": "31c1b6d0-e08f-11ec-a667-02420a01013b"
      },
      {
       "current": "6e50bb5f-e08c-11ec-8dd8-02420a01013b-3-1e9e-f4b5-ddc2",
       "next": "44dc3f4a-e08d-11ec-956a-02420a01013b-1-f558",
       "previous": "31c1b6d0-e08f-11ec-a667-02420a01013b-1-6a5c"
      }
     ],
     "next": "44dc3f4a-e08d-11ec-956a-02420a01013b-2-f558-0c2c",
     "previous": "31c1b6d0-e08f-11ec-a667-02420a01013b-2-6a5c-9678"
    }
   },
   "source": [
    "デフォルトゲートウエイが分かります。確認してみましょう。"
   ]
  },
  {
   "cell_type": "code",
   "execution_count": null,
   "id": "8643624e",
   "metadata": {
    "lc_cell_meme": {
     "current": "44dc3f4a-e08d-11ec-956a-02420a01013b-2-f558-0c2c",
     "history": [
      {
       "current": "44dc3f4a-e08d-11ec-956a-02420a01013b",
       "next": "44dc4227-e08d-11ec-a030-02420a01013b",
       "previous": "6e50bb5f-e08c-11ec-8dd8-02420a01013b-1-1e9e"
      },
      {
       "current": "44dc3f4a-e08d-11ec-956a-02420a01013b",
       "next": "44dc4227-e08d-11ec-a030-02420a01013b-1-91ad",
       "previous": "6e50bb5f-e08c-11ec-8dd8-02420a01013b-1-1e9e"
      },
      {
       "current": "44dc3f4a-e08d-11ec-956a-02420a01013b",
       "next": "31c1bc72-e08f-11ec-bcda-02420a01013b",
       "previous": "6e50bb5f-e08c-11ec-8dd8-02420a01013b-1-1e9e"
      },
      {
       "current": "44dc3f4a-e08d-11ec-956a-02420a01013b",
       "next": "e75f8c52-e090-11ec-a7c3-02420a01013b",
       "previous": "6e50bb5f-e08c-11ec-8dd8-02420a01013b-1-1e9e"
      },
      {
       "current": "44dc3f4a-e08d-11ec-956a-02420a01013b-1-f558",
       "next": "2e5ba68c-e091-11ec-8d1f-02420a01013b",
       "previous": "6e50bb5f-e08c-11ec-8dd8-02420a01013b-1-1e9e"
      },
      {
       "current": "44dc3f4a-e08d-11ec-956a-02420a01013b-2-f558-0c2c",
       "next": "2e5ba68c-e091-11ec-8d1f-02420a01013b-1-0b8a",
       "previous": "6e50bb5f-e08c-11ec-8dd8-02420a01013b-2-1e9e-f4b5"
      }
     ],
     "next": "2e5ba68c-e091-11ec-8d1f-02420a01013b-2-0b8a-d41c",
     "previous": "6e50bb5f-e08c-11ec-8dd8-02420a01013b-3-1e9e-f4b5-ddc2"
    },
    "lc_wrapper": {
     "log_history": [
      "/home/cwhadminxe1bf95/textbook/.log/20220531/20220531-115548-0779.log",
      "/home/cwhadminxe1bf95/textbook/.log/20220607/20220607-182607-0490.log"
     ]
    }
   },
   "outputs": [],
   "source": [
    "! ip route"
   ]
  },
  {
   "cell_type": "markdown",
   "id": "da078555",
   "metadata": {
    "lc_cell_meme": {
     "current": "2e5ba68c-e091-11ec-8d1f-02420a01013b-2-0b8a-d41c",
     "history": [
      {
       "current": "2e5ba68c-e091-11ec-8d1f-02420a01013b-1-0b8a",
       "next": "e75f8c52-e090-11ec-a7c3-02420a01013b",
       "previous": "44dc3f4a-e08d-11ec-956a-02420a01013b"
      },
      {
       "current": "2e5ba68c-e091-11ec-8d1f-02420a01013b-2-0b8a-d41c",
       "next": "e75f8c52-e090-11ec-a7c3-02420a01013b-1-607d",
       "previous": "44dc3f4a-e08d-11ec-956a-02420a01013b-1-f558"
      }
     ],
     "next": "e75f8c52-e090-11ec-a7c3-02420a01013b-2-607d-dc38",
     "previous": "44dc3f4a-e08d-11ec-956a-02420a01013b-2-f558-0c2c"
    }
   },
   "source": [
    "8.8.8.8へ通信するための送信ルートを表示します。\n",
    "\n",
    "8.8.8.8は自身のネットワークの外なので，デフォルトルート（デフォルトゲートウエイ）に送信されると出てきます。"
   ]
  },
  {
   "cell_type": "code",
   "execution_count": null,
   "id": "c4a84fdc",
   "metadata": {
    "lc_cell_meme": {
     "current": "e75f8c52-e090-11ec-a7c3-02420a01013b-2-607d-dc38",
     "history": [
      {
       "current": "e75f8c52-e090-11ec-a7c3-02420a01013b",
       "next": "e75f8ddf-e090-11ec-b8ab-02420a01013b",
       "previous": "44dc3f4a-e08d-11ec-956a-02420a01013b"
      },
      {
       "current": "e75f8c52-e090-11ec-a7c3-02420a01013b",
       "next": "e75f8ddf-e090-11ec-b8ab-02420a01013b",
       "previous": "2e5ba68c-e091-11ec-8d1f-02420a01013b"
      },
      {
       "current": "e75f8c52-e090-11ec-a7c3-02420a01013b-1-607d",
       "next": "76e28e02-e091-11ec-90c7-02420a01013b",
       "previous": "2e5ba68c-e091-11ec-8d1f-02420a01013b"
      },
      {
       "current": "e75f8c52-e090-11ec-a7c3-02420a01013b-2-607d-dc38",
       "next": "76e28e02-e091-11ec-90c7-02420a01013b-1-48c3",
       "previous": "2e5ba68c-e091-11ec-8d1f-02420a01013b-1-0b8a"
      }
     ],
     "next": "76e28e02-e091-11ec-90c7-02420a01013b-2-48c3-2a08",
     "previous": "2e5ba68c-e091-11ec-8d1f-02420a01013b-2-0b8a-d41c"
    },
    "lc_wrapper": {
     "log_history": [
      "/home/cwhadminxe1bf95/textbook/.log/20220607/20220607-182612-0730.log"
     ]
    }
   },
   "outputs": [],
   "source": [
    "! ip route get 8.8.8.8"
   ]
  },
  {
   "cell_type": "markdown",
   "id": "467623a0",
   "metadata": {
    "lc_cell_meme": {
     "current": "76e28e02-e091-11ec-90c7-02420a01013b-2-48c3-2a08",
     "history": [
      {
       "current": "76e28e02-e091-11ec-90c7-02420a01013b-1-48c3",
       "next": "e75f8ddf-e090-11ec-b8ab-02420a01013b",
       "previous": "e75f8c52-e090-11ec-a7c3-02420a01013b"
      },
      {
       "current": "76e28e02-e091-11ec-90c7-02420a01013b-2-48c3-2a08",
       "next": "e75f8ddf-e090-11ec-b8ab-02420a01013b-1-2c18",
       "previous": "e75f8c52-e090-11ec-a7c3-02420a01013b-1-607d"
      }
     ],
     "next": "e75f8ddf-e090-11ec-b8ab-02420a01013b-2-2c18-c0ff",
     "previous": "e75f8c52-e090-11ec-a7c3-02420a01013b-2-607d-dc38"
    }
   },
   "source": [
    "10.1.1.30宛ての場合は，自分のネットワーク（10.1.0.0/20）なので，直接宛先に送信すると出てきます。"
   ]
  },
  {
   "cell_type": "code",
   "execution_count": null,
   "id": "53dc188e",
   "metadata": {
    "lc_cell_meme": {
     "current": "e75f8ddf-e090-11ec-b8ab-02420a01013b-2-2c18-c0ff",
     "history": [
      {
       "current": "e75f8ddf-e090-11ec-b8ab-02420a01013b",
       "next": "e75f8e39-e090-11ec-bcb9-02420a01013b",
       "previous": "e75f8c52-e090-11ec-a7c3-02420a01013b"
      },
      {
       "current": "e75f8ddf-e090-11ec-b8ab-02420a01013b-1-2c18",
       "next": "76e29329-e091-11ec-8914-02420a01013b",
       "previous": "76e28e02-e091-11ec-90c7-02420a01013b"
      },
      {
       "current": "e75f8ddf-e090-11ec-b8ab-02420a01013b-2-2c18-c0ff",
       "next": "76e29329-e091-11ec-8914-02420a01013b-1-7e09",
       "previous": "76e28e02-e091-11ec-90c7-02420a01013b-1-48c3"
      }
     ],
     "next": "76e29329-e091-11ec-8914-02420a01013b-2-7e09-a649",
     "previous": "76e28e02-e091-11ec-90c7-02420a01013b-2-48c3-2a08"
    },
    "lc_wrapper": {
     "log_history": [
      "/home/cwhadminxe1bf95/textbook/.log/20220607/20220607-182617-0666.log"
     ]
    }
   },
   "outputs": [],
   "source": [
    "! ip route get 10.1.1.30"
   ]
  },
  {
   "cell_type": "markdown",
   "id": "a6511182",
   "metadata": {
    "lc_cell_meme": {
     "current": "76e29329-e091-11ec-8914-02420a01013b-2-7e09-a649",
     "history": [
      {
       "current": "76e29329-e091-11ec-8914-02420a01013b-1-7e09",
       "next": "e75f8e39-e090-11ec-bcb9-02420a01013b",
       "previous": "e75f8ddf-e090-11ec-b8ab-02420a01013b"
      },
      {
       "current": "76e29329-e091-11ec-8914-02420a01013b-2-7e09-a649",
       "next": "e75f8e39-e090-11ec-bcb9-02420a01013b-1-14de",
       "previous": "e75f8ddf-e090-11ec-b8ab-02420a01013b-1-2c18"
      }
     ],
     "next": "e75f8e39-e090-11ec-bcb9-02420a01013b-2-14de-0f3c",
     "previous": "e75f8ddf-e090-11ec-b8ab-02420a01013b-2-2c18-c0ff"
    }
   },
   "source": [
    "他の場合も試してみましょう。"
   ]
  },
  {
   "cell_type": "code",
   "execution_count": null,
   "id": "c7c9db79",
   "metadata": {
    "lc_cell_meme": {
     "current": "e75f8e39-e090-11ec-bcb9-02420a01013b-2-14de-0f3c",
     "history": [
      {
       "current": "e75f8e39-e090-11ec-bcb9-02420a01013b",
       "next": "31c1bc72-e08f-11ec-bcda-02420a01013b",
       "previous": "e75f8ddf-e090-11ec-b8ab-02420a01013b"
      },
      {
       "current": "e75f8e39-e090-11ec-bcb9-02420a01013b",
       "next": "2e5baa3d-e091-11ec-8dcd-02420a01013b",
       "previous": "e75f8ddf-e090-11ec-b8ab-02420a01013b"
      },
      {
       "current": "e75f8e39-e090-11ec-bcb9-02420a01013b-1-14de",
       "next": "2e5baa3d-e091-11ec-8dcd-02420a01013b",
       "previous": "76e29329-e091-11ec-8914-02420a01013b"
      },
      {
       "current": "e75f8e39-e090-11ec-bcb9-02420a01013b-2-14de-0f3c",
       "next": "2e5baa3d-e091-11ec-8dcd-02420a01013b-1-ff86",
       "previous": "76e29329-e091-11ec-8914-02420a01013b-1-7e09"
      }
     ],
     "next": "2e5baa3d-e091-11ec-8dcd-02420a01013b-2-ff86-6838",
     "previous": "76e29329-e091-11ec-8914-02420a01013b-2-7e09-a649"
    },
    "lc_wrapper": {
     "log_history": [
      "/home/cwhadminxe1bf95/textbook/.log/20220531/20220531-122645-0450.log",
      "/home/cwhadminxe1bf95/textbook/.log/20220607/20220607-182623-0777.log"
     ]
    }
   },
   "outputs": [],
   "source": [
    "! ip route get 172.19.1.1"
   ]
  },
  {
   "cell_type": "code",
   "execution_count": null,
   "id": "99de4aa6",
   "metadata": {
    "lc_cell_meme": {
     "current": "2e5baa3d-e091-11ec-8dcd-02420a01013b-2-ff86-6838",
     "history": [
      {
       "current": "2e5baa3d-e091-11ec-8dcd-02420a01013b-1-ff86",
       "next": "31c1bc72-e08f-11ec-bcda-02420a01013b",
       "previous": "e75f8e39-e090-11ec-bcb9-02420a01013b"
      },
      {
       "current": "2e5baa3d-e091-11ec-8dcd-02420a01013b-2-ff86-6838",
       "next": "31c1bc72-e08f-11ec-bcda-02420a01013b-1-12ca",
       "previous": "e75f8e39-e090-11ec-bcb9-02420a01013b-1-14de"
      }
     ],
     "next": "31c1bc72-e08f-11ec-bcda-02420a01013b-2-12ca-2e0d",
     "previous": "e75f8e39-e090-11ec-bcb9-02420a01013b-2-14de-0f3c"
    },
    "lc_wrapper": {
     "log_history": [
      "/home/cwhadminxe1bf95/textbook/.log/20220531/20220531-122648-0677.log",
      "/home/cwhadminxe1bf95/textbook/.log/20220607/20220607-182651-0541.log"
     ]
    }
   },
   "outputs": [],
   "source": [
    "! ip route get 10.2.0.0"
   ]
  },
  {
   "cell_type": "markdown",
   "id": "4af246e8",
   "metadata": {
    "lc_cell_meme": {
     "current": "31c1bc72-e08f-11ec-bcda-02420a01013b-2-12ca-2e0d",
     "history": [
      {
       "current": "31c1bc72-e08f-11ec-bcda-02420a01013b",
       "next": "44dc4227-e08d-11ec-a030-02420a01013b-1-91ad",
       "previous": "44dc3f4a-e08d-11ec-956a-02420a01013b"
      },
      {
       "current": "31c1bc72-e08f-11ec-bcda-02420a01013b",
       "next": "44dc4227-e08d-11ec-a030-02420a01013b-1-91ad",
       "previous": "e75f8e39-e090-11ec-bcb9-02420a01013b"
      },
      {
       "current": "31c1bc72-e08f-11ec-bcda-02420a01013b-1-12ca",
       "next": "44dc4227-e08d-11ec-a030-02420a01013b-1-91ad",
       "previous": "2e5baa3d-e091-11ec-8dcd-02420a01013b"
      },
      {
       "current": "31c1bc72-e08f-11ec-bcda-02420a01013b-2-12ca-2e0d",
       "next": "44dc4227-e08d-11ec-a030-02420a01013b-2-91ad-60b7",
       "previous": "2e5baa3d-e091-11ec-8dcd-02420a01013b-1-ff86"
      }
     ],
     "next": "44dc4227-e08d-11ec-a030-02420a01013b-3-91ad-60b7-209f",
     "previous": "2e5baa3d-e091-11ec-8dcd-02420a01013b-2-ff86-6838"
    }
   },
   "source": [
    "## ARPテーブル"
   ]
  },
  {
   "cell_type": "markdown",
   "id": "23b2ea63",
   "metadata": {
    "lc_cell_meme": {
     "current": "44dc4227-e08d-11ec-a030-02420a01013b-3-91ad-60b7-209f",
     "history": [
      {
       "current": "44dc4227-e08d-11ec-a030-02420a01013b-1-91ad",
       "next": "d4a6723c-e08d-11ec-94ed-02420a01013b",
       "previous": "44dc3f4a-e08d-11ec-956a-02420a01013b"
      },
      {
       "current": "44dc4227-e08d-11ec-a030-02420a01013b-2-91ad-60b7",
       "next": "d4a6723c-e08d-11ec-94ed-02420a01013b",
       "previous": "31c1bc72-e08f-11ec-bcda-02420a01013b"
      },
      {
       "current": "44dc4227-e08d-11ec-a030-02420a01013b-3-91ad-60b7-209f",
       "next": "d4a6723c-e08d-11ec-94ed-02420a01013b-1-d57c",
       "previous": "31c1bc72-e08f-11ec-bcda-02420a01013b-1-12ca"
      }
     ],
     "next": "d4a6723c-e08d-11ec-94ed-02420a01013b-2-d57c-8776",
     "previous": "31c1bc72-e08f-11ec-bcda-02420a01013b-2-12ca-2e0d"
    }
   },
   "source": [
    "ARPテーブルが表示されます。確認してみましょう。"
   ]
  },
  {
   "cell_type": "code",
   "execution_count": null,
   "id": "2982e16e",
   "metadata": {
    "lc_cell_meme": {
     "current": "d4a6723c-e08d-11ec-94ed-02420a01013b-2-d57c-8776",
     "history": [
      {
       "current": "d4a6723c-e08d-11ec-94ed-02420a01013b",
       "next": "d4a67628-e08d-11ec-8161-02420a01013b",
       "previous": "44dc4227-e08d-11ec-a030-02420a01013b-1-91ad"
      },
      {
       "current": "d4a6723c-e08d-11ec-94ed-02420a01013b-1-d57c",
       "next": "d4a67628-e08d-11ec-8161-02420a01013b-1-21f7",
       "previous": "44dc4227-e08d-11ec-a030-02420a01013b-1-91ad"
      },
      {
       "current": "d4a6723c-e08d-11ec-94ed-02420a01013b-2-d57c-8776",
       "next": "d4a67628-e08d-11ec-8161-02420a01013b-2-21f7-0369",
       "previous": "44dc4227-e08d-11ec-a030-02420a01013b-2-91ad-60b7"
      }
     ],
     "next": "d4a67628-e08d-11ec-8161-02420a01013b-3-21f7-0369-5875",
     "previous": "44dc4227-e08d-11ec-a030-02420a01013b-3-91ad-60b7-209f"
    },
    "lc_wrapper": {
     "log_history": [
      "/home/cwhadminxe1bf95/textbook/.log/20220531/20220531-115943-0516.log",
      "/home/cwhadminxe1bf95/textbook/.log/20220607/20220607-182655-0384.log"
     ]
    }
   },
   "outputs": [],
   "source": [
    "! ip neigh "
   ]
  },
  {
   "cell_type": "markdown",
   "id": "1623ecca",
   "metadata": {
    "lc_cell_meme": {
     "current": "d4a67628-e08d-11ec-8161-02420a01013b-3-21f7-0369-5875",
     "history": [
      {
       "current": "d4a67628-e08d-11ec-8161-02420a01013b-1-21f7",
       "next": null,
       "previous": "d4a6723c-e08d-11ec-94ed-02420a01013b"
      },
      {
       "current": "d4a67628-e08d-11ec-8161-02420a01013b-2-21f7-0369",
       "next": "1c843df9-e08e-11ec-a07b-02420a01013b",
       "previous": "d4a6723c-e08d-11ec-94ed-02420a01013b"
      },
      {
       "current": "d4a67628-e08d-11ec-8161-02420a01013b-3-21f7-0369-5875",
       "next": "1c843df9-e08e-11ec-a07b-02420a01013b-1-a32b",
       "previous": "d4a6723c-e08d-11ec-94ed-02420a01013b-1-d57c"
      }
     ],
     "next": "1c843df9-e08e-11ec-a07b-02420a01013b-2-a32b-badf",
     "previous": "d4a6723c-e08d-11ec-94ed-02420a01013b-2-d57c-8776"
    }
   },
   "source": [
    "通信を行うと，ARPテーブルにエントリが増えていきます。"
   ]
  },
  {
   "cell_type": "code",
   "execution_count": null,
   "id": "4d49eae7",
   "metadata": {
    "lc_cell_meme": {
     "current": "1c843df9-e08e-11ec-a07b-02420a01013b-2-a32b-badf",
     "history": [
      {
       "current": "1c843df9-e08e-11ec-a07b-02420a01013b-1-a32b",
       "next": "aa130b87-e08e-11ec-86d1-02420a01013b",
       "previous": "d4a67628-e08d-11ec-8161-02420a01013b-1-21f7"
      },
      {
       "current": "1c843df9-e08e-11ec-a07b-02420a01013b-2-a32b-badf",
       "next": "aa130b87-e08e-11ec-86d1-02420a01013b-1-8433",
       "previous": "d4a67628-e08d-11ec-8161-02420a01013b-2-21f7-0369"
      }
     ],
     "next": "aa130b87-e08e-11ec-86d1-02420a01013b-2-8433-622a",
     "previous": "d4a67628-e08d-11ec-8161-02420a01013b-3-21f7-0369-5875"
    },
    "lc_wrapper": {
     "log_history": [
      "/home/cwhadminxe1bf95/textbook/.log/20220531/20220531-120447-0069.log",
      "/home/cwhadminxe1bf95/textbook/.log/20220531/20220531-120751-0341.log",
      "/home/cwhadminxe1bf95/textbook/.log/20220607/20220607-182703-0392.log"
     ]
    }
   },
   "outputs": [],
   "source": [
    "! ping -c 1 10.1.1.59"
   ]
  },
  {
   "cell_type": "code",
   "execution_count": null,
   "id": "194b61e7",
   "metadata": {
    "lc_cell_meme": {
     "current": "aa130b87-e08e-11ec-86d1-02420a01013b-2-8433-622a",
     "history": [
      {
       "current": "aa130b87-e08e-11ec-86d1-02420a01013b-1-8433",
       "next": "aa13112c-e08e-11ec-9641-02420a01013b",
       "previous": "1c843df9-e08e-11ec-a07b-02420a01013b"
      },
      {
       "current": "aa130b87-e08e-11ec-86d1-02420a01013b-2-8433-622a",
       "next": "aa13112c-e08e-11ec-9641-02420a01013b-1-5bbe",
       "previous": "1c843df9-e08e-11ec-a07b-02420a01013b-1-a32b"
      }
     ],
     "next": "aa13112c-e08e-11ec-9641-02420a01013b-2-5bbe-c81f",
     "previous": "1c843df9-e08e-11ec-a07b-02420a01013b-2-a32b-badf"
    },
    "lc_wrapper": {
     "log_history": [
      "/home/cwhadminxe1bf95/textbook/.log/20220531/20220531-120451-0011.log",
      "/home/cwhadminxe1bf95/textbook/.log/20220531/20220531-120527-0240.log",
      "/home/cwhadminxe1bf95/textbook/.log/20220531/20220531-120754-0455.log",
      "/home/cwhadminxe1bf95/textbook/.log/20220607/20220607-182711-0743.log"
     ]
    }
   },
   "outputs": [],
   "source": [
    "! ip neigh "
   ]
  },
  {
   "cell_type": "markdown",
   "id": "583d774a",
   "metadata": {
    "lc_cell_meme": {
     "current": "aa13112c-e08e-11ec-9641-02420a01013b-2-5bbe-c81f",
     "history": [
      {
       "current": "aa13112c-e08e-11ec-9641-02420a01013b-1-5bbe",
       "next": "f24942d5-e08e-11ec-8fa6-02420a01013b",
       "previous": "aa130b87-e08e-11ec-86d1-02420a01013b"
      },
      {
       "current": "aa13112c-e08e-11ec-9641-02420a01013b-2-5bbe-c81f",
       "next": "f24942d5-e08e-11ec-8fa6-02420a01013b-1-0d67",
       "previous": "aa130b87-e08e-11ec-86d1-02420a01013b-1-8433"
      }
     ],
     "next": "f24942d5-e08e-11ec-8fa6-02420a01013b-2-0d67-91bc",
     "previous": "aa130b87-e08e-11ec-86d1-02420a01013b-2-8433-622a"
    }
   },
   "source": [
    "他の端末にも通信してみると，arpテーブルにエントリが増えます。\n",
    "\n",
    "LMSにある皆さんの回答結果を参考に，XXの部分を適当な数字に変えて通信してみましょう。\n",
    "通信すると，エントリが増えることを確認してみましょう。\n",
    "\n",
    "反応がない場合は，端末がいないです。しばらく待つと，復帰します。"
   ]
  },
  {
   "cell_type": "code",
   "execution_count": null,
   "id": "79acb625",
   "metadata": {
    "lc_cell_meme": {
     "current": "f24942d5-e08e-11ec-8fa6-02420a01013b-2-0d67-91bc",
     "history": [
      {
       "current": "f24942d5-e08e-11ec-8fa6-02420a01013b-1-0d67",
       "next": "f2494597-e08e-11ec-a51a-02420a01013b",
       "previous": "aa13112c-e08e-11ec-9641-02420a01013b"
      },
      {
       "current": "f24942d5-e08e-11ec-8fa6-02420a01013b-2-0d67-91bc",
       "next": "f2494597-e08e-11ec-a51a-02420a01013b-1-60df",
       "previous": "aa13112c-e08e-11ec-9641-02420a01013b-1-5bbe"
      }
     ],
     "next": "f2494597-e08e-11ec-a51a-02420a01013b-2-60df-a6b8",
     "previous": "aa13112c-e08e-11ec-9641-02420a01013b-2-5bbe-c81f"
    },
    "lc_wrapper": {
     "log_history": [
      "/home/cwhadminxe1bf95/textbook/.log/20220531/20220531-120758-0669.log"
     ]
    }
   },
   "outputs": [],
   "source": [
    "! ping -c 1 10.1.1.XX"
   ]
  },
  {
   "cell_type": "code",
   "execution_count": null,
   "id": "dd33c4f9",
   "metadata": {
    "lc_cell_meme": {
     "current": "f2494597-e08e-11ec-a51a-02420a01013b-2-60df-a6b8",
     "history": [
      {
       "current": "f2494597-e08e-11ec-a51a-02420a01013b-1-60df",
       "next": "f24946a3-e08e-11ec-bbe3-02420a01013b",
       "previous": "f24942d5-e08e-11ec-8fa6-02420a01013b"
      },
      {
       "current": "f2494597-e08e-11ec-a51a-02420a01013b-2-60df-a6b8",
       "next": "f24946a3-e08e-11ec-bbe3-02420a01013b-1-4eea",
       "previous": "f24942d5-e08e-11ec-8fa6-02420a01013b-1-0d67"
      }
     ],
     "next": "f24946a3-e08e-11ec-bbe3-02420a01013b-2-4eea-27ba",
     "previous": "f24942d5-e08e-11ec-8fa6-02420a01013b-2-0d67-91bc"
    },
    "lc_wrapper": {
     "log_history": [
      "/home/cwhadminxe1bf95/textbook/.log/20220531/20220531-120803-0477.log"
     ]
    }
   },
   "outputs": [],
   "source": [
    "! ip neigh"
   ]
  },
  {
   "cell_type": "code",
   "execution_count": null,
   "id": "01ca1edc",
   "metadata": {
    "lc_cell_meme": {
     "current": "f24946a3-e08e-11ec-bbe3-02420a01013b-2-4eea-27ba",
     "history": [
      {
       "current": "f24946a3-e08e-11ec-bbe3-02420a01013b-1-4eea",
       "next": null,
       "previous": "f2494597-e08e-11ec-a51a-02420a01013b"
      },
      {
       "current": "f24946a3-e08e-11ec-bbe3-02420a01013b-2-4eea-27ba",
       "next": null,
       "previous": "f2494597-e08e-11ec-a51a-02420a01013b-1-60df"
      }
     ],
     "next": null,
     "previous": "f2494597-e08e-11ec-a51a-02420a01013b-2-60df-a6b8"
    }
   },
   "outputs": [],
   "source": []
  }
 ],
 "metadata": {
  "kernelspec": {
   "display_name": "Python 3",
   "language": "python",
   "name": "python3"
  },
  "language_info": {
   "file_extension": ".py",
   "mimetype": "text/x-python",
   "name": "python",
   "nbconvert_exporter": "python",
   "pygments_lexer": "ipython3",
   "version": "3.10.4"
  },
  "lc_notebook_meme": {
   "current": "504905d7-e08c-11ec-9b46-02420a01013b",
   "lc_server_signature": {
    "current": {
     "notebook_dir": "/home/jovyan",
     "notebook_path": "/notebooks/CWH2021_2022/cwhadminxe1bf95/textbook",
     "server_url": "http://192.168.11.68:8888/",
     "signature_id": "e78c9058-85b5-11ed-b78d-0242ac120002"
    },
    "history": [
     {
      "notebook_dir": "/home/cwhadminxe1bf95",
      "notebook_path": "/textbook",
      "server_url": "https://cwh.media.gunma-u.ac.jp/user/cwhadminxe1bf95/",
      "signature_id": "d287dc56-b8b1-11ec-b3eb-23e3164b790f"
     },
     {
      "notebook_dir": "/home/cwhadminxe1bf95",
      "notebook_path": "/dev_textbook_2022",
      "server_url": "https://cwh.media.gunma-u.ac.jp/user/cwhadminxe1bf95/",
      "signature_id": "d287dc56-b8b1-11ec-b3eb-23e3164b790f"
     }
    ]
   }
  },
  "toc": {
   "base_numbering": 1,
   "nav_menu": {},
   "number_sections": true,
   "sideBar": true,
   "skip_h1_title": false,
   "title_cell": "Table of Contents",
   "title_sidebar": "Contents",
   "toc_cell": false,
   "toc_position": {},
   "toc_section_display": true,
   "toc_window_display": false
  }
 },
 "nbformat": 4,
 "nbformat_minor": 5
}
