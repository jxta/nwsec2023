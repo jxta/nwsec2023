{
 "cells": [
  {
   "cell_type": "markdown",
   "id": "9c0ac354",
   "metadata": {
    "lc_cell_meme": {
     "current": "a9f330c0-fc51-11ec-aef4-02420a010222-3-c104-09fa-d768",
     "history": [
      {
       "current": "a9f330c0-fc51-11ec-aef4-02420a010222-1-c104",
       "next": "850495b5-fc51-11ec-9836-02420a010222",
       "previous": null
      },
      {
       "current": "a9f330c0-fc51-11ec-aef4-02420a010222-1-c104",
       "next": "850495b5-fc51-11ec-9836-02420a010222-1-f3ca",
       "previous": null
      },
      {
       "current": "a9f330c0-fc51-11ec-aef4-02420a010222-1-c104",
       "next": "850496c1-fc51-11ec-8ace-02420a010222-1-b1d9",
       "previous": null
      },
      {
       "current": "a9f330c0-fc51-11ec-aef4-02420a010222-2-c104-09fa",
       "next": "850495b5-fc51-11ec-9836-02420a010222-1-f3ca",
       "previous": null
      },
      {
       "current": "a9f330c0-fc51-11ec-aef4-02420a010222-3-c104-09fa-d768",
       "next": "850495b5-fc51-11ec-9836-02420a010222-2-f3ca-de90",
       "previous": null
      }
     ],
     "next": "850495b5-fc51-11ec-9836-02420a010222-3-f3ca-de90-75b8",
     "previous": null
    }
   },
   "source": [
    "# HTTP"
   ]
  },
  {
   "cell_type": "code",
   "execution_count": null,
   "id": "d46bcb07",
   "metadata": {
    "lc_cell_meme": {
     "current": "850495b5-fc51-11ec-9836-02420a010222-3-f3ca-de90-75b8",
     "history": [
      {
       "current": "850495b5-fc51-11ec-9836-02420a010222",
       "next": "850496c1-fc51-11ec-8ace-02420a010222",
       "previous": null
      },
      {
       "current": "850495b5-fc51-11ec-9836-02420a010222-1-f3ca",
       "next": "850496c1-fc51-11ec-8ace-02420a010222",
       "previous": "a9f330c0-fc51-11ec-aef4-02420a010222"
      },
      {
       "current": "850495b5-fc51-11ec-9836-02420a010222-1-f3ca",
       "next": "850496c1-fc51-11ec-8ace-02420a010222-1-b1d9",
       "previous": "a9f330c0-fc51-11ec-aef4-02420a010222-1-c104"
      },
      {
       "current": "850495b5-fc51-11ec-9836-02420a010222-1-f3ca",
       "next": "85049793-fc51-11ec-87e7-02420a010222-1-7b97",
       "previous": "850496c1-fc51-11ec-8ace-02420a010222-1-b1d9"
      },
      {
       "current": "850495b5-fc51-11ec-9836-02420a010222-2-f3ca-de90",
       "next": "850496c1-fc51-11ec-8ace-02420a010222-1-b1d9",
       "previous": "a9f330c0-fc51-11ec-aef4-02420a010222-1-c104"
      },
      {
       "current": "850495b5-fc51-11ec-9836-02420a010222-3-f3ca-de90-75b8",
       "next": "850496c1-fc51-11ec-8ace-02420a010222-2-b1d9-46d9",
       "previous": "a9f330c0-fc51-11ec-aef4-02420a010222-2-c104-09fa"
      }
     ],
     "next": "850496c1-fc51-11ec-8ace-02420a010222-3-b1d9-46d9-3fed",
     "previous": "a9f330c0-fc51-11ec-aef4-02420a010222-3-c104-09fa-d768"
    },
    "lc_wrapper": {
     "log_history": [
      "/home/cwhadminxe1bf95/textbook/.log/20220706/20220706-152458-0470.log",
      "/home/cwhadminxe1bf95/dev_textbook_2022/.log/20230704/20230704-143322-0446.log",
      "/home/cwhadminxe1bf95/dev_textbook_2022/.log/20230704/20230704-152243-0619.log"
     ]
    }
   },
   "outputs": [],
   "source": [
    "! curl -v https://www.media.gunma-u.ac.jp"
   ]
  },
  {
   "cell_type": "code",
   "execution_count": null,
   "id": "6afafe5c",
   "metadata": {
    "lc_cell_meme": {
     "current": "850496c1-fc51-11ec-8ace-02420a010222-3-b1d9-46d9-3fed",
     "history": [
      {
       "current": "850496c1-fc51-11ec-8ace-02420a010222-1-b1d9",
       "next": "85049793-fc51-11ec-87e7-02420a010222",
       "previous": "850495b5-fc51-11ec-9836-02420a010222"
      },
      {
       "current": "850496c1-fc51-11ec-8ace-02420a010222-1-b1d9",
       "next": "85049793-fc51-11ec-87e7-02420a010222-1-7b97",
       "previous": "850495b5-fc51-11ec-9836-02420a010222-1-f3ca"
      },
      {
       "current": "850496c1-fc51-11ec-8ace-02420a010222-1-b1d9",
       "next": "850495b5-fc51-11ec-9836-02420a010222-1-f3ca",
       "previous": "a9f330c0-fc51-11ec-aef4-02420a010222-1-c104"
      },
      {
       "current": "850496c1-fc51-11ec-8ace-02420a010222-2-b1d9-46d9",
       "next": "85049793-fc51-11ec-87e7-02420a010222-1-7b97",
       "previous": "850495b5-fc51-11ec-9836-02420a010222-1-f3ca"
      },
      {
       "current": "850496c1-fc51-11ec-8ace-02420a010222-3-b1d9-46d9-3fed",
       "next": "85049793-fc51-11ec-87e7-02420a010222-2-7b97-e75e",
       "previous": "850495b5-fc51-11ec-9836-02420a010222-2-f3ca-de90"
      }
     ],
     "next": "85049793-fc51-11ec-87e7-02420a010222-3-7b97-e75e-3e8a",
     "previous": "850495b5-fc51-11ec-9836-02420a010222-3-f3ca-de90-75b8"
    },
    "lc_wrapper": {
     "log_history": [
      "/home/cwhadminxe1bf95/textbook/.log/20220705/20220705-195826-0036.log",
      "/home/cwhadminxe1bf95/textbook/.log/20220706/20220706-152527-0904.log",
      "/home/cwhadminxe1bf95/dev_textbook_2022/.log/20230704/20230704-143326-0560.log",
      "/home/cwhadminxe1bf95/dev_textbook_2022/.log/20230704/20230704-144735-0368.log",
      "/home/cwhadminxe1bf95/dev_textbook_2022/.log/20230704/20230704-152436-0030.log"
     ]
    },
    "scrolled": true
   },
   "outputs": [],
   "source": [
    "! curl -v https://www.gunma-u.ac.jp"
   ]
  },
  {
   "cell_type": "code",
   "execution_count": null,
   "id": "56746428",
   "metadata": {
    "lc_cell_meme": {
     "current": "85049793-fc51-11ec-87e7-02420a010222-3-7b97-e75e-3e8a",
     "history": [
      {
       "current": "85049793-fc51-11ec-87e7-02420a010222-1-7b97",
       "next": "8504984f-fc51-11ec-8e76-02420a010222",
       "previous": "850496c1-fc51-11ec-8ace-02420a010222"
      },
      {
       "current": "85049793-fc51-11ec-87e7-02420a010222-1-7b97",
       "next": "8504984f-fc51-11ec-8e76-02420a010222-1-8dc4",
       "previous": "850496c1-fc51-11ec-8ace-02420a010222-1-b1d9"
      },
      {
       "current": "85049793-fc51-11ec-87e7-02420a010222-1-7b97",
       "next": "8504984f-fc51-11ec-8e76-02420a010222-1-8dc4",
       "previous": "850495b5-fc51-11ec-9836-02420a010222-1-f3ca"
      },
      {
       "current": "85049793-fc51-11ec-87e7-02420a010222-1-7b97",
       "next": "8cbd0bc7-1a2e-11ee-b542-02420a010727",
       "previous": "850495b5-fc51-11ec-9836-02420a010222-1-f3ca"
      },
      {
       "current": "85049793-fc51-11ec-87e7-02420a010222-1-7b97",
       "next": "8504984f-fc51-11ec-8e76-02420a010222-1-8dc4",
       "previous": "850495b5-fc51-11ec-9836-02420a010222-1-f3ca"
      },
      {
       "current": "85049793-fc51-11ec-87e7-02420a010222-2-7b97-e75e",
       "next": "8504984f-fc51-11ec-8e76-02420a010222-1-8dc4",
       "previous": "850496c1-fc51-11ec-8ace-02420a010222-1-b1d9"
      },
      {
       "current": "85049793-fc51-11ec-87e7-02420a010222-3-7b97-e75e-3e8a",
       "next": "8504984f-fc51-11ec-8e76-02420a010222-2-8dc4-a41a",
       "previous": "850496c1-fc51-11ec-8ace-02420a010222-2-b1d9-46d9"
      }
     ],
     "next": "8504984f-fc51-11ec-8e76-02420a010222-3-8dc4-a41a-cc12",
     "previous": "850496c1-fc51-11ec-8ace-02420a010222-3-b1d9-46d9-3fed"
    },
    "lc_wrapper": {
     "log_history": [
      "/home/cwhadminxe1bf95/textbook/.log/20220705/20220705-195846-0145.log",
      "/home/cwhadminxe1bf95/textbook/.log/20220705/20220705-195905-0119.log",
      "/home/cwhadminxe1bf95/dev_textbook_2022/.log/20230704/20230704-101627-0123.log",
      "/home/cwhadminxe1bf95/dev_textbook_2022/.log/20230704/20230704-143342-0965.log",
      "/home/cwhadminxe1bf95/dev_textbook_2022/.log/20230704/20230704-143557-0119.log",
      "/home/cwhadminxe1bf95/dev_textbook_2022/.log/20230704/20230704-143636-0244.log",
      "/home/cwhadminxe1bf95/dev_textbook_2022/.log/20230704/20230704-144906-0510.log",
      "/home/cwhadminxe1bf95/dev_textbook_2022/.log/20230704/20230704-144912-0661.log",
      "/home/cwhadminxe1bf95/dev_textbook_2022/.log/20230704/20230704-152902-0689.log"
     ]
    },
    "scrolled": true
   },
   "outputs": [],
   "source": [
    "! curl -v https://mdl.media.gunma-u.ac.jp"
   ]
  },
  {
   "cell_type": "code",
   "execution_count": null,
   "id": "332f144c",
   "metadata": {
    "lc_cell_meme": {
     "current": "8504984f-fc51-11ec-8e76-02420a010222-3-8dc4-a41a-cc12",
     "history": [
      {
       "current": "8504984f-fc51-11ec-8e76-02420a010222-1-8dc4",
       "next": null,
       "previous": "85049793-fc51-11ec-87e7-02420a010222"
      },
      {
       "current": "8504984f-fc51-11ec-8e76-02420a010222-1-8dc4",
       "next": null,
       "previous": "85049793-fc51-11ec-87e7-02420a010222-1-7b97"
      },
      {
       "current": "8504984f-fc51-11ec-8e76-02420a010222-1-8dc4",
       "next": null,
       "previous": "85049793-fc51-11ec-87e7-02420a010222-1-7b97"
      },
      {
       "current": "8504984f-fc51-11ec-8e76-02420a010222-1-8dc4",
       "next": null,
       "previous": "85049793-fc51-11ec-87e7-02420a010222-1-7b97"
      },
      {
       "current": "8504984f-fc51-11ec-8e76-02420a010222-1-8dc4",
       "next": "b6146b5a-1a2d-11ee-8825-02420a010727",
       "previous": "85049793-fc51-11ec-87e7-02420a010222-1-7b97"
      },
      {
       "current": "8504984f-fc51-11ec-8e76-02420a010222-1-8dc4",
       "next": "b6146b5a-1a2d-11ee-8825-02420a010727",
       "previous": "8cbd0bc7-1a2e-11ee-b542-02420a010727"
      },
      {
       "current": "8504984f-fc51-11ec-8e76-02420a010222-2-8dc4-a41a",
       "next": "8cbd0bc7-1a2e-11ee-b542-02420a010727",
       "previous": "85049793-fc51-11ec-87e7-02420a010222-1-7b97"
      },
      {
       "current": "8504984f-fc51-11ec-8e76-02420a010222-3-8dc4-a41a-cc12",
       "next": "8cbd0bc7-1a2e-11ee-b542-02420a010727-1-53cf",
       "previous": "85049793-fc51-11ec-87e7-02420a010222-2-7b97-e75e"
      }
     ],
     "next": "8cbd0bc7-1a2e-11ee-b542-02420a010727-2-53cf-74f6",
     "previous": "85049793-fc51-11ec-87e7-02420a010222-3-7b97-e75e-3e8a"
    },
    "lc_wrapper": {
     "log_history": [
      "/home/cwhadminxe1bf95/dev_textbook_2022/.log/20230704/20230704-143844-0604.log",
      "/home/cwhadminxe1bf95/dev_textbook_2022/.log/20230704/20230704-143902-0176.log",
      "/home/cwhadminxe1bf95/dev_textbook_2022/.log/20230704/20230704-144426-0590.log",
      "/home/cwhadminxe1bf95/dev_textbook_2022/.log/20230704/20230704-144502-0092.log",
      "/home/cwhadminxe1bf95/dev_textbook_2022/.log/20230704/20230704-144531-0213.log",
      "/home/cwhadminxe1bf95/dev_textbook_2022/.log/20230704/20230704-144622-0074.log",
      "/home/cwhadminxe1bf95/dev_textbook_2022/.log/20230704/20230704-153009-0107.log"
     ]
    },
    "scrolled": true
   },
   "outputs": [],
   "source": [
    "! curl -v https://yahoo.co.jp"
   ]
  },
  {
   "cell_type": "code",
   "execution_count": null,
   "id": "514aecc4",
   "metadata": {
    "lc_cell_meme": {
     "current": "8cbd0bc7-1a2e-11ee-b542-02420a010727-2-53cf-74f6",
     "history": [
      {
       "current": "8cbd0bc7-1a2e-11ee-b542-02420a010727",
       "next": "8504984f-fc51-11ec-8e76-02420a010222-1-8dc4",
       "previous": "85049793-fc51-11ec-87e7-02420a010222-1-7b97"
      },
      {
       "current": "8cbd0bc7-1a2e-11ee-b542-02420a010727-1-53cf",
       "next": "b6146b5a-1a2d-11ee-8825-02420a010727",
       "previous": "8504984f-fc51-11ec-8e76-02420a010222-1-8dc4"
      },
      {
       "current": "8cbd0bc7-1a2e-11ee-b542-02420a010727-2-53cf-74f6",
       "next": "b6146b5a-1a2d-11ee-8825-02420a010727-1-d93f",
       "previous": "8504984f-fc51-11ec-8e76-02420a010222-2-8dc4-a41a"
      }
     ],
     "next": "b6146b5a-1a2d-11ee-8825-02420a010727-2-d93f-45b7",
     "previous": "8504984f-fc51-11ec-8e76-02420a010222-3-8dc4-a41a-cc12"
    },
    "lc_wrapper": {
     "log_history": [
      "/home/cwhadminxe1bf95/dev_textbook_2022/.log/20230704/20230704-144945-0644.log",
      "/home/cwhadminxe1bf95/dev_textbook_2022/.log/20230704/20230704-153057-0662.log"
     ]
    }
   },
   "outputs": [],
   "source": [
    "! curl -v http://www.yahoo.co.jp"
   ]
  },
  {
   "cell_type": "code",
   "execution_count": null,
   "id": "7a7543fe",
   "metadata": {
    "lc_cell_meme": {
     "current": "b6146b5a-1a2d-11ee-8825-02420a010727-2-d93f-45b7",
     "history": [
      {
       "current": "b6146b5a-1a2d-11ee-8825-02420a010727",
       "next": null,
       "previous": "8504984f-fc51-11ec-8e76-02420a010222-1-8dc4"
      },
      {
       "current": "b6146b5a-1a2d-11ee-8825-02420a010727",
       "next": null,
       "previous": "8cbd0bc7-1a2e-11ee-b542-02420a010727"
      },
      {
       "current": "b6146b5a-1a2d-11ee-8825-02420a010727-1-d93f",
       "next": "aac031dc-1a2f-11ee-bf30-02420a010727",
       "previous": "8cbd0bc7-1a2e-11ee-b542-02420a010727"
      },
      {
       "current": "b6146b5a-1a2d-11ee-8825-02420a010727-2-d93f-45b7",
       "next": "aac031dc-1a2f-11ee-bf30-02420a010727-1-0693",
       "previous": "8cbd0bc7-1a2e-11ee-b542-02420a010727-1-53cf"
      }
     ],
     "next": "aac031dc-1a2f-11ee-bf30-02420a010727-2-0693-c360",
     "previous": "8cbd0bc7-1a2e-11ee-b542-02420a010727-2-53cf-74f6"
    },
    "lc_wrapper": {
     "log_history": [
      "/home/cwhadminxe1bf95/dev_textbook_2022/.log/20230704/20230704-145540-0823.log",
      "/home/cwhadminxe1bf95/dev_textbook_2022/.log/20230704/20230704-145613-0974.log",
      "/home/cwhadminxe1bf95/dev_textbook_2022/.log/20230704/20230704-145655-0105.log",
      "/home/cwhadminxe1bf95/dev_textbook_2022/.log/20230704/20230704-150101-0940.log",
      "/home/cwhadminxe1bf95/dev_textbook_2022/.log/20230704/20230704-150159-0883.log",
      "/home/cwhadminxe1bf95/dev_textbook_2022/.log/20230704/20230704-150437-0907.log",
      "/home/cwhadminxe1bf95/dev_textbook_2022/.log/20230704/20230704-150528-0793.log",
      "/home/cwhadminxe1bf95/dev_textbook_2022/.log/20230704/20230704-153159-0206.log"
     ]
    }
   },
   "outputs": [],
   "source": [
    "! curl -v https://www.bing.com/none"
   ]
  },
  {
   "cell_type": "code",
   "execution_count": null,
   "id": "31d71373",
   "metadata": {
    "lc_cell_meme": {
     "current": "aac031dc-1a2f-11ee-bf30-02420a010727-2-0693-c360",
     "history": [
      {
       "current": "aac031dc-1a2f-11ee-bf30-02420a010727",
       "next": null,
       "previous": "b6146b5a-1a2d-11ee-8825-02420a010727"
      },
      {
       "current": "aac031dc-1a2f-11ee-bf30-02420a010727-1-0693",
       "next": "92451f63-1a35-11ee-9df4-02420a010727",
       "previous": "b6146b5a-1a2d-11ee-8825-02420a010727"
      },
      {
       "current": "aac031dc-1a2f-11ee-bf30-02420a010727-2-0693-c360",
       "next": "92451f63-1a35-11ee-9df4-02420a010727-1-8722",
       "previous": "b6146b5a-1a2d-11ee-8825-02420a010727-1-d93f"
      }
     ],
     "next": "92451f63-1a35-11ee-9df4-02420a010727-2-8722-a207",
     "previous": "b6146b5a-1a2d-11ee-8825-02420a010727-2-d93f-45b7"
    }
   },
   "outputs": [],
   "source": []
  },
  {
   "cell_type": "code",
   "execution_count": null,
   "id": "e1232b96",
   "metadata": {
    "lc_cell_meme": {
     "current": "92451f63-1a35-11ee-9df4-02420a010727-2-8722-a207",
     "history": [
      {
       "current": "92451f63-1a35-11ee-9df4-02420a010727-1-8722",
       "next": null,
       "previous": "aac031dc-1a2f-11ee-bf30-02420a010727"
      },
      {
       "current": "92451f63-1a35-11ee-9df4-02420a010727-2-8722-a207",
       "next": null,
       "previous": "aac031dc-1a2f-11ee-bf30-02420a010727-1-0693"
      }
     ],
     "next": null,
     "previous": "aac031dc-1a2f-11ee-bf30-02420a010727-2-0693-c360"
    }
   },
   "outputs": [],
   "source": []
  }
 ],
 "metadata": {
  "kernelspec": {
   "display_name": "Python 3",
   "language": "python",
   "name": "python3"
  },
  "language_info": {
   "file_extension": ".py",
   "mimetype": "text/x-python",
   "name": "python",
   "nbconvert_exporter": "python",
   "pygments_lexer": "ipython3",
   "version": "3.10.4"
  },
  "lc_notebook_meme": {
   "current": "85048f59-fc51-11ec-b1b5-02420a010222",
   "lc_server_signature": {
    "current": {
     "notebook_dir": "/home/jovyan",
     "notebook_path": "/notebooks/CWH2021_2022/cwhadminxe1bf95/textbook",
     "server_url": "http://192.168.11.68:8888/",
     "signature_id": "e78c9058-85b5-11ed-b78d-0242ac120002"
    },
    "history": [
     {
      "notebook_dir": "/home/cwhadminxe1bf95",
      "notebook_path": "/textbook",
      "server_url": "https://cwh.media.gunma-u.ac.jp/user/cwhadminxe1bf95/",
      "signature_id": "d287dc56-b8b1-11ec-b3eb-23e3164b790f"
     },
     {
      "notebook_dir": "/home/cwhadminxe1bf95",
      "notebook_path": "/dev_textbook_2022",
      "server_url": "https://cwh.media.gunma-u.ac.jp/user/cwhadminxe1bf95/",
      "signature_id": "d287dc56-b8b1-11ec-b3eb-23e3164b790f"
     },
     {
      "notebook_dir": "/home/cwhadminxe1bf95",
      "notebook_path": "/textbook",
      "server_url": "https://cwh.media.gunma-u.ac.jp/user/cwhadminxe1bf95/",
      "signature_id": "d287dc56-b8b1-11ec-b3eb-23e3164b790f"
     }
    ]
   }
  },
  "toc": {
   "base_numbering": 1,
   "nav_menu": {},
   "number_sections": true,
   "sideBar": true,
   "skip_h1_title": false,
   "title_cell": "Table of Contents",
   "title_sidebar": "Contents",
   "toc_cell": false,
   "toc_position": {},
   "toc_section_display": true,
   "toc_window_display": false
  }
 },
 "nbformat": 4,
 "nbformat_minor": 5
}
