{
 "cells": [
  {
   "cell_type": "markdown",
   "id": "31d64faa",
   "metadata": {
    "lc_cell_meme": {
     "current": "95965b02-0703-11ed-ba19-02420a010222-3-10fa-d829-0ccb",
     "history": [
      {
       "current": "95965b02-0703-11ed-ba19-02420a010222-1-10fa",
       "next": "95965b63-0703-11ed-8e29-02420a010222",
       "previous": null
      },
      {
       "current": "95965b02-0703-11ed-ba19-02420a010222-2-10fa-d829",
       "next": "95965b63-0703-11ed-8e29-02420a010222-1-2931",
       "previous": null
      },
      {
       "current": "95965b02-0703-11ed-ba19-02420a010222-3-10fa-d829-0ccb",
       "next": "95965b63-0703-11ed-8e29-02420a010222-2-2931-6ce7",
       "previous": null
      }
     ],
     "next": "95965b63-0703-11ed-8e29-02420a010222-3-2931-6ce7-94b6",
     "previous": null
    }
   },
   "source": [
    "# ハッシュ関数"
   ]
  },
  {
   "cell_type": "markdown",
   "id": "5e85686e",
   "metadata": {
    "lc_cell_meme": {
     "current": "95965b63-0703-11ed-8e29-02420a010222-3-2931-6ce7-94b6",
     "history": [
      {
       "current": "95965b63-0703-11ed-8e29-02420a010222-1-2931",
       "next": "95965ba5-0703-11ed-95c7-02420a010222",
       "previous": "95965b02-0703-11ed-ba19-02420a010222"
      },
      {
       "current": "95965b63-0703-11ed-8e29-02420a010222-2-2931-6ce7",
       "next": "95965ba5-0703-11ed-95c7-02420a010222-1-f9cf",
       "previous": "95965b02-0703-11ed-ba19-02420a010222-1-10fa"
      },
      {
       "current": "95965b63-0703-11ed-8e29-02420a010222-3-2931-6ce7-94b6",
       "next": "95965ba5-0703-11ed-95c7-02420a010222-2-f9cf-dd7b",
       "previous": "95965b02-0703-11ed-ba19-02420a010222-2-10fa-d829"
      }
     ],
     "next": "95965ba5-0703-11ed-95c7-02420a010222-3-f9cf-dd7b-4291",
     "previous": "95965b02-0703-11ed-ba19-02420a010222-3-10fa-d829-0ccb"
    }
   },
   "source": [
    "# 準備\n",
    "\n",
    "以下のセルを実行してください。"
   ]
  },
  {
   "cell_type": "code",
   "execution_count": null,
   "id": "75249bd4",
   "metadata": {
    "lc_cell_meme": {
     "current": "95965ba5-0703-11ed-95c7-02420a010222-3-f9cf-dd7b-4291",
     "history": [
      {
       "current": "95965ba5-0703-11ed-95c7-02420a010222-1-f9cf",
       "next": "95965be7-0703-11ed-b416-02420a010222",
       "previous": "95965b63-0703-11ed-8e29-02420a010222"
      },
      {
       "current": "95965ba5-0703-11ed-95c7-02420a010222-2-f9cf-dd7b",
       "next": "95965be7-0703-11ed-b416-02420a010222-1-7ed9",
       "previous": "95965b63-0703-11ed-8e29-02420a010222-1-2931"
      },
      {
       "current": "95965ba5-0703-11ed-95c7-02420a010222-3-f9cf-dd7b-4291",
       "next": "95965be7-0703-11ed-b416-02420a010222-2-7ed9-3325",
       "previous": "95965b63-0703-11ed-8e29-02420a010222-2-2931-6ce7"
      }
     ],
     "next": "95965be7-0703-11ed-b416-02420a010222-3-7ed9-3325-9f18",
     "previous": "95965b63-0703-11ed-8e29-02420a010222-3-2931-6ce7-94b6"
    },
    "lc_wrapper": {
     "log_history": [
      "/home/cwhadminxe1bf95/draft/.log/20220719/20220719-103822-0427.log",
      "/home/cwhadminxe1bf95/draft/.log/20220719/20220719-195347-0791.log"
     ]
    }
   },
   "outputs": [],
   "source": [
    "pip install pycryptodome"
   ]
  },
  {
   "cell_type": "markdown",
   "id": "b5b3c1a2",
   "metadata": {
    "lc_cell_meme": {
     "current": "95965be7-0703-11ed-b416-02420a010222-3-7ed9-3325-9f18",
     "history": [
      {
       "current": "95965be7-0703-11ed-b416-02420a010222-1-7ed9",
       "next": "95965c2a-0703-11ed-b6da-02420a010222",
       "previous": "95965ba5-0703-11ed-95c7-02420a010222"
      },
      {
       "current": "95965be7-0703-11ed-b416-02420a010222-2-7ed9-3325",
       "next": "95965c2a-0703-11ed-b6da-02420a010222-1-0a03",
       "previous": "95965ba5-0703-11ed-95c7-02420a010222-1-f9cf"
      },
      {
       "current": "95965be7-0703-11ed-b416-02420a010222-3-7ed9-3325-9f18",
       "next": "95965c2a-0703-11ed-b6da-02420a010222-2-0a03-725e",
       "previous": "95965ba5-0703-11ed-95c7-02420a010222-2-f9cf-dd7b"
      }
     ],
     "next": "95965c2a-0703-11ed-b6da-02420a010222-3-0a03-725e-15b6",
     "previous": "95965ba5-0703-11ed-95c7-02420a010222-3-f9cf-dd7b-4291"
    }
   },
   "source": [
    "# ハッシュ関数とハッシュ値"
   ]
  },
  {
   "cell_type": "code",
   "execution_count": null,
   "id": "ef235f0c",
   "metadata": {
    "lc_cell_meme": {
     "current": "95965c2a-0703-11ed-b6da-02420a010222-3-0a03-725e-15b6",
     "history": [
      {
       "current": "95965c2a-0703-11ed-b6da-02420a010222",
       "next": null,
       "previous": "95965be7-0703-11ed-b416-02420a010222"
      },
      {
       "current": "95965c2a-0703-11ed-b6da-02420a010222-1-0a03",
       "next": "dd5a58cb-0703-11ed-84c6-02420a010222",
       "previous": "95965be7-0703-11ed-b416-02420a010222"
      },
      {
       "current": "95965c2a-0703-11ed-b6da-02420a010222-2-0a03-725e",
       "next": "dd5a58cb-0703-11ed-84c6-02420a010222-1-b836",
       "previous": "95965be7-0703-11ed-b416-02420a010222-1-7ed9"
      },
      {
       "current": "95965c2a-0703-11ed-b6da-02420a010222-3-0a03-725e-15b6",
       "next": "dd5a58cb-0703-11ed-84c6-02420a010222-2-b836-470b",
       "previous": "95965be7-0703-11ed-b416-02420a010222-2-7ed9-3325"
      }
     ],
     "next": "dd5a58cb-0703-11ed-84c6-02420a010222-3-b836-470b-cf64",
     "previous": "95965be7-0703-11ed-b416-02420a010222-3-7ed9-3325-9f18"
    },
    "lc_wrapper": {
     "log_history": [
      "/home/cwhadminxe1bf95/draft/.log/20220719/20220719-103931-0253.log",
      "/home/cwhadminxe1bf95/draft/.log/20220719/20220719-103945-0902.log",
      "/home/cwhadminxe1bf95/draft/.log/20220719/20220719-104010-0096.log",
      "/home/cwhadminxe1bf95/draft/.log/20220719/20220719-104116-0307.log",
      "/home/cwhadminxe1bf95/draft/.log/20220719/20220719-104235-0832.log",
      "/home/cwhadminxe1bf95/draft/.log/20220719/20220719-104611-0634.log"
     ]
    }
   },
   "outputs": [],
   "source": [
    "#メッセージ\n",
    "message = 'It is a dark time for the Rebellion. Although the Death Star has been destroyed, Imperial troops have driven the Rebel forces from their hidden base and pursued them across the galaxy. Evading the dreaded Imperial Starfleet, a group of freedom fighters led by Luke Skywalker has established a new secret base on the remote ice world of Hoth. The evil lord Darth Vader, obsessed with finding young Skywalker, has dispatched thousands of remote probes into the far reaches of space.'"
   ]
  },
  {
   "cell_type": "code",
   "execution_count": null,
   "id": "081b3101",
   "metadata": {
    "lc_cell_meme": {
     "current": "dd5a58cb-0703-11ed-84c6-02420a010222-3-b836-470b-cf64",
     "history": [
      {
       "current": "dd5a58cb-0703-11ed-84c6-02420a010222",
       "next": null,
       "previous": "95965c2a-0703-11ed-b6da-02420a010222"
      },
      {
       "current": "dd5a58cb-0703-11ed-84c6-02420a010222-1-b836",
       "next": "24cd8773-0704-11ed-bf23-02420a010222",
       "previous": "95965c2a-0703-11ed-b6da-02420a010222"
      },
      {
       "current": "dd5a58cb-0703-11ed-84c6-02420a010222-1-b836",
       "next": "24cd8773-0704-11ed-bf23-02420a010222-1-dd34",
       "previous": "95965c2a-0703-11ed-b6da-02420a010222-1-0a03"
      },
      {
       "current": "dd5a58cb-0703-11ed-84c6-02420a010222-2-b836-470b",
       "next": "b7f220bd-0755-11ed-8f11-02420a010222",
       "previous": "95965c2a-0703-11ed-b6da-02420a010222-1-0a03"
      },
      {
       "current": "dd5a58cb-0703-11ed-84c6-02420a010222-3-b836-470b-cf64",
       "next": "b7f220bd-0755-11ed-8f11-02420a010222-1-4e6c",
       "previous": "95965c2a-0703-11ed-b6da-02420a010222-2-0a03-725e"
      }
     ],
     "next": "b7f220bd-0755-11ed-8f11-02420a010222-2-4e6c-8678",
     "previous": "95965c2a-0703-11ed-b6da-02420a010222-3-0a03-725e-15b6"
    },
    "lc_wrapper": {
     "log_history": [
      "/home/cwhadminxe1bf95/draft/.log/20220719/20220719-104130-0174.log",
      "/home/cwhadminxe1bf95/draft/.log/20220719/20220719-104140-0161.log",
      "/home/cwhadminxe1bf95/draft/.log/20220719/20220719-104153-0124.log",
      "/home/cwhadminxe1bf95/draft/.log/20220719/20220719-104156-0877.log",
      "/home/cwhadminxe1bf95/draft/.log/20220719/20220719-104201-0537.log",
      "/home/cwhadminxe1bf95/draft/.log/20220719/20220719-104203-0959.log",
      "/home/cwhadminxe1bf95/draft/.log/20220719/20220719-104206-0612.log",
      "/home/cwhadminxe1bf95/draft/.log/20220719/20220719-104237-0640.log",
      "/home/cwhadminxe1bf95/draft/.log/20220719/20220719-104629-0767.log"
     ]
    }
   },
   "outputs": [],
   "source": [
    "#SHA1でハッシュ計算\n",
    "\n",
    "from Crypto.Hash import SHA1\n",
    "\n",
    "hash_object = SHA1.new(data=message.encode())\n",
    "print(hash_object.hexdigest())"
   ]
  },
  {
   "cell_type": "code",
   "execution_count": null,
   "id": "61f5864a",
   "metadata": {
    "lc_cell_meme": {
     "current": "b7f220bd-0755-11ed-8f11-02420a010222-2-4e6c-8678",
     "history": [
      {
       "current": "b7f220bd-0755-11ed-8f11-02420a010222-1-4e6c",
       "next": "24cd8773-0704-11ed-bf23-02420a010222-1-dd34",
       "previous": "dd5a58cb-0703-11ed-84c6-02420a010222-1-b836"
      },
      {
       "current": "b7f220bd-0755-11ed-8f11-02420a010222-2-4e6c-8678",
       "next": "24cd8773-0704-11ed-bf23-02420a010222-2-dd34-473e",
       "previous": "dd5a58cb-0703-11ed-84c6-02420a010222-2-b836-470b"
      }
     ],
     "next": "24cd8773-0704-11ed-bf23-02420a010222-3-dd34-473e-c1f4",
     "previous": "dd5a58cb-0703-11ed-84c6-02420a010222-3-b836-470b-cf64"
    }
   },
   "outputs": [],
   "source": [
    "#SHA-256でハッシュ計算\n",
    "\n",
    "from Crypto.Hash import SHA256\n",
    "\n",
    "hash_object = SHA256.new(data=message.encode())\n",
    "print(hash_object.hexdigest())"
   ]
  },
  {
   "cell_type": "code",
   "execution_count": null,
   "id": "2a4aa54c",
   "metadata": {
    "lc_cell_meme": {
     "current": "24cd8773-0704-11ed-bf23-02420a010222-3-dd34-473e-c1f4",
     "history": [
      {
       "current": "24cd8773-0704-11ed-bf23-02420a010222-1-dd34",
       "next": "6c2ac777-0704-11ed-bc4f-02420a010222",
       "previous": "dd5a58cb-0703-11ed-84c6-02420a010222"
      },
      {
       "current": "24cd8773-0704-11ed-bf23-02420a010222-1-dd34",
       "next": "6c2ac777-0704-11ed-bc4f-02420a010222-1-3b16",
       "previous": "dd5a58cb-0703-11ed-84c6-02420a010222-1-b836"
      },
      {
       "current": "24cd8773-0704-11ed-bf23-02420a010222-2-dd34-473e",
       "next": "6c2ac777-0704-11ed-bc4f-02420a010222-1-3b16",
       "previous": "b7f220bd-0755-11ed-8f11-02420a010222"
      },
      {
       "current": "24cd8773-0704-11ed-bf23-02420a010222-3-dd34-473e-c1f4",
       "next": "6c2ac777-0704-11ed-bc4f-02420a010222-2-3b16-b5f4",
       "previous": "b7f220bd-0755-11ed-8f11-02420a010222-1-4e6c"
      }
     ],
     "next": "6c2ac777-0704-11ed-bc4f-02420a010222-3-3b16-b5f4-8a40",
     "previous": "b7f220bd-0755-11ed-8f11-02420a010222-2-4e6c-8678"
    },
    "lc_wrapper": {
     "log_history": [
      "/home/cwhadminxe1bf95/draft/.log/20220719/20220719-104456-0461.log",
      "/home/cwhadminxe1bf95/draft/.log/20220719/20220719-104641-0060.log"
     ]
    }
   },
   "outputs": [],
   "source": [
    "#メッセージ\n",
    "message = 'The quick brown fox jumps over the lazy cog'"
   ]
  },
  {
   "cell_type": "code",
   "execution_count": null,
   "id": "93cdfb56",
   "metadata": {
    "lc_cell_meme": {
     "current": "6c2ac777-0704-11ed-bc4f-02420a010222-3-3b16-b5f4-8a40",
     "history": [
      {
       "current": "6c2ac777-0704-11ed-bc4f-02420a010222-1-3b16",
       "next": "6c2aca42-0704-11ed-af79-02420a010222",
       "previous": "24cd8773-0704-11ed-bf23-02420a010222"
      },
      {
       "current": "6c2ac777-0704-11ed-bc4f-02420a010222-2-3b16-b5f4",
       "next": "6c2aca42-0704-11ed-af79-02420a010222-1-7565",
       "previous": "24cd8773-0704-11ed-bf23-02420a010222-1-dd34"
      },
      {
       "current": "6c2ac777-0704-11ed-bc4f-02420a010222-3-3b16-b5f4-8a40",
       "next": "6c2aca42-0704-11ed-af79-02420a010222-2-7565-a81e",
       "previous": "24cd8773-0704-11ed-bf23-02420a010222-2-dd34-473e"
      }
     ],
     "next": "6c2aca42-0704-11ed-af79-02420a010222-3-7565-a81e-4a69",
     "previous": "24cd8773-0704-11ed-bf23-02420a010222-3-dd34-473e-c1f4"
    },
    "lc_wrapper": {
     "log_history": [
      "/home/cwhadminxe1bf95/draft/.log/20220719/20220719-104501-0322.log",
      "/home/cwhadminxe1bf95/draft/.log/20220719/20220719-104655-0503.log"
     ]
    }
   },
   "outputs": [],
   "source": [
    "#SHA1でハッシュ計算\n",
    "\n",
    "from Crypto.Hash import SHA1\n",
    "\n",
    "hash_object = SHA1.new(data=message.encode())\n",
    "print(hash_object.hexdigest())"
   ]
  },
  {
   "cell_type": "code",
   "execution_count": null,
   "id": "81cb9631",
   "metadata": {
    "lc_cell_meme": {
     "current": "6c2aca42-0704-11ed-af79-02420a010222-3-7565-a81e-4a69",
     "history": [
      {
       "current": "6c2aca42-0704-11ed-af79-02420a010222-1-7565",
       "next": "b3868f21-0704-11ed-8414-02420a010222",
       "previous": "6c2ac777-0704-11ed-bc4f-02420a010222"
      },
      {
       "current": "6c2aca42-0704-11ed-af79-02420a010222-2-7565-a81e",
       "next": "b3868f21-0704-11ed-8414-02420a010222-1-a7ca",
       "previous": "6c2ac777-0704-11ed-bc4f-02420a010222-1-3b16"
      },
      {
       "current": "6c2aca42-0704-11ed-af79-02420a010222-3-7565-a81e-4a69",
       "next": "b3868f21-0704-11ed-8414-02420a010222-2-a7ca-90af",
       "previous": "6c2ac777-0704-11ed-bc4f-02420a010222-2-3b16-b5f4"
      }
     ],
     "next": "b3868f21-0704-11ed-8414-02420a010222-3-a7ca-90af-6899",
     "previous": "6c2ac777-0704-11ed-bc4f-02420a010222-3-3b16-b5f4-8a40"
    },
    "lc_wrapper": {
     "log_history": [
      "/home/cwhadminxe1bf95/draft/.log/20220719/20220719-104517-0578.log",
      "/home/cwhadminxe1bf95/draft/.log/20220719/20220719-104701-0244.log"
     ]
    }
   },
   "outputs": [],
   "source": [
    "#メッセージ\n",
    "message = 'The quick brown fox jumps over the lazy dog'"
   ]
  },
  {
   "cell_type": "code",
   "execution_count": null,
   "id": "537207b8",
   "metadata": {
    "lc_cell_meme": {
     "current": "b3868f21-0704-11ed-8414-02420a010222-3-a7ca-90af-6899",
     "history": [
      {
       "current": "b3868f21-0704-11ed-8414-02420a010222-1-a7ca",
       "next": "b386926d-0704-11ed-b8b5-02420a010222",
       "previous": "6c2aca42-0704-11ed-af79-02420a010222"
      },
      {
       "current": "b3868f21-0704-11ed-8414-02420a010222-2-a7ca-90af",
       "next": "9cc9305d-0755-11ed-9b9b-02420a010222",
       "previous": "6c2aca42-0704-11ed-af79-02420a010222-1-7565"
      },
      {
       "current": "b3868f21-0704-11ed-8414-02420a010222-3-a7ca-90af-6899",
       "next": "9cc9305d-0755-11ed-9b9b-02420a010222-1-2d94",
       "previous": "6c2aca42-0704-11ed-af79-02420a010222-2-7565-a81e"
      }
     ],
     "next": "9cc9305d-0755-11ed-9b9b-02420a010222-2-2d94-5a11",
     "previous": "6c2aca42-0704-11ed-af79-02420a010222-3-7565-a81e-4a69"
    },
    "lc_wrapper": {
     "log_history": [
      "/home/cwhadminxe1bf95/draft/.log/20220719/20220719-104519-0335.log",
      "/home/cwhadminxe1bf95/draft/.log/20220719/20220719-104706-0822.log"
     ]
    }
   },
   "outputs": [],
   "source": [
    "#SHA1でハッシュ計算\n",
    "\n",
    "from Crypto.Hash import SHA1\n",
    "\n",
    "hash_object = SHA1.new(data=message.encode())\n",
    "print(hash_object.hexdigest())"
   ]
  },
  {
   "cell_type": "markdown",
   "id": "3505682f",
   "metadata": {
    "lc_cell_meme": {
     "current": "9cc9305d-0755-11ed-9b9b-02420a010222-2-2d94-5a11",
     "history": [
      {
       "current": "9cc9305d-0755-11ed-9b9b-02420a010222",
       "next": "d233dd93-0737-11ed-9130-02420a010222-1-654f",
       "previous": "b3868f21-0704-11ed-8414-02420a010222-1-a7ca"
      },
      {
       "current": "9cc9305d-0755-11ed-9b9b-02420a010222-1-2d94",
       "next": "8d8b32b1-0bb3-11ed-afae-02420a010222",
       "previous": "b3868f21-0704-11ed-8414-02420a010222-1-a7ca"
      },
      {
       "current": "9cc9305d-0755-11ed-9b9b-02420a010222-2-2d94-5a11",
       "next": "8d8b32b1-0bb3-11ed-afae-02420a010222-1-cb5c",
       "previous": "b3868f21-0704-11ed-8414-02420a010222-2-a7ca-90af"
      }
     ],
     "next": "8d8b32b1-0bb3-11ed-afae-02420a010222-2-cb5c-0082",
     "previous": "b3868f21-0704-11ed-8414-02420a010222-3-a7ca-90af-6899"
    }
   },
   "source": [
    "# 誕生日攻撃"
   ]
  },
  {
   "cell_type": "markdown",
   "id": "6f20ad4e",
   "metadata": {
    "lc_cell_meme": {
     "current": "8d8b32b1-0bb3-11ed-afae-02420a010222-2-cb5c-0082",
     "history": [
      {
       "current": "8d8b32b1-0bb3-11ed-afae-02420a010222-1-cb5c",
       "next": "d233dd93-0737-11ed-9130-02420a010222-1-654f",
       "previous": "9cc9305d-0755-11ed-9b9b-02420a010222"
      },
      {
       "current": "8d8b32b1-0bb3-11ed-afae-02420a010222-2-cb5c-0082",
       "next": "d233dd93-0737-11ed-9130-02420a010222-2-654f-9274",
       "previous": "9cc9305d-0755-11ed-9b9b-02420a010222-1-2d94"
      }
     ],
     "next": "d233dd93-0737-11ed-9130-02420a010222-3-654f-9274-2ea0",
     "previous": "9cc9305d-0755-11ed-9b9b-02420a010222-2-2d94-5a11"
    }
   },
   "source": [
    "n人の誕生日が異なる確率\n",
    "\n",
    "- 1人目と2人目が異なる確率\t\t$\\dfrac{364}{365}$\n",
    "- 1,2人目と3人目が異なる確率\t\t$\\dfrac{364}{365}\\dfrac{363}{365}$\n",
    "- 1,2,3人目と4人目が異なる確率\t$\\dfrac{364}{365}\\dfrac{363}{365}\\dfrac{362}{365}$\n",
    "- 1,2,…,n-1人目とn人目が異なる確率\n",
    "\t$\\dfrac{364}{365}\\dfrac{363}{365}\\dfrac{362}{365}\\cdots \\dfrac{365-(n-1)}{365}\n",
    "\t=\\dfrac{365\\cdot364\\cdot363\\cdot362\\cdots(365-(n-1))}{365^n}\n",
    "\t=\\dfrac{365!}{(365-n)!}\\dfrac{1}{365^n}$\n",
    "    \n",
    "$n$人の中で誕生日が同じ人がいる確率\n",
    "=$1-(n人の誕生日が異なる確率)$\n",
    "=$1-\\dfrac{365!}{(365^n(365-n)!)}$"
   ]
  },
  {
   "cell_type": "code",
   "execution_count": null,
   "id": "d5f3bcb5",
   "metadata": {
    "lc_cell_meme": {
     "current": "d233dd93-0737-11ed-9130-02420a010222-3-654f-9274-2ea0",
     "history": [
      {
       "current": "d233dd93-0737-11ed-9130-02420a010222",
       "next": null,
       "previous": "9191e095-072a-11ed-bab2-02420a010222"
      },
      {
       "current": "d233dd93-0737-11ed-9130-02420a010222-1-654f",
       "next": "a8c60d42-0738-11ed-910d-02420a010222",
       "previous": "9191e095-072a-11ed-bab2-02420a010222"
      },
      {
       "current": "d233dd93-0737-11ed-9130-02420a010222-1-654f",
       "next": "9cc935b2-0755-11ed-a1a3-02420a010222",
       "previous": "9cc9305d-0755-11ed-9b9b-02420a010222"
      },
      {
       "current": "d233dd93-0737-11ed-9130-02420a010222-2-654f-9274",
       "next": "9cc935b2-0755-11ed-a1a3-02420a010222",
       "previous": "8d8b32b1-0bb3-11ed-afae-02420a010222"
      },
      {
       "current": "d233dd93-0737-11ed-9130-02420a010222-3-654f-9274-2ea0",
       "next": "9cc935b2-0755-11ed-a1a3-02420a010222-1-3f00",
       "previous": "8d8b32b1-0bb3-11ed-afae-02420a010222-1-cb5c"
      }
     ],
     "next": "9cc935b2-0755-11ed-a1a3-02420a010222-2-3f00-fb22",
     "previous": "8d8b32b1-0bb3-11ed-afae-02420a010222-2-cb5c-0082"
    },
    "lc_wrapper": {
     "log_history": [
      "/home/cwhadminxe1bf95/draft/.log/20220719/20220719-165709-0410.log",
      "/home/cwhadminxe1bf95/draft/.log/20220719/20220719-165750-0737.log",
      "/home/cwhadminxe1bf95/draft/.log/20220719/20220719-165849-0567.log",
      "/home/cwhadminxe1bf95/draft/.log/20220719/20220719-165933-0258.log",
      "/home/cwhadminxe1bf95/draft/.log/20220719/20220719-165939-0992.log",
      "/home/cwhadminxe1bf95/draft/.log/20220719/20220719-170054-0286.log",
      "/home/cwhadminxe1bf95/draft/.log/20220719/20220719-170134-0329.log",
      "/home/cwhadminxe1bf95/draft/.log/20220719/20220719-170551-0447.log",
      "/home/cwhadminxe1bf95/draft/.log/20220719/20220719-170603-0214.log",
      "/home/cwhadminxe1bf95/draft/.log/20220719/20220719-170629-0581.log",
      "/home/cwhadminxe1bf95/draft/.log/20220719/20220719-170638-0187.log",
      "/home/cwhadminxe1bf95/draft/.log/20220719/20220719-170710-0904.log",
      "/home/cwhadminxe1bf95/draft/.log/20220719/20220719-170726-0869.log",
      "/home/cwhadminxe1bf95/draft/.log/20220719/20220719-170751-0126.log",
      "/home/cwhadminxe1bf95/draft/.log/20220719/20220719-170832-0961.log",
      "/home/cwhadminxe1bf95/draft/.log/20220719/20220719-170859-0791.log",
      "/home/cwhadminxe1bf95/draft/.log/20220719/20220719-170914-0245.log",
      "/home/cwhadminxe1bf95/draft/.log/20220719/20220719-170926-0382.log",
      "/home/cwhadminxe1bf95/draft/.log/20220719/20220719-171026-0865.log",
      "/home/cwhadminxe1bf95/draft/.log/20220719/20220719-171043-0560.log",
      "/home/cwhadminxe1bf95/draft/.log/20220719/20220719-171128-0208.log",
      "/home/cwhadminxe1bf95/draft/.log/20220719/20220719-171140-0531.log",
      "/home/cwhadminxe1bf95/draft/.log/20220719/20220719-171229-0266.log",
      "/home/cwhadminxe1bf95/draft/.log/20220719/20220719-172019-0046.log",
      "/home/cwhadminxe1bf95/draft/.log/20220719/20220719-172026-0760.log",
      "/home/cwhadminxe1bf95/draft/.log/20220719/20220719-172120-0841.log",
      "/home/cwhadminxe1bf95/draft/.log/20220719/20220719-172143-0851.log",
      "/home/cwhadminxe1bf95/draft/.log/20220719/20220719-172255-0713.log",
      "/home/cwhadminxe1bf95/draft/.log/20220719/20220719-172302-0646.log",
      "/home/cwhadminxe1bf95/draft/.log/20220719/20220719-172315-0723.log",
      "/home/cwhadminxe1bf95/draft/.log/20220719/20220719-172321-0133.log",
      "/home/cwhadminxe1bf95/draft/.log/20220719/20220719-172343-0502.log",
      "/home/cwhadminxe1bf95/draft/.log/20220719/20220719-172349-0446.log",
      "/home/cwhadminxe1bf95/draft/.log/20220719/20220719-172419-0339.log",
      "/home/cwhadminxe1bf95/draft/.log/20220719/20220719-172437-0768.log",
      "/home/cwhadminxe1bf95/draft/.log/20220719/20220719-172446-0878.log",
      "/home/cwhadminxe1bf95/draft/.log/20220719/20220719-172450-0584.log",
      "/home/cwhadminxe1bf95/dev_textbook_2022/.log/20230725/20230725-144728-0220.log"
     ]
    }
   },
   "outputs": [],
   "source": [
    "import matplotlib.pyplot as plt\n",
    "import numpy as np\n",
    "\n",
    "# データ生成\n",
    "#n = np.linspace(1,365,365,dtype='int')\n",
    "#print(n)\n",
    "n=100\n",
    "y = [1- np.math.factorial(365)/( (365**i)*np.math.factorial(365-i) ) for i in range(n)]\n",
    "\n",
    "#y = 1- np.math.factorial(365)/( (365**n)*np.math.factorial(365-n) )\n",
    "\n",
    "# プロット\n",
    "#plt.plot(n, y, label=\"test\")\n",
    "plt.plot(y)\n",
    "\n",
    "plt.xlabel('n')\n",
    "plt.ylabel('P_n')\n",
    "# 凡例の表示\n",
    "plt.grid()\n",
    "\n",
    "# プロット表示(設定の反映)\n",
    "plt.show()"
   ]
  },
  {
   "cell_type": "markdown",
   "id": "2a04c483",
   "metadata": {
    "lc_cell_meme": {
     "current": "9cc935b2-0755-11ed-a1a3-02420a010222-2-3f00-fb22",
     "history": [
      {
       "current": "9cc935b2-0755-11ed-a1a3-02420a010222-1-3f00",
       "next": "a8c60d42-0738-11ed-910d-02420a010222-1-5de3",
       "previous": "d233dd93-0737-11ed-9130-02420a010222-1-654f"
      },
      {
       "current": "9cc935b2-0755-11ed-a1a3-02420a010222-2-3f00-fb22",
       "next": "a8c60d42-0738-11ed-910d-02420a010222-2-5de3-503b",
       "previous": "d233dd93-0737-11ed-9130-02420a010222-2-654f-9274"
      }
     ],
     "next": "a8c60d42-0738-11ed-910d-02420a010222-3-5de3-503b-f280",
     "previous": "d233dd93-0737-11ed-9130-02420a010222-3-654f-9274-2ea0"
    }
   },
   "source": [
    "# 問題"
   ]
  },
  {
   "cell_type": "code",
   "execution_count": null,
   "id": "1bc57265",
   "metadata": {
    "lc_cell_meme": {
     "current": "a8c60d42-0738-11ed-910d-02420a010222-3-5de3-503b-f280",
     "history": [
      {
       "current": "a8c60d42-0738-11ed-910d-02420a010222",
       "next": null,
       "previous": "d233dd93-0737-11ed-9130-02420a010222"
      },
      {
       "current": "a8c60d42-0738-11ed-910d-02420a010222-1-5de3",
       "next": "5e18403c-0750-11ed-b451-02420a010222",
       "previous": "d233dd93-0737-11ed-9130-02420a010222"
      },
      {
       "current": "a8c60d42-0738-11ed-910d-02420a010222-2-5de3-503b",
       "next": "a59e5cbf-0750-11ed-8a62-02420a010222-1-a411",
       "previous": "9cc935b2-0755-11ed-a1a3-02420a010222"
      },
      {
       "current": "a8c60d42-0738-11ed-910d-02420a010222-3-5de3-503b-f280",
       "next": "a59e5cbf-0750-11ed-8a62-02420a010222-2-a411-d7c8",
       "previous": "9cc935b2-0755-11ed-a1a3-02420a010222-1-3f00"
      }
     ],
     "next": "a59e5cbf-0750-11ed-8a62-02420a010222-3-a411-d7c8-c8d2",
     "previous": "9cc935b2-0755-11ed-a1a3-02420a010222-2-3f00-fb22"
    },
    "lc_wrapper": {
     "log_history": [
      "/home/cwhadminxe1bf95/draft/.log/20220719/20220719-194855-0155.log",
      "/home/cwhadminxe1bf95/draft/.log/20220719/20220719-195050-0062.log",
      "/home/cwhadminxe1bf95/draft/.log/20220719/20220719-195155-0810.log",
      "/home/cwhadminxe1bf95/draft/.log/20220719/20220719-195220-0307.log",
      "/home/cwhadminxe1bf95/draft/.log/20220719/20220719-195331-0455.log"
     ]
    }
   },
   "outputs": [],
   "source": [
    "#メッセージ\n",
    "message = 'Write Message Here'"
   ]
  },
  {
   "cell_type": "code",
   "execution_count": null,
   "id": "f82d0335",
   "metadata": {
    "lc_cell_meme": {
     "current": "a59e5cbf-0750-11ed-8a62-02420a010222-3-a411-d7c8-c8d2",
     "history": [
      {
       "current": "a59e5cbf-0750-11ed-8a62-02420a010222",
       "next": null,
       "previous": "5e18403c-0750-11ed-b451-02420a010222"
      },
      {
       "current": "a59e5cbf-0750-11ed-8a62-02420a010222-1-a411",
       "next": "6e5e0d7c-0751-11ed-824b-02420a010222",
       "previous": "5e18403c-0750-11ed-b451-02420a010222"
      },
      {
       "current": "a59e5cbf-0750-11ed-8a62-02420a010222-1-a411",
       "next": "6e5e0d7c-0751-11ed-824b-02420a010222-1-9164",
       "previous": "a8c60d42-0738-11ed-910d-02420a010222-1-5de3"
      },
      {
       "current": "a59e5cbf-0750-11ed-8a62-02420a010222-2-a411-d7c8",
       "next": "6e5e0d7c-0751-11ed-824b-02420a010222-2-9164-8cfa",
       "previous": "a8c60d42-0738-11ed-910d-02420a010222-1-5de3"
      },
      {
       "current": "a59e5cbf-0750-11ed-8a62-02420a010222-3-a411-d7c8-c8d2",
       "next": "6e5e0d7c-0751-11ed-824b-02420a010222-3-9164-8cfa-95e3",
       "previous": "a8c60d42-0738-11ed-910d-02420a010222-2-5de3-503b"
      }
     ],
     "next": "6e5e0d7c-0751-11ed-824b-02420a010222-4-9164-8cfa-95e3-f9d0",
     "previous": "a8c60d42-0738-11ed-910d-02420a010222-3-5de3-503b-f280"
    },
    "lc_wrapper": {
     "log_history": [
      "/home/cwhadminxe1bf95/draft/.log/20220719/20220719-195514-0461.log"
     ]
    }
   },
   "outputs": [],
   "source": [
    "#SHA256でハッシュ計算\n",
    "\n",
    "from Crypto.Hash import SHA256\n",
    "\n",
    "hash_object = SHA256.new(data=message.encode())\n",
    "print(hash_object.hexdigest())"
   ]
  },
  {
   "cell_type": "markdown",
   "id": "506eb9d2",
   "metadata": {
    "lc_cell_meme": {
     "current": "6e5e0d7c-0751-11ed-824b-02420a010222-4-9164-8cfa-95e3-f9d0",
     "history": [
      {
       "current": "6e5e0d7c-0751-11ed-824b-02420a010222-1-9164",
       "next": null,
       "previous": "a59e5cbf-0750-11ed-8a62-02420a010222"
      },
      {
       "current": "6e5e0d7c-0751-11ed-824b-02420a010222-2-9164-8cfa",
       "next": null,
       "previous": "a59e5cbf-0750-11ed-8a62-02420a010222-1-a411"
      },
      {
       "current": "6e5e0d7c-0751-11ed-824b-02420a010222-3-9164-8cfa-95e3",
       "next": "bbf72c62-0ca4-11ed-bb88-02420a010222",
       "previous": "a59e5cbf-0750-11ed-8a62-02420a010222-1-a411"
      },
      {
       "current": "6e5e0d7c-0751-11ed-824b-02420a010222-4-9164-8cfa-95e3-f9d0",
       "next": "bbf72c62-0ca4-11ed-bb88-02420a010222-1-4b99",
       "previous": "a59e5cbf-0750-11ed-8a62-02420a010222-2-a411-d7c8"
      }
     ],
     "next": "bbf72c62-0ca4-11ed-bb88-02420a010222-2-4b99-19c0",
     "previous": "a59e5cbf-0750-11ed-8a62-02420a010222-3-a411-d7c8-c8d2"
    }
   },
   "source": [
    "# いろいろなハッシュ関数"
   ]
  },
  {
   "cell_type": "code",
   "execution_count": null,
   "id": "fe47a3f0",
   "metadata": {
    "lc_cell_meme": {
     "current": "bbf72c62-0ca4-11ed-bb88-02420a010222-2-4b99-19c0",
     "history": [
      {
       "current": "bbf72c62-0ca4-11ed-bb88-02420a010222-1-4b99",
       "next": "bbf7313c-0ca4-11ed-9b76-02420a010222",
       "previous": "6e5e0d7c-0751-11ed-824b-02420a010222-2-9164-8cfa"
      },
      {
       "current": "bbf72c62-0ca4-11ed-bb88-02420a010222-2-4b99-19c0",
       "next": "bbf7313c-0ca4-11ed-9b76-02420a010222-1-c070",
       "previous": "6e5e0d7c-0751-11ed-824b-02420a010222-3-9164-8cfa-95e3"
      }
     ],
     "next": "bbf7313c-0ca4-11ed-9b76-02420a010222-2-c070-5f7f",
     "previous": "6e5e0d7c-0751-11ed-824b-02420a010222-4-9164-8cfa-95e3-f9d0"
    }
   },
   "outputs": [],
   "source": [
    "#メッセージ\n",
    "message = 'The quick brown fox jumps over the lazy cog'"
   ]
  },
  {
   "cell_type": "code",
   "execution_count": null,
   "id": "a7ecdc42",
   "metadata": {
    "lc_cell_meme": {
     "current": "bbf7313c-0ca4-11ed-9b76-02420a010222-2-c070-5f7f",
     "history": [
      {
       "current": "bbf7313c-0ca4-11ed-9b76-02420a010222",
       "next": null,
       "previous": "bbf72c62-0ca4-11ed-bb88-02420a010222"
      },
      {
       "current": "bbf7313c-0ca4-11ed-9b76-02420a010222-1-c070",
       "next": "c9b5a4a7-0ca4-11ed-ae5a-02420a010222",
       "previous": "bbf72c62-0ca4-11ed-bb88-02420a010222"
      },
      {
       "current": "bbf7313c-0ca4-11ed-9b76-02420a010222-2-c070-5f7f",
       "next": "c9b5a4a7-0ca4-11ed-ae5a-02420a010222-1-1be1",
       "previous": "bbf72c62-0ca4-11ed-bb88-02420a010222-1-4b99"
      }
     ],
     "next": "c9b5a4a7-0ca4-11ed-ae5a-02420a010222-2-1be1-927e",
     "previous": "bbf72c62-0ca4-11ed-bb88-02420a010222-2-4b99-19c0"
    }
   },
   "outputs": [],
   "source": [
    "#MD2でハッシュ計算\n",
    "\n",
    "from Crypto.Hash import MD2\n",
    "hash_object = MD2.new(data=message.encode())\n",
    "print(hash_object.hexdigest())"
   ]
  },
  {
   "cell_type": "code",
   "execution_count": null,
   "id": "cf1db061",
   "metadata": {
    "lc_cell_meme": {
     "current": "c9b5a4a7-0ca4-11ed-ae5a-02420a010222-2-1be1-927e",
     "history": [
      {
       "current": "c9b5a4a7-0ca4-11ed-ae5a-02420a010222-1-1be1",
       "next": "c9b5a718-0ca4-11ed-ae9b-02420a010222",
       "previous": "bbf7313c-0ca4-11ed-9b76-02420a010222"
      },
      {
       "current": "c9b5a4a7-0ca4-11ed-ae5a-02420a010222-2-1be1-927e",
       "next": "c9b5a718-0ca4-11ed-ae9b-02420a010222-1-fc51",
       "previous": "bbf7313c-0ca4-11ed-9b76-02420a010222-1-c070"
      }
     ],
     "next": "c9b5a718-0ca4-11ed-ae9b-02420a010222-2-fc51-578a",
     "previous": "bbf7313c-0ca4-11ed-9b76-02420a010222-2-c070-5f7f"
    }
   },
   "outputs": [],
   "source": [
    "#MD4でハッシュ計算\n",
    "\n",
    "from Crypto.Hash import MD4\n",
    "hash_object = MD4.new(data=message.encode())\n",
    "print(hash_object.hexdigest())"
   ]
  },
  {
   "cell_type": "code",
   "execution_count": null,
   "id": "c725f4ba",
   "metadata": {
    "lc_cell_meme": {
     "current": "c9b5a718-0ca4-11ed-ae9b-02420a010222-2-fc51-578a",
     "history": [
      {
       "current": "c9b5a718-0ca4-11ed-ae9b-02420a010222-1-fc51",
       "next": "c9b5a827-0ca4-11ed-93aa-02420a010222",
       "previous": "c9b5a4a7-0ca4-11ed-ae5a-02420a010222"
      },
      {
       "current": "c9b5a718-0ca4-11ed-ae9b-02420a010222-2-fc51-578a",
       "next": "c9b5a827-0ca4-11ed-93aa-02420a010222-1-e15f",
       "previous": "c9b5a4a7-0ca4-11ed-ae5a-02420a010222-1-1be1"
      }
     ],
     "next": "c9b5a827-0ca4-11ed-93aa-02420a010222-2-e15f-2a1c",
     "previous": "c9b5a4a7-0ca4-11ed-ae5a-02420a010222-2-1be1-927e"
    }
   },
   "outputs": [],
   "source": [
    "#MD5でハッシュ計算\n",
    "\n",
    "from Crypto.Hash import MD5\n",
    "hash_object = MD5.new(data=message.encode())\n",
    "print(hash_object.hexdigest())"
   ]
  },
  {
   "cell_type": "code",
   "execution_count": null,
   "id": "750d0646",
   "metadata": {
    "lc_cell_meme": {
     "current": "c9b5a827-0ca4-11ed-93aa-02420a010222-2-e15f-2a1c",
     "history": [
      {
       "current": "c9b5a827-0ca4-11ed-93aa-02420a010222-1-e15f",
       "next": "c9b5a8f7-0ca4-11ed-972c-02420a010222",
       "previous": "c9b5a718-0ca4-11ed-ae9b-02420a010222"
      },
      {
       "current": "c9b5a827-0ca4-11ed-93aa-02420a010222-2-e15f-2a1c",
       "next": "c9b5a8f7-0ca4-11ed-972c-02420a010222-1-8394",
       "previous": "c9b5a718-0ca4-11ed-ae9b-02420a010222-1-fc51"
      }
     ],
     "next": "c9b5a8f7-0ca4-11ed-972c-02420a010222-2-8394-b205",
     "previous": "c9b5a718-0ca4-11ed-ae9b-02420a010222-2-fc51-578a"
    }
   },
   "outputs": [],
   "source": [
    "#SHA1でハッシュ計算\n",
    "\n",
    "from Crypto.Hash import SHA1\n",
    "hash_object = SHA1.new(data=message.encode())\n",
    "print(hash_object.hexdigest())"
   ]
  },
  {
   "cell_type": "code",
   "execution_count": null,
   "id": "67e64869",
   "metadata": {
    "lc_cell_meme": {
     "current": "c9b5a8f7-0ca4-11ed-972c-02420a010222-2-8394-b205",
     "history": [
      {
       "current": "c9b5a8f7-0ca4-11ed-972c-02420a010222-1-8394",
       "next": "c9b5a9b0-0ca4-11ed-9266-02420a010222",
       "previous": "c9b5a827-0ca4-11ed-93aa-02420a010222"
      },
      {
       "current": "c9b5a8f7-0ca4-11ed-972c-02420a010222-2-8394-b205",
       "next": "c9b5a9b0-0ca4-11ed-9266-02420a010222-1-f967",
       "previous": "c9b5a827-0ca4-11ed-93aa-02420a010222-1-e15f"
      }
     ],
     "next": "c9b5a9b0-0ca4-11ed-9266-02420a010222-2-f967-7604",
     "previous": "c9b5a827-0ca4-11ed-93aa-02420a010222-2-e15f-2a1c"
    }
   },
   "outputs": [],
   "source": [
    "#SHA256でハッシュ計算\n",
    "\n",
    "from Crypto.Hash import SHA256\n",
    "hash_object = SHA256.new(data=message.encode())\n",
    "print(hash_object.hexdigest())"
   ]
  },
  {
   "cell_type": "code",
   "execution_count": null,
   "id": "8c51ac93",
   "metadata": {
    "lc_cell_meme": {
     "current": "c9b5a9b0-0ca4-11ed-9266-02420a010222-2-f967-7604",
     "history": [
      {
       "current": "c9b5a9b0-0ca4-11ed-9266-02420a010222-1-f967",
       "next": "c9b5aa6a-0ca4-11ed-a645-02420a010222",
       "previous": "c9b5a8f7-0ca4-11ed-972c-02420a010222"
      },
      {
       "current": "c9b5a9b0-0ca4-11ed-9266-02420a010222-2-f967-7604",
       "next": "c9b5aa6a-0ca4-11ed-a645-02420a010222-1-c7c9",
       "previous": "c9b5a8f7-0ca4-11ed-972c-02420a010222-1-8394"
      }
     ],
     "next": "c9b5aa6a-0ca4-11ed-a645-02420a010222-2-c7c9-cf83",
     "previous": "c9b5a8f7-0ca4-11ed-972c-02420a010222-2-8394-b205"
    }
   },
   "outputs": [],
   "source": [
    "#SHA384でハッシュ計算\n",
    "\n",
    "from Crypto.Hash import SHA384\n",
    "hash_object = SHA384.new(data=message.encode())\n",
    "print(hash_object.hexdigest())"
   ]
  },
  {
   "cell_type": "code",
   "execution_count": null,
   "id": "2d5ac669",
   "metadata": {
    "lc_cell_meme": {
     "current": "c9b5aa6a-0ca4-11ed-a645-02420a010222-2-c7c9-cf83",
     "history": [
      {
       "current": "c9b5aa6a-0ca4-11ed-a645-02420a010222-1-c7c9",
       "next": "c9b5ab23-0ca4-11ed-a8b8-02420a010222",
       "previous": "c9b5a9b0-0ca4-11ed-9266-02420a010222"
      },
      {
       "current": "c9b5aa6a-0ca4-11ed-a645-02420a010222-2-c7c9-cf83",
       "next": "c9b5ab23-0ca4-11ed-a8b8-02420a010222-1-17a1",
       "previous": "c9b5a9b0-0ca4-11ed-9266-02420a010222-1-f967"
      }
     ],
     "next": "c9b5ab23-0ca4-11ed-a8b8-02420a010222-2-17a1-c349",
     "previous": "c9b5a9b0-0ca4-11ed-9266-02420a010222-2-f967-7604"
    }
   },
   "outputs": [],
   "source": [
    "# SHA-512\n",
    "\n",
    "from Crypto.Hash import SHA512\n",
    "hash_object = SHA512.new(data=message.encode())\n",
    "print(hash_object.hexdigest())"
   ]
  },
  {
   "cell_type": "code",
   "execution_count": null,
   "id": "a8ece8a1",
   "metadata": {
    "lc_cell_meme": {
     "current": "c9b5ab23-0ca4-11ed-a8b8-02420a010222-2-17a1-c349",
     "history": [
      {
       "current": "c9b5ab23-0ca4-11ed-a8b8-02420a010222-1-17a1",
       "next": "c9b5abda-0ca4-11ed-ae51-02420a010222",
       "previous": "c9b5aa6a-0ca4-11ed-a645-02420a010222"
      },
      {
       "current": "c9b5ab23-0ca4-11ed-a8b8-02420a010222-2-17a1-c349",
       "next": "c9b5abda-0ca4-11ed-ae51-02420a010222-1-fb70",
       "previous": "c9b5aa6a-0ca4-11ed-a645-02420a010222-1-c7c9"
      }
     ],
     "next": "c9b5abda-0ca4-11ed-ae51-02420a010222-2-fb70-2e06",
     "previous": "c9b5aa6a-0ca4-11ed-a645-02420a010222-2-c7c9-cf83"
    }
   },
   "outputs": [],
   "source": [
    "# SHA-512/256\n",
    "\n",
    "from Crypto.Hash import SHA512\n",
    "hash_object = SHA512.new(data=message.encode(),truncate=\"256\")\n",
    "print(hash_object.hexdigest())"
   ]
  },
  {
   "cell_type": "code",
   "execution_count": null,
   "id": "df7c1d5a",
   "metadata": {
    "lc_cell_meme": {
     "current": "c9b5abda-0ca4-11ed-ae51-02420a010222-2-fb70-2e06",
     "history": [
      {
       "current": "c9b5abda-0ca4-11ed-ae51-02420a010222-1-fb70",
       "next": "c9b5ac8f-0ca4-11ed-9e6a-02420a010222",
       "previous": "c9b5ab23-0ca4-11ed-a8b8-02420a010222"
      },
      {
       "current": "c9b5abda-0ca4-11ed-ae51-02420a010222-2-fb70-2e06",
       "next": "c9b5ac8f-0ca4-11ed-9e6a-02420a010222-1-3820",
       "previous": "c9b5ab23-0ca4-11ed-a8b8-02420a010222-1-17a1"
      }
     ],
     "next": "c9b5ac8f-0ca4-11ed-9e6a-02420a010222-2-3820-ae45",
     "previous": "c9b5ab23-0ca4-11ed-a8b8-02420a010222-2-17a1-c349"
    }
   },
   "outputs": [],
   "source": [
    "# SHA3-224\n",
    "\n",
    "from Crypto.Hash import SHA3_224\n",
    "hash_object = SHA3_224.new(data=message.encode())\n",
    "print(hash_object.hexdigest())"
   ]
  },
  {
   "cell_type": "code",
   "execution_count": null,
   "id": "5a5782bd",
   "metadata": {
    "lc_cell_meme": {
     "current": "c9b5ac8f-0ca4-11ed-9e6a-02420a010222-2-3820-ae45",
     "history": [
      {
       "current": "c9b5ac8f-0ca4-11ed-9e6a-02420a010222",
       "next": null,
       "previous": "c9b5abda-0ca4-11ed-ae51-02420a010222"
      },
      {
       "current": "c9b5ac8f-0ca4-11ed-9e6a-02420a010222-1-3820",
       "next": "fc3815b9-0ca4-11ed-bf29-02420a010222",
       "previous": "c9b5abda-0ca4-11ed-ae51-02420a010222"
      },
      {
       "current": "c9b5ac8f-0ca4-11ed-9e6a-02420a010222-2-3820-ae45",
       "next": "fc3815b9-0ca4-11ed-bf29-02420a010222-1-1d0e",
       "previous": "c9b5abda-0ca4-11ed-ae51-02420a010222-1-fb70"
      }
     ],
     "next": "fc3815b9-0ca4-11ed-bf29-02420a010222-2-1d0e-8d17",
     "previous": "c9b5abda-0ca4-11ed-ae51-02420a010222-2-fb70-2e06"
    }
   },
   "outputs": [],
   "source": [
    "# SHA3-256\n",
    "\n",
    "from Crypto.Hash import SHA3_256\n",
    "hash_object = SHA3_256.new(data=message.encode())\n",
    "print(hash_object.hexdigest())"
   ]
  },
  {
   "cell_type": "code",
   "execution_count": null,
   "id": "069f5559",
   "metadata": {
    "lc_cell_meme": {
     "current": "fc3815b9-0ca4-11ed-bf29-02420a010222-2-1d0e-8d17",
     "history": [
      {
       "current": "fc3815b9-0ca4-11ed-bf29-02420a010222-1-1d0e",
       "next": "fc381831-0ca4-11ed-a3b2-02420a010222",
       "previous": "c9b5ac8f-0ca4-11ed-9e6a-02420a010222"
      },
      {
       "current": "fc3815b9-0ca4-11ed-bf29-02420a010222-2-1d0e-8d17",
       "next": "fc381831-0ca4-11ed-a3b2-02420a010222-1-a075",
       "previous": "c9b5ac8f-0ca4-11ed-9e6a-02420a010222-1-3820"
      }
     ],
     "next": "fc381831-0ca4-11ed-a3b2-02420a010222-2-a075-e728",
     "previous": "c9b5ac8f-0ca4-11ed-9e6a-02420a010222-2-3820-ae45"
    }
   },
   "outputs": [],
   "source": [
    "# SHA3-384\n",
    "\n",
    "from Crypto.Hash import SHA3_384\n",
    "hash_object = SHA3_384.new(data=message.encode())\n",
    "print(hash_object.hexdigest())"
   ]
  },
  {
   "cell_type": "code",
   "execution_count": null,
   "id": "fb960cf1",
   "metadata": {
    "lc_cell_meme": {
     "current": "fc381831-0ca4-11ed-a3b2-02420a010222-2-a075-e728",
     "history": [
      {
       "current": "fc381831-0ca4-11ed-a3b2-02420a010222-1-a075",
       "next": "fc381922-0ca4-11ed-b44b-02420a010222",
       "previous": "fc3815b9-0ca4-11ed-bf29-02420a010222"
      },
      {
       "current": "fc381831-0ca4-11ed-a3b2-02420a010222-2-a075-e728",
       "next": "fc381922-0ca4-11ed-b44b-02420a010222-1-2183",
       "previous": "fc3815b9-0ca4-11ed-bf29-02420a010222-1-1d0e"
      }
     ],
     "next": "fc381922-0ca4-11ed-b44b-02420a010222-2-2183-98a5",
     "previous": "fc3815b9-0ca4-11ed-bf29-02420a010222-2-1d0e-8d17"
    }
   },
   "outputs": [],
   "source": [
    "# SHA3-512\n",
    "\n",
    "from Crypto.Hash import SHA3_512\n",
    "hash_object = SHA3_512.new(data=message.encode())\n",
    "print(hash_object.hexdigest())"
   ]
  },
  {
   "cell_type": "code",
   "execution_count": null,
   "id": "6f76686c",
   "metadata": {
    "lc_cell_meme": {
     "current": "fc381922-0ca4-11ed-b44b-02420a010222-2-2183-98a5",
     "history": [
      {
       "current": "fc381922-0ca4-11ed-b44b-02420a010222-1-2183",
       "next": "fc3819e1-0ca4-11ed-bfec-02420a010222",
       "previous": "fc381831-0ca4-11ed-a3b2-02420a010222"
      },
      {
       "current": "fc381922-0ca4-11ed-b44b-02420a010222-2-2183-98a5",
       "next": "fc3819e1-0ca4-11ed-bfec-02420a010222-1-64f6",
       "previous": "fc381831-0ca4-11ed-a3b2-02420a010222-1-a075"
      }
     ],
     "next": "fc3819e1-0ca4-11ed-bfec-02420a010222-2-64f6-7a5e",
     "previous": "fc381831-0ca4-11ed-a3b2-02420a010222-2-a075-e728"
    }
   },
   "outputs": [],
   "source": [
    "# SHAKE128(256bit=32byte)\n",
    "\n",
    "from Crypto.Hash import SHAKE128\n",
    "hash_object = SHAKE128.new(data=message.encode())\n",
    "print(hash_object.read(32).hex())"
   ]
  },
  {
   "cell_type": "code",
   "execution_count": null,
   "id": "05548171",
   "metadata": {
    "lc_cell_meme": {
     "current": "fc3819e1-0ca4-11ed-bfec-02420a010222-2-64f6-7a5e",
     "history": [
      {
       "current": "fc3819e1-0ca4-11ed-bfec-02420a010222-1-64f6",
       "next": "fc381a92-0ca4-11ed-b27a-02420a010222",
       "previous": "fc381922-0ca4-11ed-b44b-02420a010222"
      },
      {
       "current": "fc3819e1-0ca4-11ed-bfec-02420a010222-2-64f6-7a5e",
       "next": "fc381a92-0ca4-11ed-b27a-02420a010222-1-4435",
       "previous": "fc381922-0ca4-11ed-b44b-02420a010222-1-2183"
      }
     ],
     "next": "fc381a92-0ca4-11ed-b27a-02420a010222-2-4435-bc75",
     "previous": "fc381922-0ca4-11ed-b44b-02420a010222-2-2183-98a5"
    }
   },
   "outputs": [],
   "source": [
    "# SHAKE256(256bit=32byte)\n",
    "\n",
    "from Crypto.Hash import SHAKE256\n",
    "hash_object = SHAKE256.new(data=message.encode())\n",
    "print(hash_object.read(32).hex())"
   ]
  },
  {
   "cell_type": "code",
   "execution_count": null,
   "id": "3deb948c",
   "metadata": {
    "lc_cell_meme": {
     "current": "fc381a92-0ca4-11ed-b27a-02420a010222-2-4435-bc75",
     "history": [
      {
       "current": "fc381a92-0ca4-11ed-b27a-02420a010222-1-4435",
       "next": "fc381b43-0ca4-11ed-b88c-02420a010222",
       "previous": "fc3819e1-0ca4-11ed-bfec-02420a010222"
      },
      {
       "current": "fc381a92-0ca4-11ed-b27a-02420a010222-2-4435-bc75",
       "next": "fc381b43-0ca4-11ed-b88c-02420a010222-1-2796",
       "previous": "fc3819e1-0ca4-11ed-bfec-02420a010222-1-64f6"
      }
     ],
     "next": "fc381b43-0ca4-11ed-b88c-02420a010222-2-2796-a311",
     "previous": "fc3819e1-0ca4-11ed-bfec-02420a010222-2-64f6-7a5e"
    }
   },
   "outputs": [],
   "source": []
  },
  {
   "cell_type": "code",
   "execution_count": null,
   "id": "66d89209",
   "metadata": {
    "lc_cell_meme": {
     "current": "fc381b43-0ca4-11ed-b88c-02420a010222-2-2796-a311",
     "history": [
      {
       "current": "fc381b43-0ca4-11ed-b88c-02420a010222-1-2796",
       "next": "fc381bf5-0ca4-11ed-93e1-02420a010222",
       "previous": "fc381a92-0ca4-11ed-b27a-02420a010222"
      },
      {
       "current": "fc381b43-0ca4-11ed-b88c-02420a010222-2-2796-a311",
       "next": "fc381bf5-0ca4-11ed-93e1-02420a010222-1-e7ad",
       "previous": "fc381a92-0ca4-11ed-b27a-02420a010222-1-4435"
      }
     ],
     "next": "fc381bf5-0ca4-11ed-93e1-02420a010222-2-e7ad-3769",
     "previous": "fc381a92-0ca4-11ed-b27a-02420a010222-2-4435-bc75"
    }
   },
   "outputs": [],
   "source": []
  },
  {
   "cell_type": "code",
   "execution_count": null,
   "id": "352ae624",
   "metadata": {
    "lc_cell_meme": {
     "current": "fc381bf5-0ca4-11ed-93e1-02420a010222-2-e7ad-3769",
     "history": [
      {
       "current": "fc381bf5-0ca4-11ed-93e1-02420a010222-1-e7ad",
       "next": "fc381ca7-0ca4-11ed-9376-02420a010222",
       "previous": "fc381b43-0ca4-11ed-b88c-02420a010222"
      },
      {
       "current": "fc381bf5-0ca4-11ed-93e1-02420a010222-2-e7ad-3769",
       "next": "fc381ca7-0ca4-11ed-9376-02420a010222-1-b40f",
       "previous": "fc381b43-0ca4-11ed-b88c-02420a010222-1-2796"
      }
     ],
     "next": "fc381ca7-0ca4-11ed-9376-02420a010222-2-b40f-ffd0",
     "previous": "fc381b43-0ca4-11ed-b88c-02420a010222-2-2796-a311"
    }
   },
   "outputs": [],
   "source": []
  },
  {
   "cell_type": "code",
   "execution_count": null,
   "id": "ca98740c",
   "metadata": {
    "lc_cell_meme": {
     "current": "fc381ca7-0ca4-11ed-9376-02420a010222-2-b40f-ffd0",
     "history": [
      {
       "current": "fc381ca7-0ca4-11ed-9376-02420a010222-1-b40f",
       "next": null,
       "previous": "fc381bf5-0ca4-11ed-93e1-02420a010222"
      },
      {
       "current": "fc381ca7-0ca4-11ed-9376-02420a010222-2-b40f-ffd0",
       "next": null,
       "previous": "fc381bf5-0ca4-11ed-93e1-02420a010222-1-e7ad"
      }
     ],
     "next": null,
     "previous": "fc381bf5-0ca4-11ed-93e1-02420a010222-2-e7ad-3769"
    }
   },
   "outputs": [],
   "source": []
  }
 ],
 "metadata": {
  "kernelspec": {
   "display_name": "Python 3",
   "language": "python",
   "name": "python3"
  },
  "language_info": {
   "file_extension": ".py",
   "mimetype": "text/x-python",
   "name": "python",
   "nbconvert_exporter": "python",
   "pygments_lexer": "ipython3",
   "version": "3.9.2"
  },
  "lc_notebook_meme": {
   "current": "9596583b-0703-11ed-9788-02420a010222",
   "lc_server_signature": {
    "current": {
     "notebook_dir": "/home/cwhadminxe1bf95",
     "notebook_path": "/textbook",
     "server_url": "https://cwh.media.gunma-u.ac.jp/user/cwhadminxe1bf95/",
     "signature_id": "d287dc56-b8b1-11ec-b3eb-23e3164b790f"
    },
    "history": [
     {
      "notebook_dir": "/home/cwhadminxe1bf95",
      "notebook_path": "/draft",
      "server_url": "https://cwh.media.gunma-u.ac.jp/user/cwhadminxe1bf95/",
      "signature_id": "d287dc56-b8b1-11ec-b3eb-23e3164b790f"
     },
     {
      "notebook_dir": "/home/cwhadminxe1bf95",
      "notebook_path": "/textbook",
      "server_url": "https://cwh.media.gunma-u.ac.jp/user/cwhadminxe1bf95/",
      "signature_id": "d287dc56-b8b1-11ec-b3eb-23e3164b790f"
     },
     {
      "notebook_dir": "/home/cwhadminxe1bf95",
      "notebook_path": "/dev_textbook_2022",
      "server_url": "https://cwh.media.gunma-u.ac.jp/user/cwhadminxe1bf95/",
      "signature_id": "d287dc56-b8b1-11ec-b3eb-23e3164b790f"
     }
    ]
   }
  },
  "toc": {
   "base_numbering": 1,
   "nav_menu": {},
   "number_sections": true,
   "sideBar": true,
   "skip_h1_title": false,
   "title_cell": "Table of Contents",
   "title_sidebar": "Contents",
   "toc_cell": false,
   "toc_position": {},
   "toc_section_display": true,
   "toc_window_display": false
  }
 },
 "nbformat": 4,
 "nbformat_minor": 5
}
