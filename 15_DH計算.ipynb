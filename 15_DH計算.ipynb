{
 "cells": [
  {
   "cell_type": "markdown",
   "id": "27063172",
   "metadata": {
    "lc_cell_meme": {
     "current": "13a5bb5a-06ff-11ed-8e44-02420a010222-3-dce8-9c9a-8f95",
     "history": [
      {
       "current": "13a5bb5a-06ff-11ed-8e44-02420a010222-1-dce8",
       "next": "85b4328e-06fe-11ed-aa50-02420a010222-1-ac3f",
       "previous": null
      },
      {
       "current": "13a5bb5a-06ff-11ed-8e44-02420a010222-2-dce8-9c9a",
       "next": "85b4328e-06fe-11ed-aa50-02420a010222-2-ac3f-b086",
       "previous": null
      },
      {
       "current": "13a5bb5a-06ff-11ed-8e44-02420a010222-3-dce8-9c9a-8f95",
       "next": "85b4328e-06fe-11ed-aa50-02420a010222-3-ac3f-b086-2c4b",
       "previous": null
      }
     ],
     "next": "85b4328e-06fe-11ed-aa50-02420a010222-4-ac3f-b086-2c4b-b5e6",
     "previous": null
    }
   },
   "source": [
    "# 鍵交換\u000b",
    "DH(Diffie-Hellman)法\n",
    "\n",
    "- 共通鍵の受け渡し法。\n",
    "- 直接渡すのではなく，鍵の素を渡し，両者で共通鍵を計算する。\n",
    "- 鍵の素を頻繁に変えるだけで，共通鍵も頻繁に変えることができる。\n"
   ]
  },
  {
   "cell_type": "markdown",
   "id": "f187d24e",
   "metadata": {
    "lc_cell_meme": {
     "current": "85b4328e-06fe-11ed-aa50-02420a010222-4-ac3f-b086-2c4b-b5e6",
     "history": [
      {
       "current": "85b4328e-06fe-11ed-aa50-02420a010222-1-ac3f",
       "next": null,
       "previous": null
      },
      {
       "current": "85b4328e-06fe-11ed-aa50-02420a010222-1-ac3f",
       "next": "cc2514bc-06fe-11ed-b293-02420a010222",
       "previous": null
      },
      {
       "current": "85b4328e-06fe-11ed-aa50-02420a010222-1-ac3f",
       "next": "cc2514bc-06fe-11ed-b293-02420a010222",
       "previous": "13a5bb5a-06ff-11ed-8e44-02420a010222"
      },
      {
       "current": "85b4328e-06fe-11ed-aa50-02420a010222-2-ac3f-b086",
       "next": "cc2514bc-06fe-11ed-b293-02420a010222-1-b2f5",
       "previous": "13a5bb5a-06ff-11ed-8e44-02420a010222"
      },
      {
       "current": "85b4328e-06fe-11ed-aa50-02420a010222-3-ac3f-b086-2c4b",
       "next": "cc2514bc-06fe-11ed-b293-02420a010222-2-b2f5-2c7c",
       "previous": "13a5bb5a-06ff-11ed-8e44-02420a010222-1-dce8"
      },
      {
       "current": "85b4328e-06fe-11ed-aa50-02420a010222-4-ac3f-b086-2c4b-b5e6",
       "next": "cc2514bc-06fe-11ed-b293-02420a010222-3-b2f5-2c7c-e93f",
       "previous": "13a5bb5a-06ff-11ed-8e44-02420a010222-2-dce8-9c9a"
      }
     ],
     "next": "cc2514bc-06fe-11ed-b293-02420a010222-4-b2f5-2c7c-e93f-2326",
     "previous": "13a5bb5a-06ff-11ed-8e44-02420a010222-3-dce8-9c9a-8f95"
    }
   },
   "source": [
    "「離散対数問題」が難しいことが根拠\n",
    "\n",
    "$x^y \\equiv z  \\pmod p$ （$p$は大きな素数）の時，\n",
    "- $x,p,z$が既知の時$y$を求めるのが困難\n",
    "- $x,y,p$が既知の時$z$を求めるのは簡単\n"
   ]
  },
  {
   "cell_type": "markdown",
   "id": "f0c57fde",
   "metadata": {
    "lc_cell_meme": {
     "current": "cc2514bc-06fe-11ed-b293-02420a010222-4-b2f5-2c7c-e93f-2326",
     "history": [
      {
       "current": "cc2514bc-06fe-11ed-b293-02420a010222-2-b2f5-2c7c",
       "next": "5af07c88-06ff-11ed-82cd-02420a010222",
       "previous": "85b4328e-06fe-11ed-aa50-02420a010222-1-ac3f"
      },
      {
       "current": "cc2514bc-06fe-11ed-b293-02420a010222-3-b2f5-2c7c-e93f",
       "next": "5af07c88-06ff-11ed-82cd-02420a010222-1-120a",
       "previous": "85b4328e-06fe-11ed-aa50-02420a010222-2-ac3f-b086"
      },
      {
       "current": "cc2514bc-06fe-11ed-b293-02420a010222-4-b2f5-2c7c-e93f-2326",
       "next": "5af07c88-06ff-11ed-82cd-02420a010222-2-120a-98af",
       "previous": "85b4328e-06fe-11ed-aa50-02420a010222-3-ac3f-b086-2c4b"
      }
     ],
     "next": "5af07c88-06ff-11ed-82cd-02420a010222-3-120a-98af-b1fb",
     "previous": "85b4328e-06fe-11ed-aa50-02420a010222-4-ac3f-b086-2c4b-b5e6"
    }
   },
   "source": [
    "公開鍵$(p,g)$を共有"
   ]
  },
  {
   "cell_type": "code",
   "execution_count": null,
   "id": "9ccf84eb",
   "metadata": {
    "lc_cell_meme": {
     "current": "5af07c88-06ff-11ed-82cd-02420a010222-3-120a-98af-b1fb",
     "history": [
      {
       "current": "5af07c88-06ff-11ed-82cd-02420a010222",
       "next": "5af080bf-06ff-11ed-8bec-02420a010222",
       "previous": "cc2514bc-06fe-11ed-b293-02420a010222-1-b2f5"
      },
      {
       "current": "5af07c88-06ff-11ed-82cd-02420a010222-1-120a",
       "next": "5af080bf-06ff-11ed-8bec-02420a010222-1-85ff",
       "previous": "cc2514bc-06fe-11ed-b293-02420a010222-1-b2f5"
      },
      {
       "current": "5af07c88-06ff-11ed-82cd-02420a010222-2-120a-98af",
       "next": "5af080bf-06ff-11ed-8bec-02420a010222-2-85ff-07f5",
       "previous": "cc2514bc-06fe-11ed-b293-02420a010222-2-b2f5-2c7c"
      },
      {
       "current": "5af07c88-06ff-11ed-82cd-02420a010222-3-120a-98af-b1fb",
       "next": "5af080bf-06ff-11ed-8bec-02420a010222-3-85ff-07f5-857f",
       "previous": "cc2514bc-06fe-11ed-b293-02420a010222-3-b2f5-2c7c-e93f"
      }
     ],
     "next": "5af080bf-06ff-11ed-8bec-02420a010222-4-85ff-07f5-857f-6847",
     "previous": "cc2514bc-06fe-11ed-b293-02420a010222-4-b2f5-2c7c-e93f-2326"
    },
    "lc_wrapper": {
     "log_history": [
      "/home/cwhadminxe1bf95/draft/.log/20220719/20220719-100811-0048.log",
      "/home/cwhadminxe1bf95/draft/.log/20220719/20220719-100837-0547.log",
      "/home/cwhadminxe1bf95/dev_textbook_2022/.log/20230725/20230725-165437-0807.log",
      "/home/cwhadminxe1bf95/dev_textbook_2022/.log/20230725/20230725-165502-0086.log",
      "/home/cwhadminxe1bf95/dev_textbook_2022/.log/20230725/20230725-165517-0359.log",
      "/home/cwhadminxe1bf95/dev_textbook_2022/.log/20230725/20230725-165527-0016.log",
      "/home/cwhadminxe1bf95/dev_textbook_2022/.log/20230725/20230725-165537-0261.log",
      "/home/cwhadminxe1bf95/dev_textbook_2022/.log/20230725/20230725-165544-0711.log",
      "/home/cwhadminxe1bf95/dev_textbook_2022/.log/20230725/20230725-165610-0539.log",
      "/home/cwhadminxe1bf95/dev_textbook_2022/.log/20230725/20230725-165619-0179.log",
      "/home/cwhadminxe1bf95/dev_textbook_2022/.log/20230725/20230725-165641-0479.log",
      "/home/cwhadminxe1bf95/dev_textbook_2022/.log/20230725/20230725-165649-0766.log",
      "/home/cwhadminxe1bf95/dev_textbook_2022/.log/20230725/20230725-165705-0582.log"
     ]
    }
   },
   "outputs": [],
   "source": [
    "#pは素数\n",
    "p=7\n",
    "\n",
    "#gはpより小さい自然数\n",
    "g=5"
   ]
  },
  {
   "cell_type": "markdown",
   "id": "ccb5f1d0",
   "metadata": {
    "lc_cell_meme": {
     "current": "5af080bf-06ff-11ed-8bec-02420a010222-4-85ff-07f5-857f-6847",
     "history": [
      {
       "current": "5af080bf-06ff-11ed-8bec-02420a010222-1-85ff",
       "next": null,
       "previous": "5af07c88-06ff-11ed-82cd-02420a010222"
      },
      {
       "current": "5af080bf-06ff-11ed-8bec-02420a010222-2-85ff-07f5",
       "next": "a2b3aaeb-06ff-11ed-b33d-02420a010222",
       "previous": "5af07c88-06ff-11ed-82cd-02420a010222"
      },
      {
       "current": "5af080bf-06ff-11ed-8bec-02420a010222-3-85ff-07f5-857f",
       "next": "a2b3aaeb-06ff-11ed-b33d-02420a010222-1-5a77",
       "previous": "5af07c88-06ff-11ed-82cd-02420a010222-1-120a"
      },
      {
       "current": "5af080bf-06ff-11ed-8bec-02420a010222-4-85ff-07f5-857f-6847",
       "next": "a2b3aaeb-06ff-11ed-b33d-02420a010222-2-5a77-7eda",
       "previous": "5af07c88-06ff-11ed-82cd-02420a010222-2-120a-98af"
      }
     ],
     "next": "a2b3aaeb-06ff-11ed-b33d-02420a010222-3-5a77-7eda-00ef",
     "previous": "5af07c88-06ff-11ed-82cd-02420a010222-3-120a-98af-b1fb"
    }
   },
   "source": [
    "Aさんの秘密鍵$a$, Bさんの秘密鍵$b$を設定"
   ]
  },
  {
   "cell_type": "code",
   "execution_count": null,
   "id": "8eda1c55",
   "metadata": {
    "lc_cell_meme": {
     "current": "a2b3aaeb-06ff-11ed-b33d-02420a010222-3-5a77-7eda-00ef",
     "history": [
      {
       "current": "a2b3aaeb-06ff-11ed-b33d-02420a010222-1-5a77",
       "next": "319484a8-0700-11ed-8fc2-02420a010222",
       "previous": "5af080bf-06ff-11ed-8bec-02420a010222-1-85ff"
      },
      {
       "current": "a2b3aaeb-06ff-11ed-b33d-02420a010222-2-5a77-7eda",
       "next": "319484a8-0700-11ed-8fc2-02420a010222-1-d4ab",
       "previous": "5af080bf-06ff-11ed-8bec-02420a010222-2-85ff-07f5"
      },
      {
       "current": "a2b3aaeb-06ff-11ed-b33d-02420a010222-3-5a77-7eda-00ef",
       "next": "319484a8-0700-11ed-8fc2-02420a010222-2-d4ab-431e",
       "previous": "5af080bf-06ff-11ed-8bec-02420a010222-3-85ff-07f5-857f"
      }
     ],
     "next": "319484a8-0700-11ed-8fc2-02420a010222-3-d4ab-431e-76e7",
     "previous": "5af080bf-06ff-11ed-8bec-02420a010222-4-85ff-07f5-857f-6847"
    },
    "lc_wrapper": {
     "log_history": [
      "/home/cwhadminxe1bf95/draft/.log/20220719/20220719-101302-0806.log",
      "/home/cwhadminxe1bf95/dev_textbook_2022/.log/20230725/20230725-165439-0239.log",
      "/home/cwhadminxe1bf95/dev_textbook_2022/.log/20230725/20230725-165503-0089.log",
      "/home/cwhadminxe1bf95/dev_textbook_2022/.log/20230725/20230725-165518-0000.log",
      "/home/cwhadminxe1bf95/dev_textbook_2022/.log/20230725/20230725-165527-0435.log",
      "/home/cwhadminxe1bf95/dev_textbook_2022/.log/20230725/20230725-165538-0122.log",
      "/home/cwhadminxe1bf95/dev_textbook_2022/.log/20230725/20230725-165545-0073.log",
      "/home/cwhadminxe1bf95/dev_textbook_2022/.log/20230725/20230725-165610-0943.log",
      "/home/cwhadminxe1bf95/dev_textbook_2022/.log/20230725/20230725-165619-0773.log",
      "/home/cwhadminxe1bf95/dev_textbook_2022/.log/20230725/20230725-165642-0143.log",
      "/home/cwhadminxe1bf95/dev_textbook_2022/.log/20230725/20230725-165650-0373.log",
      "/home/cwhadminxe1bf95/dev_textbook_2022/.log/20230725/20230725-165706-0459.log"
     ]
    }
   },
   "outputs": [],
   "source": [
    "#Aさんの秘密鍵\n",
    "a=4\n",
    "\n",
    "#Bさんの秘密鍵\n",
    "b=3"
   ]
  },
  {
   "cell_type": "markdown",
   "id": "47ba23c1",
   "metadata": {
    "lc_cell_meme": {
     "current": "319484a8-0700-11ed-8fc2-02420a010222-3-d4ab-431e-76e7",
     "execution_end_time": "2022-07-19T01:13:36.606213Z",
     "history": [
      {
       "current": "319484a8-0700-11ed-8fc2-02420a010222-1-d4ab",
       "next": "31948786-0700-11ed-9bb6-02420a010222",
       "previous": "a2b3aaeb-06ff-11ed-b33d-02420a010222"
      },
      {
       "current": "319484a8-0700-11ed-8fc2-02420a010222-2-d4ab-431e",
       "next": "31948786-0700-11ed-9bb6-02420a010222-1-e246",
       "previous": "a2b3aaeb-06ff-11ed-b33d-02420a010222-1-5a77"
      },
      {
       "current": "319484a8-0700-11ed-8fc2-02420a010222-3-d4ab-431e-76e7",
       "next": "31948786-0700-11ed-9bb6-02420a010222-2-e246-b86b",
       "previous": "a2b3aaeb-06ff-11ed-b33d-02420a010222-2-5a77-7eda"
      }
     ],
     "next": "31948786-0700-11ed-9bb6-02420a010222-3-e246-b86b-f3d6",
     "previous": "a2b3aaeb-06ff-11ed-b33d-02420a010222-3-5a77-7eda-00ef"
    },
    "lc_wrapper": {
     "log_history": [
      "/home/cwhadminxe1bf95/draft/.log/20220719/20220719-101336-0592.log"
     ]
    }
   },
   "source": [
    "秘密鍵と公開鍵から計算した値$A,B$を相手に送信\n",
    "- $A=g^a \\pmod p$ \n",
    "- $B=g^b \\pmod p$\n"
   ]
  },
  {
   "cell_type": "code",
   "execution_count": null,
   "id": "7f21a943",
   "metadata": {
    "lc_cell_meme": {
     "current": "31948786-0700-11ed-9bb6-02420a010222-3-e246-b86b-f3d6",
     "history": [
      {
       "current": "31948786-0700-11ed-9bb6-02420a010222",
       "next": null,
       "previous": "319484a8-0700-11ed-8fc2-02420a010222"
      },
      {
       "current": "31948786-0700-11ed-9bb6-02420a010222",
       "next": "791f8462-0700-11ed-bf7c-02420a010222",
       "previous": "319484a8-0700-11ed-8fc2-02420a010222"
      },
      {
       "current": "31948786-0700-11ed-9bb6-02420a010222-1-e246",
       "next": "c0d0d829-0700-11ed-920b-02420a010222",
       "previous": "319484a8-0700-11ed-8fc2-02420a010222"
      },
      {
       "current": "31948786-0700-11ed-9bb6-02420a010222-2-e246-b86b",
       "next": "c0d0d829-0700-11ed-920b-02420a010222-1-0ea4",
       "previous": "319484a8-0700-11ed-8fc2-02420a010222-1-d4ab"
      },
      {
       "current": "31948786-0700-11ed-9bb6-02420a010222-3-e246-b86b-f3d6",
       "next": "c0d0d829-0700-11ed-920b-02420a010222-2-0ea4-8134",
       "previous": "319484a8-0700-11ed-8fc2-02420a010222-2-d4ab-431e"
      }
     ],
     "next": "c0d0d829-0700-11ed-920b-02420a010222-3-0ea4-8134-1e8e",
     "previous": "319484a8-0700-11ed-8fc2-02420a010222-3-d4ab-431e-76e7"
    },
    "lc_wrapper": {
     "log_history": [
      "/home/cwhadminxe1bf95/draft/.log/20220719/20220719-101528-0949.log",
      "/home/cwhadminxe1bf95/draft/.log/20220719/20220719-101545-0541.log",
      "/home/cwhadminxe1bf95/draft/.log/20220719/20220719-101815-0961.log",
      "/home/cwhadminxe1bf95/dev_textbook_2022/.log/20230725/20230725-165440-0875.log",
      "/home/cwhadminxe1bf95/dev_textbook_2022/.log/20230725/20230725-165503-0994.log",
      "/home/cwhadminxe1bf95/dev_textbook_2022/.log/20230725/20230725-165518-0525.log",
      "/home/cwhadminxe1bf95/dev_textbook_2022/.log/20230725/20230725-165527-0833.log",
      "/home/cwhadminxe1bf95/dev_textbook_2022/.log/20230725/20230725-165538-0580.log",
      "/home/cwhadminxe1bf95/dev_textbook_2022/.log/20230725/20230725-165545-0397.log",
      "/home/cwhadminxe1bf95/dev_textbook_2022/.log/20230725/20230725-165611-0242.log",
      "/home/cwhadminxe1bf95/dev_textbook_2022/.log/20230725/20230725-165620-0152.log",
      "/home/cwhadminxe1bf95/dev_textbook_2022/.log/20230725/20230725-165642-0821.log",
      "/home/cwhadminxe1bf95/dev_textbook_2022/.log/20230725/20230725-165651-0002.log",
      "/home/cwhadminxe1bf95/dev_textbook_2022/.log/20230725/20230725-165707-0139.log"
     ]
    }
   },
   "outputs": [],
   "source": [
    "# AさんがBさんに送信する値\n",
    "A = g**a % p\n",
    "print(A)"
   ]
  },
  {
   "cell_type": "code",
   "execution_count": null,
   "id": "0a705470",
   "metadata": {
    "lc_cell_meme": {
     "current": "c0d0d829-0700-11ed-920b-02420a010222-3-0ea4-8134-1e8e",
     "history": [
      {
       "current": "c0d0d829-0700-11ed-920b-02420a010222-1-0ea4",
       "next": "791f8462-0700-11ed-bf7c-02420a010222",
       "previous": "31948786-0700-11ed-9bb6-02420a010222"
      },
      {
       "current": "c0d0d829-0700-11ed-920b-02420a010222-2-0ea4-8134",
       "next": "791f8462-0700-11ed-bf7c-02420a010222-1-301c",
       "previous": "31948786-0700-11ed-9bb6-02420a010222-1-e246"
      },
      {
       "current": "c0d0d829-0700-11ed-920b-02420a010222-3-0ea4-8134-1e8e",
       "next": "791f8462-0700-11ed-bf7c-02420a010222-2-301c-bf3e",
       "previous": "31948786-0700-11ed-9bb6-02420a010222-2-e246-b86b"
      }
     ],
     "next": "791f8462-0700-11ed-bf7c-02420a010222-3-301c-bf3e-871d",
     "previous": "31948786-0700-11ed-9bb6-02420a010222-3-e246-b86b-f3d6"
    },
    "lc_wrapper": {
     "log_history": [
      "/home/cwhadminxe1bf95/draft/.log/20220719/20220719-101817-0298.log",
      "/home/cwhadminxe1bf95/dev_textbook_2022/.log/20230725/20230725-165442-0294.log",
      "/home/cwhadminxe1bf95/dev_textbook_2022/.log/20230725/20230725-165504-0494.log",
      "/home/cwhadminxe1bf95/dev_textbook_2022/.log/20230725/20230725-165518-0862.log",
      "/home/cwhadminxe1bf95/dev_textbook_2022/.log/20230725/20230725-165528-0027.log",
      "/home/cwhadminxe1bf95/dev_textbook_2022/.log/20230725/20230725-165538-0806.log",
      "/home/cwhadminxe1bf95/dev_textbook_2022/.log/20230725/20230725-165545-0820.log",
      "/home/cwhadminxe1bf95/dev_textbook_2022/.log/20230725/20230725-165611-0392.log",
      "/home/cwhadminxe1bf95/dev_textbook_2022/.log/20230725/20230725-165620-0363.log",
      "/home/cwhadminxe1bf95/dev_textbook_2022/.log/20230725/20230725-165643-0246.log",
      "/home/cwhadminxe1bf95/dev_textbook_2022/.log/20230725/20230725-165651-0652.log",
      "/home/cwhadminxe1bf95/dev_textbook_2022/.log/20230725/20230725-165707-0550.log"
     ]
    }
   },
   "outputs": [],
   "source": [
    "# BさんがAさんに送信する値\n",
    "B = g**b % p\n",
    "print(B)"
   ]
  },
  {
   "cell_type": "markdown",
   "id": "c04c907e",
   "metadata": {
    "lc_cell_meme": {
     "current": "791f8462-0700-11ed-bf7c-02420a010222-3-301c-bf3e-871d",
     "history": [
      {
       "current": "791f8462-0700-11ed-bf7c-02420a010222",
       "next": "791f85e9-0700-11ed-a609-02420a010222",
       "previous": "31948786-0700-11ed-9bb6-02420a010222"
      },
      {
       "current": "791f8462-0700-11ed-bf7c-02420a010222-1-301c",
       "next": "791f85e9-0700-11ed-a609-02420a010222",
       "previous": "c0d0d829-0700-11ed-920b-02420a010222"
      },
      {
       "current": "791f8462-0700-11ed-bf7c-02420a010222-2-301c-bf3e",
       "next": "791f85e9-0700-11ed-a609-02420a010222-1-ddf3",
       "previous": "c0d0d829-0700-11ed-920b-02420a010222-1-0ea4"
      },
      {
       "current": "791f8462-0700-11ed-bf7c-02420a010222-3-301c-bf3e-871d",
       "next": "791f85e9-0700-11ed-a609-02420a010222-2-ddf3-8a6e",
       "previous": "c0d0d829-0700-11ed-920b-02420a010222-2-0ea4-8134"
      }
     ],
     "next": "791f85e9-0700-11ed-a609-02420a010222-3-ddf3-8a6e-6264",
     "previous": "c0d0d829-0700-11ed-920b-02420a010222-3-0ea4-8134-1e8e"
    }
   },
   "source": [
    "公開鍵と秘密鍵を使い共有情報を計算\n",
    "- $B^a \\pmod p$\n",
    "- $A^b \\pmod p$\n",
    "\n",
    "両者は同じ値になるはず\n",
    "- $g^{ab} \\equiv (g^b)^a \\equiv B^a \\pmod p$\n",
    "- $g^{ab} \\equiv (g^a)^b \\equiv A^b \\pmod p$\n"
   ]
  },
  {
   "cell_type": "code",
   "execution_count": null,
   "id": "4850ce6c",
   "metadata": {
    "lc_cell_meme": {
     "current": "791f85e9-0700-11ed-a609-02420a010222-3-ddf3-8a6e-6264",
     "history": [
      {
       "current": "791f85e9-0700-11ed-a609-02420a010222-1-ddf3",
       "next": "c0d0dee3-0700-11ed-8d67-02420a010222",
       "previous": "791f8462-0700-11ed-bf7c-02420a010222"
      },
      {
       "current": "791f85e9-0700-11ed-a609-02420a010222-2-ddf3-8a6e",
       "next": "c0d0dee3-0700-11ed-8d67-02420a010222-1-ee49",
       "previous": "791f8462-0700-11ed-bf7c-02420a010222-1-301c"
      },
      {
       "current": "791f85e9-0700-11ed-a609-02420a010222-3-ddf3-8a6e-6264",
       "next": "c0d0dee3-0700-11ed-8d67-02420a010222-2-ee49-1c70",
       "previous": "791f8462-0700-11ed-bf7c-02420a010222-2-301c-bf3e"
      }
     ],
     "next": "c0d0dee3-0700-11ed-8d67-02420a010222-3-ee49-1c70-6df8",
     "previous": "791f8462-0700-11ed-bf7c-02420a010222-3-301c-bf3e-871d"
    },
    "lc_wrapper": {
     "log_history": [
      "/home/cwhadminxe1bf95/draft/.log/20220719/20220719-101835-0101.log",
      "/home/cwhadminxe1bf95/dev_textbook_2022/.log/20230725/20230725-165448-0723.log",
      "/home/cwhadminxe1bf95/dev_textbook_2022/.log/20230725/20230725-165505-0663.log",
      "/home/cwhadminxe1bf95/dev_textbook_2022/.log/20230725/20230725-165519-0781.log",
      "/home/cwhadminxe1bf95/dev_textbook_2022/.log/20230725/20230725-165528-0676.log",
      "/home/cwhadminxe1bf95/dev_textbook_2022/.log/20230725/20230725-165539-0461.log",
      "/home/cwhadminxe1bf95/dev_textbook_2022/.log/20230725/20230725-165547-0300.log",
      "/home/cwhadminxe1bf95/dev_textbook_2022/.log/20230725/20230725-165612-0211.log",
      "/home/cwhadminxe1bf95/dev_textbook_2022/.log/20230725/20230725-165621-0152.log",
      "/home/cwhadminxe1bf95/dev_textbook_2022/.log/20230725/20230725-165644-0115.log",
      "/home/cwhadminxe1bf95/dev_textbook_2022/.log/20230725/20230725-165652-0619.log",
      "/home/cwhadminxe1bf95/dev_textbook_2022/.log/20230725/20230725-165708-0549.log"
     ]
    }
   },
   "outputs": [],
   "source": [
    "#Aさんの計算した共有情報\n",
    "B**a %p"
   ]
  },
  {
   "cell_type": "code",
   "execution_count": null,
   "id": "2a17f39a",
   "metadata": {
    "lc_cell_meme": {
     "current": "c0d0dee3-0700-11ed-8d67-02420a010222-3-ee49-1c70-6df8",
     "history": [
      {
       "current": "c0d0dee3-0700-11ed-8d67-02420a010222",
       "next": "c0d0e00f-0700-11ed-91f1-02420a010222",
       "previous": "791f85e9-0700-11ed-a609-02420a010222"
      },
      {
       "current": "c0d0dee3-0700-11ed-8d67-02420a010222-1-ee49",
       "next": "c0d0e00f-0700-11ed-91f1-02420a010222-1-6062",
       "previous": "791f85e9-0700-11ed-a609-02420a010222"
      },
      {
       "current": "c0d0dee3-0700-11ed-8d67-02420a010222-2-ee49-1c70",
       "next": "c0d0e00f-0700-11ed-91f1-02420a010222-2-6062-4c24",
       "previous": "791f85e9-0700-11ed-a609-02420a010222-1-ddf3"
      },
      {
       "current": "c0d0dee3-0700-11ed-8d67-02420a010222-3-ee49-1c70-6df8",
       "next": "c0d0e00f-0700-11ed-91f1-02420a010222-3-6062-4c24-eff0",
       "previous": "791f85e9-0700-11ed-a609-02420a010222-2-ddf3-8a6e"
      }
     ],
     "next": "c0d0e00f-0700-11ed-91f1-02420a010222-4-6062-4c24-eff0-42a4",
     "previous": "791f85e9-0700-11ed-a609-02420a010222-3-ddf3-8a6e-6264"
    },
    "lc_wrapper": {
     "log_history": [
      "/home/cwhadminxe1bf95/draft/.log/20220719/20220719-101844-0526.log",
      "/home/cwhadminxe1bf95/dev_textbook_2022/.log/20230725/20230725-165450-0190.log",
      "/home/cwhadminxe1bf95/dev_textbook_2022/.log/20230725/20230725-165506-0121.log",
      "/home/cwhadminxe1bf95/dev_textbook_2022/.log/20230725/20230725-165520-0256.log",
      "/home/cwhadminxe1bf95/dev_textbook_2022/.log/20230725/20230725-165529-0147.log",
      "/home/cwhadminxe1bf95/dev_textbook_2022/.log/20230725/20230725-165540-0019.log",
      "/home/cwhadminxe1bf95/dev_textbook_2022/.log/20230725/20230725-165547-0906.log",
      "/home/cwhadminxe1bf95/dev_textbook_2022/.log/20230725/20230725-165612-0819.log",
      "/home/cwhadminxe1bf95/dev_textbook_2022/.log/20230725/20230725-165622-0227.log",
      "/home/cwhadminxe1bf95/dev_textbook_2022/.log/20230725/20230725-165644-0536.log",
      "/home/cwhadminxe1bf95/dev_textbook_2022/.log/20230725/20230725-165709-0124.log"
     ]
    }
   },
   "outputs": [],
   "source": [
    "#Bさんの計算した共有情報\n",
    "A**b %p"
   ]
  },
  {
   "cell_type": "markdown",
   "id": "2c4c77ff",
   "metadata": {
    "lc_cell_meme": {
     "current": "c0d0e00f-0700-11ed-91f1-02420a010222-4-6062-4c24-eff0-42a4",
     "history": [
      {
       "current": "c0d0e00f-0700-11ed-91f1-02420a010222-1-6062",
       "next": null,
       "previous": "c0d0dee3-0700-11ed-8d67-02420a010222"
      },
      {
       "current": "c0d0e00f-0700-11ed-91f1-02420a010222-1-6062",
       "next": "084f3c48-0701-11ed-8eb7-02420a010222",
       "previous": "c0d0dee3-0700-11ed-8d67-02420a010222"
      },
      {
       "current": "c0d0e00f-0700-11ed-91f1-02420a010222-2-6062-4c24",
       "next": "084f3c48-0701-11ed-8eb7-02420a010222-1-00d5",
       "previous": "c0d0dee3-0700-11ed-8d67-02420a010222"
      },
      {
       "current": "c0d0e00f-0700-11ed-91f1-02420a010222-3-6062-4c24-eff0",
       "next": "084f3c48-0701-11ed-8eb7-02420a010222-2-00d5-3dba",
       "previous": "c0d0dee3-0700-11ed-8d67-02420a010222-1-ee49"
      },
      {
       "current": "c0d0e00f-0700-11ed-91f1-02420a010222-4-6062-4c24-eff0-42a4",
       "next": "084f3c48-0701-11ed-8eb7-02420a010222-3-00d5-3dba-1042",
       "previous": "c0d0dee3-0700-11ed-8d67-02420a010222-2-ee49-1c70"
      }
     ],
     "next": "084f3c48-0701-11ed-8eb7-02420a010222-4-00d5-3dba-1042-72f3",
     "previous": "c0d0dee3-0700-11ed-8d67-02420a010222-3-ee49-1c70-6df8"
    }
   },
   "source": [
    "$p,g,A,B$は盗聴できるが，これから秘密鍵$a,b$を計算することは難しい"
   ]
  },
  {
   "cell_type": "markdown",
   "id": "a561c16a",
   "metadata": {
    "lc_cell_meme": {
     "current": "084f3c48-0701-11ed-8eb7-02420a010222-4-00d5-3dba-1042-72f3",
     "history": [
      {
       "current": "084f3c48-0701-11ed-8eb7-02420a010222-1-00d5",
       "next": null,
       "previous": "c0d0e00f-0700-11ed-91f1-02420a010222-1-6062"
      },
      {
       "current": "084f3c48-0701-11ed-8eb7-02420a010222-2-00d5-3dba",
       "next": "6df091bc-0702-11ed-981c-02420a010222",
       "previous": "c0d0e00f-0700-11ed-91f1-02420a010222-1-6062"
      },
      {
       "current": "084f3c48-0701-11ed-8eb7-02420a010222-3-00d5-3dba-1042",
       "next": "6df091bc-0702-11ed-981c-02420a010222-1-2333",
       "previous": "c0d0e00f-0700-11ed-91f1-02420a010222-2-6062-4c24"
      },
      {
       "current": "084f3c48-0701-11ed-8eb7-02420a010222-4-00d5-3dba-1042-72f3",
       "next": "6df091bc-0702-11ed-981c-02420a010222-2-2333-b26f",
       "previous": "c0d0e00f-0700-11ed-91f1-02420a010222-3-6062-4c24-eff0"
      }
     ],
     "next": "6df091bc-0702-11ed-981c-02420a010222-3-2333-b26f-2cf3",
     "previous": "c0d0e00f-0700-11ed-91f1-02420a010222-4-6062-4c24-eff0-42a4"
    }
   },
   "source": [
    "# 問題"
   ]
  },
  {
   "cell_type": "code",
   "execution_count": null,
   "id": "cda98134",
   "metadata": {
    "lc_cell_meme": {
     "current": "6df091bc-0702-11ed-981c-02420a010222-3-2333-b26f-2cf3",
     "history": [
      {
       "current": "6df091bc-0702-11ed-981c-02420a010222-1-2333",
       "next": "fcfa04ae-0702-11ed-a162-02420a010222",
       "previous": "084f3c48-0701-11ed-8eb7-02420a010222-1-00d5"
      },
      {
       "current": "6df091bc-0702-11ed-981c-02420a010222-1-2333",
       "next": "fcfa04ae-0702-11ed-a162-02420a010222-1-9f73",
       "previous": "084f3c48-0701-11ed-8eb7-02420a010222-2-00d5-3dba"
      },
      {
       "current": "6df091bc-0702-11ed-981c-02420a010222-1-2333",
       "next": "252633dd-2abc-11ee-87d6-02420a0108dc",
       "previous": "084f3c48-0701-11ed-8eb7-02420a010222-2-00d5-3dba"
      },
      {
       "current": "6df091bc-0702-11ed-981c-02420a010222-1-2333",
       "next": "1ab4531e-2abe-11ee-976d-02420a0108dc",
       "previous": "084f3c48-0701-11ed-8eb7-02420a010222-2-00d5-3dba"
      },
      {
       "current": "6df091bc-0702-11ed-981c-02420a010222-2-2333-b26f",
       "next": "fcfa04ae-0702-11ed-a162-02420a010222-1-9f73",
       "previous": "084f3c48-0701-11ed-8eb7-02420a010222-2-00d5-3dba"
      },
      {
       "current": "6df091bc-0702-11ed-981c-02420a010222-3-2333-b26f-2cf3",
       "next": "fcfa04ae-0702-11ed-a162-02420a010222-2-9f73-9bb1",
       "previous": "084f3c48-0701-11ed-8eb7-02420a010222-3-00d5-3dba-1042"
      }
     ],
     "next": "fcfa04ae-0702-11ed-a162-02420a010222-3-9f73-9bb1-0e84",
     "previous": "084f3c48-0701-11ed-8eb7-02420a010222-4-00d5-3dba-1042-72f3"
    },
    "lc_wrapper": {
     "log_history": [
      "/home/cwhadminxe1bf95/draft/.log/20220719/20220719-103334-0122.log",
      "/home/cwhadminxe1bf95/draft/.log/20220719/20220719-201037-0640.log",
      "/home/cwhadminxe1bf95/draft/.log/20220719/20220719-201945-0139.log",
      "/home/cwhadminxe1bf95/dev_textbook_2022/.log/20230725/20230725-160105-0971.log",
      "/home/cwhadminxe1bf95/dev_textbook_2022/.log/20230725/20230725-161812-0564.log",
      "/home/cwhadminxe1bf95/dev_textbook_2022/.log/20230725/20230725-161834-0714.log",
      "/home/cwhadminxe1bf95/dev_textbook_2022/.log/20230725/20230725-161844-0938.log",
      "/home/cwhadminxe1bf95/dev_textbook_2022/.log/20230725/20230725-162739-0646.log",
      "/home/cwhadminxe1bf95/dev_textbook_2022/.log/20230725/20230725-163052-0357.log",
      "/home/cwhadminxe1bf95/dev_textbook_2022/.log/20230725/20230725-163130-0878.log",
      "/home/cwhadminxe1bf95/dev_textbook_2022/.log/20230725/20230725-163207-0462.log",
      "/home/cwhadminxe1bf95/dev_textbook_2022/.log/20230725/20230725-163221-0666.log",
      "/home/cwhadminxe1bf95/dev_textbook_2022/.log/20230725/20230725-163254-0822.log",
      "/home/cwhadminxe1bf95/dev_textbook_2022/.log/20230725/20230725-163311-0633.log",
      "/home/cwhadminxe1bf95/dev_textbook_2022/.log/20230725/20230725-163628-0700.log"
     ]
    }
   },
   "outputs": [],
   "source": [
    "#pは素数\n",
    "p=\n",
    "\n",
    "#gはpより小さい自然数\n",
    "g="
   ]
  },
  {
   "cell_type": "code",
   "execution_count": null,
   "id": "bc6315fc",
   "metadata": {
    "lc_cell_meme": {
     "current": "fcfa04ae-0702-11ed-a162-02420a010222-3-9f73-9bb1-0e84",
     "history": [
      {
       "current": "fcfa04ae-0702-11ed-a162-02420a010222-1-9f73",
       "next": "fcfa07b3-0702-11ed-8444-02420a010222",
       "previous": "6df091bc-0702-11ed-981c-02420a010222"
      },
      {
       "current": "fcfa04ae-0702-11ed-a162-02420a010222-1-9f73",
       "next": "fcfa07b3-0702-11ed-8444-02420a010222-1-dcaa",
       "previous": "6df091bc-0702-11ed-981c-02420a010222-1-2333"
      },
      {
       "current": "fcfa04ae-0702-11ed-a162-02420a010222-1-9f73",
       "next": "fcfa07b3-0702-11ed-8444-02420a010222-1-dcaa",
       "previous": "252633dd-2abc-11ee-87d6-02420a0108dc"
      },
      {
       "current": "fcfa04ae-0702-11ed-a162-02420a010222-1-9f73",
       "next": "fcfa07b3-0702-11ed-8444-02420a010222-1-dcaa",
       "previous": "1ab4531e-2abe-11ee-976d-02420a0108dc"
      },
      {
       "current": "fcfa04ae-0702-11ed-a162-02420a010222-2-9f73-9bb1",
       "next": "fcfa07b3-0702-11ed-8444-02420a010222-1-dcaa",
       "previous": "6df091bc-0702-11ed-981c-02420a010222-1-2333"
      },
      {
       "current": "fcfa04ae-0702-11ed-a162-02420a010222-3-9f73-9bb1-0e84",
       "next": "fcfa07b3-0702-11ed-8444-02420a010222-2-dcaa-a9a4",
       "previous": "6df091bc-0702-11ed-981c-02420a010222-2-2333-b26f"
      }
     ],
     "next": "fcfa07b3-0702-11ed-8444-02420a010222-3-dcaa-a9a4-20ff",
     "previous": "6df091bc-0702-11ed-981c-02420a010222-3-2333-b26f-2cf3"
    },
    "lc_wrapper": {
     "log_history": [
      "/home/cwhadminxe1bf95/draft/.log/20220719/20220719-103446-0220.log",
      "/home/cwhadminxe1bf95/draft/.log/20220719/20220719-103534-0094.log",
      "/home/cwhadminxe1bf95/draft/.log/20220719/20220719-201046-0450.log",
      "/home/cwhadminxe1bf95/draft/.log/20220719/20220719-201946-0461.log",
      "/home/cwhadminxe1bf95/dev_textbook_2022/.log/20230725/20230725-160107-0254.log",
      "/home/cwhadminxe1bf95/dev_textbook_2022/.log/20230725/20230725-161813-0082.log",
      "/home/cwhadminxe1bf95/dev_textbook_2022/.log/20230725/20230725-161835-0838.log",
      "/home/cwhadminxe1bf95/dev_textbook_2022/.log/20230725/20230725-161845-0343.log",
      "/home/cwhadminxe1bf95/dev_textbook_2022/.log/20230725/20230725-162741-0453.log",
      "/home/cwhadminxe1bf95/dev_textbook_2022/.log/20230725/20230725-163053-0672.log",
      "/home/cwhadminxe1bf95/dev_textbook_2022/.log/20230725/20230725-163131-0541.log",
      "/home/cwhadminxe1bf95/dev_textbook_2022/.log/20230725/20230725-163208-0270.log",
      "/home/cwhadminxe1bf95/dev_textbook_2022/.log/20230725/20230725-163222-0344.log",
      "/home/cwhadminxe1bf95/dev_textbook_2022/.log/20230725/20230725-163255-0428.log",
      "/home/cwhadminxe1bf95/dev_textbook_2022/.log/20230725/20230725-163312-0116.log",
      "/home/cwhadminxe1bf95/dev_textbook_2022/.log/20230725/20230725-163628-0987.log"
     ]
    }
   },
   "outputs": [],
   "source": [
    "#Aさんの秘密鍵\n",
    "a=\n",
    "\n",
    "#Bさんの秘密鍵\n",
    "b="
   ]
  },
  {
   "cell_type": "code",
   "execution_count": null,
   "id": "939c6d2a",
   "metadata": {
    "lc_cell_meme": {
     "current": "fcfa07b3-0702-11ed-8444-02420a010222-3-dcaa-a9a4-20ff",
     "history": [
      {
       "current": "fcfa07b3-0702-11ed-8444-02420a010222-1-dcaa",
       "next": "423c6799-0703-11ed-aa97-02420a010222",
       "previous": "fcfa04ae-0702-11ed-a162-02420a010222"
      },
      {
       "current": "fcfa07b3-0702-11ed-8444-02420a010222-2-dcaa-a9a4",
       "next": "423c6799-0703-11ed-aa97-02420a010222-1-3562",
       "previous": "fcfa04ae-0702-11ed-a162-02420a010222-1-9f73"
      },
      {
       "current": "fcfa07b3-0702-11ed-8444-02420a010222-3-dcaa-a9a4-20ff",
       "next": "423c6799-0703-11ed-aa97-02420a010222-2-3562-2178",
       "previous": "fcfa04ae-0702-11ed-a162-02420a010222-2-9f73-9bb1"
      }
     ],
     "next": "423c6799-0703-11ed-aa97-02420a010222-3-3562-2178-961a",
     "previous": "fcfa04ae-0702-11ed-a162-02420a010222-3-9f73-9bb1-0e84"
    },
    "lc_wrapper": {
     "log_history": [
      "/home/cwhadminxe1bf95/draft/.log/20220719/20220719-103455-0613.log",
      "/home/cwhadminxe1bf95/draft/.log/20220719/20220719-103530-0541.log",
      "/home/cwhadminxe1bf95/draft/.log/20220719/20220719-103535-0530.log",
      "/home/cwhadminxe1bf95/draft/.log/20220719/20220719-201047-0980.log",
      "/home/cwhadminxe1bf95/draft/.log/20220719/20220719-201947-0893.log",
      "/home/cwhadminxe1bf95/dev_textbook_2022/.log/20230725/20230725-160103-0787.log",
      "/home/cwhadminxe1bf95/dev_textbook_2022/.log/20230725/20230725-160108-0494.log",
      "/home/cwhadminxe1bf95/dev_textbook_2022/.log/20230725/20230725-161836-0383.log",
      "/home/cwhadminxe1bf95/dev_textbook_2022/.log/20230725/20230725-161845-0854.log",
      "/home/cwhadminxe1bf95/dev_textbook_2022/.log/20230725/20230725-162743-0116.log",
      "/home/cwhadminxe1bf95/dev_textbook_2022/.log/20230725/20230725-163054-0010.log",
      "/home/cwhadminxe1bf95/dev_textbook_2022/.log/20230725/20230725-163131-0972.log",
      "/home/cwhadminxe1bf95/dev_textbook_2022/.log/20230725/20230725-163208-0480.log",
      "/home/cwhadminxe1bf95/dev_textbook_2022/.log/20230725/20230725-163222-0599.log",
      "/home/cwhadminxe1bf95/dev_textbook_2022/.log/20230725/20230725-163255-0639.log",
      "/home/cwhadminxe1bf95/dev_textbook_2022/.log/20230725/20230725-163312-0277.log",
      "/home/cwhadminxe1bf95/dev_textbook_2022/.log/20230725/20230725-163629-0186.log"
     ]
    }
   },
   "outputs": [],
   "source": [
    "# AさんがBさんに送信する値\n",
    "A = g**a % p\n",
    "print(A)"
   ]
  },
  {
   "cell_type": "code",
   "execution_count": null,
   "id": "9421a843",
   "metadata": {
    "lc_cell_meme": {
     "current": "423c6799-0703-11ed-aa97-02420a010222-3-3562-2178-961a",
     "history": [
      {
       "current": "423c6799-0703-11ed-aa97-02420a010222-1-3562",
       "next": "423c6b34-0703-11ed-a6e7-02420a010222",
       "previous": "fcfa07b3-0702-11ed-8444-02420a010222"
      },
      {
       "current": "423c6799-0703-11ed-aa97-02420a010222-2-3562-2178",
       "next": "423c6b34-0703-11ed-a6e7-02420a010222-1-1557",
       "previous": "fcfa07b3-0702-11ed-8444-02420a010222-1-dcaa"
      },
      {
       "current": "423c6799-0703-11ed-aa97-02420a010222-3-3562-2178-961a",
       "next": "423c6b34-0703-11ed-a6e7-02420a010222-2-1557-c92d",
       "previous": "fcfa07b3-0702-11ed-8444-02420a010222-2-dcaa-a9a4"
      }
     ],
     "next": "423c6b34-0703-11ed-a6e7-02420a010222-3-1557-c92d-7bd9",
     "previous": "fcfa07b3-0702-11ed-8444-02420a010222-3-dcaa-a9a4-20ff"
    },
    "lc_wrapper": {
     "log_history": [
      "/home/cwhadminxe1bf95/draft/.log/20220719/20220719-103502-0796.log",
      "/home/cwhadminxe1bf95/draft/.log/20220719/20220719-103532-0412.log",
      "/home/cwhadminxe1bf95/draft/.log/20220719/20220719-103536-0769.log",
      "/home/cwhadminxe1bf95/draft/.log/20220719/20220719-201049-0863.log",
      "/home/cwhadminxe1bf95/draft/.log/20220719/20220719-201949-0179.log",
      "/home/cwhadminxe1bf95/dev_textbook_2022/.log/20230725/20230725-160109-0973.log",
      "/home/cwhadminxe1bf95/dev_textbook_2022/.log/20230725/20230725-162026-0658.log",
      "/home/cwhadminxe1bf95/dev_textbook_2022/.log/20230725/20230725-162746-0536.log",
      "/home/cwhadminxe1bf95/dev_textbook_2022/.log/20230725/20230725-163054-0415.log",
      "/home/cwhadminxe1bf95/dev_textbook_2022/.log/20230725/20230725-163132-0387.log",
      "/home/cwhadminxe1bf95/dev_textbook_2022/.log/20230725/20230725-163208-0663.log",
      "/home/cwhadminxe1bf95/dev_textbook_2022/.log/20230725/20230725-163222-0820.log",
      "/home/cwhadminxe1bf95/dev_textbook_2022/.log/20230725/20230725-163255-0866.log",
      "/home/cwhadminxe1bf95/dev_textbook_2022/.log/20230725/20230725-163312-0436.log",
      "/home/cwhadminxe1bf95/dev_textbook_2022/.log/20230725/20230725-163629-0378.log"
     ]
    }
   },
   "outputs": [],
   "source": [
    "# BさんがAさんに送信する値\n",
    "B = g**b % p\n",
    "print(B)"
   ]
  },
  {
   "cell_type": "code",
   "execution_count": null,
   "id": "2b21f151",
   "metadata": {
    "lc_cell_meme": {
     "current": "423c6b34-0703-11ed-a6e7-02420a010222-3-1557-c92d-7bd9",
     "history": [
      {
       "current": "423c6b34-0703-11ed-a6e7-02420a010222-1-1557",
       "next": "423c6c2d-0703-11ed-a2ef-02420a010222",
       "previous": "423c6799-0703-11ed-aa97-02420a010222"
      },
      {
       "current": "423c6b34-0703-11ed-a6e7-02420a010222-2-1557-c92d",
       "next": "423c6c2d-0703-11ed-a2ef-02420a010222-1-6d19",
       "previous": "423c6799-0703-11ed-aa97-02420a010222-1-3562"
      },
      {
       "current": "423c6b34-0703-11ed-a6e7-02420a010222-3-1557-c92d-7bd9",
       "next": "423c6c2d-0703-11ed-a2ef-02420a010222-2-6d19-aa42",
       "previous": "423c6799-0703-11ed-aa97-02420a010222-2-3562-2178"
      }
     ],
     "next": "423c6c2d-0703-11ed-a2ef-02420a010222-3-6d19-aa42-61ef",
     "previous": "423c6799-0703-11ed-aa97-02420a010222-3-3562-2178-961a"
    },
    "lc_wrapper": {
     "log_history": [
      "/home/cwhadminxe1bf95/draft/.log/20220719/20220719-103509-0358.log",
      "/home/cwhadminxe1bf95/draft/.log/20220719/20220719-103538-0098.log",
      "/home/cwhadminxe1bf95/draft/.log/20220719/20220719-201051-0409.log",
      "/home/cwhadminxe1bf95/draft/.log/20220719/20220719-201951-0142.log",
      "/home/cwhadminxe1bf95/dev_textbook_2022/.log/20230725/20230725-160111-0877.log",
      "/home/cwhadminxe1bf95/dev_textbook_2022/.log/20230725/20230725-162749-0421.log",
      "/home/cwhadminxe1bf95/dev_textbook_2022/.log/20230725/20230725-163054-0847.log",
      "/home/cwhadminxe1bf95/dev_textbook_2022/.log/20230725/20230725-163132-0905.log",
      "/home/cwhadminxe1bf95/dev_textbook_2022/.log/20230725/20230725-163208-0832.log",
      "/home/cwhadminxe1bf95/dev_textbook_2022/.log/20230725/20230725-163223-0011.log",
      "/home/cwhadminxe1bf95/dev_textbook_2022/.log/20230725/20230725-163256-0171.log",
      "/home/cwhadminxe1bf95/dev_textbook_2022/.log/20230725/20230725-163312-0696.log",
      "/home/cwhadminxe1bf95/dev_textbook_2022/.log/20230725/20230725-163629-0594.log",
      "/home/cwhadminxe1bf95/dev_textbook_2022/.log/20230725/20230725-163825-0428.log"
     ]
    }
   },
   "outputs": [],
   "source": [
    "#Aさんの計算した共有情報\n",
    "B**a %p"
   ]
  },
  {
   "cell_type": "code",
   "execution_count": null,
   "id": "e64048b1",
   "metadata": {
    "lc_cell_meme": {
     "current": "423c6c2d-0703-11ed-a2ef-02420a010222-3-6d19-aa42-61ef",
     "history": [
      {
       "current": "423c6c2d-0703-11ed-a2ef-02420a010222",
       "next": "423c6cf2-0703-11ed-bf7b-02420a010222",
       "previous": "423c6b34-0703-11ed-a6e7-02420a010222"
      },
      {
       "current": "423c6c2d-0703-11ed-a2ef-02420a010222-1-6d19",
       "next": "1b85cad6-0754-11ed-949e-02420a010222",
       "previous": "423c6b34-0703-11ed-a6e7-02420a010222"
      },
      {
       "current": "423c6c2d-0703-11ed-a2ef-02420a010222-2-6d19-aa42",
       "next": "1b85cad6-0754-11ed-949e-02420a010222-1-e776",
       "previous": "423c6b34-0703-11ed-a6e7-02420a010222-1-1557"
      },
      {
       "current": "423c6c2d-0703-11ed-a2ef-02420a010222-3-6d19-aa42-61ef",
       "next": "1b85cad6-0754-11ed-949e-02420a010222-2-e776-350e",
       "previous": "423c6b34-0703-11ed-a6e7-02420a010222-2-1557-c92d"
      }
     ],
     "next": "1b85cad6-0754-11ed-949e-02420a010222-3-e776-350e-ac2c",
     "previous": "423c6b34-0703-11ed-a6e7-02420a010222-3-1557-c92d-7bd9"
    },
    "lc_wrapper": {
     "log_history": [
      "/home/cwhadminxe1bf95/draft/.log/20220719/20220719-103516-0368.log",
      "/home/cwhadminxe1bf95/draft/.log/20220719/20220719-103540-0070.log",
      "/home/cwhadminxe1bf95/draft/.log/20220719/20220719-201053-0233.log",
      "/home/cwhadminxe1bf95/draft/.log/20220719/20220719-201952-0684.log",
      "/home/cwhadminxe1bf95/dev_textbook_2022/.log/20230725/20230725-160113-0289.log",
      "/home/cwhadminxe1bf95/dev_textbook_2022/.log/20230725/20230725-162750-0918.log",
      "/home/cwhadminxe1bf95/dev_textbook_2022/.log/20230725/20230725-163055-0264.log",
      "/home/cwhadminxe1bf95/dev_textbook_2022/.log/20230725/20230725-163133-0329.log",
      "/home/cwhadminxe1bf95/dev_textbook_2022/.log/20230725/20230725-163209-0257.log",
      "/home/cwhadminxe1bf95/dev_textbook_2022/.log/20230725/20230725-163223-0394.log",
      "/home/cwhadminxe1bf95/dev_textbook_2022/.log/20230725/20230725-163256-0603.log",
      "/home/cwhadminxe1bf95/dev_textbook_2022/.log/20230725/20230725-163313-0084.log",
      "/home/cwhadminxe1bf95/dev_textbook_2022/.log/20230725/20230725-163630-0200.log"
     ]
    }
   },
   "outputs": [],
   "source": [
    "#Bさんの計算した共有情報\n",
    "A**b %p"
   ]
  },
  {
   "cell_type": "markdown",
   "id": "c0f50c36",
   "metadata": {
    "lc_cell_meme": {
     "current": "1b85cad6-0754-11ed-949e-02420a010222-3-e776-350e-ac2c",
     "history": [
      {
       "current": "1b85cad6-0754-11ed-949e-02420a010222-1-e776",
       "next": "423c6cf2-0703-11ed-bf7b-02420a010222",
       "previous": "423c6c2d-0703-11ed-a2ef-02420a010222"
      },
      {
       "current": "1b85cad6-0754-11ed-949e-02420a010222-2-e776-350e",
       "next": "423c6cf2-0703-11ed-bf7b-02420a010222-1-2644",
       "previous": "423c6c2d-0703-11ed-a2ef-02420a010222-1-6d19"
      },
      {
       "current": "1b85cad6-0754-11ed-949e-02420a010222-3-e776-350e-ac2c",
       "next": "423c6cf2-0703-11ed-bf7b-02420a010222-2-2644-7a1d",
       "previous": "423c6c2d-0703-11ed-a2ef-02420a010222-2-6d19-aa42"
      }
     ],
     "next": "423c6cf2-0703-11ed-bf7b-02420a010222-3-2644-7a1d-b768",
     "previous": "423c6c2d-0703-11ed-a2ef-02420a010222-3-6d19-aa42-61ef"
    }
   },
   "source": [
    "10000以下の素数\n",
    "```\n",
    "2, 3, 5, 7, 11, 13, 17, 19, 23, 29, 31, 37, 41, 43, 47, 53, 59, 61, 67, 71, 73, 79, 83, 89, 97, 101, 103, 107, 109, 113, 127, 131, 137, 139, 149, 151, 157, 163, 167, 173, 179, 181, 191, 193, 197, 199, 211, 223, 227, 229, 233, 239, 241, 251, 257, 263, 269, 271, 277, 281, 283, 293, 307, 311, 313, 317, 331, 337, 347, 349, 353, 359, 367, 373, 379, 383, 389, 397, 401, 409, 419, 421, 431, 433, 439, 443, 449, 457, 461, 463, 467, 479, 487, 491, 499, 503, 509, 521, 523, 541, 547, 557, 563, 569, 571, 577, 587, 593, 599, 601, 607, 613, 617, 619, 631, 641, 643, 647, 653, 659, 661, 673, 677, 683, 691, 701, 709, 719, 727, 733, 739, 743, 751, 757, 761, 769, 773, 787, 797, 809, 811, 821, 823, 827, 829, 839, 853, 857, 859, 863, 877, 881, 883, 887, 907, 911, 919, 929, 937, 941, 947, 953, 967, 971, 977, 983, 991, 997, 1009, 1013, 1019, 1021, 1031, 1033, 1039, 1049, 1051, 1061, 1063, 1069, 1087, 1091, 1093, 1097, 1103, 1109, 1117, 1123, 1129, 1151, 1153, 1163, 1171, 1181, 1187, 1193, 1201, 1213, 1217, 1223, 1229, 1231, 1237, 1249, 1259, 1277, 1279, 1283, 1289, 1291, 1297, 1301, 1303, 1307, 1319, 1321, 1327, 1361, 1367, 1373, 1381, 1399, 1409, 1423, 1427, 1429, 1433, 1439, 1447, 1451, 1453, 1459, 1471, 1481, 1483, 1487, 1489, 1493, 1499, 1511, 1523, 1531, 1543, 1549, 1553, 1559, 1567, 1571, 1579, 1583, 1597, 1601, 1607, 1609, 1613, 1619, 1621, 1627, 1637, 1657, 1663, 1667, 1669, 1693, 1697, 1699, 1709, 1721, 1723, 1733, 1741, 1747, 1753, 1759, 1777, 1783, 1787, 1789, 1801, 1811, 1823, 1831, 1847, 1861, 1867, 1871, 1873, 1877, 1879, 1889, 1901, 1907, 1913, 1931, 1933, 1949, 1951, 1973, 1979, 1987, 1993, 1997, 1999, 2003, 2011, 2017, 2027, 2029, 2039, 2053, 2063, 2069, 2081, 2083, 2087, 2089, 2099, 2111, 2113, 2129, 2131, 2137, 2141, 2143, 2153, 2161, 2179, 2203, 2207, 2213, 2221, 2237, 2239, 2243, 2251, 2267, 2269, 2273, 2281, 2287, 2293, 2297, 2309, 2311, 2333, 2339, 2341, 2347, 2351, 2357, 2371, 2377, 2381, 2383, 2389, 2393, 2399, 2411, 2417, 2423, 2437, 2441, 2447, 2459, 2467, 2473, 2477, 2503, 2521, 2531, 2539, 2543, 2549, 2551, 2557, 2579, 2591, 2593, 2609, 2617, 2621, 2633, 2647, 2657, 2659, 2663, 2671, 2677, 2683, 2687, 2689, 2693, 2699, 2707, 2711, 2713, 2719, 2729, 2731, 2741, 2749, 2753, 2767, 2777, 2789, 2791, 2797, 2801, 2803, 2819, 2833, 2837, 2843, 2851, 2857, 2861, 2879, 2887, 2897, 2903, 2909, 2917, 2927, 2939, 2953, 2957, 2963, 2969, 2971, 2999, 3001, 3011, 3019, 3023, 3037, 3041, 3049, 3061, 3067, 3079, 3083, 3089, 3109, 3119, 3121, 3137, 3163, 3167, 3169, 3181, 3187, 3191, 3203, 3209, 3217, 3221, 3229, 3251, 3253, 3257, 3259, 3271, 3299, 3301, 3307, 3313, 3319, 3323, 3329, 3331, 3343, 3347, 3359, 3361, 3371, 3373, 3389, 3391, 3407, 3413, 3433, 3449, 3457, 3461, 3463, 3467, 3469, 3491, 3499, 3511, 3517, 3527, 3529, 3533, 3539, 3541, 3547, 3557, 3559, 3571, 3581, 3583, 3593, 3607, 3613, 3617, 3623, 3631, 3637, 3643, 3659, 3671, 3673, 3677, 3691, 3697, 3701, 3709, 3719, 3727, 3733, 3739, 3761, 3767, 3769, 3779, 3793, 3797, 3803, 3821, 3823, 3833, 3847, 3851, 3853, 3863, 3877, 3881, 3889, 3907, 3911, 3917, 3919, 3923, 3929, 3931, 3943, 3947, 3967, 3989, 4001, 4003, 4007, 4013, 4019, 4021, 4027, 4049, 4051, 4057, 4073, 4079, 4091, 4093, 4099, 4111, 4127, 4129, 4133, 4139, 4153, 4157, 4159, 4177, 4201, 4211, 4217, 4219, 4229, 4231, 4241, 4243, 4253, 4259, 4261, 4271, 4273, 4283, 4289, 4297, 4327, 4337, 4339, 4349, 4357, 4363, 4373, 4391, 4397, 4409, 4421, 4423, 4441, 4447, 4451, 4457, 4463, 4481, 4483, 4493, 4507, 4513, 4517, 4519, 4523, 4547, 4549, 4561, 4567, 4583, 4591, 4597, 4603, 4621, 4637, 4639, 4643, 4649, 4651, 4657, 4663, 4673, 4679, 4691, 4703, 4721, 4723, 4729, 4733, 4751, 4759, 4783, 4787, 4789, 4793, 4799, 4801, 4813, 4817, 4831, 4861, 4871, 4877, 4889, 4903, 4909, 4919, 4931, 4933, 4937, 4943, 4951, 4957, 4967, 4969, 4973, 4987, 4993, 4999, 5003, 5009, 5011, 5021, 5023, 5039, 5051, 5059, 5077, 5081, 5087, 5099, 5101, 5107, 5113, 5119, 5147, 5153, 5167, 5171, 5179, 5189, 5197, 5209, 5227, 5231, 5233, 5237, 5261, 5273, 5279, 5281, 5297, 5303, 5309, 5323, 5333, 5347, 5351, 5381, 5387, 5393, 5399, 5407, 5413, 5417, 5419, 5431, 5437, 5441, 5443, 5449, 5471, 5477, 5479, 5483, 5501, 5503, 5507, 5519, 5521, 5527, 5531, 5557, 5563, 5569, 5573, 5581, 5591, 5623, 5639, 5641, 5647, 5651, 5653, 5657, 5659, 5669, 5683, 5689, 5693, 5701, 5711, 5717, 5737, 5741, 5743, 5749, 5779, 5783, 5791, 5801, 5807, 5813, 5821, 5827, 5839, 5843, 5849, 5851, 5857, 5861, 5867, 5869, 5879, 5881, 5897, 5903, 5923, 5927, 5939, 5953, 5981, 5987, 6007, 6011, 6029, 6037, 6043, 6047, 6053, 6067, 6073, 6079, 6089, 6091, 6101, 6113, 6121, 6131, 6133, 6143, 6151, 6163, 6173, 6197, 6199, 6203, 6211, 6217, 6221, 6229, 6247, 6257, 6263, 6269, 6271, 6277, 6287, 6299, 6301, 6311, 6317, 6323, 6329, 6337, 6343, 6353, 6359, 6361, 6367, 6373, 6379, 6389, 6397, 6421, 6427, 6449, 6451, 6469, 6473, 6481, 6491, 6521, 6529, 6547, 6551, 6553, 6563, 6569, 6571, 6577, 6581, 6599, 6607, 6619, 6637, 6653, 6659, 6661, 6673, 6679, 6689, 6691, 6701, 6703, 6709, 6719, 6733, 6737, 6761, 6763, 6779, 6781, 6791, 6793, 6803, 6823, 6827, 6829, 6833, 6841, 6857, 6863, 6869, 6871, 6883, 6899, 6907, 6911, 6917, 6947, 6949, 6959, 6961, 6967, 6971, 6977, 6983, 6991, 6997, 7001, 7013, 7019, 7027, 7039, 7043, 7057, 7069, 7079, 7103, 7109, 7121, 7127, 7129, 7151, 7159, 7177, 7187, 7193, 7207, 7211, 7213, 7219, 7229, 7237, 7243, 7247, 7253, 7283, 7297, 7307, 7309, 7321, 7331, 7333, 7349, 7351, 7369, 7393, 7411, 7417, 7433, 7451, 7457, 7459, 7477, 7481, 7487, 7489, 7499, 7507, 7517, 7523, 7529, 7537, 7541, 7547, 7549, 7559, 7561, 7573, 7577, 7583, 7589, 7591, 7603, 7607, 7621, 7639, 7643, 7649, 7669, 7673, 7681, 7687, 7691, 7699, 7703, 7717, 7723, 7727, 7741, 7753, 7757, 7759, 7789, 7793, 7817, 7823, 7829, 7841, 7853, 7867, 7873, 7877, 7879, 7883, 7901, 7907, 7919, 7927, 7933, 7937, 7949, 7951, 7963, 7993, 8009, 8011, 8017, 8039, 8053, 8059, 8069, 8081, 8087, 8089, 8093, 8101, 8111, 8117, 8123, 8147, 8161, 8167, 8171, 8179, 8191, 8209, 8219, 8221, 8231, 8233, 8237, 8243, 8263, 8269, 8273, 8287, 8291, 8293, 8297, 8311, 8317, 8329, 8353, 8363, 8369, 8377, 8387, 8389, 8419, 8423, 8429, 8431, 8443, 8447, 8461, 8467, 8501, 8513, 8521, 8527, 8537, 8539, 8543, 8563, 8573, 8581, 8597, 8599, 8609, 8623, 8627, 8629, 8641, 8647, 8663, 8669, 8677, 8681, 8689, 8693, 8699, 8707, 8713, 8719, 8731, 8737, 8741, 8747, 8753, 8761, 8779, 8783, 8803, 8807, 8819, 8821, 8831, 8837, 8839, 8849, 8861, 8863, 8867, 8887, 8893, 8923, 8929, 8933, 8941, 8951, 8963, 8969, 8971, 8999, 9001, 9007, 9011, 9013, 9029, 9041, 9043, 9049, 9059, 9067, 9091, 9103, 9109, 9127, 9133, 9137, 9151, 9157, 9161, 9173, 9181, 9187, 9199, 9203, 9209, 9221, 9227, 9239, 9241, 9257, 9277, 9281, 9283, 9293, 9311, 9319, 9323, 9337, 9341, 9343, 9349, 9371, 9377, 9391, 9397, 9403, 9413, 9419, 9421, 9431, 9433, 9437, 9439, 9461, 9463, 9467, 9473, 9479, 9491, 9497, 9511, 9521, 9533, 9539, 9547, 9551, 9587, 9601, 9613, 9619, 9623, 9629, 9631, 9643, 9649, 9661, 9677, 9679, 9689, 9697, 9719, 9721, 9733, 9739, 9743, 9749, 9767, 9769, 9781, 9787, 9791, 9803, 9811, 9817, 9829, 9833, 9839, 9851, 9857, 9859, 9871, 9883, 9887, 9901, 9907, 9923, 9929, 9931, 9941, 9949, 9967, 9973\n",
    "```"
   ]
  },
  {
   "cell_type": "code",
   "execution_count": null,
   "id": "15783e9d",
   "metadata": {
    "lc_cell_meme": {
     "current": "423c6cf2-0703-11ed-bf7b-02420a010222-3-2644-7a1d-b768",
     "history": [
      {
       "current": "423c6cf2-0703-11ed-bf7b-02420a010222",
       "next": null,
       "previous": "423c6c2d-0703-11ed-a2ef-02420a010222"
      },
      {
       "current": "423c6cf2-0703-11ed-bf7b-02420a010222-1-2644",
       "next": null,
       "previous": "1b85cad6-0754-11ed-949e-02420a010222"
      },
      {
       "current": "423c6cf2-0703-11ed-bf7b-02420a010222-2-2644-7a1d",
       "next": null,
       "previous": "1b85cad6-0754-11ed-949e-02420a010222-1-e776"
      },
      {
       "current": "423c6cf2-0703-11ed-bf7b-02420a010222-3-2644-7a1d-b768",
       "next": null,
       "previous": "1b85cad6-0754-11ed-949e-02420a010222-2-e776-350e"
      }
     ],
     "next": null,
     "previous": "1b85cad6-0754-11ed-949e-02420a010222-3-e776-350e-ac2c"
    }
   },
   "outputs": [],
   "source": []
  }
 ],
 "metadata": {
  "kernelspec": {
   "display_name": "Python 3",
   "language": "python",
   "name": "python3"
  },
  "language_info": {
   "file_extension": ".py",
   "mimetype": "text/x-python",
   "name": "python",
   "nbconvert_exporter": "python",
   "pygments_lexer": "ipython3",
   "version": "3.10.4"
  },
  "lc_notebook_meme": {
   "current": "85b4298f-06fe-11ed-9d23-02420a010222",
   "lc_server_signature": {
    "current": {
     "notebook_dir": "/home/jovyan",
     "notebook_path": "/notebooks/CWH2021_2022/cwhadminxe1bf95/textbook",
     "server_url": "http://192.168.11.68:8888/",
     "signature_id": "e78c9058-85b5-11ed-b78d-0242ac120002"
    },
    "history": [
     {
      "notebook_dir": "/home/cwhadminxe1bf95",
      "notebook_path": "/draft",
      "server_url": "https://cwh.media.gunma-u.ac.jp/user/cwhadminxe1bf95/",
      "signature_id": "d287dc56-b8b1-11ec-b3eb-23e3164b790f"
     },
     {
      "notebook_dir": "/home/cwhadminxe1bf95",
      "notebook_path": "/dev_textbook_2022",
      "server_url": "https://cwh.media.gunma-u.ac.jp/user/cwhadminxe1bf95/",
      "signature_id": "d287dc56-b8b1-11ec-b3eb-23e3164b790f"
     },
     {
      "notebook_dir": "/home/cwhadminxe1bf95",
      "notebook_path": "/textbook",
      "server_url": "https://cwh.media.gunma-u.ac.jp/user/cwhadminxe1bf95/",
      "signature_id": "d287dc56-b8b1-11ec-b3eb-23e3164b790f"
     }
    ]
   }
  },
  "toc": {
   "base_numbering": 1,
   "nav_menu": {},
   "number_sections": true,
   "sideBar": true,
   "skip_h1_title": false,
   "title_cell": "Table of Contents",
   "title_sidebar": "Contents",
   "toc_cell": false,
   "toc_position": {},
   "toc_section_display": true,
   "toc_window_display": false
  }
 },
 "nbformat": 4,
 "nbformat_minor": 5
}
