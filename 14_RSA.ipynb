{
 "cells": [
  {
   "cell_type": "markdown",
   "id": "ffd910a3",
   "metadata": {
    "lc_cell_meme": {
     "current": "d8418cce-01d5-11ed-9548-02420a010222-2-cb7f-d0a7",
     "history": [
      {
       "current": "d8418cce-01d5-11ed-9548-02420a010222",
       "next": null,
       "previous": null
      },
      {
       "current": "d8418cce-01d5-11ed-9548-02420a010222-1-cb7f",
       "next": "1fec8ccd-01d6-11ed-8e10-02420a010222",
       "previous": null
      },
      {
       "current": "d8418cce-01d5-11ed-9548-02420a010222-2-cb7f-d0a7",
       "next": "1fec8ccd-01d6-11ed-8e10-02420a010222-1-300e",
       "previous": null
      }
     ],
     "next": "1fec8ccd-01d6-11ed-8e10-02420a010222-2-300e-b612",
     "previous": null
    }
   },
   "source": [
    "# RSA暗号"
   ]
  },
  {
   "cell_type": "markdown",
   "id": "2b2c5501",
   "metadata": {
    "lc_cell_meme": {
     "current": "1fec8ccd-01d6-11ed-8e10-02420a010222-2-300e-b612",
     "history": [
      {
       "current": "1fec8ccd-01d6-11ed-8e10-02420a010222",
       "next": "1fec8ff2-01d6-11ed-82b5-02420a010222",
       "previous": "d8418cce-01d5-11ed-9548-02420a010222"
      },
      {
       "current": "1fec8ccd-01d6-11ed-8e10-02420a010222-1-300e",
       "next": "1fec8ff2-01d6-11ed-82b5-02420a010222-1-947a",
       "previous": "d8418cce-01d5-11ed-9548-02420a010222"
      },
      {
       "current": "1fec8ccd-01d6-11ed-8e10-02420a010222-1-300e",
       "next": "1fec8ff2-01d6-11ed-82b5-02420a010222-2-947a-73e1",
       "previous": "d8418cce-01d5-11ed-9548-02420a010222-1-cb7f"
      },
      {
       "current": "1fec8ccd-01d6-11ed-8e10-02420a010222-2-300e-b612",
       "next": "d28f582f-254d-11ee-8a7d-02420a010807",
       "previous": "d8418cce-01d5-11ed-9548-02420a010222-1-cb7f"
      }
     ],
     "next": "d28f582f-254d-11ee-8a7d-02420a010807-1-8b9c",
     "previous": "d8418cce-01d5-11ed-9548-02420a010222-2-cb7f-d0a7"
    }
   },
   "source": [
    "- 平文を$M$，暗号文を$C$，復号文を$M'$\n",
    "- 暗号文$C$ は$M^e$を$n$で割った余り: \t$C \\equiv M^e \\mod n$\n",
    "- 復号文$M'$は$C^d$を$n$で割った余り:\t$M'\\equiv C^d \\equiv M^{ed} \\mod n$\n",
    "\n",
    "\n",
    "- 平文と復号文が一致しないと「復号できた」とは言えない。\n",
    "- $M^{ed}$を$n$で割った余りが必ず$M$になるような$n,e,d$が存在することが証明されている。（オイラーの定理）\n",
    "\n",
    "  $M \\equiv M^{ed} \\mod n$\n",
    "\n",
    "- ただし，$pq=n, k(p-1)(q-1)+1=ed$, $p$と$q$は異なる素数"
   ]
  },
  {
   "cell_type": "markdown",
   "id": "0a2f281f",
   "metadata": {
    "lc_cell_meme": {
     "current": "d28f582f-254d-11ee-8a7d-02420a010807-1-8b9c",
     "history": [
      {
       "current": "d28f582f-254d-11ee-8a7d-02420a010807",
       "next": "d28f5920-254d-11ee-9cab-02420a010807",
       "previous": "1fec8ccd-01d6-11ed-8e10-02420a010222-1-300e"
      },
      {
       "current": "d28f582f-254d-11ee-8a7d-02420a010807-1-8b9c",
       "next": "d28f5920-254d-11ee-9cab-02420a010807-1-751d",
       "previous": "1fec8ccd-01d6-11ed-8e10-02420a010222-1-300e"
      }
     ],
     "next": "d28f5920-254d-11ee-9cab-02420a010807-2-751d-72ac",
     "previous": "1fec8ccd-01d6-11ed-8e10-02420a010222-2-300e-b612"
    }
   },
   "source": [
    "## 簡単な例"
   ]
  },
  {
   "cell_type": "markdown",
   "id": "6a4f5c60",
   "metadata": {
    "lc_cell_meme": {
     "current": "d28f5920-254d-11ee-9cab-02420a010807-2-751d-72ac",
     "history": [
      {
       "current": "d28f5920-254d-11ee-9cab-02420a010807-2-751d-72ac",
       "next": "d28f5977-254d-11ee-8855-02420a010807",
       "previous": "d28f582f-254d-11ee-8a7d-02420a010807"
      }
     ],
     "next": "d28f5977-254d-11ee-8855-02420a010807-1-152b",
     "previous": "d28f582f-254d-11ee-8a7d-02420a010807-1-8b9c"
    }
   },
   "source": [
    "### 公開鍵暗号\n",
    "- 暗号化鍵/公開鍵(e,n)=(3,55)\n",
    "- 復号鍵/秘密鍵(d,n)=(27,55)\n",
    "\n",
    " の時，平文M=7を暗号化すると？"
   ]
  },
  {
   "cell_type": "code",
   "execution_count": null,
   "id": "83fdb4bb",
   "metadata": {
    "lc_cell_meme": {
     "current": "d28f5977-254d-11ee-8855-02420a010807-1-152b",
     "history": [
      {
       "current": "d28f5977-254d-11ee-8855-02420a010807",
       "next": "d28f59bb-254d-11ee-9ec3-02420a010807",
       "previous": "d28f5920-254d-11ee-9cab-02420a010807"
      },
      {
       "current": "d28f5977-254d-11ee-8855-02420a010807",
       "next": "d28f59bb-254d-11ee-9ec3-02420a010807",
       "previous": "d28f5920-254d-11ee-9cab-02420a010807-1-751d"
      },
      {
       "current": "d28f5977-254d-11ee-8855-02420a010807-1-152b",
       "next": "d28f59bb-254d-11ee-9ec3-02420a010807-1-c6ea",
       "previous": "d28f5920-254d-11ee-9cab-02420a010807-1-751d"
      }
     ],
     "next": "d28f59bb-254d-11ee-9ec3-02420a010807-2-c6ea-7988",
     "previous": "d28f5920-254d-11ee-9cab-02420a010807-2-751d-72ac"
    },
    "lc_wrapper": {
     "log_history": [
      "/home/cwhadminxe1bf95/dev_textbook_2022/.log/20230718/20230718-183328-0201.log",
      "/home/cwhadminxe1bf95/dev_textbook_2022/.log/20230718/20230718-184010-0527.log"
     ]
    }
   },
   "outputs": [],
   "source": [
    "e=\n",
    "n=\n",
    "M=\n",
    "\n",
    "C=M**e%n\n",
    "print(C)"
   ]
  },
  {
   "cell_type": "markdown",
   "id": "9d33ffe8",
   "metadata": {
    "lc_cell_meme": {
     "current": "d28f59bb-254d-11ee-9ec3-02420a010807-2-c6ea-7988",
     "history": [
      {
       "current": "d28f59bb-254d-11ee-9ec3-02420a010807-2-c6ea-7988",
       "next": "d28f59f8-254d-11ee-9853-02420a010807",
       "previous": "d28f5977-254d-11ee-8855-02420a010807"
      }
     ],
     "next": "d28f59f8-254d-11ee-9853-02420a010807-1-1fbb",
     "previous": "d28f5977-254d-11ee-8855-02420a010807-1-152b"
    }
   },
   "source": [
    "復号すると？"
   ]
  },
  {
   "cell_type": "code",
   "execution_count": null,
   "id": "86fc8be2",
   "metadata": {
    "lc_cell_meme": {
     "current": "d28f59f8-254d-11ee-9853-02420a010807-1-1fbb",
     "history": [
      {
       "current": "d28f59f8-254d-11ee-9853-02420a010807",
       "next": "d28f5a34-254d-11ee-8d9a-02420a010807",
       "previous": "d28f59bb-254d-11ee-9ec3-02420a010807"
      },
      {
       "current": "d28f59f8-254d-11ee-9853-02420a010807",
       "next": "d28f5a34-254d-11ee-8d9a-02420a010807",
       "previous": "d28f59bb-254d-11ee-9ec3-02420a010807-1-c6ea"
      },
      {
       "current": "d28f59f8-254d-11ee-9853-02420a010807-1-1fbb",
       "next": "d28f5a34-254d-11ee-8d9a-02420a010807-1-a80b",
       "previous": "d28f59bb-254d-11ee-9ec3-02420a010807-1-c6ea"
      }
     ],
     "next": "d28f5a34-254d-11ee-8d9a-02420a010807-2-a80b-69c1",
     "previous": "d28f59bb-254d-11ee-9ec3-02420a010807-2-c6ea-7988"
    },
    "lc_wrapper": {
     "log_history": [
      "/home/cwhadminxe1bf95/dev_textbook_2022/.log/20230718/20230718-183604-0977.log",
      "/home/cwhadminxe1bf95/dev_textbook_2022/.log/20230718/20230718-184013-0973.log",
      "/home/cwhadminxe1bf95/dev_textbook_2022/.log/20230718/20230718-190132-0114.log",
      "/home/cwhadminxe1bf95/dev_textbook_2022/.log/20230718/20230718-191001-0011.log"
     ]
    }
   },
   "outputs": [],
   "source": [
    "d=\n",
    "n=\n",
    "C=\n",
    "\n",
    "C**d%n"
   ]
  },
  {
   "cell_type": "markdown",
   "id": "321ec2ce",
   "metadata": {
    "lc_cell_meme": {
     "current": "d28f5a34-254d-11ee-8d9a-02420a010807-2-a80b-69c1",
     "history": [
      {
       "current": "d28f5a34-254d-11ee-8d9a-02420a010807-1-a80b",
       "next": "1fec8ff2-01d6-11ed-82b5-02420a010222-2-947a-73e1",
       "previous": "d28f59f8-254d-11ee-9853-02420a010807"
      },
      {
       "current": "d28f5a34-254d-11ee-8d9a-02420a010807-2-a80b-69c1",
       "next": "383a6c5c-254f-11ee-8191-02420a010807",
       "previous": "d28f59f8-254d-11ee-9853-02420a010807"
      }
     ],
     "next": "383a6c5c-254f-11ee-8191-02420a010807-1-934a",
     "previous": "d28f59f8-254d-11ee-9853-02420a010807-1-1fbb"
    }
   },
   "source": [
    "### 電子署名\n",
    "\n",
    "- 公開鍵(復号鍵）(e,n)=(3,55)\n",
    "- 秘密鍵(署名鍵）(d,n)=(27,55)\n",
    "\n",
    "の時，平文M=7に署名すると？\n",
    "\n"
   ]
  },
  {
   "cell_type": "code",
   "execution_count": null,
   "id": "2815450e",
   "metadata": {
    "lc_cell_meme": {
     "current": "383a6c5c-254f-11ee-8191-02420a010807-1-934a",
     "history": [
      {
       "current": "383a6c5c-254f-11ee-8191-02420a010807-1-934a",
       "next": "383a6ec5-254f-11ee-aba0-02420a010807",
       "previous": "d28f5a34-254d-11ee-8d9a-02420a010807-1-a80b"
      }
     ],
     "next": "383a6ec5-254f-11ee-aba0-02420a010807-1-f84c",
     "previous": "d28f5a34-254d-11ee-8d9a-02420a010807-2-a80b-69c1"
    },
    "lc_wrapper": {
     "log_history": [
      "/home/cwhadminxe1bf95/dev_textbook_2022/.log/20230718/20230718-184039-0787.log",
      "/home/cwhadminxe1bf95/dev_textbook_2022/.log/20230718/20230718-185826-0208.log",
      "/home/cwhadminxe1bf95/dev_textbook_2022/.log/20230718/20230718-190017-0713.log"
     ]
    }
   },
   "outputs": [],
   "source": [
    "n=\n",
    "d=\n",
    "M=\n",
    "\n",
    "C=M**d%n\n",
    "print(C)"
   ]
  },
  {
   "cell_type": "markdown",
   "id": "5bcd572d",
   "metadata": {
    "lc_cell_meme": {
     "current": "383a6ec5-254f-11ee-aba0-02420a010807-1-f84c",
     "history": [
      {
       "current": "383a6ec5-254f-11ee-aba0-02420a010807-1-f84c",
       "next": "383a6fc9-254f-11ee-9ae4-02420a010807",
       "previous": "383a6c5c-254f-11ee-8191-02420a010807"
      }
     ],
     "next": "383a6fc9-254f-11ee-9ae4-02420a010807-1-993a",
     "previous": "383a6c5c-254f-11ee-8191-02420a010807-1-934a"
    }
   },
   "source": [
    "署名文を復号すると？"
   ]
  },
  {
   "cell_type": "code",
   "execution_count": null,
   "id": "37471237",
   "metadata": {
    "lc_cell_meme": {
     "current": "383a6fc9-254f-11ee-9ae4-02420a010807-1-993a",
     "history": [
      {
       "current": "383a6fc9-254f-11ee-9ae4-02420a010807-1-993a",
       "next": "383a7093-254f-11ee-8c53-02420a010807",
       "previous": "383a6ec5-254f-11ee-aba0-02420a010807"
      }
     ],
     "next": "383a7093-254f-11ee-8c53-02420a010807-1-aabb",
     "previous": "383a6ec5-254f-11ee-aba0-02420a010807-1-f84c"
    },
    "lc_wrapper": {
     "log_history": [
      "/home/cwhadminxe1bf95/dev_textbook_2022/.log/20230718/20230718-184059-0824.log",
      "/home/cwhadminxe1bf95/dev_textbook_2022/.log/20230718/20230718-184106-0823.log",
      "/home/cwhadminxe1bf95/dev_textbook_2022/.log/20230718/20230718-185829-0524.log",
      "/home/cwhadminxe1bf95/dev_textbook_2022/.log/20230718/20230718-190110-0318.log",
      "/home/cwhadminxe1bf95/dev_textbook_2022/.log/20230718/20230718-191051-0824.log"
     ]
    }
   },
   "outputs": [],
   "source": [
    "e=\n",
    "n=\n",
    "C=\n",
    "\n",
    "C**e%n"
   ]
  },
  {
   "cell_type": "code",
   "execution_count": null,
   "id": "64e66acc",
   "metadata": {
    "lc_cell_meme": {
     "current": "383a7093-254f-11ee-8c53-02420a010807-1-aabb",
     "history": [
      {
       "current": "383a7093-254f-11ee-8c53-02420a010807-1-aabb",
       "next": "1fec8ff2-01d6-11ed-82b5-02420a010222-2-947a-73e1",
       "previous": "383a6fc9-254f-11ee-9ae4-02420a010807"
      }
     ],
     "next": "1fec8ff2-01d6-11ed-82b5-02420a010222-3-947a-73e1-ae3e",
     "previous": "383a6fc9-254f-11ee-9ae4-02420a010807-1-993a"
    }
   },
   "outputs": [],
   "source": []
  },
  {
   "cell_type": "markdown",
   "id": "81616a79",
   "metadata": {
    "lc_cell_meme": {
     "current": "1fec8ff2-01d6-11ed-82b5-02420a010222-3-947a-73e1-ae3e",
     "history": [
      {
       "current": "1fec8ff2-01d6-11ed-82b5-02420a010222-2-947a-73e1",
       "next": "f4cb56b4-01d6-11ed-bf55-02420a010222",
       "previous": "1fec8ccd-01d6-11ed-8e10-02420a010222"
      },
      {
       "current": "1fec8ff2-01d6-11ed-82b5-02420a010222-2-947a-73e1",
       "next": "f4cb56b4-01d6-11ed-bf55-02420a010222-1-c453",
       "previous": "1fec8ccd-01d6-11ed-8e10-02420a010222-1-300e"
      },
      {
       "current": "1fec8ff2-01d6-11ed-82b5-02420a010222-2-947a-73e1",
       "next": "f4cb56b4-01d6-11ed-bf55-02420a010222-1-c453",
       "previous": "d28f5a34-254d-11ee-8d9a-02420a010807"
      },
      {
       "current": "1fec8ff2-01d6-11ed-82b5-02420a010222-2-947a-73e1",
       "next": "f4cb56b4-01d6-11ed-bf55-02420a010222-1-c453",
       "previous": "d28f5a34-254d-11ee-8d9a-02420a010807-1-a80b"
      },
      {
       "current": "1fec8ff2-01d6-11ed-82b5-02420a010222-3-947a-73e1-ae3e",
       "next": "f4cb56b4-01d6-11ed-bf55-02420a010222-1-c453",
       "previous": "383a7093-254f-11ee-8c53-02420a010807"
      }
     ],
     "next": "f4cb56b4-01d6-11ed-bf55-02420a010222-2-c453-7f91",
     "previous": "383a7093-254f-11ee-8c53-02420a010807-1-aabb"
    }
   },
   "source": [
    "## 秘密鍵と公開鍵の生成\n",
    "\n",
    "大きな素数を２個選ぶ．仮にこれをp, qとする"
   ]
  },
  {
   "cell_type": "code",
   "execution_count": null,
   "id": "c0dc2d8b",
   "metadata": {
    "lc_cell_meme": {
     "current": "f4cb56b4-01d6-11ed-bf55-02420a010222-2-c453-7f91",
     "history": [
      {
       "current": "f4cb56b4-01d6-11ed-bf55-02420a010222-1-c453",
       "next": "f4cb5a70-01d6-11ed-a66d-02420a010222",
       "previous": "1fec8ff2-01d6-11ed-82b5-02420a010222-1-947a"
      },
      {
       "current": "f4cb56b4-01d6-11ed-bf55-02420a010222-2-c453-7f91",
       "next": "f4cb5a70-01d6-11ed-a66d-02420a010222-1-cede",
       "previous": "1fec8ff2-01d6-11ed-82b5-02420a010222-2-947a-73e1"
      }
     ],
     "next": "f4cb5a70-01d6-11ed-a66d-02420a010222-2-cede-d06d",
     "previous": "1fec8ff2-01d6-11ed-82b5-02420a010222-3-947a-73e1-ae3e"
    },
    "lc_wrapper": {
     "log_history": [
      "/home/cwhadminxe1bf95/textbook/.log/20220712/20220712-203522-0688.log",
      "/home/cwhadminxe1bf95/textbook/.log/20220719/20220719-205202-0879.log",
      "/home/cwhadminxe1bf95/textbook/.log/20220719/20220719-210750-0564.log",
      "/home/cwhadminxe1bf95/dev_textbook_2022/.log/20230718/20230718-162315-0862.log",
      "/home/cwhadminxe1bf95/dev_textbook_2022/.log/20230718/20230718-162943-0689.log",
      "/home/cwhadminxe1bf95/dev_textbook_2022/.log/20230718/20230718-163138-0961.log",
      "/home/cwhadminxe1bf95/dev_textbook_2022/.log/20230718/20230718-163359-0640.log",
      "/home/cwhadminxe1bf95/dev_textbook_2022/.log/20230718/20230718-163650-0186.log",
      "/home/cwhadminxe1bf95/dev_textbook_2022/.log/20230718/20230718-190255-0940.log",
      "/home/cwhadminxe1bf95/dev_textbook_2022/.log/20230718/20230718-190542-0590.log",
      "/home/cwhadminxe1bf95/dev_textbook_2022/.log/20230718/20230718-191611-0897.log"
     ]
    }
   },
   "outputs": [],
   "source": [
    "p="
   ]
  },
  {
   "cell_type": "code",
   "execution_count": null,
   "id": "05b57724",
   "metadata": {
    "lc_cell_meme": {
     "current": "f4cb5a70-01d6-11ed-a66d-02420a010222-2-cede-d06d",
     "history": [
      {
       "current": "f4cb5a70-01d6-11ed-a66d-02420a010222-1-cede",
       "next": "f4cb5b79-01d6-11ed-85a9-02420a010222",
       "previous": "f4cb56b4-01d6-11ed-bf55-02420a010222"
      },
      {
       "current": "f4cb5a70-01d6-11ed-a66d-02420a010222-2-cede-d06d",
       "next": "f4cb5b79-01d6-11ed-85a9-02420a010222-1-73b8",
       "previous": "f4cb56b4-01d6-11ed-bf55-02420a010222-1-c453"
      }
     ],
     "next": "f4cb5b79-01d6-11ed-85a9-02420a010222-2-73b8-9961",
     "previous": "f4cb56b4-01d6-11ed-bf55-02420a010222-2-c453-7f91"
    },
    "lc_wrapper": {
     "log_history": [
      "/home/cwhadminxe1bf95/textbook/.log/20220712/20220712-203528-0339.log",
      "/home/cwhadminxe1bf95/textbook/.log/20220719/20220719-205200-0888.log",
      "/home/cwhadminxe1bf95/textbook/.log/20220719/20220719-210751-0513.log",
      "/home/cwhadminxe1bf95/dev_textbook_2022/.log/20230718/20230718-162317-0192.log",
      "/home/cwhadminxe1bf95/dev_textbook_2022/.log/20230718/20230718-162945-0552.log",
      "/home/cwhadminxe1bf95/dev_textbook_2022/.log/20230718/20230718-163137-0272.log",
      "/home/cwhadminxe1bf95/dev_textbook_2022/.log/20230718/20230718-163358-0140.log",
      "/home/cwhadminxe1bf95/dev_textbook_2022/.log/20230718/20230718-163648-0739.log",
      "/home/cwhadminxe1bf95/dev_textbook_2022/.log/20230718/20230718-190254-0301.log",
      "/home/cwhadminxe1bf95/dev_textbook_2022/.log/20230718/20230718-190544-0102.log",
      "/home/cwhadminxe1bf95/dev_textbook_2022/.log/20230718/20230718-191612-0399.log"
     ]
    }
   },
   "outputs": [],
   "source": [
    "q="
   ]
  },
  {
   "cell_type": "markdown",
   "id": "4a2a584d",
   "metadata": {
    "lc_cell_meme": {
     "current": "f4cb5b79-01d6-11ed-85a9-02420a010222-2-73b8-9961",
     "history": [
      {
       "current": "f4cb5b79-01d6-11ed-85a9-02420a010222-1-73b8",
       "next": "f4cb5c47-01d6-11ed-b7a5-02420a010222",
       "previous": "f4cb5a70-01d6-11ed-a66d-02420a010222"
      },
      {
       "current": "f4cb5b79-01d6-11ed-85a9-02420a010222-2-73b8-9961",
       "next": "f4cb5c47-01d6-11ed-b7a5-02420a010222-1-28e3",
       "previous": "f4cb5a70-01d6-11ed-a66d-02420a010222-1-cede"
      }
     ],
     "next": "f4cb5c47-01d6-11ed-b7a5-02420a010222-2-28e3-1c9f",
     "previous": "f4cb5a70-01d6-11ed-a66d-02420a010222-2-cede-d06d"
    }
   },
   "source": [
    "合成数$n=pq$を計算する。 (e,n)は公開鍵になる"
   ]
  },
  {
   "cell_type": "code",
   "execution_count": null,
   "id": "8d1c8e86",
   "metadata": {
    "lc_cell_meme": {
     "current": "f4cb5c47-01d6-11ed-b7a5-02420a010222-2-28e3-1c9f",
     "history": [
      {
       "current": "f4cb5c47-01d6-11ed-b7a5-02420a010222-1-28e3",
       "next": "f4cb5d06-01d6-11ed-b55d-02420a010222",
       "previous": "f4cb5b79-01d6-11ed-85a9-02420a010222"
      },
      {
       "current": "f4cb5c47-01d6-11ed-b7a5-02420a010222-2-28e3-1c9f",
       "next": "f4cb5d06-01d6-11ed-b55d-02420a010222-1-190b",
       "previous": "f4cb5b79-01d6-11ed-85a9-02420a010222-1-73b8"
      }
     ],
     "next": "f4cb5d06-01d6-11ed-b55d-02420a010222-2-190b-04b7",
     "previous": "f4cb5b79-01d6-11ed-85a9-02420a010222-2-73b8-9961"
    },
    "lc_wrapper": {
     "log_history": [
      "/home/cwhadminxe1bf95/textbook/.log/20220712/20220712-203545-0484.log",
      "/home/cwhadminxe1bf95/textbook/.log/20220719/20220719-205204-0362.log",
      "/home/cwhadminxe1bf95/textbook/.log/20220719/20220719-210752-0633.log",
      "/home/cwhadminxe1bf95/dev_textbook_2022/.log/20230718/20230718-162319-0099.log",
      "/home/cwhadminxe1bf95/dev_textbook_2022/.log/20230718/20230718-162946-0743.log",
      "/home/cwhadminxe1bf95/dev_textbook_2022/.log/20230718/20230718-163140-0864.log",
      "/home/cwhadminxe1bf95/dev_textbook_2022/.log/20230718/20230718-163400-0957.log",
      "/home/cwhadminxe1bf95/dev_textbook_2022/.log/20230718/20230718-163651-0565.log",
      "/home/cwhadminxe1bf95/dev_textbook_2022/.log/20230718/20230718-190257-0597.log",
      "/home/cwhadminxe1bf95/dev_textbook_2022/.log/20230718/20230718-190545-0374.log",
      "/home/cwhadminxe1bf95/dev_textbook_2022/.log/20230718/20230718-191614-0117.log"
     ]
    }
   },
   "outputs": [],
   "source": [
    "n=p*q\n",
    "print(n)"
   ]
  },
  {
   "cell_type": "markdown",
   "id": "855c0254",
   "metadata": {
    "lc_cell_meme": {
     "current": "f4cb5d06-01d6-11ed-b55d-02420a010222-2-190b-04b7",
     "history": [
      {
       "current": "f4cb5d06-01d6-11ed-b55d-02420a010222-1-190b",
       "next": "f4cb5dc2-01d6-11ed-a68e-02420a010222",
       "previous": "f4cb5c47-01d6-11ed-b7a5-02420a010222"
      },
      {
       "current": "f4cb5d06-01d6-11ed-b55d-02420a010222-2-190b-04b7",
       "next": "f4cb5dc2-01d6-11ed-a68e-02420a010222-1-27ce",
       "previous": "f4cb5c47-01d6-11ed-b7a5-02420a010222-1-28e3"
      }
     ],
     "next": "f4cb5dc2-01d6-11ed-a68e-02420a010222-2-27ce-482c",
     "previous": "f4cb5c47-01d6-11ed-b7a5-02420a010222-2-28e3-1c9f"
    }
   },
   "source": [
    "$(p–1)(q–1)$と互いに素な正整数eを選ぶ"
   ]
  },
  {
   "cell_type": "code",
   "execution_count": null,
   "id": "1c424290",
   "metadata": {
    "lc_cell_meme": {
     "current": "f4cb5dc2-01d6-11ed-a68e-02420a010222-2-27ce-482c",
     "history": [
      {
       "current": "f4cb5dc2-01d6-11ed-a68e-02420a010222-1-27ce",
       "next": "f4cb5e7e-01d6-11ed-9742-02420a010222",
       "previous": "f4cb5d06-01d6-11ed-b55d-02420a010222"
      },
      {
       "current": "f4cb5dc2-01d6-11ed-a68e-02420a010222-2-27ce-482c",
       "next": "f4cb5e7e-01d6-11ed-9742-02420a010222-1-7de3",
       "previous": "f4cb5d06-01d6-11ed-b55d-02420a010222-1-190b"
      }
     ],
     "next": "f4cb5e7e-01d6-11ed-9742-02420a010222-2-7de3-84c7",
     "previous": "f4cb5d06-01d6-11ed-b55d-02420a010222-2-190b-04b7"
    },
    "lc_wrapper": {
     "log_history": [
      "/home/cwhadminxe1bf95/textbook/.log/20220712/20220712-203602-0103.log",
      "/home/cwhadminxe1bf95/textbook/.log/20220719/20220719-205208-0017.log",
      "/home/cwhadminxe1bf95/textbook/.log/20220719/20220719-210754-0151.log",
      "/home/cwhadminxe1bf95/dev_textbook_2022/.log/20230718/20230718-162321-0938.log",
      "/home/cwhadminxe1bf95/dev_textbook_2022/.log/20230718/20230718-162949-0408.log",
      "/home/cwhadminxe1bf95/dev_textbook_2022/.log/20230718/20230718-163142-0568.log",
      "/home/cwhadminxe1bf95/dev_textbook_2022/.log/20230718/20230718-163402-0410.log",
      "/home/cwhadminxe1bf95/dev_textbook_2022/.log/20230718/20230718-163653-0083.log",
      "/home/cwhadminxe1bf95/dev_textbook_2022/.log/20230718/20230718-190301-0224.log",
      "/home/cwhadminxe1bf95/dev_textbook_2022/.log/20230718/20230718-190547-0611.log",
      "/home/cwhadminxe1bf95/dev_textbook_2022/.log/20230718/20230718-191615-0792.log"
     ]
    }
   },
   "outputs": [],
   "source": [
    "(p-1)*(q-1)"
   ]
  },
  {
   "cell_type": "code",
   "execution_count": null,
   "id": "ba1a713d",
   "metadata": {
    "lc_cell_meme": {
     "current": "f4cb5e7e-01d6-11ed-9742-02420a010222-2-7de3-84c7",
     "history": [
      {
       "current": "f4cb5e7e-01d6-11ed-9742-02420a010222-1-7de3",
       "next": "f4cb6050-01d6-11ed-86e0-02420a010222",
       "previous": "f4cb5dc2-01d6-11ed-a68e-02420a010222"
      },
      {
       "current": "f4cb5e7e-01d6-11ed-9742-02420a010222-2-7de3-84c7",
       "next": "f4cb6050-01d6-11ed-86e0-02420a010222-1-eac4",
       "previous": "f4cb5dc2-01d6-11ed-a68e-02420a010222-1-27ce"
      }
     ],
     "next": "f4cb6050-01d6-11ed-86e0-02420a010222-2-eac4-a4be",
     "previous": "f4cb5dc2-01d6-11ed-a68e-02420a010222-2-27ce-482c"
    },
    "lc_wrapper": {
     "log_history": [
      "/home/cwhadminxe1bf95/textbook/.log/20220712/20220712-203607-0263.log",
      "/home/cwhadminxe1bf95/textbook/.log/20220712/20220712-205137-0403.log",
      "/home/cwhadminxe1bf95/textbook/.log/20220719/20220719-205222-0957.log",
      "/home/cwhadminxe1bf95/textbook/.log/20220719/20220719-205736-0008.log",
      "/home/cwhadminxe1bf95/textbook/.log/20220719/20220719-210755-0336.log",
      "/home/cwhadminxe1bf95/dev_textbook_2022/.log/20230718/20230718-162345-0877.log",
      "/home/cwhadminxe1bf95/dev_textbook_2022/.log/20230718/20230718-162618-0718.log",
      "/home/cwhadminxe1bf95/dev_textbook_2022/.log/20230718/20230718-162950-0979.log",
      "/home/cwhadminxe1bf95/dev_textbook_2022/.log/20230718/20230718-163145-0100.log",
      "/home/cwhadminxe1bf95/dev_textbook_2022/.log/20230718/20230718-163403-0807.log",
      "/home/cwhadminxe1bf95/dev_textbook_2022/.log/20230718/20230718-163654-0845.log",
      "/home/cwhadminxe1bf95/dev_textbook_2022/.log/20230718/20230718-190303-0322.log",
      "/home/cwhadminxe1bf95/dev_textbook_2022/.log/20230718/20230718-190549-0333.log",
      "/home/cwhadminxe1bf95/dev_textbook_2022/.log/20230718/20230718-191619-0964.log"
     ]
    }
   },
   "outputs": [],
   "source": [
    "# (e,n)は公開鍵になる\n",
    "e=7\n",
    "\n",
    "#e=65537とすることが多いが，ここでは（計算機資源の節約のため）小さい素数にしておきます。"
   ]
  },
  {
   "cell_type": "markdown",
   "id": "4990405f",
   "metadata": {
    "lc_cell_meme": {
     "current": "f4cb6050-01d6-11ed-86e0-02420a010222-2-eac4-a4be",
     "history": [
      {
       "current": "f4cb6050-01d6-11ed-86e0-02420a010222-1-eac4",
       "next": "f4cb611a-01d6-11ed-a794-02420a010222",
       "previous": "f4cb5e7e-01d6-11ed-9742-02420a010222"
      },
      {
       "current": "f4cb6050-01d6-11ed-86e0-02420a010222-2-eac4-a4be",
       "next": "f4cb611a-01d6-11ed-a794-02420a010222-1-9609",
       "previous": "f4cb5e7e-01d6-11ed-9742-02420a010222-1-7de3"
      }
     ],
     "next": "f4cb611a-01d6-11ed-a794-02420a010222-2-9609-2b3e",
     "previous": "f4cb5e7e-01d6-11ed-9742-02420a010222-2-7de3-84c7"
    }
   },
   "source": [
    "$ed \\equiv 1 \\mod (p-1)(q-1)$となる正整数$d$を求める（dは秘密鍵になる）\n",
    "\n",
    "$d = ((p-1)(q-1)*k+1)/e$"
   ]
  },
  {
   "cell_type": "code",
   "execution_count": null,
   "id": "dad05566",
   "metadata": {
    "lc_cell_meme": {
     "current": "f4cb611a-01d6-11ed-a794-02420a010222-2-9609-2b3e",
     "history": [
      {
       "current": "f4cb611a-01d6-11ed-a794-02420a010222",
       "next": null,
       "previous": "f4cb6050-01d6-11ed-86e0-02420a010222"
      },
      {
       "current": "f4cb611a-01d6-11ed-a794-02420a010222",
       "next": "3d3ca52d-01d7-11ed-8a53-02420a010222",
       "previous": "f4cb6050-01d6-11ed-86e0-02420a010222"
      },
      {
       "current": "f4cb611a-01d6-11ed-a794-02420a010222",
       "next": "14ae5bb7-01d8-11ed-8148-02420a010222",
       "previous": "f4cb6050-01d6-11ed-86e0-02420a010222"
      },
      {
       "current": "f4cb611a-01d6-11ed-a794-02420a010222",
       "next": "c5fadccc-075a-11ed-8bc1-02420a010222",
       "previous": "f4cb6050-01d6-11ed-86e0-02420a010222"
      },
      {
       "current": "f4cb611a-01d6-11ed-a794-02420a010222-1-9609",
       "next": "14ae5bb7-01d8-11ed-8148-02420a010222",
       "previous": "f4cb6050-01d6-11ed-86e0-02420a010222"
      },
      {
       "current": "f4cb611a-01d6-11ed-a794-02420a010222-2-9609-2b3e",
       "next": "14ae5bb7-01d8-11ed-8148-02420a010222-1-4764",
       "previous": "f4cb6050-01d6-11ed-86e0-02420a010222-1-eac4"
      }
     ],
     "next": "14ae5bb7-01d8-11ed-8148-02420a010222-2-4764-0583",
     "previous": "f4cb6050-01d6-11ed-86e0-02420a010222-2-eac4-a4be"
    },
    "lc_wrapper": {
     "log_history": [
      "/home/cwhadminxe1bf95/textbook/.log/20220712/20220712-203735-0507.log",
      "/home/cwhadminxe1bf95/textbook/.log/20220719/20220719-205244-0893.log",
      "/home/cwhadminxe1bf95/textbook/.log/20220719/20220719-205247-0674.log",
      "/home/cwhadminxe1bf95/textbook/.log/20220719/20220719-205250-0102.log",
      "/home/cwhadminxe1bf95/textbook/.log/20220719/20220719-205253-0109.log",
      "/home/cwhadminxe1bf95/textbook/.log/20220719/20220719-205256-0243.log",
      "/home/cwhadminxe1bf95/textbook/.log/20220719/20220719-205300-0685.log",
      "/home/cwhadminxe1bf95/textbook/.log/20220719/20220719-205303-0339.log",
      "/home/cwhadminxe1bf95/textbook/.log/20220719/20220719-205306-0026.log",
      "/home/cwhadminxe1bf95/textbook/.log/20220719/20220719-205308-0607.log",
      "/home/cwhadminxe1bf95/textbook/.log/20220719/20220719-205310-0832.log",
      "/home/cwhadminxe1bf95/textbook/.log/20220719/20220719-205312-0595.log",
      "/home/cwhadminxe1bf95/textbook/.log/20220719/20220719-205314-0603.log",
      "/home/cwhadminxe1bf95/textbook/.log/20220719/20220719-205317-0234.log",
      "/home/cwhadminxe1bf95/textbook/.log/20220719/20220719-205326-0559.log",
      "/home/cwhadminxe1bf95/textbook/.log/20220719/20220719-205331-0341.log",
      "/home/cwhadminxe1bf95/textbook/.log/20220719/20220719-205335-0890.log",
      "/home/cwhadminxe1bf95/textbook/.log/20220719/20220719-205347-0079.log",
      "/home/cwhadminxe1bf95/textbook/.log/20220719/20220719-205445-0934.log",
      "/home/cwhadminxe1bf95/textbook/.log/20220719/20220719-205742-0568.log",
      "/home/cwhadminxe1bf95/textbook/.log/20220719/20220719-205953-0068.log",
      "/home/cwhadminxe1bf95/textbook/.log/20220719/20220719-205958-0609.log",
      "/home/cwhadminxe1bf95/textbook/.log/20220719/20220719-210009-0157.log",
      "/home/cwhadminxe1bf95/textbook/.log/20220719/20220719-210051-0576.log",
      "/home/cwhadminxe1bf95/textbook/.log/20220719/20220719-210055-0063.log",
      "/home/cwhadminxe1bf95/textbook/.log/20220719/20220719-210357-0650.log",
      "/home/cwhadminxe1bf95/textbook/.log/20220719/20220719-210759-0053.log",
      "/home/cwhadminxe1bf95/dev_textbook_2022/.log/20230718/20230718-162422-0922.log",
      "/home/cwhadminxe1bf95/dev_textbook_2022/.log/20230718/20230718-162427-0120.log",
      "/home/cwhadminxe1bf95/dev_textbook_2022/.log/20230718/20230718-162621-0025.log",
      "/home/cwhadminxe1bf95/dev_textbook_2022/.log/20230718/20230718-162952-0904.log",
      "/home/cwhadminxe1bf95/dev_textbook_2022/.log/20230718/20230718-163157-0207.log",
      "/home/cwhadminxe1bf95/dev_textbook_2022/.log/20230718/20230718-163350-0008.log",
      "/home/cwhadminxe1bf95/dev_textbook_2022/.log/20230718/20230718-163405-0141.log",
      "/home/cwhadminxe1bf95/dev_textbook_2022/.log/20230718/20230718-163656-0425.log",
      "/home/cwhadminxe1bf95/dev_textbook_2022/.log/20230718/20230718-165533-0256.log",
      "/home/cwhadminxe1bf95/dev_textbook_2022/.log/20230718/20230718-165536-0473.log",
      "/home/cwhadminxe1bf95/dev_textbook_2022/.log/20230718/20230718-165538-0990.log",
      "/home/cwhadminxe1bf95/dev_textbook_2022/.log/20230718/20230718-165542-0807.log",
      "/home/cwhadminxe1bf95/dev_textbook_2022/.log/20230718/20230718-165545-0771.log",
      "/home/cwhadminxe1bf95/dev_textbook_2022/.log/20230718/20230718-190305-0730.log",
      "/home/cwhadminxe1bf95/dev_textbook_2022/.log/20230718/20230718-190551-0238.log",
      "/home/cwhadminxe1bf95/dev_textbook_2022/.log/20230718/20230718-191622-0542.log"
     ]
    }
   },
   "outputs": [],
   "source": [
    "#このセルを実行するとdの中で最小のものが求まります\n",
    "k=1\n",
    "while ((p-1)*(q-1)*k+1)%e != 0:\n",
    "    k = k + 1\n",
    "\n",
    "d = ((p-1)*(q-1)*k+1)/e\n",
    "print('d=%d, k=%d'%(d,k))"
   ]
  },
  {
   "cell_type": "code",
   "execution_count": null,
   "id": "6a8786e1",
   "metadata": {
    "lc_cell_meme": {
     "current": "14ae5bb7-01d8-11ed-8148-02420a010222-2-4764-0583",
     "history": [
      {
       "current": "14ae5bb7-01d8-11ed-8148-02420a010222",
       "next": "3d3ca52d-01d7-11ed-8a53-02420a010222",
       "previous": "f4cb611a-01d6-11ed-a794-02420a010222"
      },
      {
       "current": "14ae5bb7-01d8-11ed-8148-02420a010222",
       "next": "c5fae097-075a-11ed-8ca2-02420a010222",
       "previous": "c5fadccc-075a-11ed-8bc1-02420a010222"
      },
      {
       "current": "14ae5bb7-01d8-11ed-8148-02420a010222-1-4764",
       "next": "c5fae097-075a-11ed-8ca2-02420a010222",
       "previous": "f4cb611a-01d6-11ed-a794-02420a010222"
      },
      {
       "current": "14ae5bb7-01d8-11ed-8148-02420a010222-2-4764-0583",
       "next": "c5fae097-075a-11ed-8ca2-02420a010222-1-530d",
       "previous": "f4cb611a-01d6-11ed-a794-02420a010222-1-9609"
      }
     ],
     "next": "c5fae097-075a-11ed-8ca2-02420a010222-2-530d-0e5a",
     "previous": "f4cb611a-01d6-11ed-a794-02420a010222-2-9609-2b3e"
    },
    "lc_wrapper": {
     "log_history": [
      "/home/cwhadminxe1bf95/textbook/.log/20220712/20220712-204314-0654.log",
      "/home/cwhadminxe1bf95/textbook/.log/20220712/20220712-205238-0118.log",
      "/home/cwhadminxe1bf95/textbook/.log/20220712/20220712-205242-0057.log",
      "/home/cwhadminxe1bf95/textbook/.log/20220719/20220719-210145-0180.log",
      "/home/cwhadminxe1bf95/textbook/.log/20220719/20220719-210808-0803.log",
      "/home/cwhadminxe1bf95/dev_textbook_2022/.log/20230718/20230718-162434-0749.log",
      "/home/cwhadminxe1bf95/dev_textbook_2022/.log/20230718/20230718-162629-0340.log",
      "/home/cwhadminxe1bf95/dev_textbook_2022/.log/20230718/20230718-163001-0703.log",
      "/home/cwhadminxe1bf95/dev_textbook_2022/.log/20230718/20230718-163410-0498.log",
      "/home/cwhadminxe1bf95/dev_textbook_2022/.log/20230718/20230718-163658-0231.log",
      "/home/cwhadminxe1bf95/dev_textbook_2022/.log/20230718/20230718-163703-0648.log",
      "/home/cwhadminxe1bf95/dev_textbook_2022/.log/20230718/20230718-190312-0882.log",
      "/home/cwhadminxe1bf95/dev_textbook_2022/.log/20230718/20230718-190558-0910.log",
      "/home/cwhadminxe1bf95/dev_textbook_2022/.log/20230718/20230718-191639-0587.log"
     ]
    }
   },
   "outputs": [],
   "source": [
    "# dは秘密鍵になる\n",
    "d="
   ]
  },
  {
   "cell_type": "code",
   "execution_count": null,
   "id": "073105ed",
   "metadata": {
    "lc_cell_meme": {
     "current": "c5fae097-075a-11ed-8ca2-02420a010222-2-530d-0e5a",
     "history": [
      {
       "current": "c5fae097-075a-11ed-8ca2-02420a010222-1-530d",
       "next": "3d3ca52d-01d7-11ed-8a53-02420a010222",
       "previous": "14ae5bb7-01d8-11ed-8148-02420a010222"
      },
      {
       "current": "c5fae097-075a-11ed-8ca2-02420a010222-2-530d-0e5a",
       "next": "3d3ca52d-01d7-11ed-8a53-02420a010222-1-e238",
       "previous": "14ae5bb7-01d8-11ed-8148-02420a010222-1-4764"
      }
     ],
     "next": "3d3ca52d-01d7-11ed-8a53-02420a010222-2-e238-4990",
     "previous": "14ae5bb7-01d8-11ed-8148-02420a010222-2-4764-0583"
    },
    "lc_wrapper": {
     "log_history": [
      "/home/cwhadminxe1bf95/textbook/.log/20220719/20220719-210210-0109.log",
      "/home/cwhadminxe1bf95/textbook/.log/20220719/20220719-210215-0227.log",
      "/home/cwhadminxe1bf95/textbook/.log/20220719/20220719-210221-0987.log",
      "/home/cwhadminxe1bf95/textbook/.log/20220719/20220719-210226-0820.log",
      "/home/cwhadminxe1bf95/textbook/.log/20220719/20220719-210809-0989.log",
      "/home/cwhadminxe1bf95/dev_textbook_2022/.log/20230718/20230718-162436-0266.log",
      "/home/cwhadminxe1bf95/dev_textbook_2022/.log/20230718/20230718-162630-0820.log",
      "/home/cwhadminxe1bf95/dev_textbook_2022/.log/20230718/20230718-163002-0944.log",
      "/home/cwhadminxe1bf95/dev_textbook_2022/.log/20230718/20230718-163411-0670.log",
      "/home/cwhadminxe1bf95/dev_textbook_2022/.log/20230718/20230718-163705-0126.log",
      "/home/cwhadminxe1bf95/dev_textbook_2022/.log/20230718/20230718-190314-0575.log",
      "/home/cwhadminxe1bf95/dev_textbook_2022/.log/20230718/20230718-190601-0197.log",
      "/home/cwhadminxe1bf95/dev_textbook_2022/.log/20230718/20230718-191640-0898.log"
     ]
    }
   },
   "outputs": [],
   "source": [
    "#確認\n",
    "e*d % ((p-1)*(q-1))"
   ]
  },
  {
   "cell_type": "markdown",
   "id": "2c10876c",
   "metadata": {
    "lc_cell_meme": {
     "current": "3d3ca52d-01d7-11ed-8a53-02420a010222-2-e238-4990",
     "history": [
      {
       "current": "3d3ca52d-01d7-11ed-8a53-02420a010222",
       "next": "3d3ca815-01d7-11ed-b89a-02420a010222",
       "previous": "f4cb611a-01d6-11ed-a794-02420a010222"
      },
      {
       "current": "3d3ca52d-01d7-11ed-8a53-02420a010222",
       "next": "3d3ca815-01d7-11ed-b89a-02420a010222",
       "previous": "14ae5bb7-01d8-11ed-8148-02420a010222"
      },
      {
       "current": "3d3ca52d-01d7-11ed-8a53-02420a010222",
       "next": "3d3ca925-01d7-11ed-a0f6-02420a010222",
       "previous": "14ae5bb7-01d8-11ed-8148-02420a010222"
      },
      {
       "current": "3d3ca52d-01d7-11ed-8a53-02420a010222-1-e238",
       "next": "3d3ca925-01d7-11ed-a0f6-02420a010222",
       "previous": "c5fae097-075a-11ed-8ca2-02420a010222"
      },
      {
       "current": "3d3ca52d-01d7-11ed-8a53-02420a010222-2-e238-4990",
       "next": "3d3ca925-01d7-11ed-a0f6-02420a010222-1-5e84",
       "previous": "c5fae097-075a-11ed-8ca2-02420a010222-1-530d"
      }
     ],
     "next": "3d3ca925-01d7-11ed-a0f6-02420a010222-2-5e84-c9d0",
     "previous": "c5fae097-075a-11ed-8ca2-02420a010222-2-530d-0e5a"
    }
   },
   "source": [
    "$M^{ed} \\equiv M \\mod n$, \n",
    "\n",
    "$n=pq, ed=k(p-1)(q-1)+1$"
   ]
  },
  {
   "cell_type": "markdown",
   "id": "0196b2b1",
   "metadata": {
    "lc_cell_meme": {
     "current": "3d3ca925-01d7-11ed-a0f6-02420a010222-2-5e84-c9d0",
     "history": [
      {
       "current": "3d3ca925-01d7-11ed-a0f6-02420a010222",
       "next": "3d3ca9f9-01d7-11ed-8529-02420a010222",
       "previous": "3d3ca815-01d7-11ed-b89a-02420a010222"
      },
      {
       "current": "3d3ca925-01d7-11ed-a0f6-02420a010222-1-5e84",
       "next": "3d3ca815-01d7-11ed-b89a-02420a010222",
       "previous": "3d3ca52d-01d7-11ed-8a53-02420a010222"
      },
      {
       "current": "3d3ca925-01d7-11ed-a0f6-02420a010222-2-5e84-c9d0",
       "next": "3d3ca815-01d7-11ed-b89a-02420a010222-1-65cc",
       "previous": "3d3ca52d-01d7-11ed-8a53-02420a010222-1-e238"
      }
     ],
     "next": "3d3ca815-01d7-11ed-b89a-02420a010222-2-65cc-4068",
     "previous": "3d3ca52d-01d7-11ed-8a53-02420a010222-2-e238-4990"
    }
   },
   "source": [
    "## オイラーの定理を確認\n",
    "\n",
    "- $M^{ed}$を$n$で割った余りが必ず$M$になるような$n,e,d$が存在することが証明されている。（オイラーの定理）\n",
    "\n",
    "  $M \\equiv M^{ed} \\mod n$\n",
    "\n",
    "- ただし，$pq=n, k(p-1)(q-1)+1=ed$, $p$と$q$は異なる素数"
   ]
  },
  {
   "cell_type": "code",
   "execution_count": null,
   "id": "ce86022b",
   "metadata": {
    "lc_cell_meme": {
     "current": "3d3ca815-01d7-11ed-b89a-02420a010222-2-65cc-4068",
     "history": [
      {
       "current": "3d3ca815-01d7-11ed-b89a-02420a010222",
       "next": "3d3ca925-01d7-11ed-a0f6-02420a010222",
       "previous": "3d3ca52d-01d7-11ed-8a53-02420a010222"
      },
      {
       "current": "3d3ca815-01d7-11ed-b89a-02420a010222",
       "next": "3d3ca9f9-01d7-11ed-8529-02420a010222",
       "previous": "3d3ca925-01d7-11ed-a0f6-02420a010222"
      },
      {
       "current": "3d3ca815-01d7-11ed-b89a-02420a010222-1-65cc",
       "next": "3d3caab9-01d7-11ed-8285-02420a010222",
       "previous": "3d3ca925-01d7-11ed-a0f6-02420a010222"
      },
      {
       "current": "3d3ca815-01d7-11ed-b89a-02420a010222-2-65cc-4068",
       "next": "3d3caab9-01d7-11ed-8285-02420a010222-1-6de5",
       "previous": "3d3ca925-01d7-11ed-a0f6-02420a010222-1-5e84"
      }
     ],
     "next": "3d3caab9-01d7-11ed-8285-02420a010222-2-6de5-7764",
     "previous": "3d3ca925-01d7-11ed-a0f6-02420a010222-2-5e84-c9d0"
    },
    "lc_wrapper": {
     "log_history": [
      "/home/cwhadminxe1bf95/textbook/.log/20220712/20220712-204057-0508.log",
      "/home/cwhadminxe1bf95/textbook/.log/20220712/20220712-204422-0971.log",
      "/home/cwhadminxe1bf95/dev_textbook_2022/.log/20230718/20230718-162441-0711.log",
      "/home/cwhadminxe1bf95/dev_textbook_2022/.log/20230718/20230718-162529-0239.log",
      "/home/cwhadminxe1bf95/dev_textbook_2022/.log/20230718/20230718-162633-0482.log",
      "/home/cwhadminxe1bf95/dev_textbook_2022/.log/20230718/20230718-162651-0465.log",
      "/home/cwhadminxe1bf95/dev_textbook_2022/.log/20230718/20230718-162720-0288.log",
      "/home/cwhadminxe1bf95/dev_textbook_2022/.log/20230718/20230718-163005-0525.log",
      "/home/cwhadminxe1bf95/dev_textbook_2022/.log/20230718/20230718-163414-0018.log",
      "/home/cwhadminxe1bf95/dev_textbook_2022/.log/20230718/20230718-163709-0920.log",
      "/home/cwhadminxe1bf95/dev_textbook_2022/.log/20230718/20230718-190620-0136.log",
      "/home/cwhadminxe1bf95/dev_textbook_2022/.log/20230718/20230718-191650-0339.log"
     ]
    }
   },
   "outputs": [],
   "source": [
    "# 平文Mを指定（nより小さい数）\n",
    "M=2023"
   ]
  },
  {
   "cell_type": "code",
   "execution_count": null,
   "id": "9d838df9",
   "metadata": {
    "lc_cell_meme": {
     "current": "3d3caab9-01d7-11ed-8285-02420a010222-2-6de5-7764",
     "history": [
      {
       "current": "3d3caab9-01d7-11ed-8285-02420a010222",
       "next": null,
       "previous": "3d3ca9f9-01d7-11ed-8529-02420a010222"
      },
      {
       "current": "3d3caab9-01d7-11ed-8285-02420a010222",
       "next": "85844ea3-01d7-11ed-b84b-02420a010222",
       "previous": "3d3ca9f9-01d7-11ed-8529-02420a010222"
      },
      {
       "current": "3d3caab9-01d7-11ed-8285-02420a010222",
       "next": "85844ea3-01d7-11ed-b84b-02420a010222-2-3211-1fce",
       "previous": "3d3ca9f9-01d7-11ed-8529-02420a010222"
      },
      {
       "current": "3d3caab9-01d7-11ed-8285-02420a010222",
       "next": "94904276-01d8-11ed-aa15-02420a010222",
       "previous": "3d3ca9f9-01d7-11ed-8529-02420a010222"
      },
      {
       "current": "3d3caab9-01d7-11ed-8285-02420a010222-1-6de5",
       "next": "3d3ca9f9-01d7-11ed-8529-02420a010222",
       "previous": "3d3ca815-01d7-11ed-b89a-02420a010222"
      },
      {
       "current": "3d3caab9-01d7-11ed-8285-02420a010222-2-6de5-7764",
       "next": "3d3ca9f9-01d7-11ed-8529-02420a010222-1-5385",
       "previous": "3d3ca815-01d7-11ed-b89a-02420a010222-1-65cc"
      }
     ],
     "next": "3d3ca9f9-01d7-11ed-8529-02420a010222-2-5385-6a4c",
     "previous": "3d3ca815-01d7-11ed-b89a-02420a010222-2-65cc-4068"
    },
    "lc_wrapper": {
     "log_history": [
      "/home/cwhadminxe1bf95/textbook/.log/20220712/20220712-204101-0158.log",
      "/home/cwhadminxe1bf95/dev_textbook_2022/.log/20230718/20230718-162443-0235.log",
      "/home/cwhadminxe1bf95/dev_textbook_2022/.log/20230718/20230718-162530-0672.log",
      "/home/cwhadminxe1bf95/dev_textbook_2022/.log/20230718/20230718-162634-0844.log",
      "/home/cwhadminxe1bf95/dev_textbook_2022/.log/20230718/20230718-162653-0436.log",
      "/home/cwhadminxe1bf95/dev_textbook_2022/.log/20230718/20230718-162722-0635.log",
      "/home/cwhadminxe1bf95/dev_textbook_2022/.log/20230718/20230718-163006-0599.log",
      "/home/cwhadminxe1bf95/dev_textbook_2022/.log/20230718/20230718-163415-0613.log",
      "/home/cwhadminxe1bf95/dev_textbook_2022/.log/20230718/20230718-163710-0720.log",
      "/home/cwhadminxe1bf95/dev_textbook_2022/.log/20230718/20230718-190621-0743.log",
      "/home/cwhadminxe1bf95/dev_textbook_2022/.log/20230718/20230718-191651-0587.log"
     ]
    }
   },
   "outputs": [],
   "source": [
    "#左辺 M mod n\n",
    "M%n"
   ]
  },
  {
   "cell_type": "code",
   "execution_count": null,
   "id": "5c300283",
   "metadata": {
    "lc_cell_meme": {
     "current": "3d3ca9f9-01d7-11ed-8529-02420a010222-2-5385-6a4c",
     "history": [
      {
       "current": "3d3ca9f9-01d7-11ed-8529-02420a010222",
       "next": "3d3caab9-01d7-11ed-8285-02420a010222",
       "previous": "3d3ca925-01d7-11ed-a0f6-02420a010222"
      },
      {
       "current": "3d3ca9f9-01d7-11ed-8529-02420a010222",
       "next": "3d3caab9-01d7-11ed-8285-02420a010222",
       "previous": "3d3ca815-01d7-11ed-b89a-02420a010222"
      },
      {
       "current": "3d3ca9f9-01d7-11ed-8529-02420a010222-1-5385",
       "next": "94904276-01d8-11ed-aa15-02420a010222",
       "previous": "3d3caab9-01d7-11ed-8285-02420a010222"
      },
      {
       "current": "3d3ca9f9-01d7-11ed-8529-02420a010222-2-5385-6a4c",
       "next": "94904276-01d8-11ed-aa15-02420a010222-1-b5cf",
       "previous": "3d3caab9-01d7-11ed-8285-02420a010222-1-6de5"
      }
     ],
     "next": "94904276-01d8-11ed-aa15-02420a010222-2-b5cf-7a3a",
     "previous": "3d3caab9-01d7-11ed-8285-02420a010222-2-6de5-7764"
    },
    "lc_wrapper": {
     "log_history": [
      "/home/cwhadminxe1bf95/textbook/.log/20220712/20220712-204059-0565.log",
      "/home/cwhadminxe1bf95/textbook/.log/20220712/20220712-204316-0564.log",
      "/home/cwhadminxe1bf95/dev_textbook_2022/.log/20230718/20230718-162445-0917.log",
      "/home/cwhadminxe1bf95/dev_textbook_2022/.log/20230718/20230718-162531-0964.log",
      "/home/cwhadminxe1bf95/dev_textbook_2022/.log/20230718/20230718-162637-0082.log",
      "/home/cwhadminxe1bf95/dev_textbook_2022/.log/20230718/20230718-162644-0822.log",
      "/home/cwhadminxe1bf95/dev_textbook_2022/.log/20230718/20230718-162656-0495.log",
      "/home/cwhadminxe1bf95/dev_textbook_2022/.log/20230718/20230718-162724-0104.log",
      "/home/cwhadminxe1bf95/dev_textbook_2022/.log/20230718/20230718-163008-0090.log",
      "/home/cwhadminxe1bf95/dev_textbook_2022/.log/20230718/20230718-163418-0265.log",
      "/home/cwhadminxe1bf95/dev_textbook_2022/.log/20230718/20230718-163711-0138.log",
      "/home/cwhadminxe1bf95/dev_textbook_2022/.log/20230718/20230718-190623-0374.log",
      "/home/cwhadminxe1bf95/dev_textbook_2022/.log/20230718/20230718-191652-0754.log"
     ]
    }
   },
   "outputs": [],
   "source": [
    "#右辺 M^(ed) mod n\n",
    "M**(e*d) % n"
   ]
  },
  {
   "cell_type": "markdown",
   "id": "a8be54fa",
   "metadata": {
    "lc_cell_meme": {
     "current": "94904276-01d8-11ed-aa15-02420a010222-2-b5cf-7a3a",
     "history": [
      {
       "current": "94904276-01d8-11ed-aa15-02420a010222",
       "next": "85844ea3-01d7-11ed-b84b-02420a010222-2-3211-1fce",
       "previous": "3d3caab9-01d7-11ed-8285-02420a010222"
      },
      {
       "current": "94904276-01d8-11ed-aa15-02420a010222-1-b5cf",
       "next": "85844ea3-01d7-11ed-b84b-02420a010222-2-3211-1fce",
       "previous": "3d3ca9f9-01d7-11ed-8529-02420a010222"
      },
      {
       "current": "94904276-01d8-11ed-aa15-02420a010222-2-b5cf-7a3a",
       "next": "85844ea3-01d7-11ed-b84b-02420a010222-3-3211-1fce-5d52",
       "previous": "3d3ca9f9-01d7-11ed-8529-02420a010222-1-5385"
      }
     ],
     "next": "85844ea3-01d7-11ed-b84b-02420a010222-4-3211-1fce-5d52-99bc",
     "previous": "3d3ca9f9-01d7-11ed-8529-02420a010222-2-5385-6a4c"
    }
   },
   "source": [
    "## RSA暗号と復号を試す\n",
    "\n",
    "- 平文を$M$，暗号文を$C$，復号文を$M'$\n",
    "- 暗号文$C$ は$M^e$を$n$で割った余り: \t$C \\equiv M^e (\\mod n)$\n",
    "- 復号文$M'$は$C^d$を$n$で割った余り:\t$M'\\equiv C^d (\\mod n) \\equiv M^{ed} (\\mod n)$"
   ]
  },
  {
   "cell_type": "code",
   "execution_count": null,
   "id": "0dcaf8cd",
   "metadata": {
    "lc_cell_meme": {
     "current": "85844ea3-01d7-11ed-b84b-02420a010222-4-3211-1fce-5d52-99bc",
     "history": [
      {
       "current": "85844ea3-01d7-11ed-b84b-02420a010222-2-3211-1fce",
       "next": null,
       "previous": "3d3caab9-01d7-11ed-8285-02420a010222"
      },
      {
       "current": "85844ea3-01d7-11ed-b84b-02420a010222-2-3211-1fce",
       "next": "14ae610f-01d8-11ed-a17b-02420a010222",
       "previous": "3d3caab9-01d7-11ed-8285-02420a010222"
      },
      {
       "current": "85844ea3-01d7-11ed-b84b-02420a010222-3-3211-1fce-5d52",
       "next": "14ae610f-01d8-11ed-a17b-02420a010222",
       "previous": "94904276-01d8-11ed-aa15-02420a010222"
      },
      {
       "current": "85844ea3-01d7-11ed-b84b-02420a010222-4-3211-1fce-5d52-99bc",
       "next": "14ae610f-01d8-11ed-a17b-02420a010222-1-84d2",
       "previous": "94904276-01d8-11ed-aa15-02420a010222-1-b5cf"
      }
     ],
     "next": "14ae610f-01d8-11ed-a17b-02420a010222-2-84d2-b783",
     "previous": "94904276-01d8-11ed-aa15-02420a010222-2-b5cf-7a3a"
    },
    "lc_wrapper": {
     "log_history": [
      "/home/cwhadminxe1bf95/textbook/.log/20220712/20220712-204507-0318.log",
      "/home/cwhadminxe1bf95/textbook/.log/20220712/20220712-204629-0623.log",
      "/home/cwhadminxe1bf95/textbook/.log/20220712/20220712-204720-0105.log",
      "/home/cwhadminxe1bf95/textbook/.log/20220712/20220712-204732-0598.log",
      "/home/cwhadminxe1bf95/textbook/.log/20220712/20220712-204737-0540.log",
      "/home/cwhadminxe1bf95/textbook/.log/20220712/20220712-204753-0504.log",
      "/home/cwhadminxe1bf95/dev_textbook_2022/.log/20230718/20230718-162733-0368.log",
      "/home/cwhadminxe1bf95/dev_textbook_2022/.log/20230718/20230718-162737-0624.log",
      "/home/cwhadminxe1bf95/dev_textbook_2022/.log/20230718/20230718-163021-0984.log",
      "/home/cwhadminxe1bf95/dev_textbook_2022/.log/20230718/20230718-163528-0583.log",
      "/home/cwhadminxe1bf95/dev_textbook_2022/.log/20230718/20230718-163536-0441.log",
      "/home/cwhadminxe1bf95/dev_textbook_2022/.log/20230718/20230718-163730-0814.log",
      "/home/cwhadminxe1bf95/dev_textbook_2022/.log/20230718/20230718-190648-0266.log",
      "/home/cwhadminxe1bf95/dev_textbook_2022/.log/20230718/20230718-191657-0537.log"
     ]
    }
   },
   "outputs": [],
   "source": [
    "# 平文Mを指定（nより小さい数）\n",
    "M=2023"
   ]
  },
  {
   "cell_type": "code",
   "execution_count": null,
   "id": "d3820bfc",
   "metadata": {
    "lc_cell_meme": {
     "current": "14ae610f-01d8-11ed-a17b-02420a010222-2-84d2-b783",
     "history": [
      {
       "current": "14ae610f-01d8-11ed-a17b-02420a010222-1-84d2",
       "next": "5bbab162-01d8-11ed-844d-02420a010222",
       "previous": "85844ea3-01d7-11ed-b84b-02420a010222-2-3211-1fce"
      },
      {
       "current": "14ae610f-01d8-11ed-a17b-02420a010222-2-84d2-b783",
       "next": "5bbab162-01d8-11ed-844d-02420a010222-1-8bd5",
       "previous": "85844ea3-01d7-11ed-b84b-02420a010222-3-3211-1fce-5d52"
      }
     ],
     "next": "5bbab162-01d8-11ed-844d-02420a010222-2-8bd5-fe99",
     "previous": "85844ea3-01d7-11ed-b84b-02420a010222-4-3211-1fce-5d52-99bc"
    },
    "lc_wrapper": {
     "log_history": [
      "/home/cwhadminxe1bf95/textbook/.log/20220712/20220712-204531-0509.log",
      "/home/cwhadminxe1bf95/textbook/.log/20220712/20220712-204620-0248.log",
      "/home/cwhadminxe1bf95/textbook/.log/20220712/20220712-204631-0030.log",
      "/home/cwhadminxe1bf95/textbook/.log/20220712/20220712-204721-0766.log",
      "/home/cwhadminxe1bf95/textbook/.log/20220712/20220712-204734-0067.log",
      "/home/cwhadminxe1bf95/textbook/.log/20220712/20220712-204738-0884.log",
      "/home/cwhadminxe1bf95/textbook/.log/20220712/20220712-204755-0130.log",
      "/home/cwhadminxe1bf95/dev_textbook_2022/.log/20230718/20230718-162739-0086.log",
      "/home/cwhadminxe1bf95/dev_textbook_2022/.log/20230718/20230718-163022-0549.log",
      "/home/cwhadminxe1bf95/dev_textbook_2022/.log/20230718/20230718-163529-0927.log",
      "/home/cwhadminxe1bf95/dev_textbook_2022/.log/20230718/20230718-163538-0615.log",
      "/home/cwhadminxe1bf95/dev_textbook_2022/.log/20230718/20230718-163731-0539.log",
      "/home/cwhadminxe1bf95/dev_textbook_2022/.log/20230718/20230718-190649-0519.log",
      "/home/cwhadminxe1bf95/dev_textbook_2022/.log/20230718/20230718-191658-0858.log"
     ]
    }
   },
   "outputs": [],
   "source": [
    "#暗号文\n",
    "C = M**e % n\n",
    "print(C)"
   ]
  },
  {
   "cell_type": "code",
   "execution_count": null,
   "id": "87de9c86",
   "metadata": {
    "lc_cell_meme": {
     "current": "5bbab162-01d8-11ed-844d-02420a010222-2-8bd5-fe99",
     "history": [
      {
       "current": "5bbab162-01d8-11ed-844d-02420a010222",
       "next": "5bbab497-01d8-11ed-9a2e-02420a010222",
       "previous": "14ae610f-01d8-11ed-a17b-02420a010222"
      },
      {
       "current": "5bbab162-01d8-11ed-844d-02420a010222-1-8bd5",
       "next": "5bbab497-01d8-11ed-9a2e-02420a010222-1-8a5a",
       "previous": "14ae610f-01d8-11ed-a17b-02420a010222"
      },
      {
       "current": "5bbab162-01d8-11ed-844d-02420a010222-1-8bd5",
       "next": "5bbab497-01d8-11ed-9a2e-02420a010222-2-8a5a-8f52",
       "previous": "14ae610f-01d8-11ed-a17b-02420a010222-1-84d2"
      },
      {
       "current": "5bbab162-01d8-11ed-844d-02420a010222-2-8bd5-fe99",
       "next": "876027b7-2541-11ee-a97f-02420a010807",
       "previous": "14ae610f-01d8-11ed-a17b-02420a010222-1-84d2"
      }
     ],
     "next": "876027b7-2541-11ee-a97f-02420a010807-1-2757",
     "previous": "14ae610f-01d8-11ed-a17b-02420a010222-2-84d2-b783"
    },
    "lc_wrapper": {
     "log_history": [
      "/home/cwhadminxe1bf95/textbook/.log/20220712/20220712-204624-0937.log",
      "/home/cwhadminxe1bf95/textbook/.log/20220712/20220712-204632-0362.log",
      "/home/cwhadminxe1bf95/textbook/.log/20220712/20220712-204724-0389.log",
      "/home/cwhadminxe1bf95/textbook/.log/20220712/20220712-204735-0424.log",
      "/home/cwhadminxe1bf95/textbook/.log/20220712/20220712-204740-0271.log",
      "/home/cwhadminxe1bf95/textbook/.log/20220712/20220712-204756-0487.log",
      "/home/cwhadminxe1bf95/dev_textbook_2022/.log/20230718/20230718-162740-0517.log",
      "/home/cwhadminxe1bf95/dev_textbook_2022/.log/20230718/20230718-163023-0067.log",
      "/home/cwhadminxe1bf95/dev_textbook_2022/.log/20230718/20230718-163531-0388.log",
      "/home/cwhadminxe1bf95/dev_textbook_2022/.log/20230718/20230718-163540-0202.log",
      "/home/cwhadminxe1bf95/dev_textbook_2022/.log/20230718/20230718-163732-0173.log",
      "/home/cwhadminxe1bf95/dev_textbook_2022/.log/20230718/20230718-190652-0111.log",
      "/home/cwhadminxe1bf95/dev_textbook_2022/.log/20230718/20230718-191701-0015.log"
     ]
    }
   },
   "outputs": [],
   "source": [
    "#復号\n",
    "C**d % n"
   ]
  },
  {
   "cell_type": "code",
   "execution_count": null,
   "id": "60f0f22c",
   "metadata": {
    "lc_cell_meme": {
     "current": "876027b7-2541-11ee-a97f-02420a010807-1-2757",
     "history": [
      {
       "current": "876027b7-2541-11ee-a97f-02420a010807-1-2757",
       "next": "5bbab497-01d8-11ed-9a2e-02420a010222-2-8a5a-8f52",
       "previous": "5bbab162-01d8-11ed-844d-02420a010222-1-8bd5"
      }
     ],
     "next": "5bbab497-01d8-11ed-9a2e-02420a010222-3-8a5a-8f52-b7ee",
     "previous": "5bbab162-01d8-11ed-844d-02420a010222-2-8bd5-fe99"
    }
   },
   "outputs": [],
   "source": []
  },
  {
   "cell_type": "markdown",
   "id": "9b4207e5",
   "metadata": {
    "lc_cell_meme": {
     "current": "5bbab497-01d8-11ed-9a2e-02420a010222-3-8a5a-8f52-b7ee",
     "history": [
      {
       "current": "5bbab497-01d8-11ed-9a2e-02420a010222-2-8a5a-8f52",
       "next": "89c49b88-0758-11ed-86e4-02420a010222",
       "previous": "5bbab162-01d8-11ed-844d-02420a010222"
      },
      {
       "current": "5bbab497-01d8-11ed-9a2e-02420a010222-2-8a5a-8f52",
       "next": "89c49b88-0758-11ed-86e4-02420a010222-1-c4b2",
       "previous": "5bbab162-01d8-11ed-844d-02420a010222-1-8bd5"
      },
      {
       "current": "5bbab497-01d8-11ed-9a2e-02420a010222-3-8a5a-8f52-b7ee",
       "next": "89c49b88-0758-11ed-86e4-02420a010222-1-c4b2",
       "previous": "876027b7-2541-11ee-a97f-02420a010807"
      }
     ],
     "next": "89c49b88-0758-11ed-86e4-02420a010222-2-c4b2-589a",
     "previous": "876027b7-2541-11ee-a97f-02420a010807-1-2757"
    }
   },
   "source": [
    "## 電子署名を試す"
   ]
  },
  {
   "cell_type": "code",
   "execution_count": null,
   "id": "608621d4",
   "metadata": {
    "lc_cell_meme": {
     "current": "89c49b88-0758-11ed-86e4-02420a010222-2-c4b2-589a",
     "history": [
      {
       "current": "89c49b88-0758-11ed-86e4-02420a010222",
       "next": "89c4a120-0758-11ed-abb2-02420a010222",
       "previous": "5bbab497-01d8-11ed-9a2e-02420a010222"
      },
      {
       "current": "89c49b88-0758-11ed-86e4-02420a010222",
       "next": "89c4a120-0758-11ed-abb2-02420a010222",
       "previous": "5bbab497-01d8-11ed-9a2e-02420a010222-1-8a5a"
      },
      {
       "current": "89c49b88-0758-11ed-86e4-02420a010222-1-c4b2",
       "next": "89c4a240-0758-11ed-9de6-02420a010222",
       "previous": "5bbab497-01d8-11ed-9a2e-02420a010222-1-8a5a"
      },
      {
       "current": "89c49b88-0758-11ed-86e4-02420a010222-2-c4b2-589a",
       "next": "89c4a240-0758-11ed-9de6-02420a010222-1-0723",
       "previous": "5bbab497-01d8-11ed-9a2e-02420a010222-2-8a5a-8f52"
      }
     ],
     "next": "89c4a240-0758-11ed-9de6-02420a010222-2-0723-1c2c",
     "previous": "5bbab497-01d8-11ed-9a2e-02420a010222-3-8a5a-8f52-b7ee"
    },
    "lc_wrapper": {
     "log_history": [
      "/home/cwhadminxe1bf95/textbook/.log/20220719/20220719-204629-0734.log",
      "/home/cwhadminxe1bf95/textbook/.log/20220719/20220719-210626-0240.log",
      "/home/cwhadminxe1bf95/textbook/.log/20220719/20220719-210646-0583.log",
      "/home/cwhadminxe1bf95/textbook/.log/20220719/20220719-210652-0499.log",
      "/home/cwhadminxe1bf95/textbook/.log/20220719/20220719-210708-0579.log",
      "/home/cwhadminxe1bf95/textbook/.log/20220719/20220719-210713-0143.log",
      "/home/cwhadminxe1bf95/textbook/.log/20220719/20220719-210719-0483.log",
      "/home/cwhadminxe1bf95/textbook/.log/20220719/20220719-210814-0264.log",
      "/home/cwhadminxe1bf95/textbook/.log/20220719/20220719-210821-0648.log",
      "/home/cwhadminxe1bf95/textbook/.log/20220719/20220719-210830-0712.log",
      "/home/cwhadminxe1bf95/textbook/.log/20220719/20220719-210839-0152.log",
      "/home/cwhadminxe1bf95/dev_textbook_2022/.log/20230718/20230718-162744-0467.log",
      "/home/cwhadminxe1bf95/dev_textbook_2022/.log/20230718/20230718-163026-0456.log",
      "/home/cwhadminxe1bf95/dev_textbook_2022/.log/20230718/20230718-163736-0850.log",
      "/home/cwhadminxe1bf95/dev_textbook_2022/.log/20230718/20230718-191731-0444.log"
     ]
    }
   },
   "outputs": [],
   "source": [
    "# 平文Mを指定（nより小さい数）\n",
    "M=2023"
   ]
  },
  {
   "cell_type": "code",
   "execution_count": null,
   "id": "2c43b1b4",
   "metadata": {
    "lc_cell_meme": {
     "current": "89c4a240-0758-11ed-9de6-02420a010222-2-0723-1c2c",
     "history": [
      {
       "current": "89c4a240-0758-11ed-9de6-02420a010222",
       "next": "89c4a322-0758-11ed-b950-02420a010222",
       "previous": "89c4a120-0758-11ed-abb2-02420a010222"
      },
      {
       "current": "89c4a240-0758-11ed-9de6-02420a010222-1-0723",
       "next": "89c4a322-0758-11ed-b950-02420a010222",
       "previous": "89c49b88-0758-11ed-86e4-02420a010222"
      },
      {
       "current": "89c4a240-0758-11ed-9de6-02420a010222-2-0723-1c2c",
       "next": "89c4a322-0758-11ed-b950-02420a010222-1-fc6d",
       "previous": "89c49b88-0758-11ed-86e4-02420a010222-1-c4b2"
      }
     ],
     "next": "89c4a322-0758-11ed-b950-02420a010222-2-fc6d-c0a7",
     "previous": "89c49b88-0758-11ed-86e4-02420a010222-2-c4b2-589a"
    },
    "lc_wrapper": {
     "log_history": [
      "/home/cwhadminxe1bf95/textbook/.log/20220719/20220719-204641-0132.log",
      "/home/cwhadminxe1bf95/textbook/.log/20220719/20220719-210627-0671.log",
      "/home/cwhadminxe1bf95/textbook/.log/20220719/20220719-210648-0156.log",
      "/home/cwhadminxe1bf95/textbook/.log/20220719/20220719-210655-0017.log",
      "/home/cwhadminxe1bf95/textbook/.log/20220719/20220719-210710-0152.log",
      "/home/cwhadminxe1bf95/textbook/.log/20220719/20220719-210714-0969.log",
      "/home/cwhadminxe1bf95/textbook/.log/20220719/20220719-210721-0112.log",
      "/home/cwhadminxe1bf95/textbook/.log/20220719/20220719-210814-0838.log",
      "/home/cwhadminxe1bf95/textbook/.log/20220719/20220719-210822-0278.log",
      "/home/cwhadminxe1bf95/textbook/.log/20220719/20220719-210831-0152.log",
      "/home/cwhadminxe1bf95/textbook/.log/20220719/20220719-210839-0502.log",
      "/home/cwhadminxe1bf95/dev_textbook_2022/.log/20230718/20230718-162745-0949.log",
      "/home/cwhadminxe1bf95/dev_textbook_2022/.log/20230718/20230718-163026-0912.log",
      "/home/cwhadminxe1bf95/dev_textbook_2022/.log/20230718/20230718-163737-0329.log",
      "/home/cwhadminxe1bf95/dev_textbook_2022/.log/20230718/20230718-191731-0826.log"
     ]
    }
   },
   "outputs": [],
   "source": [
    "#署名文\n",
    "C = M**d % n\n",
    "print(C)"
   ]
  },
  {
   "cell_type": "code",
   "execution_count": null,
   "id": "2833c9be",
   "metadata": {
    "lc_cell_meme": {
     "current": "89c4a322-0758-11ed-b950-02420a010222-2-fc6d-c0a7",
     "history": [
      {
       "current": "89c4a322-0758-11ed-b950-02420a010222-1-fc6d",
       "next": "89c4a3e3-0758-11ed-9271-02420a010222",
       "previous": "89c4a240-0758-11ed-9de6-02420a010222"
      },
      {
       "current": "89c4a322-0758-11ed-b950-02420a010222-2-fc6d-c0a7",
       "next": "89c4a3e3-0758-11ed-9271-02420a010222-1-c791",
       "previous": "89c4a240-0758-11ed-9de6-02420a010222-1-0723"
      }
     ],
     "next": "89c4a3e3-0758-11ed-9271-02420a010222-2-c791-445b",
     "previous": "89c4a240-0758-11ed-9de6-02420a010222-2-0723-1c2c"
    },
    "lc_wrapper": {
     "log_history": [
      "/home/cwhadminxe1bf95/textbook/.log/20220719/20220719-204710-0901.log",
      "/home/cwhadminxe1bf95/textbook/.log/20220719/20220719-204719-0138.log",
      "/home/cwhadminxe1bf95/textbook/.log/20220719/20220719-210817-0313.log",
      "/home/cwhadminxe1bf95/textbook/.log/20220719/20220719-210823-0395.log",
      "/home/cwhadminxe1bf95/textbook/.log/20220719/20220719-210832-0478.log",
      "/home/cwhadminxe1bf95/textbook/.log/20220719/20220719-210841-0694.log",
      "/home/cwhadminxe1bf95/dev_textbook_2022/.log/20230718/20230718-162747-0433.log",
      "/home/cwhadminxe1bf95/dev_textbook_2022/.log/20230718/20230718-163028-0600.log",
      "/home/cwhadminxe1bf95/dev_textbook_2022/.log/20230718/20230718-163737-0929.log",
      "/home/cwhadminxe1bf95/dev_textbook_2022/.log/20230718/20230718-191733-0188.log"
     ]
    }
   },
   "outputs": [],
   "source": [
    "#復号\n",
    "C**e%n"
   ]
  },
  {
   "cell_type": "code",
   "execution_count": null,
   "id": "8386030b",
   "metadata": {
    "lc_cell_meme": {
     "current": "89c4a3e3-0758-11ed-9271-02420a010222-2-c791-445b",
     "history": [
      {
       "current": "89c4a3e3-0758-11ed-9271-02420a010222-1-c791",
       "next": null,
       "previous": "89c4a322-0758-11ed-b950-02420a010222"
      },
      {
       "current": "89c4a3e3-0758-11ed-9271-02420a010222-1-c791",
       "next": null,
       "previous": "89c4a322-0758-11ed-b950-02420a010222-1-fc6d"
      },
      {
       "current": "89c4a3e3-0758-11ed-9271-02420a010222-2-c791-445b",
       "next": "f86328bb-2540-11ee-b861-02420a010807",
       "previous": "89c4a322-0758-11ed-b950-02420a010222-1-fc6d"
      }
     ],
     "next": "f86328bb-2540-11ee-b861-02420a010807-1-3806",
     "previous": "89c4a322-0758-11ed-b950-02420a010222-2-fc6d-c0a7"
    },
    "lc_wrapper": {
     "log_history": [
      "/home/cwhadminxe1bf95/dev_textbook_2022/.log/20230718/20230718-165856-0802.log",
      "/home/cwhadminxe1bf95/dev_textbook_2022/.log/20230718/20230718-165933-0962.log"
     ]
    }
   },
   "outputs": [],
   "source": []
  },
  {
   "cell_type": "code",
   "execution_count": null,
   "id": "8f12b0e2",
   "metadata": {
    "lc_cell_meme": {
     "current": "f86328bb-2540-11ee-b861-02420a010807-1-3806",
     "history": [
      {
       "current": "f86328bb-2540-11ee-b861-02420a010807-1-3806",
       "next": null,
       "previous": "89c4a3e3-0758-11ed-9271-02420a010222-1-c791"
      }
     ],
     "next": null,
     "previous": "89c4a3e3-0758-11ed-9271-02420a010222-2-c791-445b"
    }
   },
   "outputs": [],
   "source": []
  }
 ],
 "metadata": {
  "kernelspec": {
   "display_name": "Python 3",
   "language": "python",
   "name": "python3"
  },
  "language_info": {
   "file_extension": ".py",
   "mimetype": "text/x-python",
   "name": "python",
   "nbconvert_exporter": "python",
   "pygments_lexer": "ipython3",
   "version": "3.10.4"
  },
  "lc_notebook_meme": {
   "current": "d84189d3-01d5-11ed-9708-02420a010222",
   "lc_server_signature": {
    "current": {
     "notebook_dir": "/home/jovyan",
     "notebook_path": "/notebooks/CWH2021_2022/cwhadminxe1bf95/textbook",
     "server_url": "http://192.168.11.68:8888/",
     "signature_id": "e78c9058-85b5-11ed-b78d-0242ac120002"
    },
    "history": [
     {
      "notebook_dir": "/home/cwhadminxe1bf95",
      "notebook_path": "/textbook",
      "server_url": "https://cwh.media.gunma-u.ac.jp/user/cwhadminxe1bf95/",
      "signature_id": "d287dc56-b8b1-11ec-b3eb-23e3164b790f"
     },
     {
      "notebook_dir": "/home/cwhadminxe1bf95",
      "notebook_path": "/dev_textbook_2022",
      "server_url": "https://cwh.media.gunma-u.ac.jp/user/cwhadminxe1bf95/",
      "signature_id": "d287dc56-b8b1-11ec-b3eb-23e3164b790f"
     }
    ]
   }
  },
  "toc": {
   "base_numbering": 1,
   "nav_menu": {},
   "number_sections": true,
   "sideBar": true,
   "skip_h1_title": false,
   "title_cell": "Table of Contents",
   "title_sidebar": "Contents",
   "toc_cell": false,
   "toc_position": {},
   "toc_section_display": true,
   "toc_window_display": false
  }
 },
 "nbformat": 4,
 "nbformat_minor": 5
}
